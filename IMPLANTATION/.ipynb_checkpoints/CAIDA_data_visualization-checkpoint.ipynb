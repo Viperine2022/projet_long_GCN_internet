{
 "cells": [
  {
   "cell_type": "markdown",
   "id": "fcc57035",
   "metadata": {},
   "source": [
    "## Visualisation des datasets CAIDA\n",
    "\n",
    "Pour estimer la pertinence des jeux de données de CAIDA. Extraire des caractéristiques"
   ]
  },
  {
   "cell_type": "code",
   "execution_count": 2,
   "id": "caa6f359",
   "metadata": {},
   "outputs": [],
   "source": [
    "# Importations diverses\n",
    "import pandas as pd\n",
    "import os\n",
    "import numpy as np\n",
    "import bz2\n",
    "import pickle "
   ]
  },
  {
   "cell_type": "code",
   "execution_count": 3,
   "id": "ac371d2e",
   "metadata": {},
   "outputs": [
    {
     "name": "stdout",
     "output_type": "stream",
     "text": [
      "CAIDA\n",
      "CAIDA_data_visualization.ipynb\n",
      "\n"
     ]
    }
   ],
   "source": [
    "print(os.popen(\"ls\").read())"
   ]
  },
  {
   "cell_type": "code",
   "execution_count": null,
   "id": "132ad09b",
   "metadata": {},
   "outputs": [],
   "source": [
    "# DataFrame panda contenant les caractéritsiques de la data\n",
    "data_feature = pd.read_csv('data/')"
   ]
  }
 ],
 "metadata": {
  "kernelspec": {
   "display_name": "Python 3 (ipykernel)",
   "language": "python",
   "name": "python3"
  },
  "language_info": {
   "codemirror_mode": {
    "name": "ipython",
    "version": 3
   },
   "file_extension": ".py",
   "mimetype": "text/x-python",
   "name": "python",
   "nbconvert_exporter": "python",
   "pygments_lexer": "ipython3",
   "version": "3.9.5"
  }
 },
 "nbformat": 4,
 "nbformat_minor": 5
}
