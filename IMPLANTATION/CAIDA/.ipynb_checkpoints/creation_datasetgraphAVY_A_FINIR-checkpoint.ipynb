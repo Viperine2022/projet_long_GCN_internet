{
 "cells": [
  {
   "cell_type": "markdown",
   "id": "77fbc303",
   "metadata": {},
   "source": [
    "## Graph and Dataset creation\n",
    "cf base de donnée CAIDA : https://publicdata.caida.org/datasets/as-relationships/serial-2/"
   ]
  },
  {
   "cell_type": "code",
   "execution_count": 1,
   "id": "a3b4efe8",
   "metadata": {},
   "outputs": [],
   "source": [
    "# Common imports\n",
    "import numpy as np\n",
    "import os\n",
    "import pandas as pd\n",
    "import networkx as nx\n",
    "import pickle\n",
    "os.popen(\"export DGLBACKEND=pytorch\")\n",
    "#import dgl as dgl\n",
    "import time\n",
    "from sklearn import preprocessing\n",
    "\n",
    "# To plot pretty figures\n",
    "%matplotlib inline\n",
    "import matplotlib as mpl\n",
    "import matplotlib.pyplot as plt\n",
    "from numpy import arange"
   ]
  },
  {
   "cell_type": "code",
   "execution_count": 71,
   "id": "d21dff3c",
   "metadata": {},
   "outputs": [],
   "source": [
    "# File to chose among the directory ./data/CAIDA_AS_RELATIONSHIP/\n",
    "\n",
    "#FILE_PATH='./data/CAIDA_AS_RELATIONSHIP/20200101.as-rel2.txt'\n",
    "FILE_PATH='./data/CAIDA_AS_RELATIONSHIP/20210301.as-rel2.txt'"
   ]
  },
  {
   "cell_type": "markdown",
   "id": "bcdc80c9",
   "metadata": {
    "heading_collapsed": true
   },
   "source": [
    "### Various bash functions to check that the graph is correctly created"
   ]
  },
  {
   "cell_type": "code",
   "execution_count": 9,
   "id": "a0487284",
   "metadata": {
    "hidden": true
   },
   "outputs": [],
   "source": [
    "#---------------------------------------------#\n",
    "# Function that frame a message in ordrer to  #\n",
    "#          have a pretty printing             #\n",
    "#      @param string : message to print       #\n",
    "#      @return string : the message framed    #\n",
    "#---------------------------------------------#\n",
    "\n",
    "def encadre(message):\n",
    "    print(\"\\n****************************\")\n",
    "    print(message)\n",
    "    print(\"****************************\\n\")\n",
    "    \n",
    "#---------------------------------------------#\n",
    "# Function that display the number of nodes   #\n",
    "#          of a graph                         #\n",
    "#      @param file : file to read             #\n",
    "#      @return int : number of nodes          #\n",
    "#---------------------------------------------#\n",
    "    \n",
    "def nb_nodes_of_file(file):\n",
    "    return int(os.popen(\"cat %s | grep \\\"^[0-9][0-9]*\\\" | awk -F \\\"|\\\" '{ print $1 \\\"\\\\n\\\" $2 }' | sort -h | uniq | wc -l\" %file).read())\n",
    "\n",
    "\n",
    "#---------------------------------------------#\n",
    "# Function that display the number customer   #\n",
    "#   provider and peering link of a node       #\n",
    "#      @param file : file to read             #\n",
    "#      @return int,int,int : number of        #\n",
    "#              neighboors of each type        #\n",
    "#---------------------------------------------#\n",
    "def nb_peering_customer_provider(ASN):\n",
    "    nb_peerings =  os.popen(\"cat %s | grep \\\"^%s|\\||%s|\\\" | grep -v \\\".*\\-1\\\" | wc -l\" % (FILE_PATH, ASN, ASN)).read()\n",
    "    nb_customers = os.popen(\"cat %s | grep \\\"^%s|.*\\-1\\\" |wc -l \" % (FILE_PATH, ASN)).read()\n",
    "    nb_providers = os.popen(\"cat %s | grep \\\"|%s|\\-1\\\" | wc -l\" % (FILE_PATH, ASN)).read()\n",
    "    return nb_peerings.split(\"\\n\")[0], nb_customers.split(\"\\n\")[0], nb_providers.split(\"\\n\")[0]\n",
    "\n"
   ]
  },
  {
   "cell_type": "code",
   "execution_count": 10,
   "id": "519e52f6",
   "metadata": {
    "hidden": true
   },
   "outputs": [
    {
     "name": "stdout",
     "output_type": "stream",
     "text": [
      "Nb nodes of file : 71434\n"
     ]
    }
   ],
   "source": [
    "nb_nodes_file = nb_nodes_of_file(FILE_PATH)\n",
    "print(\"Nb nodes of file : \" + str(nb_nodes_file))"
   ]
  },
  {
   "cell_type": "code",
   "execution_count": 11,
   "id": "a6eb1083",
   "metadata": {
    "hidden": true
   },
   "outputs": [
    {
     "name": "stdout",
     "output_type": "stream",
     "text": [
      "Link types and number (p2p, c, p) of node index 4 : ('2', '1', '12')\n"
     ]
    }
   ],
   "source": [
    "nb_type_links = nb_peering_customer_provider(4)\n",
    "print(\"Link types and number (p2p, c, p) of node index 4 : \" + str(nb_type_links))"
   ]
  },
  {
   "cell_type": "markdown",
   "id": "39cece85",
   "metadata": {
    "heading_collapsed": true
   },
   "source": [
    "### Graph first features (label of ASes, degree...)"
   ]
  },
  {
   "cell_type": "code",
   "execution_count": 51,
   "id": "74b1b53c",
   "metadata": {
    "hidden": true
   },
   "outputs": [],
   "source": [
    "#AS_dataset_202001 = pd.read_csv('data/CAIDA_AS_CLASSIFICATION/20200101.as2types.txt', sep='|')\n",
    "AS_dataset = pd.read_csv('data/CAIDA_AS_CLASSIFICATION/20210301.as2types.txt', sep='|')\n",
    "\n",
    "# Check of node number\n",
    "assert (len(AS_dataset.index) == nb_nodes_file)"
   ]
  },
  {
   "cell_type": "code",
   "execution_count": 18,
   "id": "c88332e2",
   "metadata": {
    "hidden": true
   },
   "outputs": [
    {
     "name": "stdout",
     "output_type": "stream",
     "text": [
      "<class 'pandas.core.frame.DataFrame'>\n",
      "RangeIndex: 71434 entries, 0 to 71433\n",
      "Data columns (total 3 columns):\n",
      " #   Column        Non-Null Count  Dtype \n",
      "---  ------        --------------  ----- \n",
      " 0   ASN           71434 non-null  int64 \n",
      " 1   source_label  71434 non-null  object\n",
      " 2   label         71434 non-null  object\n",
      "dtypes: int64(1), object(2)\n",
      "memory usage: 1.6+ MB\n"
     ]
    }
   ],
   "source": [
    "AS_dataset.info()"
   ]
  },
  {
   "cell_type": "code",
   "execution_count": 19,
   "id": "1f70de3b",
   "metadata": {
    "hidden": true
   },
   "outputs": [
    {
     "name": "stdout",
     "output_type": "stream",
     "text": [
      "Transit/Access    54367\n",
      "Enterprise        13632\n",
      "Content            3435\n",
      "Name: label, dtype: int64\n",
      "\n",
      "\n",
      "CAIDA_class     57895\n",
      "peerDB_class    12889\n",
      "manual_class      650\n",
      "Name: source_label, dtype: int64\n"
     ]
    }
   ],
   "source": [
    "print(AS_dataset[\"label\"].value_counts())\n",
    "print(\"\\n\")\n",
    "print(AS_dataset[\"source_label\"].value_counts())"
   ]
  },
  {
   "cell_type": "markdown",
   "id": "02742c76",
   "metadata": {
    "hidden": true
   },
   "source": [
    "##### Distribution of AS labels"
   ]
  },
  {
   "cell_type": "code",
   "execution_count": 20,
   "id": "cf2bbd70",
   "metadata": {
    "hidden": true
   },
   "outputs": [
    {
     "data": {
      "text/plain": [
       "<AxesSubplot:>"
      ]
     },
     "execution_count": 20,
     "metadata": {},
     "output_type": "execute_result"
    },
    {
     "data": {
      "image/png": "[encoded data removed]",
      "text/plain": [
       "<Figure size 432x288 with 1 Axes>"
      ]
     },
     "metadata": {
      "needs_background": "light"
     },
     "output_type": "display_data"
    }
   ],
   "source": [
    "AS_dataset[\"label\"].value_counts(normalize=True).plot(kind='barh', grid=True)"
   ]
  },
  {
   "cell_type": "code",
   "execution_count": 21,
   "id": "5599f4d7",
   "metadata": {
    "hidden": true
   },
   "outputs": [
    {
     "data": {
      "image/png": "[encoded data removed]",
      "text/plain": [
       "<Figure size 504x504 with 1 Axes>"
      ]
     },
     "metadata": {},
     "output_type": "display_data"
    }
   ],
   "source": [
    "my_circle = plt.Circle( (0,0), 0.7, color='white')\n",
    "plt.pie(AS_dataset['label'].value_counts(), labels=['Transit/Access', 'Enterprise', 'Content'],autopct='%1.1f%%')\n",
    "fig = plt.gcf()\n",
    "fig.gca().add_artist(my_circle)\n",
    "fig.set_size_inches(7,7)\n",
    "plt.show()"
   ]
  },
  {
   "cell_type": "code",
   "execution_count": 22,
   "id": "9cb719c2",
   "metadata": {
    "hidden": true
   },
   "outputs": [
    {
     "data": {
      "text/html": [
       "<div>\n",
       "<style scoped>\n",
       "    .dataframe tbody tr th:only-of-type {\n",
       "        vertical-align: middle;\n",
       "    }\n",
       "\n",
       "    .dataframe tbody tr th {\n",
       "        vertical-align: top;\n",
       "    }\n",
       "\n",
       "    .dataframe thead th {\n",
       "        text-align: right;\n",
       "    }\n",
       "</style>\n",
       "<table border=\"1\" class=\"dataframe\">\n",
       "  <thead>\n",
       "    <tr style=\"text-align: right;\">\n",
       "      <th></th>\n",
       "      <th>ASN</th>\n",
       "      <th>source_label</th>\n",
       "      <th>label</th>\n",
       "    </tr>\n",
       "  </thead>\n",
       "  <tbody>\n",
       "    <tr>\n",
       "      <th>0</th>\n",
       "      <td>1</td>\n",
       "      <td>CAIDA_class</td>\n",
       "      <td>Transit/Access</td>\n",
       "    </tr>\n",
       "    <tr>\n",
       "      <th>1</th>\n",
       "      <td>2</td>\n",
       "      <td>CAIDA_class</td>\n",
       "      <td>Transit/Access</td>\n",
       "    </tr>\n",
       "    <tr>\n",
       "      <th>2</th>\n",
       "      <td>3</td>\n",
       "      <td>CAIDA_class</td>\n",
       "      <td>Transit/Access</td>\n",
       "    </tr>\n",
       "    <tr>\n",
       "      <th>3</th>\n",
       "      <td>4</td>\n",
       "      <td>CAIDA_class</td>\n",
       "      <td>Transit/Access</td>\n",
       "    </tr>\n",
       "    <tr>\n",
       "      <th>4</th>\n",
       "      <td>5</td>\n",
       "      <td>CAIDA_class</td>\n",
       "      <td>Enterprise</td>\n",
       "    </tr>\n",
       "    <tr>\n",
       "      <th>5</th>\n",
       "      <td>6</td>\n",
       "      <td>CAIDA_class</td>\n",
       "      <td>Content</td>\n",
       "    </tr>\n",
       "    <tr>\n",
       "      <th>6</th>\n",
       "      <td>7</td>\n",
       "      <td>CAIDA_class</td>\n",
       "      <td>Enterprise</td>\n",
       "    </tr>\n",
       "    <tr>\n",
       "      <th>7</th>\n",
       "      <td>8</td>\n",
       "      <td>CAIDA_class</td>\n",
       "      <td>Transit/Access</td>\n",
       "    </tr>\n",
       "    <tr>\n",
       "      <th>8</th>\n",
       "      <td>9</td>\n",
       "      <td>CAIDA_class</td>\n",
       "      <td>Transit/Access</td>\n",
       "    </tr>\n",
       "    <tr>\n",
       "      <th>9</th>\n",
       "      <td>10</td>\n",
       "      <td>CAIDA_class</td>\n",
       "      <td>Transit/Access</td>\n",
       "    </tr>\n",
       "  </tbody>\n",
       "</table>\n",
       "</div>"
      ],
      "text/plain": [
       "   ASN source_label           label\n",
       "0    1  CAIDA_class  Transit/Access\n",
       "1    2  CAIDA_class  Transit/Access\n",
       "2    3  CAIDA_class  Transit/Access\n",
       "3    4  CAIDA_class  Transit/Access\n",
       "4    5  CAIDA_class      Enterprise\n",
       "5    6  CAIDA_class         Content\n",
       "6    7  CAIDA_class      Enterprise\n",
       "7    8  CAIDA_class  Transit/Access\n",
       "8    9  CAIDA_class  Transit/Access\n",
       "9   10  CAIDA_class  Transit/Access"
      ]
     },
     "execution_count": 22,
     "metadata": {},
     "output_type": "execute_result"
    }
   ],
   "source": [
    "AS_dataset.head(10)"
   ]
  },
  {
   "cell_type": "markdown",
   "id": "afa8b650",
   "metadata": {
    "hidden": true
   },
   "source": [
    "##### Distribution of node degree"
   ]
  },
  {
   "cell_type": "code",
   "execution_count": 74,
   "id": "193d1295",
   "metadata": {
    "hidden": true
   },
   "outputs": [],
   "source": [
    "def listeNbVoisinsNoeud(G):\n",
    "    listeDesVoisins = list(G._node)\n",
    "    nbNoeuds = G.number_of_nodes()\n",
    "    listenbvoisins = np.zeros(nbNoeuds)\n",
    "    for i in range(nbNoeuds) :\n",
    "        listenbvoisins[i] = len(G[listeDesVoisins[i]])\n",
    "    return listenbvoisins"
   ]
  },
  {
   "cell_type": "code",
   "execution_count": 75,
   "id": "a31712d8",
   "metadata": {
    "hidden": true
   },
   "outputs": [],
   "source": [
    "def listeNvoisins(n,G):\n",
    "    listeDesVoisins = listeNbVoisinsNoeud(G)\n",
    "    nbNoeuds = G.number_of_nodes()\n",
    "    if n>nbNoeuds :\n",
    "        return \"PAS ASSEZ DE NOEUDS DANS LE GRAPHE\"\n",
    "    else :\n",
    "        ListeNdegresmax = np.zeros(n)\n",
    "        for i in range(n):\n",
    "            ListeNdegresmax[i] = max(listeDesVoisins)\n",
    "            listeDesVoisins = np.delete(listeDesVoisins, listeDesVoisins.tolist().index(max(listeDesVoisins)))\n",
    "        return ListeNdegresmax\n",
    "\n",
    "lst=sorted(listeNbVoisinsNoeud(G),reverse = True)\n",
    "lst=listeNbVoisinsNoeud(G)"
   ]
  },
  {
   "cell_type": "code",
   "execution_count": 76,
   "id": "ebb1461d",
   "metadata": {
    "hidden": true
   },
   "outputs": [
    {
     "data": {
      "text/plain": [
       "<matplotlib.collections.PathCollection at 0x25ea4a9ef70>"
      ]
     },
     "execution_count": 76,
     "metadata": {},
     "output_type": "execute_result"
    },
    {
     "data": {
      "image/png": "[encoded data removed]",
      "text/plain": [
       "<Figure size 432x288 with 1 Axes>"
      ]
     },
     "metadata": {
      "needs_background": "light"
     },
     "output_type": "display_data"
    }
   ],
   "source": [
    "liste_nb_noeud_k_voisin = np.zeros(int(max(lst)))\n",
    "for i in range(len(lst)) :\n",
    "    liste_nb_noeud_k_voisin[int(lst[i])-1]+=1\n",
    "\n",
    "#print(liste_nb_noeud_k_voisin)\n",
    "ax = plt.gca()\n",
    "ax.set_xscale('log')\n",
    "ax.set_yscale('log')\n",
    "plt.title(\"\")\n",
    " \n",
    "plt.xlabel(\"Degree\")\n",
    "plt.ylabel(\"Number of nodes\")\n",
    "plt.scatter(arange(int(max(lst))),liste_nb_noeud_k_voisin)"
   ]
  },
  {
   "cell_type": "code",
   "execution_count": 77,
   "id": "3dbc4eab",
   "metadata": {
    "hidden": true
   },
   "outputs": [],
   "source": [
    "l = np.zeros(4)\n",
    "for i in range(len(lst)) :\n",
    "    if lst[i] < 5 :\n",
    "        l[0]+= 1\n",
    "    elif lst[i] <100 :\n",
    "        l[1]+= 1\n",
    "    elif lst[i] <1000 :\n",
    "        l[2]+= 1\n",
    "    else :\n",
    "        l[3]+= 1"
   ]
  },
  {
   "cell_type": "code",
   "execution_count": 78,
   "id": "c7bb3f31",
   "metadata": {
    "hidden": true
   },
   "outputs": [
    {
     "data": {
      "image/png": "[encoded data removed]",
      "text/plain": [
       "<Figure size 648x648 with 1 Axes>"
      ]
     },
     "metadata": {},
     "output_type": "display_data"
    }
   ],
   "source": [
    "plt.figure(figsize=(9,9))\n",
    "my_circle=plt.Circle((0,0), 0.7, color='white')\n",
    "plt.pie(l, labels=[\"degree<=4\", \"5<=degree<=99\", \"100<=degree<=999\", \"degree>=1000\"],autopct='%1.1f%%')\n",
    "p=plt.gcf()\n",
    "p.gca().add_artist(my_circle)\n",
    "plt.title(\"Distribution of nodes degree\", fontsize=15, x=0.5, y=0.93)\n",
    "plt.show()"
   ]
  },
  {
   "cell_type": "markdown",
   "id": "b4c8a02f",
   "metadata": {
    "heading_collapsed": true
   },
   "source": [
    "### Networkx Graph creation "
   ]
  },
  {
   "cell_type": "code",
   "execution_count": 23,
   "id": "180c4b28",
   "metadata": {
    "hidden": true
   },
   "outputs": [],
   "source": [
    "#-------------------------------------------------#\n",
    "#   Function that returns the int representation  #\n",
    "#          of a label (Content -> 0,              #\n",
    "#       Transit/Acces->1, Enterprise -> 2)        # \n",
    "#      @param srting : label                      #\n",
    "#      @return networkx graph : int representation#\n",
    "#                               of label          #\n",
    "#-------------------------------------------------#\n",
    "\n",
    "\n",
    "def label_into_int(label):\n",
    "    \n",
    "    if (label == 'Content'):\n",
    "        int_label = 0\n",
    "    elif (label == 'Transit/Access'):\n",
    "        int_label = 1\n",
    "    elif (label == 'Enterprise'):\n",
    "        int_label = 2\n",
    "    return int_label"
   ]
  },
  {
   "cell_type": "code",
   "execution_count": 24,
   "id": "d386056d",
   "metadata": {
    "hidden": true
   },
   "outputs": [],
   "source": [
    "#------------------------------------------------#\n",
    "# Function that creates a dictionnary with AS    #\n",
    "#       number as key and its numbering in       #\n",
    "#       ascending order as value of a graph      #\n",
    "#      @param file : file to read                #\n",
    "#      @return dictionnary : dictionnary as      #\n",
    "#                            describe above      #\n",
    "#------------------------------------------------#\n",
    " \n",
    "def dictiongraph(file):\n",
    "    fichier = open(file,\"r\")\n",
    "    dictio = []\n",
    "    memoire=-1\n",
    "    for ligne in fichier:\n",
    "        tabligne = ligne.split(\"|\")\n",
    "        try:\n",
    "            asn1 = int(tabligne[0])\n",
    "            asn2 = int(tabligne[1])\n",
    "            if asn1 != memoire:\n",
    "                dictio.append(asn1)\n",
    "                memoire = asn1\n",
    "            dictio.append(asn2)\n",
    "        except ValueError:\n",
    "            pass\n",
    "    l = arange(len(list(set(dictio))))\n",
    "    dictiofinal =dict_from_list = dict(zip(sorted(list(set(dictio))), l))\n",
    "    return dictiofinal"
   ]
  },
  {
   "cell_type": "markdown",
   "id": "d3f56f8b",
   "metadata": {
    "hidden": true
   },
   "source": [
    "- ⚠️ We reverse keys and values in the following function"
   ]
  },
  {
   "cell_type": "code",
   "execution_count": 25,
   "id": "5016f228",
   "metadata": {
    "hidden": true
   },
   "outputs": [],
   "source": [
    "#------------------------------------------------#\n",
    "# Same function we just reverse keys and values  #\n",
    "#------------------------------------------------#\n",
    "\n",
    "def dictiongraph_inverse(fichier_texte):\n",
    "    fichier = open(fichier_texte,\"r\")\n",
    "    dictio = []\n",
    "    memoire=-1\n",
    "    for ligne in fichier:\n",
    "        tabligne = ligne.split(\"|\")\n",
    "        try:\n",
    "            asn1 = int(tabligne[0])\n",
    "            asn2 = int(tabligne[1])\n",
    "            if asn1 != memoire:\n",
    "                dictio.append(asn1)\n",
    "                memoire = asn1\n",
    "            dictio.append(asn2)\n",
    "        except ValueError:\n",
    "            pass\n",
    "    l = arange(len(list(set(dictio))))\n",
    "    dictiofinal =dict_from_list = dict(zip(l, sorted(list(set(dictio)))))\n",
    "    return dictiofinal\n",
    "Dictio_noeud_as = dictiongraph_inverse(FILE_PATH)"
   ]
  },
  {
   "cell_type": "code",
   "execution_count": 26,
   "id": "b5b51058",
   "metadata": {
    "hidden": true
   },
   "outputs": [],
   "source": [
    "#------------------------------------------------#\n",
    "# Function that creates a Networksx undirected   #\n",
    "#  graph with AS number as node feature and      #\n",
    "# ASnumber1|typeoflink|ASnumber2 as edge feature #\n",
    "#      @param file : file to read                #\n",
    "#      @return networkx graph : Graph as         #\n",
    "#                            describe above      #\n",
    "#------------------------------------------------#\n",
    " \n",
    "\n",
    "def creation_graph(file): \n",
    "    G = nx.Graph()\n",
    "    fichier = open(file,\"r\")\n",
    "    cpt = 0\n",
    "    memoire = -1\n",
    "    dictio = dictiongraph(file)\n",
    "    i=0\n",
    "    #Ajout de tous les noeuds\n",
    "    for num_as in dictio :\n",
    "        G.add_node(i,asn=num_as)\n",
    "        i+=1\n",
    "    #Ajout des arêtes\n",
    "    for ligne in fichier:\n",
    "        tabligne = ligne.split(\"|\")\n",
    "        try:\n",
    "            asn1 = int(tabligne[0])\n",
    "            asn2 = int(tabligne[1])\n",
    "            info = int(tabligne[2])\n",
    "            if info == 0 :\n",
    "                G.add_edge(dictio[asn1],dictio[asn2],type= str(asn1) + '|p2p|' +str(asn2))\n",
    "            elif info == -1 :\n",
    "                G.add_edge(dictio[asn1],dictio[asn2],type=str(asn1) + '|p2c|' +str(asn2))\n",
    "        except ValueError:\n",
    "            pass\n",
    "    return G"
   ]
  },
  {
   "cell_type": "code",
   "execution_count": 27,
   "id": "42eee71d",
   "metadata": {
    "hidden": true
   },
   "outputs": [],
   "source": [
    "G = creation_graph(FILE_PATH)"
   ]
  },
  {
   "cell_type": "code",
   "execution_count": 28,
   "id": "aeccbfea",
   "metadata": {
    "hidden": true
   },
   "outputs": [],
   "source": [
    "#------------------------------------------------#\n",
    "#   Function that creates a Networksx directed   #\n",
    "#  graph with AS number as node feature and      #\n",
    "# ordinal value (2/3 if p2p and 3/3 if p2c)      #\n",
    "#               as edge feature.                 # \n",
    "#      @param file : file to read                #\n",
    "#      @return networkx graph : Graph as         #\n",
    "#                            describe above      #\n",
    "#------------------------------------------------#\n",
    " \n",
    "\n",
    "\n",
    "def creation_graph_dirige(file):\n",
    "   \n",
    "    G = nx.DiGraph()\n",
    "    fichier = open(file,\"r\")\n",
    "    cpt = 0\n",
    "    memoire = -1\n",
    "    dictio = dictiongraph(file)\n",
    "    i=0\n",
    "    #Ajout de tous les noeuds\n",
    "    for num_as in dictio :\n",
    "        G.add_node(i,asn=num_as)\n",
    "        i+=1\n",
    "    #Ajout des arêtes\n",
    "    for ligne in fichier:\n",
    "        tabligne = ligne.split(\"|\")\n",
    "        try:\n",
    "            asn1 = int(tabligne[0])\n",
    "            asn2 = int(tabligne[1])\n",
    "            info = int(tabligne[2])\n",
    "            if info == 0 :\n",
    "                G.add_edge(dictio[asn1],dictio[asn2],type= 2/3)\n",
    "                G.add_edge(dictio[asn2],dictio[asn1],type= 2/3)\n",
    "            elif info == -1 :\n",
    "\n",
    "                G.add_edge(dictio[asn1],dictio[asn2],type= 3/3)\n",
    "                \n",
    "        except ValueError:\n",
    "            pass\n",
    "    return G"
   ]
  },
  {
   "cell_type": "code",
   "execution_count": 29,
   "id": "6d74d18c",
   "metadata": {
    "hidden": true
   },
   "outputs": [],
   "source": [
    "G_directed = creation_graph_dirige(FILE_PATH)"
   ]
  },
  {
   "cell_type": "markdown",
   "id": "3b85058a",
   "metadata": {
    "hidden": true
   },
   "source": [
    "-  ⚠️ The difference between the following function ans the previous one is that the direction of p2c links is inversed."
   ]
  },
  {
   "cell_type": "code",
   "execution_count": 30,
   "id": "b43d8b5a",
   "metadata": {
    "hidden": true
   },
   "outputs": [],
   "source": [
    "#------------------------------------------------#\n",
    "#   Function that creates a Networksx directed   #\n",
    "#  graph with AS number as node feature and      #\n",
    "# ordinal value (2/3 if p2p and 3/3 if p2c)      #\n",
    "#               as edge feature.                 # \n",
    "#      @param file : file to read                #\n",
    "#      @return networkx graph : Graph as         #\n",
    "#                            describe above      #\n",
    "#------------------------------------------------#\n",
    "\n",
    "def creation_graph_dirige_inverse(file):\n",
    "    G = nx.DiGraph()\n",
    "    fichier = open(file,\"r\")\n",
    "    cpt = 0\n",
    "    memoire = -1\n",
    "    dictio = dictiongraph(file)\n",
    "    i=0\n",
    "    #Ajout de tous les noeuds\n",
    "    for num_as in dictio :\n",
    "        G.add_node(i,asn=num_as)\n",
    "        i+=1\n",
    "    #Ajout des arêtes\n",
    "    for ligne in fichier:\n",
    "        tabligne = ligne.split(\"|\")\n",
    "        try:\n",
    "            asn1 = int(tabligne[0])\n",
    "            asn2 = int(tabligne[1])\n",
    "            info = int(tabligne[2])\n",
    "            if info == 0 :\n",
    "                G.add_edge(dictio[asn1],dictio[asn2],type= 2/3)\n",
    "                G.add_edge(dictio[asn2],dictio[asn1],type= 2/3)\n",
    "            elif info == -1 :\n",
    "\n",
    "                G.add_edge(dictio[asn2],dictio[asn1],type= 3/3)\n",
    "                \n",
    "        except ValueError:\n",
    "            pass\n",
    "    return G"
   ]
  },
  {
   "cell_type": "code",
   "execution_count": 31,
   "id": "fcfa65ca",
   "metadata": {
    "hidden": true
   },
   "outputs": [],
   "source": [
    "G_directed_inverse = creation_graph_dirige_inverse(FILE_PATH)"
   ]
  },
  {
   "cell_type": "code",
   "execution_count": 32,
   "id": "b4aeb026",
   "metadata": {
    "hidden": true
   },
   "outputs": [],
   "source": [
    "#------------------------------------------------#\n",
    "#   Function that creates a Networksx directed   #\n",
    "#  graph with AS number as node feature and      #\n",
    "# ordinal value (2/3 if p2p and 3/3 if p2c)      #\n",
    "#               as edge feature.                 # \n",
    "#      @param file : file to read                #\n",
    "#      @return networkx graph : Graph as         #\n",
    "#                            describe above      #\n",
    "#------------------------------------------------#\n",
    "def creation_graph_float(file):\n",
    "    G = nx.DiGraph()\n",
    "    fichier = open(file,\"r\")\n",
    "    cpt = 0\n",
    "    memoire = -1\n",
    "    dictio = dictiongraph(file)\n",
    "    i=0\n",
    "    #Ajout de tous les noeuds\n",
    "    for num_as in dictio :\n",
    "        G.add_node(i,label=label_into_int(AS_dataset['label'][i]))\n",
    "        #print(\"G add node : index \" + str(i) + \", asn : \" + str(num_as) + \", \" + AS_dataset['label'][i] + \" => \" + str(label_into_int(AS_dataset['label'][i])))\n",
    "        i+=1\n",
    "    #Ajout des arêtes\n",
    "    for ligne in fichier:\n",
    "        tabligne = ligne.split(\"|\")\n",
    "        try:\n",
    "            asn1 = int(tabligne[0])\n",
    "            asn2 = int(tabligne[1])\n",
    "            info = int(tabligne[2])\n",
    "            if info == 0 :\n",
    "                G.add_edge(dictio[asn1],dictio[asn2],type= 2/3)\n",
    "                G.add_edge(dictio[asn2],dictio[asn1],type= 2/3)\n",
    "            elif info == -1 :\n",
    "                G.add_edge(dictio[asn1],dictio[asn2],type= 3/3)\n",
    "                G.add_edge(dictio[asn2],dictio[asn1],type= 1/3)\n",
    "        except ValueError:\n",
    "            pass\n",
    "    return G"
   ]
  },
  {
   "cell_type": "code",
   "execution_count": 33,
   "id": "862513fe",
   "metadata": {
    "hidden": true
   },
   "outputs": [],
   "source": [
    "G_float =creation_graph_float(FILE_PATH)"
   ]
  },
  {
   "cell_type": "code",
   "execution_count": 34,
   "id": "c9ac9d0c",
   "metadata": {
    "hidden": true
   },
   "outputs": [],
   "source": [
    "#------------------------------------------------#\n",
    "#   Function that creates a Networksx directed   #\n",
    "#  graph with AS number as node feature and      #\n",
    "#   array  as edge feature                       #\n",
    "#      @param file : file to read                #\n",
    "#      @return networkx graph : Graph as         #\n",
    "#                            describe above      #\n",
    "#------------------------------------------------#\n",
    "def creation_graph_array(file):\n",
    "    G = nx.DiGraph()\n",
    "    fichier = open(file,\"r\")\n",
    "    cpt = 0\n",
    "    memoire = -1\n",
    "    dictio = dictiongraph(file)\n",
    "    i=0\n",
    "    #Ajout de tous les noeuds\n",
    "    for num_as in dictio :\n",
    "        G.add_node(i,label=label_into_int(AS_dataset['label'][i]))\n",
    "        i+=1\n",
    "    #Ajout des arêtes\n",
    "    for ligne in fichier:\n",
    "        tabligne = ligne.split(\"|\")\n",
    "        try:\n",
    "            asn1 = int(tabligne[0])\n",
    "            asn2 = int(tabligne[1])\n",
    "            info = int(tabligne[2])\n",
    "            if info == 0 :\n",
    "                G.add_edge(dictio[asn1],dictio[asn2],type= np.array([0,1,0]))\n",
    "                G.add_edge(dictio[asn2],dictio[asn1],type= np.array([0,1,0]))\n",
    "            elif info == -1 :\n",
    "                G.add_edge(dictio[asn1],dictio[asn2],type=np.array([1,0,0]))\n",
    "                G.add_edge(dictio[asn2],dictio[asn1],type=np.array([0,0,1]))\n",
    "        except ValueError:\n",
    "            pass\n",
    "    return G"
   ]
  },
  {
   "cell_type": "code",
   "execution_count": 35,
   "id": "883d7def",
   "metadata": {
    "hidden": true
   },
   "outputs": [],
   "source": [
    "G_array=creation_graph_array(FILE_PATH)"
   ]
  },
  {
   "cell_type": "markdown",
   "id": "a6dc666b",
   "metadata": {
    "hidden": true
   },
   "source": [
    "- We check if the graph creation is coherent with the text file "
   ]
  },
  {
   "cell_type": "code",
   "execution_count": 36,
   "id": "7a9ab4c8",
   "metadata": {
    "hidden": true
   },
   "outputs": [
    {
     "name": "stdout",
     "output_type": "stream",
     "text": [
      "Graph number of nodes :   71434\n",
      "Graph number of edges :  489716\n",
      "\n",
      "ASSERT NB NODES OK\n"
     ]
    }
   ],
   "source": [
    "nb_nodes_graph = G.number_of_nodes()\n",
    "nb_edges_graph = G.number_of_edges()\n",
    "\n",
    "print(\"Graph number of nodes :   \"  + str(nb_nodes_graph))\n",
    "print(\"Graph number of edges :  \" + str(nb_edges_graph))\n",
    "\n",
    "assert(nb_nodes_graph == int(nb_nodes_of_file(FILE_PATH)))\n",
    "print(\"\\nASSERT NB NODES OK\")"
   ]
  },
  {
   "cell_type": "markdown",
   "id": "6af0a284",
   "metadata": {
    "heading_collapsed": true
   },
   "source": [
    "### Computation of some graph features "
   ]
  },
  {
   "cell_type": "markdown",
   "id": "0db06ec3",
   "metadata": {
    "hidden": true
   },
   "source": [
    "##### Adding columns `peering_link`, `customer_link` and `provider_link` "
   ]
  },
  {
   "cell_type": "code",
   "execution_count": 37,
   "id": "5ff6f1d5",
   "metadata": {
    "hidden": true
   },
   "outputs": [],
   "source": [
    "#-------------------------------------------------------#\n",
    "#   Function that creates 3 np array to store number    #\n",
    "#   of peering, customer and provider of each node (AS) #\n",
    "#      @param file : Networkx Graph                     #\n",
    "#      @return nparray,nparray,nparray : 3 np array     # \n",
    "#                                  as describe above    #\n",
    "#-------------------------------------------------------#\n",
    "def nbtypevoisins2(G):\n",
    "    nbNoeuds = G.number_of_nodes()\n",
    "    Liste_Nb_Voisins_Peering = np.zeros(nbNoeuds)\n",
    "    Liste_Nb_Voisins_Customer = np.zeros(nbNoeuds)\n",
    "    Liste_Nb_Voisins_Provider = np.zeros(nbNoeuds)\n",
    "    for i in range(nbNoeuds):\n",
    "        for j in range(len(G[i])) :\n",
    "            infos = list(G[i].values())[j][\"type\"].split(\"|\")\n",
    "          \n",
    "            type_lien = infos[1]\n",
    "            if type_lien == \"p2p\":\n",
    "\n",
    "                Liste_Nb_Voisins_Peering[i] +=1\n",
    "                \n",
    "            elif type_lien == \"p2c\":\n",
    "                asn1 = infos[0]\n",
    "                asn2 = infos[2]\n",
    "                if int(asn2) == int(Dictio_noeud_as[i]) :\n",
    "                     Liste_Nb_Voisins_Provider[i]+=1                \n",
    "                else :\n",
    "                    Liste_Nb_Voisins_Customer[i]+=1\n",
    "\n",
    "        #print(i)\n",
    "\n",
    "    return Liste_Nb_Voisins_Peering, Liste_Nb_Voisins_Customer, Liste_Nb_Voisins_Provider \n",
    "                \n",
    "#### EXECUTION TIME: 5-10min ~\n",
    "L1,L2,L3=nbtypevoisins2(G) "
   ]
  },
  {
   "cell_type": "code",
   "execution_count": 53,
   "id": "bc6ca623",
   "metadata": {
    "hidden": true
   },
   "outputs": [],
   "source": [
    "AS_dataset['peering_link']= pd.Series(L1)\n",
    "AS_dataset['customer_link']= pd.Series(L2)\n",
    "AS_dataset['provider_link']= pd.Series(L3)"
   ]
  },
  {
   "cell_type": "code",
   "execution_count": 54,
   "id": "7841246f",
   "metadata": {
    "hidden": true
   },
   "outputs": [
    {
     "name": "stdout",
     "output_type": "stream",
     "text": [
      "Max degree list : 9083.0\n",
      "Max degree index : 2475, max degree ASN : 6939\n",
      "Max degree graph : 9083\n",
      "\n",
      "ASSERT MAX DEGREE OK\n"
     ]
    }
   ],
   "source": [
    "max_degree_list = max(L1 + L2 + L3)\n",
    "highest_degree_graph = max(list(dict(G.degree()).values()))\n",
    "index_max = list(dict(G.degree()).values()).index(highest_degree_graph)\n",
    "ASN_max = list(Dictio_noeud_as.values())[index_max]\n",
    "\n",
    "print(\"Max degree list : \"  + str(max_degree_list))\n",
    "print(\"Max degree index : \" + str(index_max) + \", max degree ASN : \" + str(ASN_max))\n",
    "print(\"Max degree graph : \" + str(highest_degree_graph))\n",
    "\n",
    "assert (max_degree_list == highest_degree_graph)\n",
    "print(\"\\nASSERT MAX DEGREE OK\")"
   ]
  },
  {
   "cell_type": "code",
   "execution_count": 40,
   "id": "35ce6b47",
   "metadata": {
    "hidden": true
   },
   "outputs": [
    {
     "name": "stdout",
     "output_type": "stream",
     "text": [
      "Max p2p links          : 7250.0, index : 2475, ASN : 6939\n",
      "Max nb customer links  : 6237.0, index : 107, ASN : 174\n",
      "Max nb provider links  : 137.0, index : 11176, ASN : 20940\n"
     ]
    }
   ],
   "source": [
    "# Extraction of maximum p2p link, customer link and provider link\n",
    "max_p2p, index_max_p2p = np.max(L1), np.argmax(L1)\n",
    "max_c,   index_max_c   = np.max(L2), np.argmax(L2)\n",
    "max_p,   index_max_p   = np.max(L3), np.argmax(L3)\n",
    "\n",
    "print(\"Max p2p links          : \" + str(max_p2p) + \", index : \" + str(index_max_p2p) + \", ASN : \" + str(list(Dictio_noeud_as.values())[index_max_p2p]))\n",
    "print(\"Max nb customer links  : \" + str(max_c)   + \", index : \" + str(index_max_c)   + \", ASN : \" + str(list(Dictio_noeud_as.values())[index_max_c]))\n",
    "print(\"Max nb provider links  : \" + str(max_p)   + \", index : \" + str(index_max_p)   + \", ASN : \" + str(list(Dictio_noeud_as.values())[index_max_p]))"
   ]
  },
  {
   "cell_type": "code",
   "execution_count": 41,
   "id": "42f2045a",
   "metadata": {
    "hidden": true
   },
   "outputs": [
    {
     "data": {
      "text/plain": [
       "ASN                        6939\n",
       "source_label       peerDB_class\n",
       "label            Transit/Access\n",
       "peering_link             7250.0\n",
       "customer_link            1831.0\n",
       "provider_link               2.0\n",
       "Name: 2475, dtype: object"
      ]
     },
     "execution_count": 41,
     "metadata": {},
     "output_type": "execute_result"
    }
   ],
   "source": [
    "AS_dataset.iloc[index_max_p2p]"
   ]
  },
  {
   "cell_type": "code",
   "execution_count": 42,
   "id": "434c97f3",
   "metadata": {
    "hidden": true,
    "scrolled": true
   },
   "outputs": [
    {
     "data": {
      "text/plain": [
       "ASN                         174\n",
       "source_label       peerDB_class\n",
       "label            Transit/Access\n",
       "peering_link              118.0\n",
       "customer_link            6237.0\n",
       "provider_link               0.0\n",
       "Name: 107, dtype: object"
      ]
     },
     "execution_count": 42,
     "metadata": {},
     "output_type": "execute_result"
    }
   ],
   "source": [
    "AS_dataset.iloc[index_max_c]"
   ]
  },
  {
   "cell_type": "code",
   "execution_count": 43,
   "id": "86ccdfd6",
   "metadata": {
    "hidden": true,
    "scrolled": true
   },
   "outputs": [
    {
     "data": {
      "text/plain": [
       "ASN                     20940\n",
       "source_label     peerDB_class\n",
       "label                 Content\n",
       "peering_link            800.0\n",
       "customer_link            11.0\n",
       "provider_link           137.0\n",
       "Name: 11176, dtype: object"
      ]
     },
     "execution_count": 43,
     "metadata": {},
     "output_type": "execute_result"
    }
   ],
   "source": [
    "AS_dataset.iloc[index_max_p]"
   ]
  },
  {
   "cell_type": "code",
   "execution_count": 44,
   "id": "9e8010f6",
   "metadata": {
    "hidden": true,
    "scrolled": true
   },
   "outputs": [
    {
     "data": {
      "text/html": [
       "<div>\n",
       "<style scoped>\n",
       "    .dataframe tbody tr th:only-of-type {\n",
       "        vertical-align: middle;\n",
       "    }\n",
       "\n",
       "    .dataframe tbody tr th {\n",
       "        vertical-align: top;\n",
       "    }\n",
       "\n",
       "    .dataframe thead th {\n",
       "        text-align: right;\n",
       "    }\n",
       "</style>\n",
       "<table border=\"1\" class=\"dataframe\">\n",
       "  <thead>\n",
       "    <tr style=\"text-align: right;\">\n",
       "      <th></th>\n",
       "      <th>ASN</th>\n",
       "      <th>source_label</th>\n",
       "      <th>label</th>\n",
       "      <th>peering_link</th>\n",
       "      <th>customer_link</th>\n",
       "      <th>provider_link</th>\n",
       "    </tr>\n",
       "  </thead>\n",
       "  <tbody>\n",
       "    <tr>\n",
       "      <th>0</th>\n",
       "      <td>1</td>\n",
       "      <td>CAIDA_class</td>\n",
       "      <td>Transit/Access</td>\n",
       "      <td>2.0</td>\n",
       "      <td>2.0</td>\n",
       "      <td>10.0</td>\n",
       "    </tr>\n",
       "    <tr>\n",
       "      <th>1</th>\n",
       "      <td>2</td>\n",
       "      <td>CAIDA_class</td>\n",
       "      <td>Transit/Access</td>\n",
       "      <td>1.0</td>\n",
       "      <td>2.0</td>\n",
       "      <td>18.0</td>\n",
       "    </tr>\n",
       "    <tr>\n",
       "      <th>2</th>\n",
       "      <td>3</td>\n",
       "      <td>CAIDA_class</td>\n",
       "      <td>Transit/Access</td>\n",
       "      <td>5.0</td>\n",
       "      <td>1.0</td>\n",
       "      <td>14.0</td>\n",
       "    </tr>\n",
       "    <tr>\n",
       "      <th>3</th>\n",
       "      <td>4</td>\n",
       "      <td>CAIDA_class</td>\n",
       "      <td>Transit/Access</td>\n",
       "      <td>2.0</td>\n",
       "      <td>1.0</td>\n",
       "      <td>12.0</td>\n",
       "    </tr>\n",
       "    <tr>\n",
       "      <th>4</th>\n",
       "      <td>5</td>\n",
       "      <td>CAIDA_class</td>\n",
       "      <td>Enterprise</td>\n",
       "      <td>2.0</td>\n",
       "      <td>0.0</td>\n",
       "      <td>5.0</td>\n",
       "    </tr>\n",
       "  </tbody>\n",
       "</table>\n",
       "</div>"
      ],
      "text/plain": [
       "   ASN source_label           label  peering_link  customer_link  \\\n",
       "0    1  CAIDA_class  Transit/Access           2.0            2.0   \n",
       "1    2  CAIDA_class  Transit/Access           1.0            2.0   \n",
       "2    3  CAIDA_class  Transit/Access           5.0            1.0   \n",
       "3    4  CAIDA_class  Transit/Access           2.0            1.0   \n",
       "4    5  CAIDA_class      Enterprise           2.0            0.0   \n",
       "\n",
       "   provider_link  \n",
       "0           10.0  \n",
       "1           18.0  \n",
       "2           14.0  \n",
       "3           12.0  \n",
       "4            5.0  "
      ]
     },
     "execution_count": 44,
     "metadata": {},
     "output_type": "execute_result"
    }
   ],
   "source": [
    "AS_dataset.head()"
   ]
  },
  {
   "cell_type": "markdown",
   "id": "911ee6aa",
   "metadata": {
    "heading_collapsed": true,
    "hidden": true
   },
   "source": [
    "##### Vizualisation for ASN 6939"
   ]
  },
  {
   "cell_type": "code",
   "execution_count": 45,
   "id": "6d115d31",
   "metadata": {
    "hidden": true
   },
   "outputs": [
    {
     "name": "stdout",
     "output_type": "stream",
     "text": [
      "Nb p2p : 7250\n",
      "Nb c   : 1831\n",
      "Nb p   : 2\n"
     ]
    }
   ],
   "source": [
    "index_max_p2p = AS_dataset.index [AS_dataset['ASN'] == 6939]\n",
    "print(\"Nb p2p : \"     + str(int(L1[index_max_p2p]))\n",
    "      + \"\\nNb c   : \" + str(int(L2[index_max_p2p])) \n",
    "      + \"\\nNb p   : \" + str(int(L3[index_max_p2p])))"
   ]
  },
  {
   "cell_type": "markdown",
   "id": "a4705121",
   "metadata": {
    "heading_collapsed": true,
    "hidden": true
   },
   "source": [
    "##### Adding columns `page_rank_not_directed`, `page_rank_directed` and `degree_centrality` not scaled"
   ]
  },
  {
   "cell_type": "code",
   "execution_count": 55,
   "id": "354ef3d8",
   "metadata": {
    "hidden": true
   },
   "outputs": [],
   "source": [
    "list_pageRank                  = nx.pagerank(G).values()\n",
    "list_pageRank_directed         = nx.pagerank(G_directed).values()\n",
    "list_pageRank_directed_inverse = nx.pagerank(G_directed_inverse).values()\n",
    "list_degreeCentrality          = nx.degree_centrality(G).values()"
   ]
  },
  {
   "cell_type": "code",
   "execution_count": 57,
   "id": "c76c94ad",
   "metadata": {
    "hidden": true
   },
   "outputs": [],
   "source": [
    "AS_dataset['page_rank_not_directed']     = pd.Series(list_pageRank)\n",
    "AS_dataset['page_rank_directed']         = pd.Series(list_pageRank_directed)\n",
    "AS_dataset['page_rank_directed_inverse'] = pd.Series(list_pageRank_directed_inverse)\n",
    "AS_dataset['degree_centrality']          = pd.Series(list_degreeCentrality)"
   ]
  },
  {
   "cell_type": "markdown",
   "id": "f3812a93",
   "metadata": {
    "heading_collapsed": true
   },
   "source": [
    "### Addition of other graph-related features"
   ]
  },
  {
   "cell_type": "markdown",
   "id": "2616ce25",
   "metadata": {
    "heading_collapsed": true,
    "hidden": true
   },
   "source": [
    "##### Column `degree_normalized` defined by the degre of each node"
   ]
  },
  {
   "cell_type": "code",
   "execution_count": 66,
   "id": "e3cc5afd",
   "metadata": {
    "hidden": true
   },
   "outputs": [],
   "source": [
    "List_degree = L1 + L2 + L3\n",
    "AS_dataset['degree_normalized'] = List_degree"
   ]
  },
  {
   "cell_type": "markdown",
   "id": "f5c0700c",
   "metadata": {
    "heading_collapsed": true,
    "hidden": true
   },
   "source": [
    "##### Columns `ratio_peering`, `ratio_customer` and `ratio_provider` defined by the ratio of each node neighbors"
   ]
  },
  {
   "cell_type": "code",
   "execution_count": 67,
   "id": "4966dfe3",
   "metadata": {
    "hidden": true,
    "scrolled": false
   },
   "outputs": [],
   "source": [
    "AS_dataset['ratio_peering']  = L1\n",
    "AS_dataset['ratio_customer'] = L2\n",
    "AS_dataset['ratio_provider'] = L3"
   ]
  },
  {
   "cell_type": "code",
   "execution_count": 68,
   "id": "0e3998ed",
   "metadata": {
    "hidden": true
   },
   "outputs": [
    {
     "data": {
      "text/html": [
       "<div>\n",
       "<style scoped>\n",
       "    .dataframe tbody tr th:only-of-type {\n",
       "        vertical-align: middle;\n",
       "    }\n",
       "\n",
       "    .dataframe tbody tr th {\n",
       "        vertical-align: top;\n",
       "    }\n",
       "\n",
       "    .dataframe thead th {\n",
       "        text-align: right;\n",
       "    }\n",
       "</style>\n",
       "<table border=\"1\" class=\"dataframe\">\n",
       "  <thead>\n",
       "    <tr style=\"text-align: right;\">\n",
       "      <th></th>\n",
       "      <th>ASN</th>\n",
       "      <th>source_label</th>\n",
       "      <th>label</th>\n",
       "      <th>page_rank_not_directed</th>\n",
       "      <th>page_rank_directed</th>\n",
       "      <th>page_rank_directed_inverse</th>\n",
       "      <th>degree_centrality</th>\n",
       "      <th>degree_normalized</th>\n",
       "      <th>ratio_peering</th>\n",
       "      <th>ratio_customer</th>\n",
       "      <th>ratio_provider</th>\n",
       "    </tr>\n",
       "  </thead>\n",
       "  <tbody>\n",
       "    <tr>\n",
       "      <th>0</th>\n",
       "      <td>1</td>\n",
       "      <td>CAIDA_class</td>\n",
       "      <td>Transit/Access</td>\n",
       "      <td>0.000025</td>\n",
       "      <td>0.000082</td>\n",
       "      <td>0.000017</td>\n",
       "      <td>0.000196</td>\n",
       "      <td>14.0</td>\n",
       "      <td>2.0</td>\n",
       "      <td>2.0</td>\n",
       "      <td>10.0</td>\n",
       "    </tr>\n",
       "    <tr>\n",
       "      <th>1</th>\n",
       "      <td>2</td>\n",
       "      <td>CAIDA_class</td>\n",
       "      <td>Transit/Access</td>\n",
       "      <td>0.000034</td>\n",
       "      <td>0.000162</td>\n",
       "      <td>0.000004</td>\n",
       "      <td>0.000294</td>\n",
       "      <td>21.0</td>\n",
       "      <td>1.0</td>\n",
       "      <td>2.0</td>\n",
       "      <td>18.0</td>\n",
       "    </tr>\n",
       "    <tr>\n",
       "      <th>2</th>\n",
       "      <td>3</td>\n",
       "      <td>CAIDA_class</td>\n",
       "      <td>Transit/Access</td>\n",
       "      <td>0.000031</td>\n",
       "      <td>0.000067</td>\n",
       "      <td>0.000092</td>\n",
       "      <td>0.000280</td>\n",
       "      <td>20.0</td>\n",
       "      <td>5.0</td>\n",
       "      <td>1.0</td>\n",
       "      <td>14.0</td>\n",
       "    </tr>\n",
       "    <tr>\n",
       "      <th>3</th>\n",
       "      <td>4</td>\n",
       "      <td>CAIDA_class</td>\n",
       "      <td>Transit/Access</td>\n",
       "      <td>0.000028</td>\n",
       "      <td>0.000093</td>\n",
       "      <td>0.000004</td>\n",
       "      <td>0.000210</td>\n",
       "      <td>15.0</td>\n",
       "      <td>2.0</td>\n",
       "      <td>1.0</td>\n",
       "      <td>12.0</td>\n",
       "    </tr>\n",
       "    <tr>\n",
       "      <th>4</th>\n",
       "      <td>5</td>\n",
       "      <td>CAIDA_class</td>\n",
       "      <td>Enterprise</td>\n",
       "      <td>0.000016</td>\n",
       "      <td>0.000126</td>\n",
       "      <td>0.000004</td>\n",
       "      <td>0.000098</td>\n",
       "      <td>7.0</td>\n",
       "      <td>2.0</td>\n",
       "      <td>0.0</td>\n",
       "      <td>5.0</td>\n",
       "    </tr>\n",
       "  </tbody>\n",
       "</table>\n",
       "</div>"
      ],
      "text/plain": [
       "   ASN source_label           label  page_rank_not_directed  \\\n",
       "0    1  CAIDA_class  Transit/Access                0.000025   \n",
       "1    2  CAIDA_class  Transit/Access                0.000034   \n",
       "2    3  CAIDA_class  Transit/Access                0.000031   \n",
       "3    4  CAIDA_class  Transit/Access                0.000028   \n",
       "4    5  CAIDA_class      Enterprise                0.000016   \n",
       "\n",
       "   page_rank_directed  page_rank_directed_inverse  degree_centrality  \\\n",
       "0            0.000082                    0.000017           0.000196   \n",
       "1            0.000162                    0.000004           0.000294   \n",
       "2            0.000067                    0.000092           0.000280   \n",
       "3            0.000093                    0.000004           0.000210   \n",
       "4            0.000126                    0.000004           0.000098   \n",
       "\n",
       "   degree_normalized  ratio_peering  ratio_customer  ratio_provider  \n",
       "0               14.0            2.0             2.0            10.0  \n",
       "1               21.0            1.0             2.0            18.0  \n",
       "2               20.0            5.0             1.0            14.0  \n",
       "3               15.0            2.0             1.0            12.0  \n",
       "4                7.0            2.0             0.0             5.0  "
      ]
     },
     "execution_count": 68,
     "metadata": {},
     "output_type": "execute_result"
    }
   ],
   "source": [
    "AS_dataset.head()"
   ]
  },
  {
   "cell_type": "markdown",
   "id": "d747538e",
   "metadata": {},
   "source": [
    "### Exportation of data  : `dataset` and `graph`"
   ]
  },
  {
   "cell_type": "markdown",
   "id": "a477dd20",
   "metadata": {},
   "source": [
    "We create 4 files : \n",
    "- The `dataset` with 8 node-features **that are not already scaled**\n",
    "- The `graph` nx in pickle format\n",
    "- The `graph_float` nx in pickle format\n",
    "- The `graph_array` nx in pickle format"
   ]
  },
  {
   "cell_type": "code",
   "execution_count": 79,
   "id": "b66dea77",
   "metadata": {},
   "outputs": [],
   "source": [
    "# Exporting data\n",
    "\n",
    "suffix = FILE_PATH.split('/')[3].split('.')[0]\n",
    "\n",
    "AS_dataset.to_csv('data_GCN/dataset_v5_'+suffix+'.csv', index=False)\n",
    "nx.write_gpickle(G, 'data_GCN/graph_'+suffix+'.pickle')\n",
    "nx.write_gpickle(G_float, 'data_GCN/graph_float_'+suffix+'.pickle')\n",
    "nx.write_gpickle(G_array, 'data_GCN/graph_array_'+suffix+'.pickle')"
   ]
  },
  {
   "cell_type": "code",
   "execution_count": null,
   "id": "6069ebbf",
   "metadata": {},
   "outputs": [],
   "source": []
  }
 ],
 "metadata": {
  "kernelspec": {
   "display_name": "Python 3 (ipykernel)",
   "language": "python",
   "name": "python3"
  },
  "language_info": {
   "codemirror_mode": {
    "name": "ipython",
    "version": 3
   },
   "file_extension": ".py",
   "mimetype": "text/x-python",
   "name": "python",
   "nbconvert_exporter": "python",
   "pygments_lexer": "ipython3",
   "version": "3.9.5"
  }
 },
 "nbformat": 4,
 "nbformat_minor": 5
}
