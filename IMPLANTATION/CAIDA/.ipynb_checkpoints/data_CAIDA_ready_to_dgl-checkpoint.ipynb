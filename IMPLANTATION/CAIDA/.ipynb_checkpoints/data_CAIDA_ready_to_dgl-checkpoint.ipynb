{
 "cells": [
  {
   "cell_type": "markdown",
   "id": "6d5161a8",
   "metadata": {},
   "source": [
    "### Lecture du dataset et du graphe\n",
    "Les données sont disponibles dans le répertoire `./data_GCN`"
   ]
  },
  {
   "cell_type": "code",
   "execution_count": 57,
   "id": "e1d135bc",
   "metadata": {},
   "outputs": [],
   "source": [
    "# Common imports\n",
    "import numpy as np\n",
    "import os\n",
    "import pandas as pd\n",
    "import networkx as nx\n",
    "import pickle\n",
    "os.popen(\"export DGLBACKEND=pytorch\")\n",
    "import dgl as dgl\n",
    "import time"
   ]
  },
  {
   "cell_type": "code",
   "execution_count": 78,
   "id": "f1f59052",
   "metadata": {},
   "outputs": [
    {
     "ename": "AttributeError",
     "evalue": "'list' object has no attribute 'startswith'",
     "output_type": "error",
     "traceback": [
      "\u001b[1;31m---------------------------------------------------------------------------\u001b[0m",
      "\u001b[1;31mAttributeError\u001b[0m                            Traceback (most recent call last)",
      "Input \u001b[1;32mIn [78]\u001b[0m, in \u001b[0;36m<module>\u001b[1;34m\u001b[0m\n\u001b[0;32m      5\u001b[0m \u001b[38;5;66;03m# Lecture du graphe dgl\u001b[39;00m\n\u001b[0;32m      6\u001b[0m graph_path \u001b[38;5;241m=\u001b[39m \u001b[38;5;124m'\u001b[39m\u001b[38;5;124mdata_GCN/graph_202001_DGL\u001b[39m\u001b[38;5;124m'\u001b[39m\n\u001b[1;32m----> 7\u001b[0m G_dgl, labels_dgl \u001b[38;5;241m=\u001b[39m \u001b[43mdgl\u001b[49m\u001b[38;5;241;43m.\u001b[39;49m\u001b[43mload_graphs\u001b[49m\u001b[43m(\u001b[49m\u001b[43m[\u001b[49m\u001b[43mgraph_path\u001b[49m\u001b[43m]\u001b[49m\u001b[43m)\u001b[49m\n",
      "File \u001b[1;32mC:\\Python39\\lib\\site-packages\\dgl\\data\\graph_serialize.py:174\u001b[0m, in \u001b[0;36mload_graphs\u001b[1;34m(filename, idx_list)\u001b[0m\n\u001b[0;32m    138\u001b[0m \u001b[38;5;124;03m\"\"\"Load graphs and optionally their labels from file saved by :func:`save_graphs`.\u001b[39;00m\n\u001b[0;32m    139\u001b[0m \n\u001b[0;32m    140\u001b[0m \u001b[38;5;124;03mBesides loading from local files, DGL supports loading the graphs directly\u001b[39;00m\n\u001b[1;32m   (...)\u001b[0m\n\u001b[0;32m    171\u001b[0m \u001b[38;5;124;03msave_graphs\u001b[39;00m\n\u001b[0;32m    172\u001b[0m \u001b[38;5;124;03m\"\"\"\u001b[39;00m\n\u001b[0;32m    173\u001b[0m \u001b[38;5;66;03m# if it is local file, do some sanity check\u001b[39;00m\n\u001b[1;32m--> 174\u001b[0m \u001b[43mcheck_local_file_exists\u001b[49m\u001b[43m(\u001b[49m\u001b[43mfilename\u001b[49m\u001b[43m)\u001b[49m\n\u001b[0;32m    175\u001b[0m version \u001b[38;5;241m=\u001b[39m _CAPI_GetFileVersion(filename)\n\u001b[0;32m    176\u001b[0m \u001b[38;5;28;01mif\u001b[39;00m version \u001b[38;5;241m==\u001b[39m \u001b[38;5;241m1\u001b[39m:\n",
      "File \u001b[1;32mC:\\Python39\\lib\\site-packages\\dgl\\data\\graph_serialize.py:35\u001b[0m, in \u001b[0;36mcheck_local_file_exists\u001b[1;34m(filename)\u001b[0m\n\u001b[0;32m     34\u001b[0m \u001b[38;5;28;01mdef\u001b[39;00m \u001b[38;5;21mcheck_local_file_exists\u001b[39m(filename):\n\u001b[1;32m---> 35\u001b[0m     \u001b[38;5;28;01mif\u001b[39;00m \u001b[43mis_local_path\u001b[49m\u001b[43m(\u001b[49m\u001b[43mfilename\u001b[49m\u001b[43m)\u001b[49m \u001b[38;5;129;01mand\u001b[39;00m \u001b[38;5;129;01mnot\u001b[39;00m os\u001b[38;5;241m.\u001b[39mpath\u001b[38;5;241m.\u001b[39mexists(filename):\n\u001b[0;32m     36\u001b[0m         \u001b[38;5;28;01mraise\u001b[39;00m DGLError(\u001b[38;5;124m\"\u001b[39m\u001b[38;5;124mFile \u001b[39m\u001b[38;5;132;01m{}\u001b[39;00m\u001b[38;5;124m does not exist.\u001b[39m\u001b[38;5;124m\"\u001b[39m\u001b[38;5;241m.\u001b[39mformat(filename))\n",
      "File \u001b[1;32mC:\\Python39\\lib\\site-packages\\dgl\\data\\graph_serialize.py:29\u001b[0m, in \u001b[0;36mis_local_path\u001b[1;34m(filepath)\u001b[0m\n\u001b[0;32m     28\u001b[0m \u001b[38;5;28;01mdef\u001b[39;00m \u001b[38;5;21mis_local_path\u001b[39m(filepath):\n\u001b[1;32m---> 29\u001b[0m     \u001b[38;5;28;01mreturn\u001b[39;00m \u001b[38;5;129;01mnot\u001b[39;00m (\u001b[43mfilepath\u001b[49m\u001b[38;5;241;43m.\u001b[39;49m\u001b[43mstartswith\u001b[49m(\u001b[38;5;124m\"\u001b[39m\u001b[38;5;124mhdfs://\u001b[39m\u001b[38;5;124m\"\u001b[39m) \u001b[38;5;129;01mor\u001b[39;00m\n\u001b[0;32m     30\u001b[0m                 filepath\u001b[38;5;241m.\u001b[39mstartswith(\u001b[38;5;124m\"\u001b[39m\u001b[38;5;124mviewfs://\u001b[39m\u001b[38;5;124m\"\u001b[39m) \u001b[38;5;129;01mor\u001b[39;00m\n\u001b[0;32m     31\u001b[0m                 filepath\u001b[38;5;241m.\u001b[39mstartswith(\u001b[38;5;124m\"\u001b[39m\u001b[38;5;124ms3://\u001b[39m\u001b[38;5;124m\"\u001b[39m))\n",
      "\u001b[1;31mAttributeError\u001b[0m: 'list' object has no attribute 'startswith'"
     ]
    }
   ],
   "source": [
    "# Lecture de la table 'node_features' au format csv\n",
    "dataset_path = 'data_GCN/dataset_202001.csv'\n",
    "AS_dataset_202001 = pd.read_csv(dataset_path)\n",
    "\n",
    "# Lecture du graphe dgl\n",
    "graph_path = 'data_GCN/graph_202001_DGL'\n",
    "G_dgl, labels_dgl = dgl.load_graphs([graph_path])"
   ]
  },
  {
   "cell_type": "code",
   "execution_count": 72,
   "id": "760fa132",
   "metadata": {},
   "outputs": [
    {
     "data": {
      "text/html": [
       "<div>\n",
       "<style scoped>\n",
       "    .dataframe tbody tr th:only-of-type {\n",
       "        vertical-align: middle;\n",
       "    }\n",
       "\n",
       "    .dataframe tbody tr th {\n",
       "        vertical-align: top;\n",
       "    }\n",
       "\n",
       "    .dataframe thead th {\n",
       "        text-align: right;\n",
       "    }\n",
       "</style>\n",
       "<table border=\"1\" class=\"dataframe\">\n",
       "  <thead>\n",
       "    <tr style=\"text-align: right;\">\n",
       "      <th></th>\n",
       "      <th>ASN</th>\n",
       "      <th>source_label</th>\n",
       "      <th>label</th>\n",
       "      <th>page_rank</th>\n",
       "      <th>degree_centrality</th>\n",
       "      <th>peering_links</th>\n",
       "      <th>customer_links</th>\n",
       "      <th>provider_links</th>\n",
       "    </tr>\n",
       "  </thead>\n",
       "  <tbody>\n",
       "    <tr>\n",
       "      <th>0</th>\n",
       "      <td>1</td>\n",
       "      <td>CAIDA_class</td>\n",
       "      <td>Content</td>\n",
       "      <td>0.000025</td>\n",
       "      <td>0.000193</td>\n",
       "      <td>0.000150</td>\n",
       "      <td>0.000000</td>\n",
       "      <td>0.100000</td>\n",
       "    </tr>\n",
       "    <tr>\n",
       "      <th>1</th>\n",
       "      <td>2</td>\n",
       "      <td>CAIDA_class</td>\n",
       "      <td>Transit/Access</td>\n",
       "      <td>0.000064</td>\n",
       "      <td>0.000490</td>\n",
       "      <td>0.001202</td>\n",
       "      <td>0.001007</td>\n",
       "      <td>0.158333</td>\n",
       "    </tr>\n",
       "    <tr>\n",
       "      <th>2</th>\n",
       "      <td>3</td>\n",
       "      <td>CAIDA_class</td>\n",
       "      <td>Transit/Access</td>\n",
       "      <td>0.000037</td>\n",
       "      <td>0.000342</td>\n",
       "      <td>0.000451</td>\n",
       "      <td>0.000671</td>\n",
       "      <td>0.133333</td>\n",
       "    </tr>\n",
       "    <tr>\n",
       "      <th>3</th>\n",
       "      <td>4</td>\n",
       "      <td>CAIDA_class</td>\n",
       "      <td>Transit/Access</td>\n",
       "      <td>0.000034</td>\n",
       "      <td>0.000238</td>\n",
       "      <td>0.000451</td>\n",
       "      <td>0.000503</td>\n",
       "      <td>0.083333</td>\n",
       "    </tr>\n",
       "    <tr>\n",
       "      <th>4</th>\n",
       "      <td>5</td>\n",
       "      <td>CAIDA_class</td>\n",
       "      <td>Transit/Access</td>\n",
       "      <td>0.000018</td>\n",
       "      <td>0.000134</td>\n",
       "      <td>0.000150</td>\n",
       "      <td>0.000168</td>\n",
       "      <td>0.058333</td>\n",
       "    </tr>\n",
       "  </tbody>\n",
       "</table>\n",
       "</div>"
      ],
      "text/plain": [
       "   ASN source_label           label  page_rank  degree_centrality  \\\n",
       "0    1  CAIDA_class         Content   0.000025           0.000193   \n",
       "1    2  CAIDA_class  Transit/Access   0.000064           0.000490   \n",
       "2    3  CAIDA_class  Transit/Access   0.000037           0.000342   \n",
       "3    4  CAIDA_class  Transit/Access   0.000034           0.000238   \n",
       "4    5  CAIDA_class  Transit/Access   0.000018           0.000134   \n",
       "\n",
       "   peering_links  customer_links  provider_links  \n",
       "0       0.000150        0.000000        0.100000  \n",
       "1       0.001202        0.001007        0.158333  \n",
       "2       0.000451        0.000671        0.133333  \n",
       "3       0.000451        0.000503        0.083333  \n",
       "4       0.000150        0.000168        0.058333  "
      ]
     },
     "execution_count": 72,
     "metadata": {},
     "output_type": "execute_result"
    }
   ],
   "source": [
    "AS_dataset_202001.head()"
   ]
  },
  {
   "cell_type": "code",
   "execution_count": 77,
   "id": "cf14c2ec",
   "metadata": {},
   "outputs": [
    {
     "data": {
      "text/plain": [
       "list"
      ]
     },
     "execution_count": 77,
     "metadata": {},
     "output_type": "execute_result"
    }
   ],
   "source": [
    "type(G_dgl)"
   ]
  },
  {
   "cell_type": "code",
   "execution_count": 67,
   "id": "5ec0d1ba",
   "metadata": {},
   "outputs": [
    {
     "name": "stdout",
     "output_type": "stream",
     "text": [
      "[Graph(num_nodes=67308, num_edges=893266,\n",
      "      ndata_schemes={}\n",
      "      edata_schemes={})]\n",
      "\n"
     ]
    },
    {
     "ename": "AttributeError",
     "evalue": "'list' object has no attribute 'nodes'",
     "output_type": "error",
     "traceback": [
      "\u001b[1;31m---------------------------------------------------------------------------\u001b[0m",
      "\u001b[1;31mAttributeError\u001b[0m                            Traceback (most recent call last)",
      "Input \u001b[1;32mIn [67]\u001b[0m, in \u001b[0;36m<module>\u001b[1;34m\u001b[0m\n\u001b[0;32m      1\u001b[0m \u001b[38;5;28mprint\u001b[39m(\u001b[38;5;28mstr\u001b[39m(G_dgl) \u001b[38;5;241m+\u001b[39m \u001b[38;5;124m\"\u001b[39m\u001b[38;5;130;01m\\n\u001b[39;00m\u001b[38;5;124m\"\u001b[39m)\n\u001b[1;32m----> 2\u001b[0m \u001b[38;5;28mprint\u001b[39m(\u001b[38;5;124m\"\u001b[39m\u001b[38;5;124mNodes dgl : \u001b[39m\u001b[38;5;124m\"\u001b[39m \u001b[38;5;241m+\u001b[39m \u001b[38;5;28mstr\u001b[39m(\u001b[43mG_dgl\u001b[49m\u001b[38;5;241;43m.\u001b[39;49m\u001b[43mnodes\u001b[49m()) \u001b[38;5;241m+\u001b[39m \u001b[38;5;124m\"\u001b[39m\u001b[38;5;130;01m\\n\u001b[39;00m\u001b[38;5;124m\"\u001b[39m)\n\u001b[0;32m      3\u001b[0m \u001b[38;5;28mprint\u001b[39m(\u001b[38;5;124m\"\u001b[39m\u001b[38;5;124mEdges dgl : \u001b[39m\u001b[38;5;124m\"\u001b[39m \u001b[38;5;241m+\u001b[39m \u001b[38;5;28mstr\u001b[39m(G_dgl\u001b[38;5;241m.\u001b[39medges()))\n",
      "\u001b[1;31mAttributeError\u001b[0m: 'list' object has no attribute 'nodes'"
     ]
    }
   ],
   "source": [
    "print(str(G_dgl) + \"\\n\")\n",
    "print(\"Nodes dgl : \" + str(G_dgl.nodes()) + \"\\n\")\n",
    "print(\"Edges dgl : \" + str(G_dgl.edges()))"
   ]
  },
  {
   "cell_type": "code",
   "execution_count": null,
   "id": "9d74eb7e",
   "metadata": {},
   "outputs": [],
   "source": []
  }
 ],
 "metadata": {
  "kernelspec": {
   "display_name": "Python 3 (ipykernel)",
   "language": "python",
   "name": "python3"
  },
  "language_info": {
   "codemirror_mode": {
    "name": "ipython",
    "version": 3
   },
   "file_extension": ".py",
   "mimetype": "text/x-python",
   "name": "python",
   "nbconvert_exporter": "python",
   "pygments_lexer": "ipython3",
   "version": "3.9.5"
  }
 },
 "nbformat": 4,
 "nbformat_minor": 5
}
