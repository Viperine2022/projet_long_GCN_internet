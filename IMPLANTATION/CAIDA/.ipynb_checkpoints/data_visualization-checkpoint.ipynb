{
 "cells": [
  {
   "cell_type": "markdown",
   "id": "fcc57035",
   "metadata": {},
   "source": [
    "## Visualisation des datasets CAIDA\n",
    "\n",
    "Ce notebook se propose de visualiser les datasets de CAIDA, pour estimer la pertinence de ces jeux de données."
   ]
  },
  {
   "cell_type": "code",
   "execution_count": 2,
   "id": "caa6f359",
   "metadata": {},
   "outputs": [],
   "source": [
    "# Importations diverses\n",
    "import pandas as pd\n",
    "import os\n",
    "import numpy as np\n",
    "import bz2\n",
    "import pickle\n",
    "\n",
    "# To plot pretty figures\n",
    "%matplotlib inline\n",
    "import matplotlib as mpl\n",
    "import matplotlib.pyplot as plt"
   ]
  },
  {
   "cell_type": "markdown",
   "id": "d4b07433",
   "metadata": {},
   "source": [
    "### 1° Pertinence des as-relationships\n",
    "données accessibles sur : https://publicdata.caida.org/datasets/as-relationships/serial-2/\n",
    "\n",
    "Le DataFrame `dataset_features` contient les *informations-clé* des datasets, c-à-d :\n",
    "- Un timestamp (*YYYYMMDD*) : **date**\n",
    "- Le nombre d'AS du dataset : **number_AS**\n",
    "- Le nombre de Peering links : **number_p2p_links**\n",
    "- Le nombre de provider-customer links : **number_p2c_links**"
   ]
  },
  {
   "cell_type": "code",
   "execution_count": 3,
   "id": "132ad09b",
   "metadata": {},
   "outputs": [
    {
     "name": "stdout",
     "output_type": "stream",
     "text": [
      "<class 'pandas.core.frame.DataFrame'>\n",
      "RangeIndex: 26 entries, 0 to 25\n",
      "Data columns (total 4 columns):\n",
      " #   Column            Non-Null Count  Dtype \n",
      "---  ------            --------------  ----- \n",
      " 0   timestamp         26 non-null     object\n",
      " 1   number_AS         26 non-null     int64 \n",
      " 2   number_p2p_links  26 non-null     int64 \n",
      " 3   number_p2c_links  26 non-null     int64 \n",
      "dtypes: int64(3), object(1)\n",
      "memory usage: 960.0+ bytes\n"
     ]
    }
   ],
   "source": [
    "# DataFrame panda contenant les informations-clé de chaque data\n",
    "dataset_features = pd.read_csv('data/CAIDA_AS_RELATIONSHIP/number_AS_p2p_c2p_over_time.txt')\n",
    "dataset_features['timestamp'] = dataset_features['timestamp'].map(str)\n",
    "\n",
    "dataset_features.info()"
   ]
  },
  {
   "cell_type": "code",
   "execution_count": 4,
   "id": "d9d4e5c1",
   "metadata": {},
   "outputs": [
    {
     "data": {
      "text/html": [
       "<div>\n",
       "<style scoped>\n",
       "    .dataframe tbody tr th:only-of-type {\n",
       "        vertical-align: middle;\n",
       "    }\n",
       "\n",
       "    .dataframe tbody tr th {\n",
       "        vertical-align: top;\n",
       "    }\n",
       "\n",
       "    .dataframe thead th {\n",
       "        text-align: right;\n",
       "    }\n",
       "</style>\n",
       "<table border=\"1\" class=\"dataframe\">\n",
       "  <thead>\n",
       "    <tr style=\"text-align: right;\">\n",
       "      <th></th>\n",
       "      <th>timestamp</th>\n",
       "      <th>number_AS</th>\n",
       "      <th>number_p2p_links</th>\n",
       "      <th>number_p2c_links</th>\n",
       "    </tr>\n",
       "  </thead>\n",
       "  <tbody>\n",
       "    <tr>\n",
       "      <th>0</th>\n",
       "      <td>20181101</td>\n",
       "      <td>62995</td>\n",
       "      <td>492469</td>\n",
       "      <td>123549</td>\n",
       "    </tr>\n",
       "    <tr>\n",
       "      <th>1</th>\n",
       "      <td>20181201</td>\n",
       "      <td>63365</td>\n",
       "      <td>461675</td>\n",
       "      <td>124793</td>\n",
       "    </tr>\n",
       "    <tr>\n",
       "      <th>2</th>\n",
       "      <td>20190101</td>\n",
       "      <td>63467</td>\n",
       "      <td>463959</td>\n",
       "      <td>124682</td>\n",
       "    </tr>\n",
       "    <tr>\n",
       "      <th>3</th>\n",
       "      <td>20190201</td>\n",
       "      <td>63864</td>\n",
       "      <td>471684</td>\n",
       "      <td>125977</td>\n",
       "    </tr>\n",
       "    <tr>\n",
       "      <th>4</th>\n",
       "      <td>20190301</td>\n",
       "      <td>64167</td>\n",
       "      <td>447820</td>\n",
       "      <td>126621</td>\n",
       "    </tr>\n",
       "  </tbody>\n",
       "</table>\n",
       "</div>"
      ],
      "text/plain": [
       "  timestamp  number_AS  number_p2p_links  number_p2c_links\n",
       "0  20181101      62995            492469            123549\n",
       "1  20181201      63365            461675            124793\n",
       "2  20190101      63467            463959            124682\n",
       "3  20190201      63864            471684            125977\n",
       "4  20190301      64167            447820            126621"
      ]
     },
     "execution_count": 4,
     "metadata": {},
     "output_type": "execute_result"
    }
   ],
   "source": [
    "dataset_features.head()"
   ]
  },
  {
   "cell_type": "code",
   "execution_count": 11,
   "id": "ad945063",
   "metadata": {},
   "outputs": [
    {
     "data": {
      "text/html": [
       "<div>\n",
       "<style scoped>\n",
       "    .dataframe tbody tr th:only-of-type {\n",
       "        vertical-align: middle;\n",
       "    }\n",
       "\n",
       "    .dataframe tbody tr th {\n",
       "        vertical-align: top;\n",
       "    }\n",
       "\n",
       "    .dataframe thead th {\n",
       "        text-align: right;\n",
       "    }\n",
       "</style>\n",
       "<table border=\"1\" class=\"dataframe\">\n",
       "  <thead>\n",
       "    <tr style=\"text-align: right;\">\n",
       "      <th></th>\n",
       "      <th>timestamp</th>\n",
       "      <th>number_AS</th>\n",
       "      <th>number_p2p_links</th>\n",
       "      <th>number_p2c_links</th>\n",
       "      <th>scaled_date</th>\n",
       "    </tr>\n",
       "  </thead>\n",
       "  <tbody>\n",
       "    <tr>\n",
       "      <th>0</th>\n",
       "      <td>20181101</td>\n",
       "      <td>62995</td>\n",
       "      <td>492469</td>\n",
       "      <td>123549</td>\n",
       "      <td>0</td>\n",
       "    </tr>\n",
       "    <tr>\n",
       "      <th>1</th>\n",
       "      <td>20181201</td>\n",
       "      <td>63365</td>\n",
       "      <td>461675</td>\n",
       "      <td>124793</td>\n",
       "      <td>1</td>\n",
       "    </tr>\n",
       "    <tr>\n",
       "      <th>2</th>\n",
       "      <td>20190101</td>\n",
       "      <td>63467</td>\n",
       "      <td>463959</td>\n",
       "      <td>124682</td>\n",
       "      <td>2</td>\n",
       "    </tr>\n",
       "    <tr>\n",
       "      <th>3</th>\n",
       "      <td>20190201</td>\n",
       "      <td>63864</td>\n",
       "      <td>471684</td>\n",
       "      <td>125977</td>\n",
       "      <td>3</td>\n",
       "    </tr>\n",
       "    <tr>\n",
       "      <th>4</th>\n",
       "      <td>20190301</td>\n",
       "      <td>64167</td>\n",
       "      <td>447820</td>\n",
       "      <td>126621</td>\n",
       "      <td>4</td>\n",
       "    </tr>\n",
       "    <tr>\n",
       "      <th>5</th>\n",
       "      <td>20190401</td>\n",
       "      <td>64553</td>\n",
       "      <td>471771</td>\n",
       "      <td>128731</td>\n",
       "      <td>5</td>\n",
       "    </tr>\n",
       "    <tr>\n",
       "      <th>6</th>\n",
       "      <td>20190501</td>\n",
       "      <td>64758</td>\n",
       "      <td>478446</td>\n",
       "      <td>129399</td>\n",
       "      <td>6</td>\n",
       "    </tr>\n",
       "    <tr>\n",
       "      <th>7</th>\n",
       "      <td>20190601</td>\n",
       "      <td>65082</td>\n",
       "      <td>483965</td>\n",
       "      <td>129824</td>\n",
       "      <td>7</td>\n",
       "    </tr>\n",
       "    <tr>\n",
       "      <th>8</th>\n",
       "      <td>20190701</td>\n",
       "      <td>65440</td>\n",
       "      <td>375736</td>\n",
       "      <td>129836</td>\n",
       "      <td>8</td>\n",
       "    </tr>\n",
       "    <tr>\n",
       "      <th>9</th>\n",
       "      <td>20190801</td>\n",
       "      <td>65724</td>\n",
       "      <td>361719</td>\n",
       "      <td>130120</td>\n",
       "      <td>9</td>\n",
       "    </tr>\n",
       "    <tr>\n",
       "      <th>10</th>\n",
       "      <td>20190901</td>\n",
       "      <td>66091</td>\n",
       "      <td>376867</td>\n",
       "      <td>131024</td>\n",
       "      <td>10</td>\n",
       "    </tr>\n",
       "    <tr>\n",
       "      <th>11</th>\n",
       "      <td>20191201</td>\n",
       "      <td>67026</td>\n",
       "      <td>374607</td>\n",
       "      <td>132428</td>\n",
       "      <td>13</td>\n",
       "    </tr>\n",
       "    <tr>\n",
       "      <th>12</th>\n",
       "      <td>20200101</td>\n",
       "      <td>67308</td>\n",
       "      <td>388762</td>\n",
       "      <td>132565</td>\n",
       "      <td>14</td>\n",
       "    </tr>\n",
       "    <tr>\n",
       "      <th>13</th>\n",
       "      <td>20200401</td>\n",
       "      <td>68291</td>\n",
       "      <td>397996</td>\n",
       "      <td>135238</td>\n",
       "      <td>17</td>\n",
       "    </tr>\n",
       "    <tr>\n",
       "      <th>14</th>\n",
       "      <td>20200501</td>\n",
       "      <td>68573</td>\n",
       "      <td>387530</td>\n",
       "      <td>135328</td>\n",
       "      <td>18</td>\n",
       "    </tr>\n",
       "    <tr>\n",
       "      <th>15</th>\n",
       "      <td>20200601</td>\n",
       "      <td>68915</td>\n",
       "      <td>394601</td>\n",
       "      <td>136402</td>\n",
       "      <td>19</td>\n",
       "    </tr>\n",
       "    <tr>\n",
       "      <th>16</th>\n",
       "      <td>20200701</td>\n",
       "      <td>69204</td>\n",
       "      <td>372485</td>\n",
       "      <td>137544</td>\n",
       "      <td>20</td>\n",
       "    </tr>\n",
       "    <tr>\n",
       "      <th>17</th>\n",
       "      <td>20200801</td>\n",
       "      <td>69567</td>\n",
       "      <td>375232</td>\n",
       "      <td>138168</td>\n",
       "      <td>21</td>\n",
       "    </tr>\n",
       "    <tr>\n",
       "      <th>18</th>\n",
       "      <td>20200901</td>\n",
       "      <td>70002</td>\n",
       "      <td>381154</td>\n",
       "      <td>139135</td>\n",
       "      <td>22</td>\n",
       "    </tr>\n",
       "    <tr>\n",
       "      <th>19</th>\n",
       "      <td>20201001</td>\n",
       "      <td>70289</td>\n",
       "      <td>372841</td>\n",
       "      <td>143419</td>\n",
       "      <td>23</td>\n",
       "    </tr>\n",
       "    <tr>\n",
       "      <th>20</th>\n",
       "      <td>20201101</td>\n",
       "      <td>70582</td>\n",
       "      <td>394196</td>\n",
       "      <td>140233</td>\n",
       "      <td>24</td>\n",
       "    </tr>\n",
       "    <tr>\n",
       "      <th>21</th>\n",
       "      <td>20201201</td>\n",
       "      <td>70803</td>\n",
       "      <td>418694</td>\n",
       "      <td>146291</td>\n",
       "      <td>25</td>\n",
       "    </tr>\n",
       "    <tr>\n",
       "      <th>22</th>\n",
       "      <td>20210101</td>\n",
       "      <td>70917</td>\n",
       "      <td>384156</td>\n",
       "      <td>144651</td>\n",
       "      <td>26</td>\n",
       "    </tr>\n",
       "    <tr>\n",
       "      <th>23</th>\n",
       "      <td>20210201</td>\n",
       "      <td>71261</td>\n",
       "      <td>387479</td>\n",
       "      <td>146587</td>\n",
       "      <td>27</td>\n",
       "    </tr>\n",
       "    <tr>\n",
       "      <th>24</th>\n",
       "      <td>20210301</td>\n",
       "      <td>71434</td>\n",
       "      <td>425270</td>\n",
       "      <td>147943</td>\n",
       "      <td>28</td>\n",
       "    </tr>\n",
       "    <tr>\n",
       "      <th>25</th>\n",
       "      <td>20210401</td>\n",
       "      <td>71669</td>\n",
       "      <td>395730</td>\n",
       "      <td>146661</td>\n",
       "      <td>29</td>\n",
       "    </tr>\n",
       "  </tbody>\n",
       "</table>\n",
       "</div>"
      ],
      "text/plain": [
       "   timestamp  number_AS  number_p2p_links  number_p2c_links  scaled_date\n",
       "0   20181101      62995            492469            123549            0\n",
       "1   20181201      63365            461675            124793            1\n",
       "2   20190101      63467            463959            124682            2\n",
       "3   20190201      63864            471684            125977            3\n",
       "4   20190301      64167            447820            126621            4\n",
       "5   20190401      64553            471771            128731            5\n",
       "6   20190501      64758            478446            129399            6\n",
       "7   20190601      65082            483965            129824            7\n",
       "8   20190701      65440            375736            129836            8\n",
       "9   20190801      65724            361719            130120            9\n",
       "10  20190901      66091            376867            131024           10\n",
       "11  20191201      67026            374607            132428           13\n",
       "12  20200101      67308            388762            132565           14\n",
       "13  20200401      68291            397996            135238           17\n",
       "14  20200501      68573            387530            135328           18\n",
       "15  20200601      68915            394601            136402           19\n",
       "16  20200701      69204            372485            137544           20\n",
       "17  20200801      69567            375232            138168           21\n",
       "18  20200901      70002            381154            139135           22\n",
       "19  20201001      70289            372841            143419           23\n",
       "20  20201101      70582            394196            140233           24\n",
       "21  20201201      70803            418694            146291           25\n",
       "22  20210101      70917            384156            144651           26\n",
       "23  20210201      71261            387479            146587           27\n",
       "24  20210301      71434            425270            147943           28\n",
       "25  20210401      71669            395730            146661           29"
      ]
     },
     "execution_count": 11,
     "metadata": {},
     "output_type": "execute_result"
    }
   ],
   "source": [
    "# Ajout d'une colonne date 'normalisée', en transformant le YYYYMMDD\n",
    "first_year = dataset_features['timestamp'][0][0:4]\n",
    "first_month = dataset_features['timestamp'][0][4:6]\n",
    "\n",
    "list_years = list(dataset_features['timestamp'].map(lambda string: string[0:4]))\n",
    "#print(\"First month : \" + first_month)\n",
    "#print(\"First year : \" + first_year)\n",
    "\n",
    "###################################################################################\n",
    "# Fonction qui définit la date de chaque dataset en f° de la date du 1er dataset\n",
    "# (year - year_initial) * 12 + (month - month_initial)\n",
    "###################################################################################\n",
    "def date_abscisses(date):\n",
    "    return (int(date[0:4]) - int(first_year))* 12 + int(date[4:6]) - int(first_month)\n",
    "\n",
    "# Création de la liste des dates mise à l'échelle sous forme d'un entier\n",
    "iterator = map(date_abscisses, list(dataset_features['timestamp']))\n",
    "\n",
    "dataset_features['scaled_date'] = list(iterator)\n",
    "dataset_features.head()"
   ]
  },
  {
   "cell_type": "code",
   "execution_count": 6,
   "id": "e61a3250",
   "metadata": {},
   "outputs": [],
   "source": [
    "# Création d'une liste d'années pour un meilleur plot du numbre d'AS\n",
    "\n",
    "years_to_plot = [\"\" for i in range(len(list_years))]\n",
    "pattern_year = \"\"\n",
    "for j in range (len(list_years)):\n",
    "    if (list_years[j] != pattern_year):\n",
    "        years_to_plot[j] = list_years[j]\n",
    "        pattern_year = list_years[j]\n",
    "\n",
    "#print(\"years to plot : \" + str(years_to_plot))\n",
    "\n",
    "assert (len(list_years) == len(years_to_plot))"
   ]
  },
  {
   "cell_type": "markdown",
   "id": "7e17830d",
   "metadata": {},
   "source": [
    "- #### Number of AS over time"
   ]
  },
  {
   "cell_type": "code",
   "execution_count": 7,
   "id": "dd2c31c9",
   "metadata": {},
   "outputs": [
    {
     "data": {
      "image/png": "[encoded data removed]",
      "text/plain": [
       "<Figure size 432x288 with 1 Axes>"
      ]
     },
     "metadata": {
      "needs_background": "light"
     },
     "output_type": "display_data"
    }
   ],
   "source": [
    "# Plot via matplotlib des nb AS\n",
    "\n",
    "plt.xticks(dataset_features['scaled_date'], years_to_plot)\n",
    "plt.plot(dataset_features['scaled_date'], dataset_features['number_AS'], '-o')\n",
    "plt.grid(True)\n",
    "plt.xlabel('year')\n",
    "plt.ylabel('number of AS')\n",
    "plt.title('Number of CAIDA AS over time')\n",
    "plt.show()"
   ]
  },
  {
   "cell_type": "markdown",
   "id": "8e219bec",
   "metadata": {},
   "source": [
    "- #### Number of link types over time"
   ]
  },
  {
   "cell_type": "code",
   "execution_count": 8,
   "id": "0e9fe059",
   "metadata": {},
   "outputs": [
    {
     "data": {
      "image/png": "[encoded data removed]",
      "text/plain": [
       "<Figure size 432x288 with 1 Axes>"
      ]
     },
     "metadata": {
      "needs_background": "light"
     },
     "output_type": "display_data"
    }
   ],
   "source": [
    "# Plot via matplotlib des nb p2p\n",
    "\n",
    "plt.xticks(dataset_features['scaled_date'], years_to_plot)\n",
    "plt.plot(dataset_features['scaled_date'], dataset_features['number_p2p_links'], '-o')\n",
    "plt.grid(True)\n",
    "plt.xlabel('year')\n",
    "plt.ylabel('number of p2p links')\n",
    "plt.title('Number of CAIDA p2p links over time')\n",
    "plt.show()"
   ]
  },
  {
   "cell_type": "code",
   "execution_count": 9,
   "id": "dd2cb507",
   "metadata": {},
   "outputs": [
    {
     "data": {
      "image/png": "[encoded data removed]",
      "text/plain": [
       "<Figure size 432x288 with 1 Axes>"
      ]
     },
     "metadata": {
      "needs_background": "light"
     },
     "output_type": "display_data"
    }
   ],
   "source": [
    "# Plot via matplotlib des nb p2c\n",
    "\n",
    "plt.xticks(dataset_features['scaled_date'], years_to_plot)\n",
    "plt.plot(dataset_features['scaled_date'], dataset_features['number_p2c_links'], '-o')\n",
    "plt.grid(True)\n",
    "plt.xlabel('year')\n",
    "plt.ylabel('number of p2c links')\n",
    "plt.title('Number of CAIDA p2c links over time')\n",
    "plt.show()"
   ]
  },
  {
   "cell_type": "markdown",
   "id": "dbacf850",
   "metadata": {},
   "source": [
    "### 2° Pertinence des as-classification\n",
    "données accessibles sur : https://publicdata.caida.org/datasets/as-classification_restricted/ <br> <br>\n",
    "\n",
    "Le DataFrame `dataset_classif` contient des informations concernant la classification des *AS* par CAIDA"
   ]
  },
  {
   "cell_type": "code",
   "execution_count": 10,
   "id": "369b5151",
   "metadata": {},
   "outputs": [
    {
     "name": "stdout",
     "output_type": "stream",
     "text": [
      "<class 'pandas.core.frame.DataFrame'>\n",
      "RangeIndex: 26 entries, 0 to 25\n",
      "Data columns (total 5 columns):\n",
      " #   Column            Non-Null Count  Dtype \n",
      "---  ------            --------------  ----- \n",
      " 0   timestamp         26 non-null     object\n",
      " 1   number_AS         26 non-null     int64 \n",
      " 2   number_p2p_links  26 non-null     int64 \n",
      " 3   number_p2c_links  26 non-null     int64 \n",
      " 4   scaled_date       26 non-null     int64 \n",
      "dtypes: int64(4), object(1)\n",
      "memory usage: 1.1+ KB\n"
     ]
    }
   ],
   "source": [
    "# DataFrame panda contenant les informations-clé de chaque data\n",
    "dataset_classif = pd.read_csv('data/CAIDA_AS_RELATIONSHIP/number_AS_p2p_c2p_over_time.txt')\n",
    "dataset_features['timestamp'] = dataset_features['timestamp'].map(str)\n",
    "\n",
    "dataset_features.info()"
   ]
  },
  {
   "cell_type": "markdown",
   "id": "3c038b08",
   "metadata": {},
   "source": [
    "- #### Nous allons afficher le changement de labélisation d'AS de CAIDA en fonction du temps"
   ]
  },
  {
   "cell_type": "code",
   "execution_count": 92,
   "id": "b0ab1f2d",
   "metadata": {},
   "outputs": [
    {
     "name": "stdout",
     "output_type": "stream",
     "text": [
      "20181101.as2types.txt\n",
      "20181201.as2types.txt\n",
      "20190101.as2types.txt\n",
      "20190201.as2types.txt\n",
      "20190301.as2types.txt\n",
      "20190401.as2types.txt\n",
      "20190501.as2types.txt\n",
      "20190601.as2types.txt\n",
      "20190701.as2types.txt\n",
      "20190801.as2types.txt\n",
      "20190901.as2types.txt\n",
      "20191201.as2types.txt\n",
      "20200101.as2types.txt\n",
      "20200201.as2types.txt\n",
      "20200301.as2types.txt\n",
      "20200401.as2types.txt\n",
      "20200401.as2types2.txt\n",
      "20200501.as2types.txt\n",
      "20200501.as2types2.txt\n",
      "20200601.as2types.txt\n",
      "20200701.as2types.txt\n",
      "20200801.as2types.txt\n",
      "20200901.as2types.txt\n",
      "20201001.as2types.txt\n",
      "20201101.as2types.txt\n",
      "20201201.as2types.txt\n",
      "20210101.as2types.txt\n",
      "20210201.as2types.txt\n",
      "20210301.as2types.txt\n",
      "20210401.as2types.txt\n",
      "as_04_05.txt\n",
      "as_05_04.txt\n",
      "LIST_AS_CLASSIFIED_20200101.txt\n",
      "LIST_AS_UNCLASSIFIED_20200101.txt\n",
      "\n"
     ]
    }
   ],
   "source": [
    "print(os.popen(\"cd data/CAIDA_AS_CLASSIFICATION && ls\").read())"
   ]
  },
  {
   "cell_type": "code",
   "execution_count": 96,
   "id": "cb95ae45",
   "metadata": {},
   "outputs": [],
   "source": [
    "PATH='data/CAIDA_AS_CLASSIFICATION/'\n",
    "FILE1='20200401.as2types.txt'\n",
    "FILE2=''"
   ]
  },
  {
   "cell_type": "markdown",
   "id": "90a90714",
   "metadata": {},
   "source": [
    "- La commande `comm -23 file1 file2` donne en output les AS de *file1* qui sont classifié **différemment** dans *file2*\n",
    "  On retrouve :\n",
    "  - Les AS de *file1* qui sont labélisés différemment dans *file2*\n",
    "  - Les AS de *file1* qui n'existent pas dans *file2* <br>(par exemple *file1* est plus récent au niveau du dataset, donc il a plus d'AS qui ne sont pas forcément présent dans *file2*)"
   ]
  },
  {
   "cell_type": "markdown",
   "id": "6c715c7a",
   "metadata": {},
   "source": [
    "- La commande `cat file1 file2 file1 | sort -h | uniq --unique` donne les lignes présentes dans *file1* mais pas dans *file2*\n",
    "    - Par exemple `cat dataset_i dataset_i+1 dataset_i | sort -h | uniq --unique` donne les AS présents dans le `dataset_i+1` mais pas dans le `dataset_i` ==> les nouveaux AS"
   ]
  },
  {
   "cell_type": "code",
   "execution_count": 29,
   "id": "dfd61ed0",
   "metadata": {},
   "outputs": [],
   "source": [
    "# ---------------------------------------------------------------------------------------#\n",
    "# Fonction qui crée le fichier des différences de classification entre 2 jeux de données #\n",
    "# dataset_i et dataset_i+1                                                               #\n",
    "# ---------------------------------------------------------------------------------------#\n",
    "\n",
    "# 2 types de différences : \n",
    "#     1. un AS dont label(AS)_i != label(AS)_i+1\n",
    "#     2. un AS qui n'est présent que dans le dataset i+1\n",
    "def create_file_diff(dataset_i, dataset_i_plus_1, namefile):\n",
    "    create_file = os.popen(\"comm -23 %s %s | sort -h  > data/as_04_05.txt\" %dataset_i %dataset_i_plus_1).read()\n"
   ]
  },
  {
   "cell_type": "code",
   "execution_count": 110,
   "id": "fc7371d3",
   "metadata": {},
   "outputs": [],
   "source": [
    "#-----------------------------------------------------#\n",
    "# Fonction qui renvoie la liste des ASN d'un dataset  #\n",
    "#-----------------------------------------------------#\n",
    "\n",
    "def list_ASN(dataset_i):\n",
    "    var = os.popen(\"cat %s | grep \\\"^[0-9][0-9]*\\\" | cut -d \\\"|\\\" -f 1\" % (dataset_i)).read()\n",
    "    return var.split(\"\\n\")"
   ]
  },
  {
   "cell_type": "code",
   "execution_count": 107,
   "id": "b21116e5",
   "metadata": {},
   "outputs": [],
   "source": [
    "#------------------------------------------------------------------------------------#\n",
    "# Fonction qui renvoie la liste des AS ajoutés/supprimés entre les datasets i et i+1 #\n",
    "#------------------------------------------------------------------------------------#\n",
    "\n",
    "def list_AS_disappeared(dataset_i, dataset_i_plus_1):\n",
    "    pathfile=str(dataset_i).split('.')[0] + \"_list_AS.txt\"\n",
    "    print(pathfile)\n",
    "    #var = os.popen(\"cat %s | grep \\\"^[0-9][0-9]*\\\" | cut -d \\\"|\\\" -f 1 > %s\" % (dataset_i, pathfile)).read()\n",
    "    var = os.popen(\"cat %s | grep \\\"^[0-9][0-9]*\\\" | cut -d \\\"|\\\" -f 1\" % (dataset_i)).read()\n",
    "    return var.split(\"\\n\")"
   ]
  },
  {
   "cell_type": "code",
   "execution_count": 117,
   "id": "e5614085",
   "metadata": {},
   "outputs": [
    {
     "name": "stdout",
     "output_type": "stream",
     "text": [
      "68290\n"
     ]
    }
   ],
   "source": [
    "liste_ASN = list_ASN(PATH + FILE1)\n",
    "print(len(liste_ASN))"
   ]
  },
  {
   "cell_type": "code",
   "execution_count": 118,
   "id": "6c992e9a",
   "metadata": {},
   "outputs": [
    {
     "name": "stdout",
     "output_type": "stream",
     "text": [
      "20181101.as2types.txt\n",
      "20181201.as2types.txt\n",
      "20190101.as2types.txt\n",
      "20190201.as2types.txt\n",
      "20190301.as2types.txt\n",
      "20190401.as2types.txt\n",
      "20190501.as2types.txt\n",
      "20190601.as2types.txt\n",
      "20190701.as2types.txt\n",
      "20190801.as2types.txt\n",
      "20190901.as2types.txt\n",
      "20191201.as2types.txt\n",
      "20200101.as2types.txt\n",
      "20200201.as2types.txt\n",
      "20200301.as2types.txt\n",
      "20200401.as2types.txt\n",
      "20200401.as2types2.txt\n",
      "20200401_list_AS.txt\n",
      "20200501.as2types.txt\n",
      "20200501.as2types2.txt\n",
      "20200601.as2types.txt\n",
      "20200701.as2types.txt\n",
      "20200801.as2types.txt\n",
      "20200901.as2types.txt\n",
      "20201001.as2types.txt\n",
      "20201101.as2types.txt\n",
      "20201201.as2types.txt\n",
      "20210101.as2types.txt\n",
      "20210201.as2types.txt\n",
      "20210301.as2types.txt\n",
      "20210401.as2types.txt\n",
      "as_04_05.txt\n",
      "as_05_04.txt\n",
      "LIST_AS_CLASSIFIED_20200101.txt\n",
      "LIST_AS_UNCLASSIFIED_20200101.txt\n",
      "\n"
     ]
    }
   ],
   "source": [
    "print(os.popen(\"cd data/CAIDA_AS_CLASSIFICATION/ && ls\").read())"
   ]
  },
  {
   "cell_type": "code",
   "execution_count": null,
   "id": "334ab64a",
   "metadata": {},
   "outputs": [],
   "source": []
  }
 ],
 "metadata": {
  "kernelspec": {
   "display_name": "Python 3 (ipykernel)",
   "language": "python",
   "name": "python3"
  },
  "language_info": {
   "codemirror_mode": {
    "name": "ipython",
    "version": 3
   },
   "file_extension": ".py",
   "mimetype": "text/x-python",
   "name": "python",
   "nbconvert_exporter": "python",
   "pygments_lexer": "ipython3",
   "version": "3.9.5"
  }
 },
 "nbformat": 4,
 "nbformat_minor": 5
}
