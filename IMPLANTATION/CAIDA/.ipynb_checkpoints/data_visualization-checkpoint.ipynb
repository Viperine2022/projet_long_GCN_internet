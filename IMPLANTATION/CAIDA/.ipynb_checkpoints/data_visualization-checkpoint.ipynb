{
 "cells": [
  {
   "cell_type": "markdown",
   "id": "fcc57035",
   "metadata": {},
   "source": [
    "## Visualisation des datasets CAIDA\n",
    "\n",
    "Ce notebook se propose de visualiser les datasets de CAIDA, pour estimer la pertinence de ces jeux de données."
   ]
  },
  {
   "cell_type": "code",
   "execution_count": 13,
   "id": "caa6f359",
   "metadata": {},
   "outputs": [],
   "source": [
    "# Importations diverses\n",
    "import pandas as pd\n",
    "import os\n",
    "import numpy as np\n",
    "import bz2\n",
    "import pickle \n",
    "\n",
    "# To plot pretty figures\n",
    "%matplotlib inline\n",
    "import matplotlib as mpl\n",
    "import matplotlib.pyplot as plt"
   ]
  },
  {
   "cell_type": "code",
   "execution_count": 2,
   "id": "ac371d2e",
   "metadata": {},
   "outputs": [
    {
     "name": "stdout",
     "output_type": "stream",
     "text": [
      "data\n",
      "data_visualization.ipynb\n",
      "\n"
     ]
    }
   ],
   "source": [
    "print(os.popen(\"ls\").read())"
   ]
  },
  {
   "cell_type": "markdown",
   "id": "d4b07433",
   "metadata": {},
   "source": [
    "### 1° Pertinence des as-relationships\n",
    "données accessibles sur : https://publicdata.caida.org/datasets/as-relationships/serial-2/\n",
    "\n",
    "Le DataFrame `dataset_features` contient les *informations-clé* des datasets, c-à-d :\n",
    "- Un timestamp (*YYYYMMDD*) : **date**\n",
    "- Le nombre d'AS du dataset : **number_AS**\n",
    "- Le nombre de Peering links : **number_p2p_links**\n",
    "- Le nombre de provider-customer links : **number_p2c_links**"
   ]
  },
  {
   "cell_type": "code",
   "execution_count": 4,
   "id": "132ad09b",
   "metadata": {},
   "outputs": [
    {
     "data": {
      "text/html": [
       "<div>\n",
       "<style scoped>\n",
       "    .dataframe tbody tr th:only-of-type {\n",
       "        vertical-align: middle;\n",
       "    }\n",
       "\n",
       "    .dataframe tbody tr th {\n",
       "        vertical-align: top;\n",
       "    }\n",
       "\n",
       "    .dataframe thead th {\n",
       "        text-align: right;\n",
       "    }\n",
       "</style>\n",
       "<table border=\"1\" class=\"dataframe\">\n",
       "  <thead>\n",
       "    <tr style=\"text-align: right;\">\n",
       "      <th></th>\n",
       "      <th>date</th>\n",
       "      <th>number_AS</th>\n",
       "      <th>number_p2p_links</th>\n",
       "      <th>number_p2c_links</th>\n",
       "    </tr>\n",
       "  </thead>\n",
       "  <tbody>\n",
       "    <tr>\n",
       "      <th>0</th>\n",
       "      <td>20181101</td>\n",
       "      <td>62995</td>\n",
       "      <td>492469</td>\n",
       "      <td>123549</td>\n",
       "    </tr>\n",
       "    <tr>\n",
       "      <th>1</th>\n",
       "      <td>20181201</td>\n",
       "      <td>63365</td>\n",
       "      <td>461675</td>\n",
       "      <td>124793</td>\n",
       "    </tr>\n",
       "    <tr>\n",
       "      <th>2</th>\n",
       "      <td>20190101</td>\n",
       "      <td>63467</td>\n",
       "      <td>463959</td>\n",
       "      <td>124682</td>\n",
       "    </tr>\n",
       "    <tr>\n",
       "      <th>3</th>\n",
       "      <td>20190201</td>\n",
       "      <td>63864</td>\n",
       "      <td>471684</td>\n",
       "      <td>125977</td>\n",
       "    </tr>\n",
       "    <tr>\n",
       "      <th>4</th>\n",
       "      <td>20190301</td>\n",
       "      <td>64167</td>\n",
       "      <td>447820</td>\n",
       "      <td>126621</td>\n",
       "    </tr>\n",
       "  </tbody>\n",
       "</table>\n",
       "</div>"
      ],
      "text/plain": [
       "       date  number_AS  number_p2p_links  number_p2c_links\n",
       "0  20181101      62995            492469            123549\n",
       "1  20181201      63365            461675            124793\n",
       "2  20190101      63467            463959            124682\n",
       "3  20190201      63864            471684            125977\n",
       "4  20190301      64167            447820            126621"
      ]
     },
     "execution_count": 4,
     "metadata": {},
     "output_type": "execute_result"
    }
   ],
   "source": [
    "# DataFrame panda contenant les informations-clé de chaque data\n",
    "dataset_features = pd.read_csv('data/CAIDA_AS_RELATIONSHIP/number_AS_p2p_c2p_over_time.txt')\n",
    "\n",
    "dataset_features.head()"
   ]
  },
  {
   "cell_type": "code",
   "execution_count": 10,
   "id": "d019ba4a",
   "metadata": {},
   "outputs": [
    {
     "data": {
      "text/plain": [
       "array([[<AxesSubplot:title={'center':'date'}>,\n",
       "        <AxesSubplot:title={'center':'number_AS'}>],\n",
       "       [<AxesSubplot:title={'center':'number_p2p_links'}>,\n",
       "        <AxesSubplot:title={'center':'number_p2c_links'}>]], dtype=object)"
      ]
     },
     "execution_count": 10,
     "metadata": {},
     "output_type": "execute_result"
    },
    {
     "data": {
      "image/png": "[encoded data removed]",
      "text/plain": [
       "<Figure size 1440x1080 with 4 Axes>"
      ]
     },
     "metadata": {
      "needs_background": "light"
     },
     "output_type": "display_data"
    }
   ],
   "source": [
    "dataset_features.hist(bins=10, figsize=(20,15))"
   ]
  },
  {
   "cell_type": "code",
   "execution_count": 18,
   "id": "ad945063",
   "metadata": {},
   "outputs": [
    {
     "name": "stdout",
     "output_type": "stream",
     "text": [
      "20181101\n",
      "20181201\n",
      "20190101\n",
      "20190201\n",
      "20190301\n",
      "20190401\n",
      "20190501\n",
      "20190601\n",
      "20190701\n",
      "20190801\n",
      "20190901\n",
      "20191201\n",
      "20200101\n",
      "20200401\n",
      "20200501\n",
      "20200601\n",
      "20200701\n",
      "20200801\n",
      "20200901\n",
      "20201001\n",
      "20201101\n",
      "20201201\n",
      "20210101\n",
      "20210201\n",
      "20210301\n",
      "20210401\n"
     ]
    }
   ],
   "source": [
    "# Ajout d'une colonne date 'normalisée' \n",
    "# En transformant le YYYYMMDD\n",
    "\n",
    "list(dataset_features['date'])\n",
    "\n",
    "for line in list(dataset_features['date']):\n",
    "    print(line)"
   ]
  },
  {
   "cell_type": "markdown",
   "id": "dbacf850",
   "metadata": {},
   "source": [
    "### 2° Pertinence des as-classification\n",
    "données accessibles sur : https://publicdata.caida.org/datasets/as-classification_restricted/"
   ]
  },
  {
   "cell_type": "code",
   "execution_count": null,
   "id": "369b5151",
   "metadata": {},
   "outputs": [],
   "source": []
  }
 ],
 "metadata": {
  "kernelspec": {
   "display_name": "Python 3 (ipykernel)",
   "language": "python",
   "name": "python3"
  },
  "language_info": {
   "codemirror_mode": {
    "name": "ipython",
    "version": 3
   },
   "file_extension": ".py",
   "mimetype": "text/x-python",
   "name": "python",
   "nbconvert_exporter": "python",
   "pygments_lexer": "ipython3",
   "version": "3.9.5"
  }
 },
 "nbformat": 4,
 "nbformat_minor": 5
}
