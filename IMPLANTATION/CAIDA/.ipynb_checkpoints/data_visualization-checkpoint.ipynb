{
 "cells": [
  {
   "cell_type": "markdown",
   "id": "fcc57035",
   "metadata": {},
   "source": [
    "## Visualisation des datasets CAIDA\n",
    "\n",
    "Ce notebook se propose de visualiser les datasets de CAIDA, pour estimer la pertinence de ces jeux de données."
   ]
  },
  {
   "cell_type": "code",
   "execution_count": 61,
   "id": "caa6f359",
   "metadata": {},
   "outputs": [],
   "source": [
    "# Importations diverses\n",
    "import pandas as pd\n",
    "import os\n",
    "import numpy as np\n",
    "import bz2\n",
    "import pickle \n",
    "\n",
    "# To plot pretty figures\n",
    "%matplotlib inline\n",
    "import matplotlib as mpl\n",
    "import matplotlib.pyplot as plt"
   ]
  },
  {
   "cell_type": "code",
   "execution_count": 62,
   "id": "ac371d2e",
   "metadata": {},
   "outputs": [
    {
     "name": "stdout",
     "output_type": "stream",
     "text": [
      "data\n",
      "data_visualization.ipynb\n",
      "\n"
     ]
    }
   ],
   "source": [
    "print(os.popen(\"ls\").read())"
   ]
  },
  {
   "cell_type": "markdown",
   "id": "d4b07433",
   "metadata": {},
   "source": [
    "### 1° Pertinence des as-relationships\n",
    "données accessibles sur : https://publicdata.caida.org/datasets/as-relationships/serial-2/\n",
    "\n",
    "Le DataFrame `dataset_features` contient les *informations-clé* des datasets, c-à-d :\n",
    "- Un timestamp (*YYYYMMDD*) : **date**\n",
    "- Le nombre d'AS du dataset : **number_AS**\n",
    "- Le nombre de Peering links : **number_p2p_links**\n",
    "- Le nombre de provider-customer links : **number_p2c_links**"
   ]
  },
  {
   "cell_type": "code",
   "execution_count": 63,
   "id": "132ad09b",
   "metadata": {},
   "outputs": [
    {
     "name": "stdout",
     "output_type": "stream",
     "text": [
      "<class 'pandas.core.frame.DataFrame'>\n",
      "RangeIndex: 26 entries, 0 to 25\n",
      "Data columns (total 4 columns):\n",
      " #   Column            Non-Null Count  Dtype \n",
      "---  ------            --------------  ----- \n",
      " 0   timestamp         26 non-null     object\n",
      " 1   number_AS         26 non-null     int64 \n",
      " 2   number_p2p_links  26 non-null     int64 \n",
      " 3   number_p2c_links  26 non-null     int64 \n",
      "dtypes: int64(3), object(1)\n",
      "memory usage: 960.0+ bytes\n"
     ]
    }
   ],
   "source": [
    "# DataFrame panda contenant les informations-clé de chaque data\n",
    "dataset_features = pd.read_csv('data/CAIDA_AS_RELATIONSHIP/number_AS_p2p_c2p_over_time.txt')\n",
    "dataset_features['timestamp'] = dataset_features['timestamp'].map(str)\n",
    "\n",
    "dataset_features.info()"
   ]
  },
  {
   "cell_type": "code",
   "execution_count": 64,
   "id": "d9d4e5c1",
   "metadata": {},
   "outputs": [
    {
     "data": {
      "text/html": [
       "<div>\n",
       "<style scoped>\n",
       "    .dataframe tbody tr th:only-of-type {\n",
       "        vertical-align: middle;\n",
       "    }\n",
       "\n",
       "    .dataframe tbody tr th {\n",
       "        vertical-align: top;\n",
       "    }\n",
       "\n",
       "    .dataframe thead th {\n",
       "        text-align: right;\n",
       "    }\n",
       "</style>\n",
       "<table border=\"1\" class=\"dataframe\">\n",
       "  <thead>\n",
       "    <tr style=\"text-align: right;\">\n",
       "      <th></th>\n",
       "      <th>timestamp</th>\n",
       "      <th>number_AS</th>\n",
       "      <th>number_p2p_links</th>\n",
       "      <th>number_p2c_links</th>\n",
       "    </tr>\n",
       "  </thead>\n",
       "  <tbody>\n",
       "    <tr>\n",
       "      <th>0</th>\n",
       "      <td>20181101</td>\n",
       "      <td>62995</td>\n",
       "      <td>492469</td>\n",
       "      <td>123549</td>\n",
       "    </tr>\n",
       "    <tr>\n",
       "      <th>1</th>\n",
       "      <td>20181201</td>\n",
       "      <td>63365</td>\n",
       "      <td>461675</td>\n",
       "      <td>124793</td>\n",
       "    </tr>\n",
       "    <tr>\n",
       "      <th>2</th>\n",
       "      <td>20190101</td>\n",
       "      <td>63467</td>\n",
       "      <td>463959</td>\n",
       "      <td>124682</td>\n",
       "    </tr>\n",
       "    <tr>\n",
       "      <th>3</th>\n",
       "      <td>20190201</td>\n",
       "      <td>63864</td>\n",
       "      <td>471684</td>\n",
       "      <td>125977</td>\n",
       "    </tr>\n",
       "    <tr>\n",
       "      <th>4</th>\n",
       "      <td>20190301</td>\n",
       "      <td>64167</td>\n",
       "      <td>447820</td>\n",
       "      <td>126621</td>\n",
       "    </tr>\n",
       "  </tbody>\n",
       "</table>\n",
       "</div>"
      ],
      "text/plain": [
       "  timestamp  number_AS  number_p2p_links  number_p2c_links\n",
       "0  20181101      62995            492469            123549\n",
       "1  20181201      63365            461675            124793\n",
       "2  20190101      63467            463959            124682\n",
       "3  20190201      63864            471684            125977\n",
       "4  20190301      64167            447820            126621"
      ]
     },
     "execution_count": 64,
     "metadata": {},
     "output_type": "execute_result"
    }
   ],
   "source": [
    "dataset_features.head()"
   ]
  },
  {
   "cell_type": "code",
   "execution_count": 65,
   "id": "d019ba4a",
   "metadata": {},
   "outputs": [
    {
     "data": {
      "text/plain": [
       "array([[<AxesSubplot:title={'center':'number_AS'}>,\n",
       "        <AxesSubplot:title={'center':'number_p2p_links'}>],\n",
       "       [<AxesSubplot:title={'center':'number_p2c_links'}>,\n",
       "        <AxesSubplot:>]], dtype=object)"
      ]
     },
     "execution_count": 65,
     "metadata": {},
     "output_type": "execute_result"
    },
    {
     "data": {
      "image/png": "[encoded data removed]",
      "text/plain": [
       "<Figure size 1440x1080 with 4 Axes>"
      ]
     },
     "metadata": {
      "needs_background": "light"
     },
     "output_type": "display_data"
    }
   ],
   "source": [
    "dataset_features.hist(bins=10, figsize=(20,15))"
   ]
  },
  {
   "cell_type": "code",
   "execution_count": 67,
   "id": "ad945063",
   "metadata": {},
   "outputs": [
    {
     "name": "stdout",
     "output_type": "stream",
     "text": [
      "First month : 11\n",
      "First year : 2018\n"
     ]
    },
    {
     "data": {
      "text/html": [
       "<div>\n",
       "<style scoped>\n",
       "    .dataframe tbody tr th:only-of-type {\n",
       "        vertical-align: middle;\n",
       "    }\n",
       "\n",
       "    .dataframe tbody tr th {\n",
       "        vertical-align: top;\n",
       "    }\n",
       "\n",
       "    .dataframe thead th {\n",
       "        text-align: right;\n",
       "    }\n",
       "</style>\n",
       "<table border=\"1\" class=\"dataframe\">\n",
       "  <thead>\n",
       "    <tr style=\"text-align: right;\">\n",
       "      <th></th>\n",
       "      <th>timestamp</th>\n",
       "      <th>number_AS</th>\n",
       "      <th>number_p2p_links</th>\n",
       "      <th>number_p2c_links</th>\n",
       "      <th>scaled_date</th>\n",
       "    </tr>\n",
       "  </thead>\n",
       "  <tbody>\n",
       "    <tr>\n",
       "      <th>0</th>\n",
       "      <td>20181101</td>\n",
       "      <td>62995</td>\n",
       "      <td>492469</td>\n",
       "      <td>123549</td>\n",
       "      <td>0</td>\n",
       "    </tr>\n",
       "    <tr>\n",
       "      <th>1</th>\n",
       "      <td>20181201</td>\n",
       "      <td>63365</td>\n",
       "      <td>461675</td>\n",
       "      <td>124793</td>\n",
       "      <td>1</td>\n",
       "    </tr>\n",
       "  </tbody>\n",
       "</table>\n",
       "</div>"
      ],
      "text/plain": [
       "  timestamp  number_AS  number_p2p_links  number_p2c_links  scaled_date\n",
       "0  20181101      62995            492469            123549            0\n",
       "1  20181201      63365            461675            124793            1"
      ]
     },
     "execution_count": 67,
     "metadata": {},
     "output_type": "execute_result"
    }
   ],
   "source": [
    "# Ajout d'une colonne date 'normalisée', en transformant le YYYYMMDD\n",
    "first_year = dataset_features['timestamp'][0][0:4]\n",
    "first_month = dataset_features['timestamp'][0][4:6]\n",
    "\n",
    "list_years = list(dataset_features['timestamp'].map(lambda string: string[0:4]))\n",
    "#print(\"First month : \" + first_month)\n",
    "#print(\"First year : \" + first_year)\n",
    "\n",
    "###################################################################################\n",
    "# Fonction qui définit la date de chaque dataset en f° de la date du 1er dataset\n",
    "# (year - year_initial) * 12 + (month - month_initial)\n",
    "###################################################################################\n",
    "def date_abscisses(date):\n",
    "    return (int(date[0:4]) - int(first_year))* 12 + int(date[4:6]) - int(first_month)\n",
    "\n",
    "# Création de la liste des dates mise à l'échelle sous forme d'un entier\n",
    "iterator = map(date_abscisses, list(dataset_features['timestamp']))\n",
    "\n",
    "dataset_features['scaled_date'] = list(iterator)\n",
    "dataset_features.head(2)"
   ]
  },
  {
   "cell_type": "code",
   "execution_count": 69,
   "id": "14c4731c",
   "metadata": {},
   "outputs": [],
   "source": [
    "# Création d'une liste d'années pour un meilleur plot du numbre d'AS\n",
    "\n",
    "years_to_plot = [\"\" for i in range(len(list_years))]\n",
    "pattern_year = \"\"\n",
    "for j in range (len(list_years)):\n",
    "    if (list_years[j] != pattern_year):\n",
    "        years_to_plot[j] = list_years[j]\n",
    "        pattern_year = list_years[j]\n",
    "\n",
    "#print(\"years to plot : \" + str(years_to_plot))\n",
    "\n",
    "assert (len(list_years) == len(years_to_plot))"
   ]
  },
  {
   "cell_type": "code",
   "execution_count": 88,
   "id": "694ab0f4",
   "metadata": {},
   "outputs": [
    {
     "data": {
      "text/plain": [
       "Text(0.5, 1.0, 'Number of CAIDA AS over time')"
      ]
     },
     "execution_count": 88,
     "metadata": {},
     "output_type": "execute_result"
    },
    {
     "data": {
      "image/png": "[encoded data removed]",
      "text/plain": [
       "<Figure size 432x288 with 1 Axes>"
      ]
     },
     "metadata": {
      "needs_background": "light"
     },
     "output_type": "display_data"
    }
   ],
   "source": [
    "# Plot via matplotlib\n",
    "\n",
    "plt.xticks(dataset_features['scaled_date'], list_years_best)\n",
    "plt.plot(dataset_features['scaled_date'], dataset_features['number_AS'], '-o')\n",
    "plt.grid(True)\n",
    "plt.xlabel('year')\n",
    "plt.ylabel('number of AS')\n",
    "plt.title('Number of CAIDA AS over time')"
   ]
  },
  {
   "cell_type": "code",
   "execution_count": 91,
   "id": "7a9da5e7",
   "metadata": {},
   "outputs": [
    {
     "ename": "ConversionError",
     "evalue": "Failed to convert value(s) to axis units: ['2018', '', '2019', '', '', '', '', '', '', '', '', '', '2020', '', '', '', '', '', '', '', '', '', '2021', '', '', '']",
     "output_type": "error",
     "traceback": [
      "\u001b[1;31m---------------------------------------------------------------------------\u001b[0m",
      "\u001b[1;31mValueError\u001b[0m                                Traceback (most recent call last)",
      "File \u001b[1;32mC:\\Python39\\lib\\site-packages\\matplotlib\\axis.py:1506\u001b[0m, in \u001b[0;36mAxis.convert_units\u001b[1;34m(self, x)\u001b[0m\n\u001b[0;32m   1505\u001b[0m \u001b[38;5;28;01mtry\u001b[39;00m:\n\u001b[1;32m-> 1506\u001b[0m     ret \u001b[38;5;241m=\u001b[39m \u001b[38;5;28;43mself\u001b[39;49m\u001b[38;5;241;43m.\u001b[39;49m\u001b[43mconverter\u001b[49m\u001b[38;5;241;43m.\u001b[39;49m\u001b[43mconvert\u001b[49m\u001b[43m(\u001b[49m\u001b[43mx\u001b[49m\u001b[43m,\u001b[49m\u001b[43m \u001b[49m\u001b[38;5;28;43mself\u001b[39;49m\u001b[38;5;241;43m.\u001b[39;49m\u001b[43munits\u001b[49m\u001b[43m,\u001b[49m\u001b[43m \u001b[49m\u001b[38;5;28;43mself\u001b[39;49m\u001b[43m)\u001b[49m\n\u001b[0;32m   1507\u001b[0m \u001b[38;5;28;01mexcept\u001b[39;00m \u001b[38;5;167;01mException\u001b[39;00m \u001b[38;5;28;01mas\u001b[39;00m e:\n",
      "File \u001b[1;32mC:\\Python39\\lib\\site-packages\\matplotlib\\category.py:49\u001b[0m, in \u001b[0;36mStrCategoryConverter.convert\u001b[1;34m(value, unit, axis)\u001b[0m\n\u001b[0;32m     48\u001b[0m \u001b[38;5;28;01mif\u001b[39;00m unit \u001b[38;5;129;01mis\u001b[39;00m \u001b[38;5;28;01mNone\u001b[39;00m:\n\u001b[1;32m---> 49\u001b[0m     \u001b[38;5;28;01mraise\u001b[39;00m \u001b[38;5;167;01mValueError\u001b[39;00m(\n\u001b[0;32m     50\u001b[0m         \u001b[38;5;124m'\u001b[39m\u001b[38;5;124mMissing category information for StrCategoryConverter; \u001b[39m\u001b[38;5;124m'\u001b[39m\n\u001b[0;32m     51\u001b[0m         \u001b[38;5;124m'\u001b[39m\u001b[38;5;124mthis might be caused by unintendedly mixing categorical and \u001b[39m\u001b[38;5;124m'\u001b[39m\n\u001b[0;32m     52\u001b[0m         \u001b[38;5;124m'\u001b[39m\u001b[38;5;124mnumeric data\u001b[39m\u001b[38;5;124m'\u001b[39m)\n\u001b[0;32m     53\u001b[0m StrCategoryConverter\u001b[38;5;241m.\u001b[39m_validate_unit(unit)\n",
      "\u001b[1;31mValueError\u001b[0m: Missing category information for StrCategoryConverter; this might be caused by unintendedly mixing categorical and numeric data",
      "\nThe above exception was the direct cause of the following exception:\n",
      "\u001b[1;31mConversionError\u001b[0m                           Traceback (most recent call last)",
      "Input \u001b[1;32mIn [91]\u001b[0m, in \u001b[0;36m<module>\u001b[1;34m\u001b[0m\n\u001b[1;32m----> 1\u001b[0m \u001b[43mdataset_features\u001b[49m\u001b[38;5;241;43m.\u001b[39;49m\u001b[43mplot\u001b[49m\u001b[43m(\u001b[49m\u001b[43mx\u001b[49m\u001b[38;5;241;43m=\u001b[39;49m\u001b[38;5;124;43m'\u001b[39;49m\u001b[38;5;124;43mscaled_date\u001b[39;49m\u001b[38;5;124;43m'\u001b[39;49m\u001b[43m,\u001b[49m\u001b[43m \u001b[49m\u001b[43my\u001b[49m\u001b[38;5;241;43m=\u001b[39;49m\u001b[38;5;124;43m'\u001b[39;49m\u001b[38;5;124;43mnumber_AS\u001b[39;49m\u001b[38;5;124;43m'\u001b[39;49m\u001b[43m,\u001b[49m\u001b[43m \u001b[49m\u001b[43mxticks\u001b[49m\u001b[38;5;241;43m=\u001b[39;49m\u001b[38;5;28;43mlist\u001b[39;49m\u001b[43m(\u001b[49m\u001b[43mlist_years_best\u001b[49m\u001b[43m)\u001b[49m\u001b[43m)\u001b[49m\n",
      "File \u001b[1;32mC:\\Python39\\lib\\site-packages\\pandas\\plotting\\_core.py:972\u001b[0m, in \u001b[0;36mPlotAccessor.__call__\u001b[1;34m(self, *args, **kwargs)\u001b[0m\n\u001b[0;32m    969\u001b[0m             label_name \u001b[38;5;241m=\u001b[39m label_kw \u001b[38;5;129;01mor\u001b[39;00m data\u001b[38;5;241m.\u001b[39mcolumns\n\u001b[0;32m    970\u001b[0m             data\u001b[38;5;241m.\u001b[39mcolumns \u001b[38;5;241m=\u001b[39m label_name\n\u001b[1;32m--> 972\u001b[0m \u001b[38;5;28;01mreturn\u001b[39;00m plot_backend\u001b[38;5;241m.\u001b[39mplot(data, kind\u001b[38;5;241m=\u001b[39mkind, \u001b[38;5;241m*\u001b[39m\u001b[38;5;241m*\u001b[39mkwargs)\n",
      "File \u001b[1;32mC:\\Python39\\lib\\site-packages\\pandas\\plotting\\_matplotlib\\__init__.py:71\u001b[0m, in \u001b[0;36mplot\u001b[1;34m(data, kind, **kwargs)\u001b[0m\n\u001b[0;32m     69\u001b[0m         kwargs[\u001b[38;5;124m\"\u001b[39m\u001b[38;5;124max\u001b[39m\u001b[38;5;124m\"\u001b[39m] \u001b[38;5;241m=\u001b[39m \u001b[38;5;28mgetattr\u001b[39m(ax, \u001b[38;5;124m\"\u001b[39m\u001b[38;5;124mleft_ax\u001b[39m\u001b[38;5;124m\"\u001b[39m, ax)\n\u001b[0;32m     70\u001b[0m plot_obj \u001b[38;5;241m=\u001b[39m PLOT_CLASSES[kind](data, \u001b[38;5;241m*\u001b[39m\u001b[38;5;241m*\u001b[39mkwargs)\n\u001b[1;32m---> 71\u001b[0m \u001b[43mplot_obj\u001b[49m\u001b[38;5;241;43m.\u001b[39;49m\u001b[43mgenerate\u001b[49m\u001b[43m(\u001b[49m\u001b[43m)\u001b[49m\n\u001b[0;32m     72\u001b[0m plot_obj\u001b[38;5;241m.\u001b[39mdraw()\n\u001b[0;32m     73\u001b[0m \u001b[38;5;28;01mreturn\u001b[39;00m plot_obj\u001b[38;5;241m.\u001b[39mresult\n",
      "File \u001b[1;32mC:\\Python39\\lib\\site-packages\\pandas\\plotting\\_matplotlib\\core.py:332\u001b[0m, in \u001b[0;36mMPLPlot.generate\u001b[1;34m(self)\u001b[0m\n\u001b[0;32m    330\u001b[0m \u001b[38;5;28mself\u001b[39m\u001b[38;5;241m.\u001b[39m_add_table()\n\u001b[0;32m    331\u001b[0m \u001b[38;5;28mself\u001b[39m\u001b[38;5;241m.\u001b[39m_make_legend()\n\u001b[1;32m--> 332\u001b[0m \u001b[38;5;28;43mself\u001b[39;49m\u001b[38;5;241;43m.\u001b[39;49m\u001b[43m_adorn_subplots\u001b[49m\u001b[43m(\u001b[49m\u001b[43m)\u001b[49m\n\u001b[0;32m    334\u001b[0m \u001b[38;5;28;01mfor\u001b[39;00m ax \u001b[38;5;129;01min\u001b[39;00m \u001b[38;5;28mself\u001b[39m\u001b[38;5;241m.\u001b[39maxes:\n\u001b[0;32m    335\u001b[0m     \u001b[38;5;28mself\u001b[39m\u001b[38;5;241m.\u001b[39m_post_plot_logic_common(ax, \u001b[38;5;28mself\u001b[39m\u001b[38;5;241m.\u001b[39mdata)\n",
      "File \u001b[1;32mC:\\Python39\\lib\\site-packages\\pandas\\plotting\\_matplotlib\\core.py:565\u001b[0m, in \u001b[0;36mMPLPlot._adorn_subplots\u001b[1;34m(self)\u001b[0m\n\u001b[0;32m    562\u001b[0m     ax\u001b[38;5;241m.\u001b[39mset_yticks(\u001b[38;5;28mself\u001b[39m\u001b[38;5;241m.\u001b[39myticks)\n\u001b[0;32m    564\u001b[0m \u001b[38;5;28;01mif\u001b[39;00m \u001b[38;5;28mself\u001b[39m\u001b[38;5;241m.\u001b[39mxticks \u001b[38;5;129;01mis\u001b[39;00m \u001b[38;5;129;01mnot\u001b[39;00m \u001b[38;5;28;01mNone\u001b[39;00m:\n\u001b[1;32m--> 565\u001b[0m     \u001b[43max\u001b[49m\u001b[38;5;241;43m.\u001b[39;49m\u001b[43mset_xticks\u001b[49m\u001b[43m(\u001b[49m\u001b[38;5;28;43mself\u001b[39;49m\u001b[38;5;241;43m.\u001b[39;49m\u001b[43mxticks\u001b[49m\u001b[43m)\u001b[49m\n\u001b[0;32m    567\u001b[0m \u001b[38;5;28;01mif\u001b[39;00m \u001b[38;5;28mself\u001b[39m\u001b[38;5;241m.\u001b[39mylim \u001b[38;5;129;01mis\u001b[39;00m \u001b[38;5;129;01mnot\u001b[39;00m \u001b[38;5;28;01mNone\u001b[39;00m:\n\u001b[0;32m    568\u001b[0m     ax\u001b[38;5;241m.\u001b[39mset_ylim(\u001b[38;5;28mself\u001b[39m\u001b[38;5;241m.\u001b[39mylim)\n",
      "File \u001b[1;32mC:\\Python39\\lib\\site-packages\\matplotlib\\axes\\_base.py:75\u001b[0m, in \u001b[0;36m_axis_method_wrapper.__set_name__.<locals>.wrapper\u001b[1;34m(self, *args, **kwargs)\u001b[0m\n\u001b[0;32m     74\u001b[0m \u001b[38;5;28;01mdef\u001b[39;00m \u001b[38;5;21mwrapper\u001b[39m(\u001b[38;5;28mself\u001b[39m, \u001b[38;5;241m*\u001b[39margs, \u001b[38;5;241m*\u001b[39m\u001b[38;5;241m*\u001b[39mkwargs):\n\u001b[1;32m---> 75\u001b[0m     \u001b[38;5;28;01mreturn\u001b[39;00m get_method(\u001b[38;5;28mself\u001b[39m)(\u001b[38;5;241m*\u001b[39margs, \u001b[38;5;241m*\u001b[39m\u001b[38;5;241m*\u001b[39mkwargs)\n",
      "File \u001b[1;32mC:\\Python39\\lib\\site-packages\\matplotlib\\axis.py:1855\u001b[0m, in \u001b[0;36mAxis.set_ticks\u001b[1;34m(self, ticks, labels, minor, **kwargs)\u001b[0m\n\u001b[0;32m   1829\u001b[0m \u001b[38;5;28;01mdef\u001b[39;00m \u001b[38;5;21mset_ticks\u001b[39m(\u001b[38;5;28mself\u001b[39m, ticks, labels\u001b[38;5;241m=\u001b[39m\u001b[38;5;28;01mNone\u001b[39;00m, \u001b[38;5;241m*\u001b[39m, minor\u001b[38;5;241m=\u001b[39m\u001b[38;5;28;01mFalse\u001b[39;00m, \u001b[38;5;241m*\u001b[39m\u001b[38;5;241m*\u001b[39mkwargs):\n\u001b[0;32m   1830\u001b[0m     \u001b[38;5;124;03m\"\"\"\u001b[39;00m\n\u001b[0;32m   1831\u001b[0m \u001b[38;5;124;03m    Set this Axis' tick locations and optionally labels.\u001b[39;00m\n\u001b[0;32m   1832\u001b[0m \n\u001b[1;32m   (...)\u001b[0m\n\u001b[0;32m   1853\u001b[0m \u001b[38;5;124;03m    ticks.\u001b[39;00m\n\u001b[0;32m   1854\u001b[0m \u001b[38;5;124;03m    \"\"\"\u001b[39;00m\n\u001b[1;32m-> 1855\u001b[0m     result \u001b[38;5;241m=\u001b[39m \u001b[38;5;28;43mself\u001b[39;49m\u001b[38;5;241;43m.\u001b[39;49m\u001b[43m_set_tick_locations\u001b[49m\u001b[43m(\u001b[49m\u001b[43mticks\u001b[49m\u001b[43m,\u001b[49m\u001b[43m \u001b[49m\u001b[43mminor\u001b[49m\u001b[38;5;241;43m=\u001b[39;49m\u001b[43mminor\u001b[49m\u001b[43m)\u001b[49m\n\u001b[0;32m   1856\u001b[0m     \u001b[38;5;28;01mif\u001b[39;00m labels \u001b[38;5;129;01mis\u001b[39;00m \u001b[38;5;129;01mnot\u001b[39;00m \u001b[38;5;28;01mNone\u001b[39;00m:\n\u001b[0;32m   1857\u001b[0m         \u001b[38;5;28mself\u001b[39m\u001b[38;5;241m.\u001b[39mset_ticklabels(labels, minor\u001b[38;5;241m=\u001b[39mminor, \u001b[38;5;241m*\u001b[39m\u001b[38;5;241m*\u001b[39mkwargs)\n",
      "File \u001b[1;32mC:\\Python39\\lib\\site-packages\\matplotlib\\axis.py:1804\u001b[0m, in \u001b[0;36mAxis._set_tick_locations\u001b[1;34m(self, ticks, minor)\u001b[0m\n\u001b[0;32m   1800\u001b[0m \u001b[38;5;28;01mdef\u001b[39;00m \u001b[38;5;21m_set_tick_locations\u001b[39m(\u001b[38;5;28mself\u001b[39m, ticks, \u001b[38;5;241m*\u001b[39m, minor\u001b[38;5;241m=\u001b[39m\u001b[38;5;28;01mFalse\u001b[39;00m):\n\u001b[0;32m   1801\u001b[0m     \u001b[38;5;66;03m# see docstring of set_ticks\u001b[39;00m\n\u001b[0;32m   1802\u001b[0m \n\u001b[0;32m   1803\u001b[0m     \u001b[38;5;66;03m# XXX if the user changes units, the information will be lost here\u001b[39;00m\n\u001b[1;32m-> 1804\u001b[0m     ticks \u001b[38;5;241m=\u001b[39m \u001b[38;5;28;43mself\u001b[39;49m\u001b[38;5;241;43m.\u001b[39;49m\u001b[43mconvert_units\u001b[49m\u001b[43m(\u001b[49m\u001b[43mticks\u001b[49m\u001b[43m)\u001b[49m\n\u001b[0;32m   1805\u001b[0m     \u001b[38;5;28;01mfor\u001b[39;00m name, axis \u001b[38;5;129;01min\u001b[39;00m \u001b[38;5;28mself\u001b[39m\u001b[38;5;241m.\u001b[39maxes\u001b[38;5;241m.\u001b[39m_get_axis_map()\u001b[38;5;241m.\u001b[39mitems():\n\u001b[0;32m   1806\u001b[0m         \u001b[38;5;28;01mif\u001b[39;00m \u001b[38;5;28mself\u001b[39m \u001b[38;5;129;01mis\u001b[39;00m axis:\n",
      "File \u001b[1;32mC:\\Python39\\lib\\site-packages\\matplotlib\\axis.py:1508\u001b[0m, in \u001b[0;36mAxis.convert_units\u001b[1;34m(self, x)\u001b[0m\n\u001b[0;32m   1506\u001b[0m     ret \u001b[38;5;241m=\u001b[39m \u001b[38;5;28mself\u001b[39m\u001b[38;5;241m.\u001b[39mconverter\u001b[38;5;241m.\u001b[39mconvert(x, \u001b[38;5;28mself\u001b[39m\u001b[38;5;241m.\u001b[39munits, \u001b[38;5;28mself\u001b[39m)\n\u001b[0;32m   1507\u001b[0m \u001b[38;5;28;01mexcept\u001b[39;00m \u001b[38;5;167;01mException\u001b[39;00m \u001b[38;5;28;01mas\u001b[39;00m e:\n\u001b[1;32m-> 1508\u001b[0m     \u001b[38;5;28;01mraise\u001b[39;00m munits\u001b[38;5;241m.\u001b[39mConversionError(\u001b[38;5;124m'\u001b[39m\u001b[38;5;124mFailed to convert value(s) to axis \u001b[39m\u001b[38;5;124m'\u001b[39m\n\u001b[0;32m   1509\u001b[0m                                  \u001b[38;5;124mf\u001b[39m\u001b[38;5;124m'\u001b[39m\u001b[38;5;124munits: \u001b[39m\u001b[38;5;132;01m{\u001b[39;00mx\u001b[38;5;132;01m!r}\u001b[39;00m\u001b[38;5;124m'\u001b[39m) \u001b[38;5;28;01mfrom\u001b[39;00m \u001b[38;5;21;01me\u001b[39;00m\n\u001b[0;32m   1510\u001b[0m \u001b[38;5;28;01mreturn\u001b[39;00m ret\n",
      "\u001b[1;31mConversionError\u001b[0m: Failed to convert value(s) to axis units: ['2018', '', '2019', '', '', '', '', '', '', '', '', '', '2020', '', '', '', '', '', '', '', '', '', '2021', '', '', '']"
     ]
    },
    {
     "data": {
      "image/png": "[encoded data removed]",
      "text/plain": [
       "<Figure size 432x288 with 1 Axes>"
      ]
     },
     "metadata": {
      "needs_background": "light"
     },
     "output_type": "display_data"
    }
   ],
   "source": [
    "#dataset_features.plot(x='scaled_date', y='number_AS', xticks=list_years_best)"
   ]
  },
  {
   "cell_type": "markdown",
   "id": "dbacf850",
   "metadata": {},
   "source": [
    "### 2° Pertinence des as-classification\n",
    "données accessibles sur : https://publicdata.caida.org/datasets/as-classification_restricted/"
   ]
  },
  {
   "cell_type": "code",
   "execution_count": null,
   "id": "369b5151",
   "metadata": {},
   "outputs": [],
   "source": []
  }
 ],
 "metadata": {
  "kernelspec": {
   "display_name": "Python 3 (ipykernel)",
   "language": "python",
   "name": "python3"
  },
  "language_info": {
   "codemirror_mode": {
    "name": "ipython",
    "version": 3
   },
   "file_extension": ".py",
   "mimetype": "text/x-python",
   "name": "python",
   "nbconvert_exporter": "python",
   "pygments_lexer": "ipython3",
   "version": "3.9.5"
  }
 },
 "nbformat": 4,
 "nbformat_minor": 5
}
