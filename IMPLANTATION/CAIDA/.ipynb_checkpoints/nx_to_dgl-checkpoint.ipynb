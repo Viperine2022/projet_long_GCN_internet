{
 "cells": [
  {
   "cell_type": "code",
   "execution_count": 43,
   "id": "e1d135bc",
   "metadata": {},
   "outputs": [],
   "source": [
    "import os\n",
    "os.popen(\"export DGLBACKEND=pytorch\")\n",
    "import dgl as dgl\n",
    "import networkx as nx\n",
    "import pandas as pd\n",
    "import time"
   ]
  },
  {
   "cell_type": "code",
   "execution_count": 35,
   "id": "f1f59052",
   "metadata": {},
   "outputs": [],
   "source": [
    "# Lecture de la table 'node_features' au format csv\n",
    "AS_dataset_202001 = pd.read_csv('dataset_202001.csv')\n",
    "\n",
    "# Lecture du graphe networkx au format pickle\n",
    "G = nx.read_gpickle('graph_202001.pickle')"
   ]
  },
  {
   "cell_type": "code",
   "execution_count": 38,
   "id": "760fa132",
   "metadata": {},
   "outputs": [
    {
     "data": {
      "text/html": [
       "<div>\n",
       "<style scoped>\n",
       "    .dataframe tbody tr th:only-of-type {\n",
       "        vertical-align: middle;\n",
       "    }\n",
       "\n",
       "    .dataframe tbody tr th {\n",
       "        vertical-align: top;\n",
       "    }\n",
       "\n",
       "    .dataframe thead th {\n",
       "        text-align: right;\n",
       "    }\n",
       "</style>\n",
       "<table border=\"1\" class=\"dataframe\">\n",
       "  <thead>\n",
       "    <tr style=\"text-align: right;\">\n",
       "      <th></th>\n",
       "      <th>Unnamed: 0</th>\n",
       "      <th>ASN</th>\n",
       "      <th>source_label</th>\n",
       "      <th>label</th>\n",
       "      <th>page_rank</th>\n",
       "      <th>degree_centrality</th>\n",
       "      <th>peering_links</th>\n",
       "      <th>customer_links</th>\n",
       "      <th>provider_links</th>\n",
       "    </tr>\n",
       "  </thead>\n",
       "  <tbody>\n",
       "    <tr>\n",
       "      <th>0</th>\n",
       "      <td>0</td>\n",
       "      <td>1</td>\n",
       "      <td>CAIDA_class</td>\n",
       "      <td>Content</td>\n",
       "      <td>0.000025</td>\n",
       "      <td>0.000193</td>\n",
       "      <td>1.0</td>\n",
       "      <td>0.0</td>\n",
       "      <td>12.0</td>\n",
       "    </tr>\n",
       "    <tr>\n",
       "      <th>1</th>\n",
       "      <td>1</td>\n",
       "      <td>2</td>\n",
       "      <td>CAIDA_class</td>\n",
       "      <td>Transit/Access</td>\n",
       "      <td>0.000064</td>\n",
       "      <td>0.000490</td>\n",
       "      <td>8.0</td>\n",
       "      <td>6.0</td>\n",
       "      <td>19.0</td>\n",
       "    </tr>\n",
       "    <tr>\n",
       "      <th>2</th>\n",
       "      <td>2</td>\n",
       "      <td>3</td>\n",
       "      <td>CAIDA_class</td>\n",
       "      <td>Transit/Access</td>\n",
       "      <td>0.000037</td>\n",
       "      <td>0.000342</td>\n",
       "      <td>3.0</td>\n",
       "      <td>4.0</td>\n",
       "      <td>16.0</td>\n",
       "    </tr>\n",
       "    <tr>\n",
       "      <th>3</th>\n",
       "      <td>3</td>\n",
       "      <td>4</td>\n",
       "      <td>CAIDA_class</td>\n",
       "      <td>Transit/Access</td>\n",
       "      <td>0.000034</td>\n",
       "      <td>0.000238</td>\n",
       "      <td>3.0</td>\n",
       "      <td>3.0</td>\n",
       "      <td>10.0</td>\n",
       "    </tr>\n",
       "    <tr>\n",
       "      <th>4</th>\n",
       "      <td>4</td>\n",
       "      <td>5</td>\n",
       "      <td>CAIDA_class</td>\n",
       "      <td>Transit/Access</td>\n",
       "      <td>0.000018</td>\n",
       "      <td>0.000134</td>\n",
       "      <td>1.0</td>\n",
       "      <td>1.0</td>\n",
       "      <td>7.0</td>\n",
       "    </tr>\n",
       "  </tbody>\n",
       "</table>\n",
       "</div>"
      ],
      "text/plain": [
       "   Unnamed: 0  ASN source_label           label  page_rank  degree_centrality  \\\n",
       "0           0    1  CAIDA_class         Content   0.000025           0.000193   \n",
       "1           1    2  CAIDA_class  Transit/Access   0.000064           0.000490   \n",
       "2           2    3  CAIDA_class  Transit/Access   0.000037           0.000342   \n",
       "3           3    4  CAIDA_class  Transit/Access   0.000034           0.000238   \n",
       "4           4    5  CAIDA_class  Transit/Access   0.000018           0.000134   \n",
       "\n",
       "   peering_links  customer_links  provider_links  \n",
       "0            1.0             0.0            12.0  \n",
       "1            8.0             6.0            19.0  \n",
       "2            3.0             4.0            16.0  \n",
       "3            3.0             3.0            10.0  \n",
       "4            1.0             1.0             7.0  "
      ]
     },
     "execution_count": 38,
     "metadata": {},
     "output_type": "execute_result"
    }
   ],
   "source": [
    "AS_dataset_202001.head()"
   ]
  },
  {
   "cell_type": "code",
   "execution_count": 39,
   "id": "6aae2d09",
   "metadata": {},
   "outputs": [
    {
     "data": {
      "text/plain": [
       "'Graph with 67308 nodes and 446633 edges'"
      ]
     },
     "execution_count": 39,
     "metadata": {},
     "output_type": "execute_result"
    }
   ],
   "source": [
    "nx.info(G)"
   ]
  },
  {
   "cell_type": "code",
   "execution_count": 59,
   "id": "d1d27b2d",
   "metadata": {},
   "outputs": [
    {
     "name": "stdout",
     "output_type": "stream",
     "text": [
      "Time to get DGL graph : 21.64 s\n"
     ]
    }
   ],
   "source": [
    "start_time = time.time()\n",
    "G_dgl = dgl.from_networkx(G)\n",
    "print(\"Time to get DGL graph : \" + str(round((time.time() - start_time), 2)) + \" s\")"
   ]
  },
  {
   "cell_type": "code",
   "execution_count": 60,
   "id": "e1983aee",
   "metadata": {},
   "outputs": [
    {
     "name": "stdout",
     "output_type": "stream",
     "text": [
      "Graph(num_nodes=67308, num_edges=893266,\n",
      "      ndata_schemes={}\n",
      "      edata_schemes={})\n"
     ]
    }
   ],
   "source": [
    "print(G_dgl)"
   ]
  },
  {
   "cell_type": "code",
   "execution_count": 61,
   "id": "cd9d0095",
   "metadata": {},
   "outputs": [
    {
     "data": {
      "text/plain": [
       "(tensor([    0,     0,     0,  ..., 67306, 67306, 67307]),\n",
       " tensor([46417,  5027, 14839,  ..., 64565, 67241,   123]))"
      ]
     },
     "execution_count": 61,
     "metadata": {},
     "output_type": "execute_result"
    }
   ],
   "source": [
    "G_dgl.edges()"
   ]
  },
  {
   "cell_type": "code",
   "execution_count": 67,
   "id": "30fd7770",
   "metadata": {},
   "outputs": [
    {
     "data": {
      "text/plain": [
       "7"
      ]
     },
     "execution_count": 67,
     "metadata": {},
     "output_type": "execute_result"
    }
   ],
   "source": [
    "G_dgl.in_degrees(57)"
   ]
  },
  {
   "cell_type": "code",
   "execution_count": null,
   "id": "3536d8b0",
   "metadata": {},
   "outputs": [],
   "source": []
  }
 ],
 "metadata": {
  "kernelspec": {
   "display_name": "Python 3 (ipykernel)",
   "language": "python",
   "name": "python3"
  },
  "language_info": {
   "codemirror_mode": {
    "name": "ipython",
    "version": 3
   },
   "file_extension": ".py",
   "mimetype": "text/x-python",
   "name": "python",
   "nbconvert_exporter": "python",
   "pygments_lexer": "ipython3",
   "version": "3.9.5"
  }
 },
 "nbformat": 4,
 "nbformat_minor": 5
}
