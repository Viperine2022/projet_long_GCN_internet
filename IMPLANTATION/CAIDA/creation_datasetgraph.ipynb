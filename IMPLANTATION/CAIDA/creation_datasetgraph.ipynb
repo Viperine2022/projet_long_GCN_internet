{
 "cells": [
  {
   "cell_type": "markdown",
   "id": "77fbc303",
   "metadata": {},
   "source": [
    "## Script de création de graphe\n",
    "cf base de donnée CAIDA : https://publicdata.caida.org/datasets/as-relationships/serial-2/\n"
   ]
  },
  {
   "cell_type": "markdown",
   "id": "9b9b3bec",
   "metadata": {},
   "source": [
    "**README :**\n",
    " \n",
    "The as-rel files contain p2p and p2c relationships.\n",
    "The format is:\n",
    "\n",
    "`<provider-as>|<customer-as>|-1` <br>\n",
    "`<peer-as>|<peer-as>|0|<source>`\n",
    "\n",
    "    \n",
    "Example : \n",
    "    \n",
    "`1|11537|0|bgp` <br>\n",
    "`1|21616|-1|bgp`\n",
    "\n",
    "Le fichier contient environ 100 000 lignes de ce type"
   ]
  },
  {
   "cell_type": "code",
   "execution_count": 1,
   "id": "a3b4efe8",
   "metadata": {},
   "outputs": [
    {
     "name": "stderr",
     "output_type": "stream",
     "text": [
      "Using backend: pytorch\n"
     ]
    }
   ],
   "source": [
    "# Python ≥3.5 is required\n",
    "import sys\n",
    "assert sys.version_info >= (3, 5)\n",
    "\n",
    "# Common imports\n",
    "import numpy as np\n",
    "import os\n",
    "import pandas as pd\n",
    "import networkx as nx\n",
    "import pickle\n",
    "os.popen(\"export DGLBACKEND=pytorch\")\n",
    "import dgl as dgl\n",
    "import time\n",
    "\n",
    "# To plot pretty figures\n",
    "%matplotlib inline\n",
    "import matplotlib as mpl\n",
    "import matplotlib.pyplot as plt\n",
    "from numpy import arange"
   ]
  },
  {
   "cell_type": "markdown",
   "id": "bcdc80c9",
   "metadata": {},
   "source": [
    "#### Définition diverses de fonction (utilisant du bash) permettant de vérifier que le graphe a été bien créé"
   ]
  },
  {
   "cell_type": "code",
   "execution_count": 2,
   "id": "bbc75423",
   "metadata": {},
   "outputs": [],
   "source": [
    "# Fichier au choix parmi ceux de ./data/CAIDA_AS_RELATIONSHIP\n",
    "FILE_PATH='./data/CAIDA_AS_RELATIONSHIP/20200101.as-rel2.txt'"
   ]
  },
  {
   "cell_type": "code",
   "execution_count": 3,
   "id": "a0487284",
   "metadata": {},
   "outputs": [],
   "source": [
    "def encadre(message):\n",
    "    print(\"\\n****************************\")\n",
    "    print(message)\n",
    "    print(\"****************************\\n\")\n",
    "\n",
    "def nb_node_of_AS(file):\n",
    "    return os.popen(\"cat %s | grep \\\"^[0-9][0-9]*\\\" | awk -F \\\"|\\\" '{ print $1 \\\"\\\\n\\\" $2 }' | sort -h | uniq | wc -l\" %file).read()\n",
    "    \n",
    "def nb_edge_of_AS(file):\n",
    "    return os.popen(\"cat %s | grep \\\"^[0-9][0-9]*\\\" | awk -F \\\"|\\\" '{ print $1 \\\"\\\\n\\\" $2 }' | sort -h | uniq | wc -l\" %file).read()\n",
    "\n",
    "def list_nodes_sorted(file):\n",
    "    return os.popen(\"cat %s | grep \\\"^[0-9][0-9]*\\\" | awk -F \\\"|\\\" '{ print $1 \\\"\\\\n\\\" $2 }' | sort -h | uniq\" %file).read()\n",
    "\n",
    "def nb_peering_customer_provider(ASN):\n",
    "    nb_peerings =  os.popen(\"cat %s | grep \\\"^%s|\\||%s|\\\" | grep -v \\\".*\\-1\\\" | wc -l\" % (FILE_PATH, ASN, ASN)).read()\n",
    "    nb_customers = os.popen(\"cat %s | grep \\\"^%s|.*\\-1\\\" |wc -l \" % (FILE_PATH, ASN)).read()\n",
    "    nb_providers = os.popen(\"cat %s | grep \\\"|%s|\\-1\\\" | wc -l\" % (FILE_PATH, ASN)).read()\n",
    "    return nb_peerings.split(\"\\n\")[0], nb_customers.split(\"\\n\")[0], nb_providers.split(\"\\n\")[0]\n",
    "\n",
    "def csv_dataset(file):\n",
    "    return os.popen()"
   ]
  },
  {
   "cell_type": "code",
   "execution_count": 4,
   "id": "a6eb1083",
   "metadata": {},
   "outputs": [
    {
     "name": "stdout",
     "output_type": "stream",
     "text": [
      "Link types and number (p2p, c, p) of node index 4 : ('3', '3', '10')\n"
     ]
    }
   ],
   "source": [
    "nb_type_links = nb_peering_customer_provider(4)\n",
    "print(\"Link types and number (p2p, c, p) of node index 4 : \" + str(nb_type_links))"
   ]
  },
  {
   "cell_type": "markdown",
   "id": "39cece85",
   "metadata": {},
   "source": [
    "### Panda Datasets"
   ]
  },
  {
   "cell_type": "code",
   "execution_count": 5,
   "id": "74b1b53c",
   "metadata": {},
   "outputs": [],
   "source": [
    "AS_dataset_202001 = pd.read_csv('data/CAIDA_AS_CLASSIFICATION/20200101.as2types.txt', sep='|')\n",
    "\n",
    "### ATTENTION : si erruer, lancer le script `./sort_datasets.sh -h`"
   ]
  },
  {
   "cell_type": "code",
   "execution_count": 6,
   "id": "c88332e2",
   "metadata": {},
   "outputs": [
    {
     "name": "stdout",
     "output_type": "stream",
     "text": [
      "<class 'pandas.core.frame.DataFrame'>\n",
      "RangeIndex: 67308 entries, 0 to 67307\n",
      "Data columns (total 3 columns):\n",
      " #   Column        Non-Null Count  Dtype \n",
      "---  ------        --------------  ----- \n",
      " 0   ASN           67308 non-null  int64 \n",
      " 1   source_label  67308 non-null  object\n",
      " 2   label         67308 non-null  object\n",
      "dtypes: int64(1), object(2)\n",
      "memory usage: 1.5+ MB\n"
     ]
    }
   ],
   "source": [
    "AS_dataset_202001.info()"
   ]
  },
  {
   "cell_type": "code",
   "execution_count": 7,
   "id": "1f70de3b",
   "metadata": {},
   "outputs": [
    {
     "name": "stdout",
     "output_type": "stream",
     "text": [
      "Transit/Access    44745\n",
      "Enterprise        18365\n",
      "Content            4198\n",
      "Name: label, dtype: int64\n",
      "\n",
      "\n",
      "CAIDA_class     55755\n",
      "peerDB_class    10880\n",
      "manual_class      673\n",
      "Name: source_label, dtype: int64\n"
     ]
    }
   ],
   "source": [
    "print(AS_dataset_202001[\"label\"].value_counts())\n",
    "print(\"\\n\")\n",
    "print(AS_dataset_202001[\"source_label\"].value_counts())"
   ]
  },
  {
   "cell_type": "code",
   "execution_count": 8,
   "id": "cf2bbd70",
   "metadata": {},
   "outputs": [
    {
     "data": {
      "text/plain": [
       "<AxesSubplot:>"
      ]
     },
     "execution_count": 8,
     "metadata": {},
     "output_type": "execute_result"
    },
    {
     "data": {
      "image/png": "[encoded data removed]",
      "text/plain": [
       "<Figure size 432x288 with 1 Axes>"
      ]
     },
     "metadata": {
      "needs_background": "light"
     },
     "output_type": "display_data"
    }
   ],
   "source": [
    "AS_dataset_202001[\"label\"].hist()"
   ]
  },
  {
   "cell_type": "code",
   "execution_count": 9,
   "id": "9cb719c2",
   "metadata": {},
   "outputs": [
    {
     "data": {
      "text/html": [
       "<div>\n",
       "<style scoped>\n",
       "    .dataframe tbody tr th:only-of-type {\n",
       "        vertical-align: middle;\n",
       "    }\n",
       "\n",
       "    .dataframe tbody tr th {\n",
       "        vertical-align: top;\n",
       "    }\n",
       "\n",
       "    .dataframe thead th {\n",
       "        text-align: right;\n",
       "    }\n",
       "</style>\n",
       "<table border=\"1\" class=\"dataframe\">\n",
       "  <thead>\n",
       "    <tr style=\"text-align: right;\">\n",
       "      <th></th>\n",
       "      <th>ASN</th>\n",
       "      <th>source_label</th>\n",
       "      <th>label</th>\n",
       "    </tr>\n",
       "  </thead>\n",
       "  <tbody>\n",
       "    <tr>\n",
       "      <th>0</th>\n",
       "      <td>1</td>\n",
       "      <td>CAIDA_class</td>\n",
       "      <td>Content</td>\n",
       "    </tr>\n",
       "    <tr>\n",
       "      <th>1</th>\n",
       "      <td>2</td>\n",
       "      <td>CAIDA_class</td>\n",
       "      <td>Transit/Access</td>\n",
       "    </tr>\n",
       "    <tr>\n",
       "      <th>2</th>\n",
       "      <td>3</td>\n",
       "      <td>CAIDA_class</td>\n",
       "      <td>Transit/Access</td>\n",
       "    </tr>\n",
       "    <tr>\n",
       "      <th>3</th>\n",
       "      <td>4</td>\n",
       "      <td>CAIDA_class</td>\n",
       "      <td>Transit/Access</td>\n",
       "    </tr>\n",
       "    <tr>\n",
       "      <th>4</th>\n",
       "      <td>5</td>\n",
       "      <td>CAIDA_class</td>\n",
       "      <td>Transit/Access</td>\n",
       "    </tr>\n",
       "  </tbody>\n",
       "</table>\n",
       "</div>"
      ],
      "text/plain": [
       "   ASN source_label           label\n",
       "0    1  CAIDA_class         Content\n",
       "1    2  CAIDA_class  Transit/Access\n",
       "2    3  CAIDA_class  Transit/Access\n",
       "3    4  CAIDA_class  Transit/Access\n",
       "4    5  CAIDA_class  Transit/Access"
      ]
     },
     "execution_count": 9,
     "metadata": {},
     "output_type": "execute_result"
    }
   ],
   "source": [
    "AS_dataset_202001.head()"
   ]
  },
  {
   "cell_type": "code",
   "execution_count": 10,
   "id": "d386056d",
   "metadata": {},
   "outputs": [],
   "source": [
    "def dictiongraph(fichier_texte):\n",
    "    fichier = open(fichier_texte,\"r\")\n",
    "    dictio = []\n",
    "    memoire=-1\n",
    "    for ligne in fichier:\n",
    "        tabligne = ligne.split(\"|\")\n",
    "        try:\n",
    "            asn1 = int(tabligne[0])\n",
    "            asn2 = int(tabligne[1])\n",
    "            if asn1 != memoire:\n",
    "                dictio.append(asn1)\n",
    "                memoire = asn1\n",
    "            dictio.append(asn2)\n",
    "        except ValueError:\n",
    "            pass\n",
    "    l = arange(len(list(set(dictio))))\n",
    "    dictiofinal =dict_from_list = dict(zip(sorted(list(set(dictio))), l))\n",
    "    return dictiofinal"
   ]
  },
  {
   "cell_type": "code",
   "execution_count": 11,
   "id": "b5b51058",
   "metadata": {},
   "outputs": [],
   "source": [
    "def creation_graph(fichier_texte):\n",
    "    G = nx.Graph() \n",
    "    fichier = open(fichier_texte,\"r\")\n",
    "    cpt = 0\n",
    "    memoire = -1\n",
    "    dictio = dictiongraph(fichier_texte)\n",
    "    i=0\n",
    "    #Ajout de tous les noeuds\n",
    "    for num_as in dictio :\n",
    "        G.add_node(i,asn=num_as)\n",
    "        i+=1\n",
    "    #Ajout des arêtes\n",
    "    for ligne in fichier:\n",
    "        tabligne = ligne.split(\"|\")\n",
    "        try:\n",
    "            asn1 = int(tabligne[0])\n",
    "            asn2 = int(tabligne[1])\n",
    "            info = int(tabligne[2])\n",
    "            if info == 0 :\n",
    "                G.add_edge(dictio[asn1],dictio[asn2],type= str(asn1) + '|p2p|' +str(asn2))\n",
    "            elif info == -1 :\n",
    "\n",
    "                G.add_edge(dictio[asn1],dictio[asn2],type=str(asn1) + '|p2c|' +str(asn2))\n",
    "        except ValueError:\n",
    "            pass\n",
    "    return G"
   ]
  },
  {
   "cell_type": "code",
   "execution_count": 12,
   "id": "42eee71d",
   "metadata": {},
   "outputs": [],
   "source": [
    "G = creation_graph(FILE_PATH)"
   ]
  },
  {
   "cell_type": "code",
   "execution_count": 13,
   "id": "b4aeb026",
   "metadata": {},
   "outputs": [],
   "source": [
    "def creation_graph_float(fichier_texte):\n",
    "    G = nx.DiGraph()\n",
    "    fichier = open(fichier_texte,\"r\")\n",
    "    cpt = 0\n",
    "    memoire = -1\n",
    "    dictio = dictiongraph(fichier_texte)\n",
    "    i=0\n",
    "    #Ajout de tous les noeuds\n",
    "    for num_as in dictio :\n",
    "        G.add_node(i,asn=num_as)\n",
    "        i+=1\n",
    "    #Ajout des arêtes\n",
    "    for ligne in fichier:\n",
    "        tabligne = ligne.split(\"|\")\n",
    "        try:\n",
    "            asn1 = int(tabligne[0])\n",
    "            asn2 = int(tabligne[1])\n",
    "            info = int(tabligne[2])\n",
    "            if info == 0 :\n",
    "                G.add_edge(dictio[asn1],dictio[asn2],type= 2/3)\n",
    "                G.add_edge(dictio[asn2],dictio[asn1],type= 2/3)\n",
    "            elif info == -1 :\n",
    "\n",
    "                G.add_edge(dictio[asn1],dictio[asn2],type= 3/3)\n",
    "                G.add_edge(dictio[asn2],dictio[asn1],type= 1/3)\n",
    "        except ValueError:\n",
    "            pass\n",
    "    return G"
   ]
  },
  {
   "cell_type": "code",
   "execution_count": 14,
   "id": "862513fe",
   "metadata": {},
   "outputs": [],
   "source": [
    "G_float =creation_graph_float(FILE_PATH)"
   ]
  },
  {
   "cell_type": "code",
   "execution_count": 15,
   "id": "c9ac9d0c",
   "metadata": {},
   "outputs": [],
   "source": [
    "def creation_graph_array(fichier_texte):\n",
    "    G = nx.DiGraph()\n",
    "    fichier = open(fichier_texte,\"r\")\n",
    "    cpt = 0\n",
    "    memoire = -1\n",
    "    dictio = dictiongraph(fichier_texte)\n",
    "    i=0\n",
    "    #Ajout de tous les noeuds\n",
    "    for num_as in dictio :\n",
    "        G.add_node(i,asn=num_as)\n",
    "        i+=1\n",
    "    #Ajout des arêtes\n",
    "    for ligne in fichier:\n",
    "        tabligne = ligne.split(\"|\")\n",
    "        try:\n",
    "            asn1 = int(tabligne[0])\n",
    "            asn2 = int(tabligne[1])\n",
    "            info = int(tabligne[2])\n",
    "            if info == 0 :\n",
    "                G.add_edge(dictio[asn1],dictio[asn2],type= np.array([0,1,0]))\n",
    "                G.add_edge(dictio[asn2],dictio[asn1],type= np.array([0,1,0]))\n",
    "            elif info == -1 :\n",
    "\n",
    "                G.add_edge(dictio[asn1],dictio[asn2],type=np.array([1,0,0]))\n",
    "                G.add_edge(dictio[asn2],dictio[asn1],type=np.array([0,0,1]))\n",
    "        except ValueError:\n",
    "            pass\n",
    "    return G"
   ]
  },
  {
   "cell_type": "code",
   "execution_count": 16,
   "id": "883d7def",
   "metadata": {},
   "outputs": [],
   "source": [
    "G_array =creation_graph_array(FILE_PATH)"
   ]
  },
  {
   "cell_type": "code",
   "execution_count": 17,
   "id": "7a9ab4c8",
   "metadata": {},
   "outputs": [
    {
     "name": "stdout",
     "output_type": "stream",
     "text": [
      "Nb nodes du graphe : 67308\n",
      "Nb edges du graphe: 446633\n",
      "\n",
      "ASSERT NB NODES OK\n"
     ]
    }
   ],
   "source": [
    "nb_nodes_graph = G.number_of_nodes()\n",
    "nb_edges_graph = G.number_of_edges()\n",
    "\n",
    "print(\"Nb nodes du graphe : \" + str(nb_nodes_graph))\n",
    "print(\"Nb edges du graphe: \" + str(nb_edges_graph))\n",
    "\n",
    "assert(nb_nodes_graph == int(nb_node_of_AS(FILE_PATH)))\n",
    "print(\"\\nASSERT NB NODES OK\")"
   ]
  },
  {
   "cell_type": "code",
   "execution_count": 18,
   "id": "354ef3d8",
   "metadata": {},
   "outputs": [],
   "source": [
    "list_pageRank = nx.pagerank(G).values()\n",
    "list_degreeCentrality = nx.degree_centrality(G).values()"
   ]
  },
  {
   "cell_type": "markdown",
   "id": "ee183443",
   "metadata": {},
   "source": [
    "- ### Ajout des colonnes `page_rank` et `degree_centrality`"
   ]
  },
  {
   "cell_type": "code",
   "execution_count": 19,
   "id": "039ce0fa",
   "metadata": {},
   "outputs": [],
   "source": [
    "AS_dataset_202001['page_rank'] = list_pageRank\n",
    "AS_dataset_202001['degree_centrality'] = list_degreeCentrality"
   ]
  },
  {
   "cell_type": "code",
   "execution_count": 20,
   "id": "67e7c344",
   "metadata": {},
   "outputs": [
    {
     "data": {
      "text/html": [
       "<div>\n",
       "<style scoped>\n",
       "    .dataframe tbody tr th:only-of-type {\n",
       "        vertical-align: middle;\n",
       "    }\n",
       "\n",
       "    .dataframe tbody tr th {\n",
       "        vertical-align: top;\n",
       "    }\n",
       "\n",
       "    .dataframe thead th {\n",
       "        text-align: right;\n",
       "    }\n",
       "</style>\n",
       "<table border=\"1\" class=\"dataframe\">\n",
       "  <thead>\n",
       "    <tr style=\"text-align: right;\">\n",
       "      <th></th>\n",
       "      <th>ASN</th>\n",
       "      <th>source_label</th>\n",
       "      <th>label</th>\n",
       "      <th>page_rank</th>\n",
       "      <th>degree_centrality</th>\n",
       "    </tr>\n",
       "  </thead>\n",
       "  <tbody>\n",
       "    <tr>\n",
       "      <th>0</th>\n",
       "      <td>1</td>\n",
       "      <td>CAIDA_class</td>\n",
       "      <td>Content</td>\n",
       "      <td>0.000025</td>\n",
       "      <td>0.000193</td>\n",
       "    </tr>\n",
       "    <tr>\n",
       "      <th>1</th>\n",
       "      <td>2</td>\n",
       "      <td>CAIDA_class</td>\n",
       "      <td>Transit/Access</td>\n",
       "      <td>0.000064</td>\n",
       "      <td>0.000490</td>\n",
       "    </tr>\n",
       "    <tr>\n",
       "      <th>2</th>\n",
       "      <td>3</td>\n",
       "      <td>CAIDA_class</td>\n",
       "      <td>Transit/Access</td>\n",
       "      <td>0.000037</td>\n",
       "      <td>0.000342</td>\n",
       "    </tr>\n",
       "    <tr>\n",
       "      <th>3</th>\n",
       "      <td>4</td>\n",
       "      <td>CAIDA_class</td>\n",
       "      <td>Transit/Access</td>\n",
       "      <td>0.000034</td>\n",
       "      <td>0.000238</td>\n",
       "    </tr>\n",
       "    <tr>\n",
       "      <th>4</th>\n",
       "      <td>5</td>\n",
       "      <td>CAIDA_class</td>\n",
       "      <td>Transit/Access</td>\n",
       "      <td>0.000018</td>\n",
       "      <td>0.000134</td>\n",
       "    </tr>\n",
       "  </tbody>\n",
       "</table>\n",
       "</div>"
      ],
      "text/plain": [
       "   ASN source_label           label  page_rank  degree_centrality\n",
       "0    1  CAIDA_class         Content   0.000025           0.000193\n",
       "1    2  CAIDA_class  Transit/Access   0.000064           0.000490\n",
       "2    3  CAIDA_class  Transit/Access   0.000037           0.000342\n",
       "3    4  CAIDA_class  Transit/Access   0.000034           0.000238\n",
       "4    5  CAIDA_class  Transit/Access   0.000018           0.000134"
      ]
     },
     "execution_count": 20,
     "metadata": {},
     "output_type": "execute_result"
    }
   ],
   "source": [
    "AS_dataset_202001.head()"
   ]
  },
  {
   "cell_type": "code",
   "execution_count": 21,
   "id": "4966dfe3",
   "metadata": {
    "scrolled": false
   },
   "outputs": [
    {
     "name": "stdout",
     "output_type": "stream",
     "text": [
      "<class 'pandas.core.frame.DataFrame'>\n",
      "RangeIndex: 67308 entries, 0 to 67307\n",
      "Data columns (total 5 columns):\n",
      " #   Column             Non-Null Count  Dtype  \n",
      "---  ------             --------------  -----  \n",
      " 0   ASN                67308 non-null  int64  \n",
      " 1   source_label       67308 non-null  object \n",
      " 2   label              67308 non-null  object \n",
      " 3   page_rank          67308 non-null  float64\n",
      " 4   degree_centrality  67308 non-null  float64\n",
      "dtypes: float64(2), int64(1), object(2)\n",
      "memory usage: 2.6+ MB\n"
     ]
    }
   ],
   "source": [
    "AS_dataset_202001.info()"
   ]
  },
  {
   "cell_type": "code",
   "execution_count": 22,
   "id": "bb1b8264",
   "metadata": {},
   "outputs": [],
   "source": [
    "def dictiongraph_Nbnoeud_Asn(fichier_texte):\n",
    "    fichier = open(fichier_texte,\"r\")\n",
    "    dictio = []\n",
    "    memoire=-1\n",
    "    for ligne in fichier:\n",
    "        tabligne = ligne.split(\"|\")\n",
    "        try:\n",
    "            asn1 = int(tabligne[0])\n",
    "            asn2 = int(tabligne[1])\n",
    "            if asn1 != memoire:\n",
    "                dictio.append(asn1)\n",
    "                memoire = asn1\n",
    "            dictio.append(asn2)\n",
    "        except ValueError:\n",
    "            pass\n",
    "    l = arange(len(list(set(dictio))))\n",
    "    dictiofinal =dict_from_list = dict(zip(l, sorted(list(set(dictio)))))\n",
    "    return dictiofinal\n",
    "Dictio_noeud_as = dictiongraph_Nbnoeud_Asn(FILE_PATH)"
   ]
  },
  {
   "cell_type": "code",
   "execution_count": 23,
   "id": "6479bce8",
   "metadata": {},
   "outputs": [],
   "source": [
    "def nbtypevoisins2(G):\n",
    "    nbNoeuds = G.number_of_nodes()\n",
    "    Liste_Nb_Voisins_Peering = np.zeros(nbNoeuds)\n",
    "    Liste_Nb_Voisins_Customer = np.zeros(nbNoeuds)\n",
    "    Liste_Nb_Voisins_Provider = np.zeros(nbNoeuds)\n",
    "    for i in range(nbNoeuds):\n",
    "        for j in range(len(G[i])) :\n",
    "            infos = list(G[i].values())[j][\"type\"].split(\"|\")\n",
    "            #print(infos)\n",
    "            type_lien = infos[1]\n",
    "            if type_lien == \"p2p\":\n",
    "\n",
    "                Liste_Nb_Voisins_Peering[i] +=1\n",
    "                #Liste_Nb_Voisins_Peering[dictio_as_noeud[int(asn2)]] +=1\n",
    "            elif type_lien == \"p2c\":\n",
    "                asn1 = infos[0]\n",
    "                asn2 = infos[2]\n",
    "                if int(asn2) == int(Dictio_noeud_as[i]) :\n",
    "                     Liste_Nb_Voisins_Provider[i]+=1                \n",
    "                else :\n",
    "                    Liste_Nb_Voisins_Customer[i]+=1\n",
    "\n",
    "        #print(i)\n",
    "\n",
    "    return Liste_Nb_Voisins_Peering, Liste_Nb_Voisins_Customer, Liste_Nb_Voisins_Provider \n",
    "                \n",
    "#### TEMPS D'EXECUTION : 5min ~\n",
    "L1,L2,L3=nbtypevoisins2(G) "
   ]
  },
  {
   "cell_type": "markdown",
   "id": "863911ef",
   "metadata": {},
   "source": [
    "- ### Vérification de la conformité des listes L1, L2 et L3 par rapport au graphe"
   ]
  },
  {
   "cell_type": "code",
   "execution_count": 24,
   "id": "7841246f",
   "metadata": {},
   "outputs": [
    {
     "name": "stdout",
     "output_type": "stream",
     "text": [
      "Max degree list : 8161.0\n",
      "Max degree index : 2508, max degree ASN : 6939\n",
      "Max degree graph : 8161\n",
      "\n",
      "ASSERT MAX DEGREE OK\n"
     ]
    }
   ],
   "source": [
    "max_degree_list = max(L1 + L2 + L3)\n",
    "highest_degree_graph = max(list(dict(G.degree()).values()))\n",
    "index_max = list(dict(G.degree()).values()).index(highest_degree_graph)\n",
    "ASN_max = list(Dictio_noeud_as.values())[index_max]\n",
    "\n",
    "print(\"Max degree list : \" + str(max_degree_list))\n",
    "print(\"Max degree index : \" + str(index_max) + \", max degree ASN : \" + str(ASN_max))\n",
    "print(\"Max degree graph : \" + str(highest_degree_graph))\n",
    "\n",
    "assert (max_degree_list == highest_degree_graph)\n",
    "print(\"\\nASSERT MAX DEGREE OK\")"
   ]
  },
  {
   "cell_type": "code",
   "execution_count": 25,
   "id": "35ce6b47",
   "metadata": {},
   "outputs": [
    {
     "name": "stdout",
     "output_type": "stream",
     "text": [
      "Max p2p links     : 6658.0, ASN : 6939\n",
      "Max nb customer links  : 5959.0, ASN : 174\n",
      "Max nb provider links :  120.0, ASN : 20940\n"
     ]
    }
   ],
   "source": [
    "# Extraction des maximum de p2p link, customer link et provider link\n",
    "max_p2p, index_max_p2p = np.max(L1), np.argmax(L1)\n",
    "max_c,   index_max_c   = np.max(L2), np.argmax(L2)\n",
    "max_p,   index_max_p   = np.max(L3), np.argmax(L3)\n",
    "\n",
    "print(\"Max p2p links     : \"      + str(max_p2p) + \", ASN : \" + str(list(Dictio_noeud_as.values())[index_max_p2p]))\n",
    "print(\"Max nb customer links  : \" + str(max_c)   + \", ASN : \" + str(list(Dictio_noeud_as.values())[index_max_c]))\n",
    "print(\"Max nb provider links :  \" + str(max_p)   + \", ASN : \" + str(list(Dictio_noeud_as.values())[index_max_p]))"
   ]
  },
  {
   "cell_type": "markdown",
   "id": "10d2fb4f",
   "metadata": {},
   "source": [
    "- ### Ajout des colonnes `peering_links`, `customer_links` et `provider_links`"
   ]
  },
  {
   "cell_type": "code",
   "execution_count": 26,
   "id": "4f654d51",
   "metadata": {},
   "outputs": [],
   "source": [
    "AS_dataset_202001['peering_links'] = L1/max_p2p\n",
    "AS_dataset_202001['customer_links'] = L2/max_c\n",
    "AS_dataset_202001['provider_links'] = L3/max_p\n",
    "\n",
    "assert(AS_dataset_202001['peering_links'][index_max_p2p] == 1)\n",
    "assert(AS_dataset_202001['customer_links'][index_max_c] == 1)\n",
    "assert(AS_dataset_202001['provider_links'][index_max_p] == 1)"
   ]
  },
  {
   "cell_type": "code",
   "execution_count": 27,
   "id": "47067133",
   "metadata": {},
   "outputs": [
    {
     "data": {
      "text/html": [
       "<div>\n",
       "<style scoped>\n",
       "    .dataframe tbody tr th:only-of-type {\n",
       "        vertical-align: middle;\n",
       "    }\n",
       "\n",
       "    .dataframe tbody tr th {\n",
       "        vertical-align: top;\n",
       "    }\n",
       "\n",
       "    .dataframe thead th {\n",
       "        text-align: right;\n",
       "    }\n",
       "</style>\n",
       "<table border=\"1\" class=\"dataframe\">\n",
       "  <thead>\n",
       "    <tr style=\"text-align: right;\">\n",
       "      <th></th>\n",
       "      <th>ASN</th>\n",
       "      <th>source_label</th>\n",
       "      <th>label</th>\n",
       "      <th>page_rank</th>\n",
       "      <th>degree_centrality</th>\n",
       "      <th>peering_links</th>\n",
       "      <th>customer_links</th>\n",
       "      <th>provider_links</th>\n",
       "    </tr>\n",
       "  </thead>\n",
       "  <tbody>\n",
       "    <tr>\n",
       "      <th>0</th>\n",
       "      <td>1</td>\n",
       "      <td>CAIDA_class</td>\n",
       "      <td>Content</td>\n",
       "      <td>0.000025</td>\n",
       "      <td>0.000193</td>\n",
       "      <td>0.000150</td>\n",
       "      <td>0.000000</td>\n",
       "      <td>0.100000</td>\n",
       "    </tr>\n",
       "    <tr>\n",
       "      <th>1</th>\n",
       "      <td>2</td>\n",
       "      <td>CAIDA_class</td>\n",
       "      <td>Transit/Access</td>\n",
       "      <td>0.000064</td>\n",
       "      <td>0.000490</td>\n",
       "      <td>0.001202</td>\n",
       "      <td>0.001007</td>\n",
       "      <td>0.158333</td>\n",
       "    </tr>\n",
       "    <tr>\n",
       "      <th>2</th>\n",
       "      <td>3</td>\n",
       "      <td>CAIDA_class</td>\n",
       "      <td>Transit/Access</td>\n",
       "      <td>0.000037</td>\n",
       "      <td>0.000342</td>\n",
       "      <td>0.000451</td>\n",
       "      <td>0.000671</td>\n",
       "      <td>0.133333</td>\n",
       "    </tr>\n",
       "    <tr>\n",
       "      <th>3</th>\n",
       "      <td>4</td>\n",
       "      <td>CAIDA_class</td>\n",
       "      <td>Transit/Access</td>\n",
       "      <td>0.000034</td>\n",
       "      <td>0.000238</td>\n",
       "      <td>0.000451</td>\n",
       "      <td>0.000503</td>\n",
       "      <td>0.083333</td>\n",
       "    </tr>\n",
       "    <tr>\n",
       "      <th>4</th>\n",
       "      <td>5</td>\n",
       "      <td>CAIDA_class</td>\n",
       "      <td>Transit/Access</td>\n",
       "      <td>0.000018</td>\n",
       "      <td>0.000134</td>\n",
       "      <td>0.000150</td>\n",
       "      <td>0.000168</td>\n",
       "      <td>0.058333</td>\n",
       "    </tr>\n",
       "  </tbody>\n",
       "</table>\n",
       "</div>"
      ],
      "text/plain": [
       "   ASN source_label           label  page_rank  degree_centrality  \\\n",
       "0    1  CAIDA_class         Content   0.000025           0.000193   \n",
       "1    2  CAIDA_class  Transit/Access   0.000064           0.000490   \n",
       "2    3  CAIDA_class  Transit/Access   0.000037           0.000342   \n",
       "3    4  CAIDA_class  Transit/Access   0.000034           0.000238   \n",
       "4    5  CAIDA_class  Transit/Access   0.000018           0.000134   \n",
       "\n",
       "   peering_links  customer_links  provider_links  \n",
       "0       0.000150        0.000000        0.100000  \n",
       "1       0.001202        0.001007        0.158333  \n",
       "2       0.000451        0.000671        0.133333  \n",
       "3       0.000451        0.000503        0.083333  \n",
       "4       0.000150        0.000168        0.058333  "
      ]
     },
     "execution_count": 27,
     "metadata": {},
     "output_type": "execute_result"
    }
   ],
   "source": [
    "AS_dataset_202001.head()"
   ]
  },
  {
   "cell_type": "markdown",
   "id": "96e54f86",
   "metadata": {},
   "source": [
    "- ### Ajout des colonnes `is_Content`, `is_Transit/Access` et `is_Enterprise`\n",
    "\n",
    "En effet, la colonne `label` est une **catégorie non ordinale**. Il faut donc la transformer en vecteur de valeur binaire, qui sera donné au GCN. <br> **On a alors :** <br><br>\n",
    "dataset['is_Content'][i] = 1 ⇔ le noeud i du graphe est de type `Content` <br>\n",
    "dataset['is_Transit/Access'][i] = 1 ⇔ le noeud i du graphe est de type `Transit/Access` <br>\n",
    "dataset['is_Enterprise'][i] = 1 ⇔ le noeud i du graphe est de type `Enterprise` <br>"
   ]
  },
  {
   "cell_type": "code",
   "execution_count": 28,
   "id": "36554d29",
   "metadata": {},
   "outputs": [],
   "source": [
    "AS_dataset_202001['is_Content'] = (AS_dataset_202001['label'] == 'Content').astype(int)\n",
    "AS_dataset_202001['is_Transit/Access'] = (AS_dataset_202001['label'] == 'Transit/Access').astype(int)\n",
    "AS_dataset_202001['is_Enterprise'] = (AS_dataset_202001['label'] == 'Enterprise').astype(int)"
   ]
  },
  {
   "cell_type": "code",
   "execution_count": 29,
   "id": "e34133c7",
   "metadata": {},
   "outputs": [
    {
     "data": {
      "text/html": [
       "<div>\n",
       "<style scoped>\n",
       "    .dataframe tbody tr th:only-of-type {\n",
       "        vertical-align: middle;\n",
       "    }\n",
       "\n",
       "    .dataframe tbody tr th {\n",
       "        vertical-align: top;\n",
       "    }\n",
       "\n",
       "    .dataframe thead th {\n",
       "        text-align: right;\n",
       "    }\n",
       "</style>\n",
       "<table border=\"1\" class=\"dataframe\">\n",
       "  <thead>\n",
       "    <tr style=\"text-align: right;\">\n",
       "      <th></th>\n",
       "      <th>ASN</th>\n",
       "      <th>source_label</th>\n",
       "      <th>label</th>\n",
       "      <th>page_rank</th>\n",
       "      <th>degree_centrality</th>\n",
       "      <th>peering_links</th>\n",
       "      <th>customer_links</th>\n",
       "      <th>provider_links</th>\n",
       "      <th>is_Content</th>\n",
       "      <th>is_Transit/Access</th>\n",
       "      <th>is_Enterprise</th>\n",
       "    </tr>\n",
       "  </thead>\n",
       "  <tbody>\n",
       "    <tr>\n",
       "      <th>0</th>\n",
       "      <td>1</td>\n",
       "      <td>CAIDA_class</td>\n",
       "      <td>Content</td>\n",
       "      <td>0.000025</td>\n",
       "      <td>0.000193</td>\n",
       "      <td>0.000150</td>\n",
       "      <td>0.000000</td>\n",
       "      <td>0.100000</td>\n",
       "      <td>1</td>\n",
       "      <td>0</td>\n",
       "      <td>0</td>\n",
       "    </tr>\n",
       "    <tr>\n",
       "      <th>1</th>\n",
       "      <td>2</td>\n",
       "      <td>CAIDA_class</td>\n",
       "      <td>Transit/Access</td>\n",
       "      <td>0.000064</td>\n",
       "      <td>0.000490</td>\n",
       "      <td>0.001202</td>\n",
       "      <td>0.001007</td>\n",
       "      <td>0.158333</td>\n",
       "      <td>0</td>\n",
       "      <td>1</td>\n",
       "      <td>0</td>\n",
       "    </tr>\n",
       "    <tr>\n",
       "      <th>2</th>\n",
       "      <td>3</td>\n",
       "      <td>CAIDA_class</td>\n",
       "      <td>Transit/Access</td>\n",
       "      <td>0.000037</td>\n",
       "      <td>0.000342</td>\n",
       "      <td>0.000451</td>\n",
       "      <td>0.000671</td>\n",
       "      <td>0.133333</td>\n",
       "      <td>0</td>\n",
       "      <td>1</td>\n",
       "      <td>0</td>\n",
       "    </tr>\n",
       "    <tr>\n",
       "      <th>3</th>\n",
       "      <td>4</td>\n",
       "      <td>CAIDA_class</td>\n",
       "      <td>Transit/Access</td>\n",
       "      <td>0.000034</td>\n",
       "      <td>0.000238</td>\n",
       "      <td>0.000451</td>\n",
       "      <td>0.000503</td>\n",
       "      <td>0.083333</td>\n",
       "      <td>0</td>\n",
       "      <td>1</td>\n",
       "      <td>0</td>\n",
       "    </tr>\n",
       "    <tr>\n",
       "      <th>4</th>\n",
       "      <td>5</td>\n",
       "      <td>CAIDA_class</td>\n",
       "      <td>Transit/Access</td>\n",
       "      <td>0.000018</td>\n",
       "      <td>0.000134</td>\n",
       "      <td>0.000150</td>\n",
       "      <td>0.000168</td>\n",
       "      <td>0.058333</td>\n",
       "      <td>0</td>\n",
       "      <td>1</td>\n",
       "      <td>0</td>\n",
       "    </tr>\n",
       "  </tbody>\n",
       "</table>\n",
       "</div>"
      ],
      "text/plain": [
       "   ASN source_label           label  page_rank  degree_centrality  \\\n",
       "0    1  CAIDA_class         Content   0.000025           0.000193   \n",
       "1    2  CAIDA_class  Transit/Access   0.000064           0.000490   \n",
       "2    3  CAIDA_class  Transit/Access   0.000037           0.000342   \n",
       "3    4  CAIDA_class  Transit/Access   0.000034           0.000238   \n",
       "4    5  CAIDA_class  Transit/Access   0.000018           0.000134   \n",
       "\n",
       "   peering_links  customer_links  provider_links  is_Content  \\\n",
       "0       0.000150        0.000000        0.100000           1   \n",
       "1       0.001202        0.001007        0.158333           0   \n",
       "2       0.000451        0.000671        0.133333           0   \n",
       "3       0.000451        0.000503        0.083333           0   \n",
       "4       0.000150        0.000168        0.058333           0   \n",
       "\n",
       "   is_Transit/Access  is_Enterprise  \n",
       "0                  0              0  \n",
       "1                  1              0  \n",
       "2                  1              0  \n",
       "3                  1              0  \n",
       "4                  1              0  "
      ]
     },
     "execution_count": 29,
     "metadata": {},
     "output_type": "execute_result"
    }
   ],
   "source": [
    "AS_dataset_202001.head()"
   ]
  },
  {
   "cell_type": "markdown",
   "id": "2bd24aae",
   "metadata": {},
   "source": [
    "- ### Modification de la colonne `label`\n",
    "\n",
    "On transforme la **catégorie non ordinale** en 3 classes entières :\n",
    " - *Content* ⇔ $0$\n",
    " - *Transit/Access* ⇔ $1$\n",
    " - *Enterprise* ⇔ $2$"
   ]
  },
  {
   "cell_type": "code",
   "execution_count": 39,
   "id": "89c06c4f",
   "metadata": {},
   "outputs": [],
   "source": [
    "AS_dataset_202001['label'] = AS_dataset_202001['label'].map({'Content': 0, 'Transit/Access': 1, 'Enterprise': 2})"
   ]
  },
  {
   "cell_type": "code",
   "execution_count": 40,
   "id": "f1e72720",
   "metadata": {},
   "outputs": [
    {
     "data": {
      "text/html": [
       "<div>\n",
       "<style scoped>\n",
       "    .dataframe tbody tr th:only-of-type {\n",
       "        vertical-align: middle;\n",
       "    }\n",
       "\n",
       "    .dataframe tbody tr th {\n",
       "        vertical-align: top;\n",
       "    }\n",
       "\n",
       "    .dataframe thead th {\n",
       "        text-align: right;\n",
       "    }\n",
       "</style>\n",
       "<table border=\"1\" class=\"dataframe\">\n",
       "  <thead>\n",
       "    <tr style=\"text-align: right;\">\n",
       "      <th></th>\n",
       "      <th>ASN</th>\n",
       "      <th>source_label</th>\n",
       "      <th>label</th>\n",
       "      <th>page_rank</th>\n",
       "      <th>degree_centrality</th>\n",
       "      <th>peering_links</th>\n",
       "      <th>customer_links</th>\n",
       "      <th>provider_links</th>\n",
       "      <th>is_Content</th>\n",
       "      <th>is_Transit/Access</th>\n",
       "      <th>is_Enterprise</th>\n",
       "    </tr>\n",
       "  </thead>\n",
       "  <tbody>\n",
       "    <tr>\n",
       "      <th>0</th>\n",
       "      <td>1</td>\n",
       "      <td>CAIDA_class</td>\n",
       "      <td>0</td>\n",
       "      <td>0.000025</td>\n",
       "      <td>0.000193</td>\n",
       "      <td>0.000150</td>\n",
       "      <td>0.000000</td>\n",
       "      <td>0.100000</td>\n",
       "      <td>1</td>\n",
       "      <td>0</td>\n",
       "      <td>0</td>\n",
       "    </tr>\n",
       "    <tr>\n",
       "      <th>1</th>\n",
       "      <td>2</td>\n",
       "      <td>CAIDA_class</td>\n",
       "      <td>1</td>\n",
       "      <td>0.000064</td>\n",
       "      <td>0.000490</td>\n",
       "      <td>0.001202</td>\n",
       "      <td>0.001007</td>\n",
       "      <td>0.158333</td>\n",
       "      <td>0</td>\n",
       "      <td>1</td>\n",
       "      <td>0</td>\n",
       "    </tr>\n",
       "    <tr>\n",
       "      <th>2</th>\n",
       "      <td>3</td>\n",
       "      <td>CAIDA_class</td>\n",
       "      <td>1</td>\n",
       "      <td>0.000037</td>\n",
       "      <td>0.000342</td>\n",
       "      <td>0.000451</td>\n",
       "      <td>0.000671</td>\n",
       "      <td>0.133333</td>\n",
       "      <td>0</td>\n",
       "      <td>1</td>\n",
       "      <td>0</td>\n",
       "    </tr>\n",
       "    <tr>\n",
       "      <th>3</th>\n",
       "      <td>4</td>\n",
       "      <td>CAIDA_class</td>\n",
       "      <td>1</td>\n",
       "      <td>0.000034</td>\n",
       "      <td>0.000238</td>\n",
       "      <td>0.000451</td>\n",
       "      <td>0.000503</td>\n",
       "      <td>0.083333</td>\n",
       "      <td>0</td>\n",
       "      <td>1</td>\n",
       "      <td>0</td>\n",
       "    </tr>\n",
       "    <tr>\n",
       "      <th>4</th>\n",
       "      <td>5</td>\n",
       "      <td>CAIDA_class</td>\n",
       "      <td>1</td>\n",
       "      <td>0.000018</td>\n",
       "      <td>0.000134</td>\n",
       "      <td>0.000150</td>\n",
       "      <td>0.000168</td>\n",
       "      <td>0.058333</td>\n",
       "      <td>0</td>\n",
       "      <td>1</td>\n",
       "      <td>0</td>\n",
       "    </tr>\n",
       "  </tbody>\n",
       "</table>\n",
       "</div>"
      ],
      "text/plain": [
       "   ASN source_label  label  page_rank  degree_centrality  peering_links  \\\n",
       "0    1  CAIDA_class      0   0.000025           0.000193       0.000150   \n",
       "1    2  CAIDA_class      1   0.000064           0.000490       0.001202   \n",
       "2    3  CAIDA_class      1   0.000037           0.000342       0.000451   \n",
       "3    4  CAIDA_class      1   0.000034           0.000238       0.000451   \n",
       "4    5  CAIDA_class      1   0.000018           0.000134       0.000150   \n",
       "\n",
       "   customer_links  provider_links  is_Content  is_Transit/Access  \\\n",
       "0        0.000000        0.100000           1                  0   \n",
       "1        0.001007        0.158333           0                  1   \n",
       "2        0.000671        0.133333           0                  1   \n",
       "3        0.000503        0.083333           0                  1   \n",
       "4        0.000168        0.058333           0                  1   \n",
       "\n",
       "   is_Enterprise  \n",
       "0              0  \n",
       "1              0  \n",
       "2              0  \n",
       "3              0  \n",
       "4              0  "
      ]
     },
     "execution_count": 40,
     "metadata": {},
     "output_type": "execute_result"
    }
   ],
   "source": [
    "AS_dataset_202001.head()"
   ]
  },
  {
   "cell_type": "markdown",
   "id": "d747538e",
   "metadata": {},
   "source": [
    "### Exportation des données : `dataset` et `graph`\n",
    "\n",
    "On crée 4 fichiers : \n",
    "- Le `dataset`complet \n",
    "- Le `graphe` nx au format pickle\n",
    "- Le `graphe_float` nx au format pickle\n",
    "- Le `graphe_array` nx au format pickle"
   ]
  },
  {
   "cell_type": "code",
   "execution_count": 42,
   "id": "b66dea77",
   "metadata": {},
   "outputs": [],
   "source": [
    "# Exportation des données\n",
    "\n",
    "AS_dataset_202001.to_csv('data_GCN/dataset_202001.csv', index=False)\n",
    "nx.write_gpickle(G, 'data_GCN/graph_202001.pickle')\n",
    "nx.write_gpickle(G_float, 'data_GCN/graph_float_202001.pickle')\n",
    "nx.write_gpickle(G_array, 'data_GCN/graph_array_202001.pickle')"
   ]
  },
  {
   "cell_type": "code",
   "execution_count": 31,
   "id": "2195b801",
   "metadata": {},
   "outputs": [
    {
     "data": {
      "text/plain": [
       "AtlasView({1209: {'type': 0.3333333333333333}, 2276: {'type': 0.3333333333333333}, 8075: {'type': 0.3333333333333333}, 12607: {'type': 0.3333333333333333}})"
      ]
     },
     "execution_count": 31,
     "metadata": {},
     "output_type": "execute_result"
    }
   ],
   "source": [
    "G_float[5]"
   ]
  },
  {
   "cell_type": "code",
   "execution_count": 38,
   "id": "9b0ccd07",
   "metadata": {},
   "outputs": [],
   "source": [
    "G_dgl_float = dgl.from_networkx(G_float, edge_attrs=['type'])"
   ]
  }
 ],
 "metadata": {
  "kernelspec": {
   "display_name": "Python 3 (ipykernel)",
   "language": "python",
   "name": "python3"
  },
  "language_info": {
   "codemirror_mode": {
    "name": "ipython",
    "version": 3
   },
   "file_extension": ".py",
   "mimetype": "text/x-python",
   "name": "python",
   "nbconvert_exporter": "python",
   "pygments_lexer": "ipython3",
   "version": "3.9.5"
  }
 },
 "nbformat": 4,
 "nbformat_minor": 5
}
