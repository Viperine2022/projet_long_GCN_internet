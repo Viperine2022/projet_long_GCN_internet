{
 "cells": [
  {
   "cell_type": "markdown",
   "id": "77fbc303",
   "metadata": {},
   "source": [
    "## Script de création de graphe\n",
    "cf base de donnée CAIDA : https://publicdata.caida.org/datasets/as-relationships/serial-2/\n"
   ]
  },
  {
   "cell_type": "markdown",
   "id": "9b9b3bec",
   "metadata": {},
   "source": [
    "**README :**\n",
    " \n",
    "The as-rel file contain p2p and p2c relationships.\n",
    "The format is:\n",
    "\n",
    "`<provider-as>|<customer-as>|-1` <br>\n",
    "`<peer-as>|<peer-as>|0|<source>`\n",
    "\n",
    "    \n",
    "Example : \n",
    "    \n",
    "`1|11537|0|bgp` <br>\n",
    "`1|21616|-1|bgp`\n",
    "\n",
    "Le fichier contient environ 100 000 lignes de ce type"
   ]
  },
  {
   "cell_type": "code",
   "execution_count": 1,
   "id": "a3b4efe8",
   "metadata": {},
   "outputs": [
    {
     "name": "stderr",
     "output_type": "stream",
     "text": [
      "Using backend: pytorch\n"
     ]
    }
   ],
   "source": [
    "# Python ≥3.5 is required\n",
    "import sys\n",
    "assert sys.version_info >= (3, 5)\n",
    "\n",
    "# Common imports\n",
    "import numpy as np\n",
    "import os\n",
    "import pandas as pd\n",
    "import networkx as nx\n",
    "import pickle\n",
    "os.popen(\"export DGLBACKEND=pytorch\")\n",
    "import dgl as dgl\n",
    "import time\n",
    "\n",
    "# To plot pretty figures\n",
    "%matplotlib inline\n",
    "import matplotlib as mpl\n",
    "import matplotlib.pyplot as plt\n",
    "from numpy import arange"
   ]
  },
  {
   "cell_type": "markdown",
   "id": "bcdc80c9",
   "metadata": {},
   "source": [
    "#### Définition diverses de fonction (utilisant du bash) permettant de vérifier que le graphe a été bien créé"
   ]
  },
  {
   "cell_type": "code",
   "execution_count": 2,
   "id": "bbc75423",
   "metadata": {},
   "outputs": [],
   "source": [
    "# Fichier au choix parmi ceux de ./data/CAIDA_AS_RELATIONSHIP\n",
    "\n",
    "#FILE_PATH='./data/CAIDA_AS_RELATIONSHIP/20200101.as-rel2.txt'\n",
    "FILE_PATH='./data/CAIDA_AS_RELATIONSHIP/20210301.as-rel2.txt'"
   ]
  },
  {
   "cell_type": "code",
   "execution_count": 3,
   "id": "a0487284",
   "metadata": {},
   "outputs": [],
   "source": [
    "def encadre(message):\n",
    "    print(\"\\n****************************\")\n",
    "    print(message)\n",
    "    print(\"****************************\\n\")\n",
    "\n",
    "def nb_nodes_of_file(file):\n",
    "    return int(os.popen(\"cat %s | grep \\\"^[0-9][0-9]*\\\" | awk -F \\\"|\\\" '{ print $1 \\\"\\\\n\\\" $2 }' | sort -h | uniq | wc -l\" %file).read())\n",
    "    \n",
    "#def nb_edges_of_file(file):\n",
    "#    return os.popen(\"cat %s | grep \\\"^[0-9][0-9]*\\\" | awk -F \\\"|\\\" '{ print $1 \\\"\\\\n\\\" $2 }' | sort -h | uniq | wc -l\" %file).read()\n",
    "\n",
    "def list_nodes_sorted(file):\n",
    "    return os.popen(\"cat %s | grep \\\"^[0-9][0-9]*\\\" | awk -F \\\"|\\\" '{ print $1 \\\"\\\\n\\\" $2 }' | sort -h | uniq\" %file).read()\n",
    "\n",
    "def nb_peering_customer_provider(ASN):\n",
    "    nb_peerings =  os.popen(\"cat %s | grep \\\"^%s|\\||%s|\\\" | grep -v \\\".*\\-1\\\" | wc -l\" % (FILE_PATH, ASN, ASN)).read()\n",
    "    nb_customers = os.popen(\"cat %s | grep \\\"^%s|.*\\-1\\\" |wc -l \" % (FILE_PATH, ASN)).read()\n",
    "    nb_providers = os.popen(\"cat %s | grep \\\"|%s|\\-1\\\" | wc -l\" % (FILE_PATH, ASN)).read()\n",
    "    return nb_peerings.split(\"\\n\")[0], nb_customers.split(\"\\n\")[0], nb_providers.split(\"\\n\")[0]\n",
    "\n",
    "def csv_dataset(file):\n",
    "    return os.popen()"
   ]
  },
  {
   "cell_type": "code",
   "execution_count": 4,
   "id": "519e52f6",
   "metadata": {},
   "outputs": [
    {
     "name": "stdout",
     "output_type": "stream",
     "text": [
      "Nb nodes of file : 71434\n"
     ]
    }
   ],
   "source": [
    "nb_nodes_file = nb_nodes_of_file(FILE_PATH)\n",
    "print(\"Nb nodes of file : \" + str(nb_nodes_file))"
   ]
  },
  {
   "cell_type": "code",
   "execution_count": 5,
   "id": "a6eb1083",
   "metadata": {},
   "outputs": [
    {
     "name": "stdout",
     "output_type": "stream",
     "text": [
      "Link types and number (p2p, c, p) of node index 4 : ('2', '1', '12')\n"
     ]
    }
   ],
   "source": [
    "nb_type_links = nb_peering_customer_provider(4)\n",
    "print(\"Link types and number (p2p, c, p) of node index 4 : \" + str(nb_type_links))"
   ]
  },
  {
   "cell_type": "markdown",
   "id": "39cece85",
   "metadata": {},
   "source": [
    "### Panda Datasets"
   ]
  },
  {
   "cell_type": "code",
   "execution_count": 6,
   "id": "74b1b53c",
   "metadata": {},
   "outputs": [],
   "source": [
    "#AS_dataset_202001 = pd.read_csv('data/CAIDA_AS_CLASSIFICATION/20200101.as2types.txt', sep='|')\n",
    "AS_dataset = pd.read_csv('data/CAIDA_AS_CLASSIFICATION/20210301.as2types.txt', sep='|')\n",
    "\n",
    "### ATTENTION : si erreur, lancer le script `./sort_datasets.sh -h`\n",
    "\n",
    "# Vérif nombre de noeuds\n",
    "assert (len(AS_dataset.index) == nb_nodes_file)"
   ]
  },
  {
   "cell_type": "code",
   "execution_count": 7,
   "id": "c88332e2",
   "metadata": {},
   "outputs": [
    {
     "name": "stdout",
     "output_type": "stream",
     "text": [
      "<class 'pandas.core.frame.DataFrame'>\n",
      "RangeIndex: 71434 entries, 0 to 71433\n",
      "Data columns (total 3 columns):\n",
      " #   Column        Non-Null Count  Dtype \n",
      "---  ------        --------------  ----- \n",
      " 0   ASN           71434 non-null  int64 \n",
      " 1   source_label  71434 non-null  object\n",
      " 2   label         71434 non-null  object\n",
      "dtypes: int64(1), object(2)\n",
      "memory usage: 1.6+ MB\n"
     ]
    }
   ],
   "source": [
    "AS_dataset.info()"
   ]
  },
  {
   "cell_type": "code",
   "execution_count": 8,
   "id": "1f70de3b",
   "metadata": {},
   "outputs": [
    {
     "name": "stdout",
     "output_type": "stream",
     "text": [
      "Transit/Access    54367\n",
      "Enterprise        13632\n",
      "Content            3435\n",
      "Name: label, dtype: int64\n",
      "\n",
      "\n",
      "CAIDA_class     57895\n",
      "peerDB_class    12889\n",
      "manual_class      650\n",
      "Name: source_label, dtype: int64\n"
     ]
    }
   ],
   "source": [
    "print(AS_dataset[\"label\"].value_counts())\n",
    "print(\"\\n\")\n",
    "print(AS_dataset[\"source_label\"].value_counts())"
   ]
  },
  {
   "cell_type": "code",
   "execution_count": 9,
   "id": "cf2bbd70",
   "metadata": {},
   "outputs": [
    {
     "data": {
      "text/plain": [
       "<AxesSubplot:>"
      ]
     },
     "execution_count": 9,
     "metadata": {},
     "output_type": "execute_result"
    },
    {
     "data": {
      "image/png": "[encoded data removed]",
      "text/plain": [
       "<Figure size 432x288 with 1 Axes>"
      ]
     },
     "metadata": {
      "needs_background": "light"
     },
     "output_type": "display_data"
    }
   ],
   "source": [
    "AS_dataset[\"label\"].value_counts(normalize=True).plot(kind='barh', grid=True)"
   ]
  },
  {
   "cell_type": "code",
   "execution_count": 10,
   "id": "9cb719c2",
   "metadata": {},
   "outputs": [
    {
     "data": {
      "text/html": [
       "<div>\n",
       "<style scoped>\n",
       "    .dataframe tbody tr th:only-of-type {\n",
       "        vertical-align: middle;\n",
       "    }\n",
       "\n",
       "    .dataframe tbody tr th {\n",
       "        vertical-align: top;\n",
       "    }\n",
       "\n",
       "    .dataframe thead th {\n",
       "        text-align: right;\n",
       "    }\n",
       "</style>\n",
       "<table border=\"1\" class=\"dataframe\">\n",
       "  <thead>\n",
       "    <tr style=\"text-align: right;\">\n",
       "      <th></th>\n",
       "      <th>ASN</th>\n",
       "      <th>source_label</th>\n",
       "      <th>label</th>\n",
       "    </tr>\n",
       "  </thead>\n",
       "  <tbody>\n",
       "    <tr>\n",
       "      <th>0</th>\n",
       "      <td>1</td>\n",
       "      <td>CAIDA_class</td>\n",
       "      <td>Transit/Access</td>\n",
       "    </tr>\n",
       "    <tr>\n",
       "      <th>1</th>\n",
       "      <td>2</td>\n",
       "      <td>CAIDA_class</td>\n",
       "      <td>Transit/Access</td>\n",
       "    </tr>\n",
       "    <tr>\n",
       "      <th>2</th>\n",
       "      <td>3</td>\n",
       "      <td>CAIDA_class</td>\n",
       "      <td>Transit/Access</td>\n",
       "    </tr>\n",
       "    <tr>\n",
       "      <th>3</th>\n",
       "      <td>4</td>\n",
       "      <td>CAIDA_class</td>\n",
       "      <td>Transit/Access</td>\n",
       "    </tr>\n",
       "    <tr>\n",
       "      <th>4</th>\n",
       "      <td>5</td>\n",
       "      <td>CAIDA_class</td>\n",
       "      <td>Enterprise</td>\n",
       "    </tr>\n",
       "  </tbody>\n",
       "</table>\n",
       "</div>"
      ],
      "text/plain": [
       "   ASN source_label           label\n",
       "0    1  CAIDA_class  Transit/Access\n",
       "1    2  CAIDA_class  Transit/Access\n",
       "2    3  CAIDA_class  Transit/Access\n",
       "3    4  CAIDA_class  Transit/Access\n",
       "4    5  CAIDA_class      Enterprise"
      ]
     },
     "execution_count": 10,
     "metadata": {},
     "output_type": "execute_result"
    }
   ],
   "source": [
    "AS_dataset.head()"
   ]
  },
  {
   "cell_type": "code",
   "execution_count": 11,
   "id": "d386056d",
   "metadata": {},
   "outputs": [],
   "source": [
    "def dictiongraph(fichier_texte):\n",
    "    fichier = open(fichier_texte,\"r\")\n",
    "    dictio = []\n",
    "    memoire=-1\n",
    "    for ligne in fichier:\n",
    "        tabligne = ligne.split(\"|\")\n",
    "        try:\n",
    "            asn1 = int(tabligne[0])\n",
    "            asn2 = int(tabligne[1])\n",
    "            if asn1 != memoire:\n",
    "                dictio.append(asn1)\n",
    "                memoire = asn1\n",
    "            dictio.append(asn2)\n",
    "        except ValueError:\n",
    "            pass\n",
    "    l = arange(len(list(set(dictio))))\n",
    "    dictiofinal =dict_from_list = dict(zip(sorted(list(set(dictio))), l))\n",
    "    return dictiofinal"
   ]
  },
  {
   "cell_type": "code",
   "execution_count": 12,
   "id": "b5b51058",
   "metadata": {},
   "outputs": [],
   "source": [
    "def creation_graph(fichier_texte):\n",
    "    G = nx.Graph() \n",
    "    fichier = open(fichier_texte,\"r\")\n",
    "    cpt = 0\n",
    "    memoire = -1\n",
    "    dictio = dictiongraph(fichier_texte)\n",
    "    i=0\n",
    "    #Ajout de tous les noeuds\n",
    "    for num_as in dictio :\n",
    "        G.add_node(i,asn=num_as)\n",
    "        i+=1\n",
    "    #Ajout des arêtes\n",
    "    for ligne in fichier:\n",
    "        tabligne = ligne.split(\"|\")\n",
    "        try:\n",
    "            asn1 = int(tabligne[0])\n",
    "            asn2 = int(tabligne[1])\n",
    "            info = int(tabligne[2])\n",
    "            if info == 0 :\n",
    "                G.add_edge(dictio[asn1],dictio[asn2],type= str(asn1) + '|p2p|' +str(asn2))\n",
    "            elif info == -1 :\n",
    "                G.add_edge(dictio[asn1],dictio[asn2],type=str(asn1) + '|p2c|' +str(asn2))\n",
    "        except ValueError:\n",
    "            pass\n",
    "    return G"
   ]
  },
  {
   "cell_type": "code",
   "execution_count": 13,
   "id": "42eee71d",
   "metadata": {},
   "outputs": [],
   "source": [
    "G = creation_graph(FILE_PATH)"
   ]
  },
  {
   "cell_type": "code",
   "execution_count": 14,
   "id": "aeccbfea",
   "metadata": {},
   "outputs": [],
   "source": [
    "def creation_graph_dirige(fichier_texte):\n",
    "    G = nx.DiGraph()\n",
    "    fichier = open(fichier_texte,\"r\")\n",
    "    cpt = 0\n",
    "    memoire = -1\n",
    "    dictio = dictiongraph(fichier_texte)\n",
    "    i=0\n",
    "    #Ajout de tous les noeuds\n",
    "    for num_as in dictio :\n",
    "        G.add_node(i,asn=num_as)\n",
    "        i+=1\n",
    "    #Ajout des arêtes\n",
    "    for ligne in fichier:\n",
    "        tabligne = ligne.split(\"|\")\n",
    "        try:\n",
    "            asn1 = int(tabligne[0])\n",
    "            asn2 = int(tabligne[1])\n",
    "            info = int(tabligne[2])\n",
    "            if info == 0 :\n",
    "                G.add_edge(dictio[asn1],dictio[asn2],type= 2/3)\n",
    "                G.add_edge(dictio[asn2],dictio[asn1],type= 2/3)\n",
    "            elif info == -1 :\n",
    "\n",
    "                G.add_edge(dictio[asn1],dictio[asn2],type= 3/3)\n",
    "                \n",
    "        except ValueError:\n",
    "            pass\n",
    "    return G"
   ]
  },
  {
   "cell_type": "code",
   "execution_count": 15,
   "id": "8216882b",
   "metadata": {},
   "outputs": [],
   "source": [
    "G_directed = creation_graph_dirige(FILE_PATH)"
   ]
  },
  {
   "cell_type": "code",
   "execution_count": 16,
   "id": "b43d8b5a",
   "metadata": {},
   "outputs": [],
   "source": [
    "def creation_graph_dirige_inverse(fichier_texte):\n",
    "    G = nx.DiGraph()\n",
    "    fichier = open(fichier_texte,\"r\")\n",
    "    cpt = 0\n",
    "    memoire = -1\n",
    "    dictio = dictiongraph(fichier_texte)\n",
    "    i=0\n",
    "    #Ajout de tous les noeuds\n",
    "    for num_as in dictio :\n",
    "        G.add_node(i,asn=num_as)\n",
    "        i+=1\n",
    "    #Ajout des arêtes\n",
    "    for ligne in fichier:\n",
    "        tabligne = ligne.split(\"|\")\n",
    "        try:\n",
    "            asn1 = int(tabligne[0])\n",
    "            asn2 = int(tabligne[1])\n",
    "            info = int(tabligne[2])\n",
    "            if info == 0 :\n",
    "                G.add_edge(dictio[asn1],dictio[asn2],type= 2/3)\n",
    "                G.add_edge(dictio[asn2],dictio[asn1],type= 2/3)\n",
    "            elif info == -1 :\n",
    "\n",
    "                G.add_edge(dictio[asn2],dictio[asn1],type= 3/3)\n",
    "                \n",
    "        except ValueError:\n",
    "            pass\n",
    "    return G"
   ]
  },
  {
   "cell_type": "code",
   "execution_count": 17,
   "id": "fcfa65ca",
   "metadata": {},
   "outputs": [],
   "source": [
    "G_directed_inverse = creation_graph_dirige_inverse(FILE_PATH)"
   ]
  },
  {
   "cell_type": "code",
   "execution_count": 18,
   "id": "d1ae2471",
   "metadata": {},
   "outputs": [],
   "source": [
    "def label_into_int(label):\n",
    "    if (label == 'Content'):\n",
    "        int_label = 0\n",
    "    elif (label == 'Transit/Access'):\n",
    "        int_label = 1\n",
    "    elif (label == 'Enterprise'):\n",
    "        int_label = 2\n",
    "    return int_label"
   ]
  },
  {
   "cell_type": "code",
   "execution_count": 19,
   "id": "b4aeb026",
   "metadata": {},
   "outputs": [],
   "source": [
    "def creation_graph_float(fichier_texte):\n",
    "    G = nx.DiGraph()\n",
    "    fichier = open(fichier_texte,\"r\")\n",
    "    cpt = 0\n",
    "    memoire = -1\n",
    "    dictio = dictiongraph(fichier_texte)\n",
    "    i=0\n",
    "    #Ajout de tous les noeuds\n",
    "    for num_as in dictio :\n",
    "        G.add_node(i,label=label_into_int(AS_dataset['label'][i]))\n",
    "        #print(\"G add node : index \" + str(i) + \", asn : \" + str(num_as) + \", \" + AS_dataset['label'][i] + \" => \" + str(label_into_int(AS_dataset['label'][i])))\n",
    "        i+=1\n",
    "    #Ajout des arêtes\n",
    "    for ligne in fichier:\n",
    "        tabligne = ligne.split(\"|\")\n",
    "        try:\n",
    "            asn1 = int(tabligne[0])\n",
    "            asn2 = int(tabligne[1])\n",
    "            info = int(tabligne[2])\n",
    "            if info == 0 :\n",
    "                G.add_edge(dictio[asn1],dictio[asn2],type= 2/3)\n",
    "                G.add_edge(dictio[asn2],dictio[asn1],type= 2/3)\n",
    "            elif info == -1 :\n",
    "                G.add_edge(dictio[asn1],dictio[asn2],type= 3/3)\n",
    "                G.add_edge(dictio[asn2],dictio[asn1],type= 1/3)\n",
    "        except ValueError:\n",
    "            pass\n",
    "    return G"
   ]
  },
  {
   "cell_type": "code",
   "execution_count": 20,
   "id": "862513fe",
   "metadata": {},
   "outputs": [],
   "source": [
    "G_float =creation_graph_float(FILE_PATH)"
   ]
  },
  {
   "cell_type": "code",
   "execution_count": 21,
   "id": "c9ac9d0c",
   "metadata": {},
   "outputs": [],
   "source": [
    "def creation_graph_array(fichier_texte):\n",
    "    G = nx.DiGraph()\n",
    "    fichier = open(fichier_texte,\"r\")\n",
    "    cpt = 0\n",
    "    memoire = -1\n",
    "    dictio = dictiongraph(fichier_texte)\n",
    "    i=0\n",
    "    #Ajout de tous les noeuds\n",
    "    for num_as in dictio :\n",
    "        G.add_node(i,label=label_into_int(AS_dataset['label'][i]))\n",
    "        i+=1\n",
    "    #Ajout des arêtes\n",
    "    for ligne in fichier:\n",
    "        tabligne = ligne.split(\"|\")\n",
    "        try:\n",
    "            asn1 = int(tabligne[0])\n",
    "            asn2 = int(tabligne[1])\n",
    "            info = int(tabligne[2])\n",
    "            if info == 0 :\n",
    "                G.add_edge(dictio[asn1],dictio[asn2],type= np.array([0,1,0]))\n",
    "                G.add_edge(dictio[asn2],dictio[asn1],type= np.array([0,1,0]))\n",
    "            elif info == -1 :\n",
    "                G.add_edge(dictio[asn1],dictio[asn2],type=np.array([1,0,0]))\n",
    "                G.add_edge(dictio[asn2],dictio[asn1],type=np.array([0,0,1]))\n",
    "        except ValueError:\n",
    "            pass\n",
    "    return G"
   ]
  },
  {
   "cell_type": "code",
   "execution_count": 22,
   "id": "883d7def",
   "metadata": {},
   "outputs": [],
   "source": [
    "G_array=creation_graph_array(FILE_PATH)"
   ]
  },
  {
   "cell_type": "code",
   "execution_count": 23,
   "id": "7a9ab4c8",
   "metadata": {},
   "outputs": [
    {
     "name": "stdout",
     "output_type": "stream",
     "text": [
      "Nb nodes du graphe : 71434\n",
      "Nb edges du graphe: 489716\n",
      "\n",
      "ASSERT NB NODES OK\n"
     ]
    }
   ],
   "source": [
    "nb_nodes_graph = G.number_of_nodes()\n",
    "nb_edges_graph = G.number_of_edges()\n",
    "\n",
    "print(\"Nb nodes du graphe : \" + str(nb_nodes_graph))\n",
    "print(\"Nb edges du graphe: \" + str(nb_edges_graph))\n",
    "\n",
    "assert(nb_nodes_graph == int(nb_nodes_of_file(FILE_PATH)))\n",
    "print(\"\\nASSERT NB NODES OK\")"
   ]
  },
  {
   "cell_type": "markdown",
   "id": "ee183443",
   "metadata": {},
   "source": [
    "- ### Ajout des colonnes `page_rank_not_directed`, `page_rank_directed` et `degree_centrality`"
   ]
  },
  {
   "cell_type": "code",
   "execution_count": 24,
   "id": "354ef3d8",
   "metadata": {},
   "outputs": [],
   "source": [
    "list_pageRank = nx.pagerank(G).values()\n",
    "list_pageRank_directed = nx.pagerank(G_directed).values()\n",
    "list_pageRank_directed_inverse = nx.pagerank(G_directed_inverse).values()\n",
    "list_degreeCentrality = nx.degree_centrality(G).values()"
   ]
  },
  {
   "cell_type": "code",
   "execution_count": 25,
   "id": "039ce0fa",
   "metadata": {},
   "outputs": [],
   "source": [
    "AS_dataset['page_rank_not_directed'] = list_pageRank\n",
    "AS_dataset['page_rank_directed'] = list_pageRank_directed\n",
    "AS_dataset['page_rank_directed_inverse'] = list_pageRank_directed_inverse\n",
    "AS_dataset['degree_centrality'] = list_degreeCentrality"
   ]
  },
  {
   "cell_type": "code",
   "execution_count": 26,
   "id": "4966dfe3",
   "metadata": {
    "scrolled": false
   },
   "outputs": [
    {
     "data": {
      "text/html": [
       "<div>\n",
       "<style scoped>\n",
       "    .dataframe tbody tr th:only-of-type {\n",
       "        vertical-align: middle;\n",
       "    }\n",
       "\n",
       "    .dataframe tbody tr th {\n",
       "        vertical-align: top;\n",
       "    }\n",
       "\n",
       "    .dataframe thead th {\n",
       "        text-align: right;\n",
       "    }\n",
       "</style>\n",
       "<table border=\"1\" class=\"dataframe\">\n",
       "  <thead>\n",
       "    <tr style=\"text-align: right;\">\n",
       "      <th></th>\n",
       "      <th>ASN</th>\n",
       "      <th>source_label</th>\n",
       "      <th>label</th>\n",
       "      <th>page_rank_not_directed</th>\n",
       "      <th>page_rank_directed</th>\n",
       "      <th>page_rank_directed_inverse</th>\n",
       "      <th>degree_centrality</th>\n",
       "    </tr>\n",
       "  </thead>\n",
       "  <tbody>\n",
       "    <tr>\n",
       "      <th>0</th>\n",
       "      <td>1</td>\n",
       "      <td>CAIDA_class</td>\n",
       "      <td>Transit/Access</td>\n",
       "      <td>0.000025</td>\n",
       "      <td>0.000082</td>\n",
       "      <td>0.000017</td>\n",
       "      <td>0.000196</td>\n",
       "    </tr>\n",
       "    <tr>\n",
       "      <th>1</th>\n",
       "      <td>2</td>\n",
       "      <td>CAIDA_class</td>\n",
       "      <td>Transit/Access</td>\n",
       "      <td>0.000034</td>\n",
       "      <td>0.000162</td>\n",
       "      <td>0.000004</td>\n",
       "      <td>0.000294</td>\n",
       "    </tr>\n",
       "    <tr>\n",
       "      <th>2</th>\n",
       "      <td>3</td>\n",
       "      <td>CAIDA_class</td>\n",
       "      <td>Transit/Access</td>\n",
       "      <td>0.000031</td>\n",
       "      <td>0.000067</td>\n",
       "      <td>0.000092</td>\n",
       "      <td>0.000280</td>\n",
       "    </tr>\n",
       "    <tr>\n",
       "      <th>3</th>\n",
       "      <td>4</td>\n",
       "      <td>CAIDA_class</td>\n",
       "      <td>Transit/Access</td>\n",
       "      <td>0.000028</td>\n",
       "      <td>0.000093</td>\n",
       "      <td>0.000004</td>\n",
       "      <td>0.000210</td>\n",
       "    </tr>\n",
       "    <tr>\n",
       "      <th>4</th>\n",
       "      <td>5</td>\n",
       "      <td>CAIDA_class</td>\n",
       "      <td>Enterprise</td>\n",
       "      <td>0.000016</td>\n",
       "      <td>0.000126</td>\n",
       "      <td>0.000004</td>\n",
       "      <td>0.000098</td>\n",
       "    </tr>\n",
       "  </tbody>\n",
       "</table>\n",
       "</div>"
      ],
      "text/plain": [
       "   ASN source_label           label  page_rank_not_directed  \\\n",
       "0    1  CAIDA_class  Transit/Access                0.000025   \n",
       "1    2  CAIDA_class  Transit/Access                0.000034   \n",
       "2    3  CAIDA_class  Transit/Access                0.000031   \n",
       "3    4  CAIDA_class  Transit/Access                0.000028   \n",
       "4    5  CAIDA_class      Enterprise                0.000016   \n",
       "\n",
       "   page_rank_directed  page_rank_directed_inverse  degree_centrality  \n",
       "0            0.000082                    0.000017           0.000196  \n",
       "1            0.000162                    0.000004           0.000294  \n",
       "2            0.000067                    0.000092           0.000280  \n",
       "3            0.000093                    0.000004           0.000210  \n",
       "4            0.000126                    0.000004           0.000098  "
      ]
     },
     "execution_count": 26,
     "metadata": {},
     "output_type": "execute_result"
    }
   ],
   "source": [
    "AS_dataset.head()"
   ]
  },
  {
   "cell_type": "code",
   "execution_count": 27,
   "id": "bb1b8264",
   "metadata": {},
   "outputs": [],
   "source": [
    "def dictiongraph_Nbnoeud_Asn(fichier_texte):\n",
    "    fichier = open(fichier_texte,\"r\")\n",
    "    dictio = []\n",
    "    memoire=-1\n",
    "    for ligne in fichier:\n",
    "        tabligne = ligne.split(\"|\")\n",
    "        try:\n",
    "            asn1 = int(tabligne[0])\n",
    "            asn2 = int(tabligne[1])\n",
    "            if asn1 != memoire:\n",
    "                dictio.append(asn1)\n",
    "                memoire = asn1\n",
    "            dictio.append(asn2)\n",
    "        except ValueError:\n",
    "            pass\n",
    "    l = arange(len(list(set(dictio))))\n",
    "    dictiofinal =dict_from_list = dict(zip(l, sorted(list(set(dictio)))))\n",
    "    return dictiofinal\n",
    "Dictio_noeud_as = dictiongraph_Nbnoeud_Asn(FILE_PATH)"
   ]
  },
  {
   "cell_type": "code",
   "execution_count": null,
   "id": "6479bce8",
   "metadata": {},
   "outputs": [],
   "source": [
    "def nbtypevoisins2(G):\n",
    "    nbNoeuds = G.number_of_nodes()\n",
    "    Liste_Nb_Voisins_Peering = np.zeros(nbNoeuds)\n",
    "    Liste_Nb_Voisins_Customer = np.zeros(nbNoeuds)\n",
    "    Liste_Nb_Voisins_Provider = np.zeros(nbNoeuds)\n",
    "    for i in range(nbNoeuds):\n",
    "        for j in range(len(G[i])) :\n",
    "            infos = list(G[i].values())[j][\"type\"].split(\"|\")\n",
    "            #print(infos)\n",
    "            type_lien = infos[1]\n",
    "            if type_lien == \"p2p\":\n",
    "\n",
    "                Liste_Nb_Voisins_Peering[i] +=1\n",
    "                #Liste_Nb_Voisins_Peering[dictio_as_noeud[int(asn2)]] +=1\n",
    "            elif type_lien == \"p2c\":\n",
    "                asn1 = infos[0]\n",
    "                asn2 = infos[2]\n",
    "                if int(asn2) == int(Dictio_noeud_as[i]) :\n",
    "                     Liste_Nb_Voisins_Provider[i]+=1                \n",
    "                else :\n",
    "                    Liste_Nb_Voisins_Customer[i]+=1\n",
    "\n",
    "        #print(i)\n",
    "\n",
    "    return Liste_Nb_Voisins_Peering, Liste_Nb_Voisins_Customer, Liste_Nb_Voisins_Provider \n",
    "                \n",
    "#### TEMPS D'EXECUTION : 5min ~\n",
    "L1,L2,L3=nbtypevoisins2(G) "
   ]
  },
  {
   "cell_type": "markdown",
   "id": "863911ef",
   "metadata": {},
   "source": [
    "- ### Vérification de la conformité des listes L1, L2 et L3 par rapport au graphe"
   ]
  },
  {
   "cell_type": "code",
   "execution_count": 69,
   "id": "7841246f",
   "metadata": {},
   "outputs": [
    {
     "name": "stdout",
     "output_type": "stream",
     "text": [
      "Max degree list : 9083.0\n",
      "Max degree index : 2475, max degree ASN : 6939\n",
      "Max degree graph : 9083\n",
      "\n",
      "ASSERT MAX DEGREE OK\n"
     ]
    }
   ],
   "source": [
    "max_degree_list = max(L1 + L2 + L3)\n",
    "highest_degree_graph = max(list(dict(G.degree()).values()))\n",
    "index_max = list(dict(G.degree()).values()).index(highest_degree_graph)\n",
    "ASN_max = list(Dictio_noeud_as.values())[index_max]\n",
    "\n",
    "print(\"Max degree list : \" + str(max_degree_list))\n",
    "print(\"Max degree index : \" + str(index_max) + \", max degree ASN : \" + str(ASN_max))\n",
    "print(\"Max degree graph : \" + str(highest_degree_graph))\n",
    "\n",
    "assert (max_degree_list == highest_degree_graph)\n",
    "print(\"\\nASSERT MAX DEGREE OK\")"
   ]
  },
  {
   "cell_type": "code",
   "execution_count": 70,
   "id": "35ce6b47",
   "metadata": {},
   "outputs": [
    {
     "name": "stdout",
     "output_type": "stream",
     "text": [
      "Max p2p links          : 7250.0, index : 2475, ASN : 6939\n",
      "Max nb customer links  : 6237.0, index : 107, ASN : 174\n",
      "Max nb provider links  : 137.0, index : 11176, ASN : 20940\n"
     ]
    }
   ],
   "source": [
    "# Extraction des maximum de p2p link, customer link et provider link\n",
    "max_p2p, index_max_p2p = np.max(L1), np.argmax(L1)\n",
    "max_c,   index_max_c   = np.max(L2), np.argmax(L2)\n",
    "max_p,   index_max_p   = np.max(L3), np.argmax(L3)\n",
    "\n",
    "print(\"Max p2p links          : \" + str(max_p2p) + \", index : \" + str(index_max_p2p) + \", ASN : \" + str(list(Dictio_noeud_as.values())[index_max_p2p]))\n",
    "print(\"Max nb customer links  : \" + str(max_c)   + \", index : \" + str(index_max_c)   + \", ASN : \" + str(list(Dictio_noeud_as.values())[index_max_c]))\n",
    "print(\"Max nb provider links  : \" + str(max_p)   + \", index : \" + str(index_max_p)   + \", ASN : \" + str(list(Dictio_noeud_as.values())[index_max_p]))"
   ]
  },
  {
   "cell_type": "code",
   "execution_count": 71,
   "id": "42f2045a",
   "metadata": {},
   "outputs": [
    {
     "data": {
      "text/plain": [
       "ASN                                     6939\n",
       "source_label                    peerDB_class\n",
       "label                         Transit/Access\n",
       "page_rank_not_directed               0.00835\n",
       "page_rank_directed                  0.009921\n",
       "page_rank_directed_inverse          0.010811\n",
       "degree_centrality                   0.127154\n",
       "Name: 2475, dtype: object"
      ]
     },
     "execution_count": 71,
     "metadata": {},
     "output_type": "execute_result"
    }
   ],
   "source": [
    "AS_dataset.iloc[index_max_p2p]"
   ]
  },
  {
   "cell_type": "code",
   "execution_count": 72,
   "id": "434c97f3",
   "metadata": {},
   "outputs": [
    {
     "data": {
      "text/plain": [
       "ASN                                      174\n",
       "source_label                    peerDB_class\n",
       "label                         Transit/Access\n",
       "page_rank_not_directed              0.010813\n",
       "page_rank_directed                  0.000129\n",
       "page_rank_directed_inverse          0.009297\n",
       "degree_centrality                   0.088964\n",
       "Name: 107, dtype: object"
      ]
     },
     "execution_count": 72,
     "metadata": {},
     "output_type": "execute_result"
    }
   ],
   "source": [
    "AS_dataset.iloc[index_max_c]"
   ]
  },
  {
   "cell_type": "code",
   "execution_count": 73,
   "id": "86ccdfd6",
   "metadata": {},
   "outputs": [
    {
     "data": {
      "text/plain": [
       "ASN                                  20940\n",
       "source_label                  peerDB_class\n",
       "label                              Content\n",
       "page_rank_not_directed            0.000541\n",
       "page_rank_directed                0.000361\n",
       "page_rank_directed_inverse        0.000734\n",
       "degree_centrality                 0.013271\n",
       "Name: 11176, dtype: object"
      ]
     },
     "execution_count": 73,
     "metadata": {},
     "output_type": "execute_result"
    }
   ],
   "source": [
    "AS_dataset.iloc[index_max_p]"
   ]
  },
  {
   "cell_type": "markdown",
   "id": "10d2fb4f",
   "metadata": {},
   "source": [
    "- ### Ajout des colonnes `peering_links`, `customer_links` et `provider_links`"
   ]
  },
  {
   "cell_type": "code",
   "execution_count": 74,
   "id": "4f654d51",
   "metadata": {},
   "outputs": [],
   "source": [
    "AS_dataset['peering_links'] = L1/max_p2p\n",
    "AS_dataset['customer_links'] = L2/max_c\n",
    "AS_dataset['provider_links'] = L3/max_p\n",
    "\n",
    "assert(AS_dataset['peering_links'][index_max_p2p] == 1)\n",
    "assert(AS_dataset['customer_links'][index_max_c] == 1)\n",
    "assert(AS_dataset['provider_links'][index_max_p] == 1)"
   ]
  },
  {
   "cell_type": "code",
   "execution_count": 75,
   "id": "47067133",
   "metadata": {},
   "outputs": [
    {
     "data": {
      "text/html": [
       "<div>\n",
       "<style scoped>\n",
       "    .dataframe tbody tr th:only-of-type {\n",
       "        vertical-align: middle;\n",
       "    }\n",
       "\n",
       "    .dataframe tbody tr th {\n",
       "        vertical-align: top;\n",
       "    }\n",
       "\n",
       "    .dataframe thead th {\n",
       "        text-align: right;\n",
       "    }\n",
       "</style>\n",
       "<table border=\"1\" class=\"dataframe\">\n",
       "  <thead>\n",
       "    <tr style=\"text-align: right;\">\n",
       "      <th></th>\n",
       "      <th>ASN</th>\n",
       "      <th>source_label</th>\n",
       "      <th>label</th>\n",
       "      <th>page_rank_not_directed</th>\n",
       "      <th>page_rank_directed</th>\n",
       "      <th>page_rank_directed_inverse</th>\n",
       "      <th>degree_centrality</th>\n",
       "      <th>peering_links</th>\n",
       "      <th>customer_links</th>\n",
       "      <th>provider_links</th>\n",
       "    </tr>\n",
       "  </thead>\n",
       "  <tbody>\n",
       "    <tr>\n",
       "      <th>0</th>\n",
       "      <td>1</td>\n",
       "      <td>CAIDA_class</td>\n",
       "      <td>Transit/Access</td>\n",
       "      <td>0.000025</td>\n",
       "      <td>0.000082</td>\n",
       "      <td>0.000017</td>\n",
       "      <td>0.000196</td>\n",
       "      <td>0.000276</td>\n",
       "      <td>0.000321</td>\n",
       "      <td>0.072993</td>\n",
       "    </tr>\n",
       "    <tr>\n",
       "      <th>1</th>\n",
       "      <td>2</td>\n",
       "      <td>CAIDA_class</td>\n",
       "      <td>Transit/Access</td>\n",
       "      <td>0.000034</td>\n",
       "      <td>0.000162</td>\n",
       "      <td>0.000004</td>\n",
       "      <td>0.000294</td>\n",
       "      <td>0.000138</td>\n",
       "      <td>0.000321</td>\n",
       "      <td>0.131387</td>\n",
       "    </tr>\n",
       "    <tr>\n",
       "      <th>2</th>\n",
       "      <td>3</td>\n",
       "      <td>CAIDA_class</td>\n",
       "      <td>Transit/Access</td>\n",
       "      <td>0.000031</td>\n",
       "      <td>0.000067</td>\n",
       "      <td>0.000092</td>\n",
       "      <td>0.000280</td>\n",
       "      <td>0.000690</td>\n",
       "      <td>0.000160</td>\n",
       "      <td>0.102190</td>\n",
       "    </tr>\n",
       "    <tr>\n",
       "      <th>3</th>\n",
       "      <td>4</td>\n",
       "      <td>CAIDA_class</td>\n",
       "      <td>Transit/Access</td>\n",
       "      <td>0.000028</td>\n",
       "      <td>0.000093</td>\n",
       "      <td>0.000004</td>\n",
       "      <td>0.000210</td>\n",
       "      <td>0.000276</td>\n",
       "      <td>0.000160</td>\n",
       "      <td>0.087591</td>\n",
       "    </tr>\n",
       "    <tr>\n",
       "      <th>4</th>\n",
       "      <td>5</td>\n",
       "      <td>CAIDA_class</td>\n",
       "      <td>Enterprise</td>\n",
       "      <td>0.000016</td>\n",
       "      <td>0.000126</td>\n",
       "      <td>0.000004</td>\n",
       "      <td>0.000098</td>\n",
       "      <td>0.000276</td>\n",
       "      <td>0.000000</td>\n",
       "      <td>0.036496</td>\n",
       "    </tr>\n",
       "  </tbody>\n",
       "</table>\n",
       "</div>"
      ],
      "text/plain": [
       "   ASN source_label           label  page_rank_not_directed  \\\n",
       "0    1  CAIDA_class  Transit/Access                0.000025   \n",
       "1    2  CAIDA_class  Transit/Access                0.000034   \n",
       "2    3  CAIDA_class  Transit/Access                0.000031   \n",
       "3    4  CAIDA_class  Transit/Access                0.000028   \n",
       "4    5  CAIDA_class      Enterprise                0.000016   \n",
       "\n",
       "   page_rank_directed  page_rank_directed_inverse  degree_centrality  \\\n",
       "0            0.000082                    0.000017           0.000196   \n",
       "1            0.000162                    0.000004           0.000294   \n",
       "2            0.000067                    0.000092           0.000280   \n",
       "3            0.000093                    0.000004           0.000210   \n",
       "4            0.000126                    0.000004           0.000098   \n",
       "\n",
       "   peering_links  customer_links  provider_links  \n",
       "0       0.000276        0.000321        0.072993  \n",
       "1       0.000138        0.000321        0.131387  \n",
       "2       0.000690        0.000160        0.102190  \n",
       "3       0.000276        0.000160        0.087591  \n",
       "4       0.000276        0.000000        0.036496  "
      ]
     },
     "execution_count": 75,
     "metadata": {},
     "output_type": "execute_result"
    }
   ],
   "source": [
    "AS_dataset.head()"
   ]
  },
  {
   "cell_type": "markdown",
   "id": "96e54f86",
   "metadata": {},
   "source": [
    "- ### Ajout des colonnes `is_Content`, `is_Transit` et `is_Enterprise`\n",
    "\n",
    "En effet, la colonne `label` est une **catégorie non ordinale**. Il faut donc la transformer en vecteur de valeur binaire, qui sera donné au GCN. <br> **On a alors :** <br><br>\n",
    "dataset['is_Content'][i] = 1 ⇔ le noeud i du graphe est de type `Content` <br>\n",
    "dataset['is_Transit'][i] = 1 ⇔ le noeud i du graphe est de type `Transit/Access` <br>\n",
    "dataset['is_Enterprise'][i] = 1 ⇔ le noeud i du graphe est de type `Enterprise` <br>"
   ]
  },
  {
   "cell_type": "code",
   "execution_count": 76,
   "id": "36554d29",
   "metadata": {},
   "outputs": [],
   "source": [
    "AS_dataset['is_Content'] = (AS_dataset['label'] == 'Content').astype(int)\n",
    "AS_dataset['is_Transit'] = (AS_dataset['label'] == 'Transit/Access').astype(int)\n",
    "AS_dataset['is_Enterprise'] = (AS_dataset['label'] == 'Enterprise').astype(int)"
   ]
  },
  {
   "cell_type": "code",
   "execution_count": 77,
   "id": "e34133c7",
   "metadata": {},
   "outputs": [
    {
     "data": {
      "text/html": [
       "<div>\n",
       "<style scoped>\n",
       "    .dataframe tbody tr th:only-of-type {\n",
       "        vertical-align: middle;\n",
       "    }\n",
       "\n",
       "    .dataframe tbody tr th {\n",
       "        vertical-align: top;\n",
       "    }\n",
       "\n",
       "    .dataframe thead th {\n",
       "        text-align: right;\n",
       "    }\n",
       "</style>\n",
       "<table border=\"1\" class=\"dataframe\">\n",
       "  <thead>\n",
       "    <tr style=\"text-align: right;\">\n",
       "      <th></th>\n",
       "      <th>ASN</th>\n",
       "      <th>source_label</th>\n",
       "      <th>label</th>\n",
       "      <th>page_rank_not_directed</th>\n",
       "      <th>page_rank_directed</th>\n",
       "      <th>page_rank_directed_inverse</th>\n",
       "      <th>degree_centrality</th>\n",
       "      <th>peering_links</th>\n",
       "      <th>customer_links</th>\n",
       "      <th>provider_links</th>\n",
       "      <th>is_Content</th>\n",
       "      <th>is_Transit</th>\n",
       "      <th>is_Enterprise</th>\n",
       "    </tr>\n",
       "  </thead>\n",
       "  <tbody>\n",
       "    <tr>\n",
       "      <th>0</th>\n",
       "      <td>1</td>\n",
       "      <td>CAIDA_class</td>\n",
       "      <td>Transit/Access</td>\n",
       "      <td>0.000025</td>\n",
       "      <td>0.000082</td>\n",
       "      <td>0.000017</td>\n",
       "      <td>0.000196</td>\n",
       "      <td>0.000276</td>\n",
       "      <td>0.000321</td>\n",
       "      <td>0.072993</td>\n",
       "      <td>0</td>\n",
       "      <td>1</td>\n",
       "      <td>0</td>\n",
       "    </tr>\n",
       "    <tr>\n",
       "      <th>1</th>\n",
       "      <td>2</td>\n",
       "      <td>CAIDA_class</td>\n",
       "      <td>Transit/Access</td>\n",
       "      <td>0.000034</td>\n",
       "      <td>0.000162</td>\n",
       "      <td>0.000004</td>\n",
       "      <td>0.000294</td>\n",
       "      <td>0.000138</td>\n",
       "      <td>0.000321</td>\n",
       "      <td>0.131387</td>\n",
       "      <td>0</td>\n",
       "      <td>1</td>\n",
       "      <td>0</td>\n",
       "    </tr>\n",
       "    <tr>\n",
       "      <th>2</th>\n",
       "      <td>3</td>\n",
       "      <td>CAIDA_class</td>\n",
       "      <td>Transit/Access</td>\n",
       "      <td>0.000031</td>\n",
       "      <td>0.000067</td>\n",
       "      <td>0.000092</td>\n",
       "      <td>0.000280</td>\n",
       "      <td>0.000690</td>\n",
       "      <td>0.000160</td>\n",
       "      <td>0.102190</td>\n",
       "      <td>0</td>\n",
       "      <td>1</td>\n",
       "      <td>0</td>\n",
       "    </tr>\n",
       "    <tr>\n",
       "      <th>3</th>\n",
       "      <td>4</td>\n",
       "      <td>CAIDA_class</td>\n",
       "      <td>Transit/Access</td>\n",
       "      <td>0.000028</td>\n",
       "      <td>0.000093</td>\n",
       "      <td>0.000004</td>\n",
       "      <td>0.000210</td>\n",
       "      <td>0.000276</td>\n",
       "      <td>0.000160</td>\n",
       "      <td>0.087591</td>\n",
       "      <td>0</td>\n",
       "      <td>1</td>\n",
       "      <td>0</td>\n",
       "    </tr>\n",
       "    <tr>\n",
       "      <th>4</th>\n",
       "      <td>5</td>\n",
       "      <td>CAIDA_class</td>\n",
       "      <td>Enterprise</td>\n",
       "      <td>0.000016</td>\n",
       "      <td>0.000126</td>\n",
       "      <td>0.000004</td>\n",
       "      <td>0.000098</td>\n",
       "      <td>0.000276</td>\n",
       "      <td>0.000000</td>\n",
       "      <td>0.036496</td>\n",
       "      <td>0</td>\n",
       "      <td>0</td>\n",
       "      <td>1</td>\n",
       "    </tr>\n",
       "  </tbody>\n",
       "</table>\n",
       "</div>"
      ],
      "text/plain": [
       "   ASN source_label           label  page_rank_not_directed  \\\n",
       "0    1  CAIDA_class  Transit/Access                0.000025   \n",
       "1    2  CAIDA_class  Transit/Access                0.000034   \n",
       "2    3  CAIDA_class  Transit/Access                0.000031   \n",
       "3    4  CAIDA_class  Transit/Access                0.000028   \n",
       "4    5  CAIDA_class      Enterprise                0.000016   \n",
       "\n",
       "   page_rank_directed  page_rank_directed_inverse  degree_centrality  \\\n",
       "0            0.000082                    0.000017           0.000196   \n",
       "1            0.000162                    0.000004           0.000294   \n",
       "2            0.000067                    0.000092           0.000280   \n",
       "3            0.000093                    0.000004           0.000210   \n",
       "4            0.000126                    0.000004           0.000098   \n",
       "\n",
       "   peering_links  customer_links  provider_links  is_Content  is_Transit  \\\n",
       "0       0.000276        0.000321        0.072993           0           1   \n",
       "1       0.000138        0.000321        0.131387           0           1   \n",
       "2       0.000690        0.000160        0.102190           0           1   \n",
       "3       0.000276        0.000160        0.087591           0           1   \n",
       "4       0.000276        0.000000        0.036496           0           0   \n",
       "\n",
       "   is_Enterprise  \n",
       "0              0  \n",
       "1              0  \n",
       "2              0  \n",
       "3              0  \n",
       "4              1  "
      ]
     },
     "execution_count": 77,
     "metadata": {},
     "output_type": "execute_result"
    }
   ],
   "source": [
    "AS_dataset.head()"
   ]
  },
  {
   "cell_type": "markdown",
   "id": "058f0df6",
   "metadata": {},
   "source": [
    "- ### Modification de la colonne `label`\n",
    "\n",
    "On transforme la **catégorie non ordinale** en 3 classes entières :\n",
    " - *Content* ⇔ $0$\n",
    " - *Transit/Access* ⇔ $1$\n",
    " - *Enterprise* ⇔ $2$"
   ]
  },
  {
   "cell_type": "code",
   "execution_count": 78,
   "id": "45f26c9a",
   "metadata": {},
   "outputs": [],
   "source": [
    "AS_dataset['label'] = AS_dataset['label'].map({'Content': 0, 'Transit/Access': 1, 'Enterprise': 2})"
   ]
  },
  {
   "cell_type": "code",
   "execution_count": 79,
   "id": "90d7460e",
   "metadata": {},
   "outputs": [
    {
     "data": {
      "text/html": [
       "<div>\n",
       "<style scoped>\n",
       "    .dataframe tbody tr th:only-of-type {\n",
       "        vertical-align: middle;\n",
       "    }\n",
       "\n",
       "    .dataframe tbody tr th {\n",
       "        vertical-align: top;\n",
       "    }\n",
       "\n",
       "    .dataframe thead th {\n",
       "        text-align: right;\n",
       "    }\n",
       "</style>\n",
       "<table border=\"1\" class=\"dataframe\">\n",
       "  <thead>\n",
       "    <tr style=\"text-align: right;\">\n",
       "      <th></th>\n",
       "      <th>ASN</th>\n",
       "      <th>source_label</th>\n",
       "      <th>label</th>\n",
       "      <th>page_rank_not_directed</th>\n",
       "      <th>page_rank_directed</th>\n",
       "      <th>page_rank_directed_inverse</th>\n",
       "      <th>degree_centrality</th>\n",
       "      <th>peering_links</th>\n",
       "      <th>customer_links</th>\n",
       "      <th>provider_links</th>\n",
       "      <th>is_Content</th>\n",
       "      <th>is_Transit</th>\n",
       "      <th>is_Enterprise</th>\n",
       "    </tr>\n",
       "  </thead>\n",
       "  <tbody>\n",
       "    <tr>\n",
       "      <th>0</th>\n",
       "      <td>1</td>\n",
       "      <td>CAIDA_class</td>\n",
       "      <td>1</td>\n",
       "      <td>0.000025</td>\n",
       "      <td>0.000082</td>\n",
       "      <td>0.000017</td>\n",
       "      <td>0.000196</td>\n",
       "      <td>0.000276</td>\n",
       "      <td>0.000321</td>\n",
       "      <td>0.072993</td>\n",
       "      <td>0</td>\n",
       "      <td>1</td>\n",
       "      <td>0</td>\n",
       "    </tr>\n",
       "    <tr>\n",
       "      <th>1</th>\n",
       "      <td>2</td>\n",
       "      <td>CAIDA_class</td>\n",
       "      <td>1</td>\n",
       "      <td>0.000034</td>\n",
       "      <td>0.000162</td>\n",
       "      <td>0.000004</td>\n",
       "      <td>0.000294</td>\n",
       "      <td>0.000138</td>\n",
       "      <td>0.000321</td>\n",
       "      <td>0.131387</td>\n",
       "      <td>0</td>\n",
       "      <td>1</td>\n",
       "      <td>0</td>\n",
       "    </tr>\n",
       "    <tr>\n",
       "      <th>2</th>\n",
       "      <td>3</td>\n",
       "      <td>CAIDA_class</td>\n",
       "      <td>1</td>\n",
       "      <td>0.000031</td>\n",
       "      <td>0.000067</td>\n",
       "      <td>0.000092</td>\n",
       "      <td>0.000280</td>\n",
       "      <td>0.000690</td>\n",
       "      <td>0.000160</td>\n",
       "      <td>0.102190</td>\n",
       "      <td>0</td>\n",
       "      <td>1</td>\n",
       "      <td>0</td>\n",
       "    </tr>\n",
       "    <tr>\n",
       "      <th>3</th>\n",
       "      <td>4</td>\n",
       "      <td>CAIDA_class</td>\n",
       "      <td>1</td>\n",
       "      <td>0.000028</td>\n",
       "      <td>0.000093</td>\n",
       "      <td>0.000004</td>\n",
       "      <td>0.000210</td>\n",
       "      <td>0.000276</td>\n",
       "      <td>0.000160</td>\n",
       "      <td>0.087591</td>\n",
       "      <td>0</td>\n",
       "      <td>1</td>\n",
       "      <td>0</td>\n",
       "    </tr>\n",
       "    <tr>\n",
       "      <th>4</th>\n",
       "      <td>5</td>\n",
       "      <td>CAIDA_class</td>\n",
       "      <td>2</td>\n",
       "      <td>0.000016</td>\n",
       "      <td>0.000126</td>\n",
       "      <td>0.000004</td>\n",
       "      <td>0.000098</td>\n",
       "      <td>0.000276</td>\n",
       "      <td>0.000000</td>\n",
       "      <td>0.036496</td>\n",
       "      <td>0</td>\n",
       "      <td>0</td>\n",
       "      <td>1</td>\n",
       "    </tr>\n",
       "  </tbody>\n",
       "</table>\n",
       "</div>"
      ],
      "text/plain": [
       "   ASN source_label  label  page_rank_not_directed  page_rank_directed  \\\n",
       "0    1  CAIDA_class      1                0.000025            0.000082   \n",
       "1    2  CAIDA_class      1                0.000034            0.000162   \n",
       "2    3  CAIDA_class      1                0.000031            0.000067   \n",
       "3    4  CAIDA_class      1                0.000028            0.000093   \n",
       "4    5  CAIDA_class      2                0.000016            0.000126   \n",
       "\n",
       "   page_rank_directed_inverse  degree_centrality  peering_links  \\\n",
       "0                    0.000017           0.000196       0.000276   \n",
       "1                    0.000004           0.000294       0.000138   \n",
       "2                    0.000092           0.000280       0.000690   \n",
       "3                    0.000004           0.000210       0.000276   \n",
       "4                    0.000004           0.000098       0.000276   \n",
       "\n",
       "   customer_links  provider_links  is_Content  is_Transit  is_Enterprise  \n",
       "0        0.000321        0.072993           0           1              0  \n",
       "1        0.000321        0.131387           0           1              0  \n",
       "2        0.000160        0.102190           0           1              0  \n",
       "3        0.000160        0.087591           0           1              0  \n",
       "4        0.000000        0.036496           0           0              1  "
      ]
     },
     "execution_count": 79,
     "metadata": {},
     "output_type": "execute_result"
    }
   ],
   "source": [
    "AS_dataset.head()"
   ]
  },
  {
   "cell_type": "markdown",
   "id": "faaffd91",
   "metadata": {},
   "source": [
    "#### TO DO :\n",
    "- Afficher les n noeuds de plus haut degré du graphe G, avec les infos du ASN correspondant (en utilisant l'API de CAIDA)\n",
    "- Trouver d'autres visualisations de ce jeu de donnée qui le caractérisent."
   ]
  },
  {
   "cell_type": "markdown",
   "id": "d747538e",
   "metadata": {},
   "source": [
    "### Exportation des données : `dataset` et `graph`\n",
    "\n",
    "On crée 4 fichiers : \n",
    "- Le `dataset`complet \n",
    "- Le `graphe` nx au format pickle\n",
    "- Le `graphe_float` nx au format pickle\n",
    "- Le `graphe_array` nx au format pickle"
   ]
  },
  {
   "cell_type": "code",
   "execution_count": 80,
   "id": "b66dea77",
   "metadata": {},
   "outputs": [],
   "source": [
    "# Exportation des données\n",
    "\n",
    "suffix = FILE_PATH.split('/')[3].split('.')[0]\n",
    "\n",
    "AS_dataset.to_csv('data_GCN/dataset_'+suffix+'.csv', index=False)\n",
    "nx.write_gpickle(G, 'data_GCN/graph_'+suffix+'.pickle')\n",
    "nx.write_gpickle(G_float, 'data_GCN/graph_float_'+suffix+'.pickle')\n",
    "nx.write_gpickle(G_array, 'data_GCN/graph_array_'+suffix+'.pickle')"
   ]
  },
  {
   "cell_type": "code",
   "execution_count": null,
   "id": "c5d916af",
   "metadata": {},
   "outputs": [],
   "source": []
  }
 ],
 "metadata": {
  "kernelspec": {
   "display_name": "Python 3 (ipykernel)",
   "language": "python",
   "name": "python3"
  },
  "language_info": {
   "codemirror_mode": {
    "name": "ipython",
    "version": 3
   },
   "file_extension": ".py",
   "mimetype": "text/x-python",
   "name": "python",
   "nbconvert_exporter": "python",
   "pygments_lexer": "ipython3",
   "version": "3.9.5"
  }
 },
 "nbformat": 4,
 "nbformat_minor": 5
}
