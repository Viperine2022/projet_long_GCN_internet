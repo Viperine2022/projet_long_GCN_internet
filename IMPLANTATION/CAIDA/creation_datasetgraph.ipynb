{
 "cells": [
  {
   "cell_type": "markdown",
   "id": "77fbc303",
   "metadata": {},
   "source": [
    "## Script de création de graphe\n",
    "cf base de donnée CAIDA : https://publicdata.caida.org/datasets/as-relationships/serial-2/\n"
   ]
  },
  {
   "cell_type": "markdown",
   "id": "9b9b3bec",
   "metadata": {},
   "source": [
    "**README :**\n",
    " \n",
    "The as-rel file contain p2p and p2c relationships.\n",
    "The format is:\n",
    "\n",
    "`<provider-as>|<customer-as>|-1` <br>\n",
    "`<peer-as>|<peer-as>|0|<source>`\n",
    "\n",
    "    \n",
    "Example : \n",
    "    \n",
    "\n",
    "`1|2|-1|bgp`             <br>\n",
    "`1|11537|0|bgp`          <br>\n",
    "`1|200863|-1|bgp`        <br>\n",
    "`1|267222|0|bgp`         <br>\n",
    "`2|21954|0|bgp`          <br>\n",
    "`2|29447|-1|bgp`         <br>\n",
    "`2|200863|-1|bgp`        <br>\n",
    "`3|293|0|bgp`            <br>\n",
    "`3|6939|0|bgp`           <br>\n",
    "`3|37619|0|bgp`          <br>\n",
    "`3|133967|0|bgp`         <br>\n",
    "`3|206960|0|bgp`         <br>\n",
    "`3|264381|-1|bgp`        <br>\n",
    "`4|7633|-1|bgp`          <br>\n",
    "\n",
    "\n",
    "About 500 000 lignes of this type\n",
    "\n",
    "\n",
    "\n",
    "Data classified among 3 classes :\n",
    "\n",
    "``Content``          <br>\n",
    "``Transit/Access``   <br>\n",
    "``Enterprise``       <br>"
   ]
  },
  {
   "cell_type": "code",
   "execution_count": 85,
   "id": "a3b4efe8",
   "metadata": {},
   "outputs": [],
   "source": [
    "# Python ≥3.5 is required\n",
    "import sys\n",
    "assert sys.version_info >= (3, 5)\n",
    "\n",
    "# Common imports\n",
    "import numpy as np\n",
    "import os\n",
    "import pandas as pd\n",
    "import networkx as nx\n",
    "import pickle\n",
    "os.popen(\"export DGLBACKEND=pytorch\")\n",
    "#import dgl as dgl\n",
    "import time\n",
    "from sklearn import preprocessing\n",
    "\n",
    "# To plot pretty figures\n",
    "%matplotlib inline\n",
    "import matplotlib as mpl\n",
    "import matplotlib.pyplot as plt\n",
    "from numpy import arange"
   ]
  },
  {
   "cell_type": "markdown",
   "id": "bcdc80c9",
   "metadata": {},
   "source": [
    "#### Définition diverses de fonction (utilisant du bash) permettant de vérifier que le graphe a été bien créé"
   ]
  },
  {
   "cell_type": "code",
   "execution_count": 86,
   "id": "bbc75423",
   "metadata": {},
   "outputs": [],
   "source": [
    "# Fichier au choix parmi ceux de ./data/CAIDA_AS_RELATIONSHIP\n",
    "\n",
    "#FILE_PATH='./data/CAIDA_AS_RELATIONSHIP/20200101.as-rel2.txt'\n",
    "FILE_PATH='./data/CAIDA_AS_RELATIONSHIP/20210301.as-rel2.txt'"
   ]
  },
  {
   "cell_type": "code",
   "execution_count": 87,
   "id": "a0487284",
   "metadata": {},
   "outputs": [],
   "source": [
    "def encadre(message):\n",
    "    print(\"\\n****************************\")\n",
    "    print(message)\n",
    "    print(\"****************************\\n\")\n",
    "\n",
    "def nb_nodes_of_file(file):\n",
    "    return int(os.popen(\"cat %s | grep \\\"^[0-9][0-9]*\\\" | awk -F \\\"|\\\" '{ print $1 \\\"\\\\n\\\" $2 }' | sort -h | uniq | wc -l\" %file).read())\n",
    "    \n",
    "#def nb_edges_of_file(file):\n",
    "#    return os.popen(\"cat %s | grep \\\"^[0-9][0-9]*\\\" | awk -F \\\"|\\\" '{ print $1 \\\"\\\\n\\\" $2 }' | sort -h | uniq | wc -l\" %file).read()\n",
    "\n",
    "def list_nodes_sorted(file):\n",
    "    return os.popen(\"cat %s | grep \\\"^[0-9][0-9]*\\\" | awk -F \\\"|\\\" '{ print $1 \\\"\\\\n\\\" $2 }' | sort -h | uniq\" %file).read()\n",
    "\n",
    "def nb_peering_customer_provider(ASN):\n",
    "    nb_peerings =  os.popen(\"cat %s | grep \\\"^%s|\\||%s|\\\" | grep -v \\\".*\\-1\\\" | wc -l\" % (FILE_PATH, ASN, ASN)).read()\n",
    "    nb_customers = os.popen(\"cat %s | grep \\\"^%s|.*\\-1\\\" |wc -l \" % (FILE_PATH, ASN)).read()\n",
    "    nb_providers = os.popen(\"cat %s | grep \\\"|%s|\\-1\\\" | wc -l\" % (FILE_PATH, ASN)).read()\n",
    "    return nb_peerings.split(\"\\n\")[0], nb_customers.split(\"\\n\")[0], nb_providers.split(\"\\n\")[0]\n",
    "\n",
    "def csv_dataset(file):\n",
    "    return os.popen()"
   ]
  },
  {
   "cell_type": "code",
   "execution_count": 88,
   "id": "519e52f6",
   "metadata": {},
   "outputs": [
    {
     "name": "stdout",
     "output_type": "stream",
     "text": [
      "Nb nodes of file : 71434\n"
     ]
    }
   ],
   "source": [
    "nb_nodes_file = nb_nodes_of_file(FILE_PATH)\n",
    "print(\"Nb nodes of file : \" + str(nb_nodes_file))"
   ]
  },
  {
   "cell_type": "code",
   "execution_count": 89,
   "id": "a6eb1083",
   "metadata": {},
   "outputs": [
    {
     "name": "stdout",
     "output_type": "stream",
     "text": [
      "Link types and number (p2p, c, p) of node index 4 : ('2', '1', '12')\n"
     ]
    }
   ],
   "source": [
    "nb_type_links = nb_peering_customer_provider(4)\n",
    "print(\"Link types and number (p2p, c, p) of node index 4 : \" + str(nb_type_links))"
   ]
  },
  {
   "cell_type": "markdown",
   "id": "39cece85",
   "metadata": {},
   "source": [
    "### Panda Datasets"
   ]
  },
  {
   "cell_type": "code",
   "execution_count": 90,
   "id": "74b1b53c",
   "metadata": {},
   "outputs": [],
   "source": [
    "#AS_dataset_202001 = pd.read_csv('data/CAIDA_AS_CLASSIFICATION/20200101.as2types.txt', sep='|')\n",
    "AS_dataset = pd.read_csv('data/CAIDA_AS_CLASSIFICATION/20210301.as2types.txt', sep='|')\n",
    "\n",
    "### ATTENTION : si erreur, lancer le script `./sort_datasets.sh -h`\n",
    "\n",
    "# Vérif nombre de noeuds\n",
    "assert (len(AS_dataset.index) == nb_nodes_file)"
   ]
  },
  {
   "cell_type": "code",
   "execution_count": 91,
   "id": "c88332e2",
   "metadata": {},
   "outputs": [
    {
     "name": "stdout",
     "output_type": "stream",
     "text": [
      "<class 'pandas.core.frame.DataFrame'>\n",
      "RangeIndex: 71434 entries, 0 to 71433\n",
      "Data columns (total 3 columns):\n",
      " #   Column        Non-Null Count  Dtype \n",
      "---  ------        --------------  ----- \n",
      " 0   ASN           71434 non-null  int64 \n",
      " 1   source_label  71434 non-null  object\n",
      " 2   label         71434 non-null  object\n",
      "dtypes: int64(1), object(2)\n",
      "memory usage: 1.6+ MB\n"
     ]
    }
   ],
   "source": [
    "AS_dataset.info()"
   ]
  },
  {
   "cell_type": "code",
   "execution_count": 92,
   "id": "1f70de3b",
   "metadata": {},
   "outputs": [
    {
     "name": "stdout",
     "output_type": "stream",
     "text": [
      "Transit/Access    54367\n",
      "Enterprise        13632\n",
      "Content            3435\n",
      "Name: label, dtype: int64\n",
      "\n",
      "\n",
      "CAIDA_class     57895\n",
      "peerDB_class    12889\n",
      "manual_class      650\n",
      "Name: source_label, dtype: int64\n"
     ]
    }
   ],
   "source": [
    "print(AS_dataset[\"label\"].value_counts())\n",
    "print(\"\\n\")\n",
    "print(AS_dataset[\"source_label\"].value_counts())"
   ]
  },
  {
   "cell_type": "code",
   "execution_count": 93,
   "id": "cf2bbd70",
   "metadata": {},
   "outputs": [
    {
     "data": {
      "text/plain": [
       "<AxesSubplot:>"
      ]
     },
     "execution_count": 93,
     "metadata": {},
     "output_type": "execute_result"
    },
    {
     "data": {
      "image/png": "[encoded data removed]",
      "text/plain": [
       "<Figure size 432x288 with 1 Axes>"
      ]
     },
     "metadata": {
      "needs_background": "light"
     },
     "output_type": "display_data"
    }
   ],
   "source": [
    "AS_dataset[\"label\"].value_counts(normalize=True).plot(kind='barh', grid=True)"
   ]
  },
  {
   "cell_type": "code",
   "execution_count": 94,
   "id": "5599f4d7",
   "metadata": {},
   "outputs": [
    {
     "data": {
      "image/png": "[encoded data removed]",
      "text/plain": [
       "<Figure size 504x504 with 1 Axes>"
      ]
     },
     "metadata": {},
     "output_type": "display_data"
    }
   ],
   "source": [
    "my_circle = plt.Circle( (0,0), 0.7, color='white')\n",
    "plt.pie(AS_dataset['label'].value_counts(), labels=['Transit/Access', 'Enterprise', 'Content'],autopct='%1.1f%%')\n",
    "fig = plt.gcf()\n",
    "fig.gca().add_artist(my_circle)\n",
    "fig.set_size_inches(7,7)\n",
    "plt.show()"
   ]
  },
  {
   "cell_type": "code",
   "execution_count": 95,
   "id": "9cb719c2",
   "metadata": {},
   "outputs": [
    {
     "data": {
      "text/html": [
       "<div>\n",
       "<style scoped>\n",
       "    .dataframe tbody tr th:only-of-type {\n",
       "        vertical-align: middle;\n",
       "    }\n",
       "\n",
       "    .dataframe tbody tr th {\n",
       "        vertical-align: top;\n",
       "    }\n",
       "\n",
       "    .dataframe thead th {\n",
       "        text-align: right;\n",
       "    }\n",
       "</style>\n",
       "<table border=\"1\" class=\"dataframe\">\n",
       "  <thead>\n",
       "    <tr style=\"text-align: right;\">\n",
       "      <th></th>\n",
       "      <th>ASN</th>\n",
       "      <th>source_label</th>\n",
       "      <th>label</th>\n",
       "    </tr>\n",
       "  </thead>\n",
       "  <tbody>\n",
       "    <tr>\n",
       "      <th>0</th>\n",
       "      <td>1</td>\n",
       "      <td>CAIDA_class</td>\n",
       "      <td>Transit/Access</td>\n",
       "    </tr>\n",
       "    <tr>\n",
       "      <th>1</th>\n",
       "      <td>2</td>\n",
       "      <td>CAIDA_class</td>\n",
       "      <td>Transit/Access</td>\n",
       "    </tr>\n",
       "    <tr>\n",
       "      <th>2</th>\n",
       "      <td>3</td>\n",
       "      <td>CAIDA_class</td>\n",
       "      <td>Transit/Access</td>\n",
       "    </tr>\n",
       "    <tr>\n",
       "      <th>3</th>\n",
       "      <td>4</td>\n",
       "      <td>CAIDA_class</td>\n",
       "      <td>Transit/Access</td>\n",
       "    </tr>\n",
       "    <tr>\n",
       "      <th>4</th>\n",
       "      <td>5</td>\n",
       "      <td>CAIDA_class</td>\n",
       "      <td>Enterprise</td>\n",
       "    </tr>\n",
       "    <tr>\n",
       "      <th>5</th>\n",
       "      <td>6</td>\n",
       "      <td>CAIDA_class</td>\n",
       "      <td>Content</td>\n",
       "    </tr>\n",
       "    <tr>\n",
       "      <th>6</th>\n",
       "      <td>7</td>\n",
       "      <td>CAIDA_class</td>\n",
       "      <td>Enterprise</td>\n",
       "    </tr>\n",
       "    <tr>\n",
       "      <th>7</th>\n",
       "      <td>8</td>\n",
       "      <td>CAIDA_class</td>\n",
       "      <td>Transit/Access</td>\n",
       "    </tr>\n",
       "    <tr>\n",
       "      <th>8</th>\n",
       "      <td>9</td>\n",
       "      <td>CAIDA_class</td>\n",
       "      <td>Transit/Access</td>\n",
       "    </tr>\n",
       "    <tr>\n",
       "      <th>9</th>\n",
       "      <td>10</td>\n",
       "      <td>CAIDA_class</td>\n",
       "      <td>Transit/Access</td>\n",
       "    </tr>\n",
       "  </tbody>\n",
       "</table>\n",
       "</div>"
      ],
      "text/plain": [
       "   ASN source_label           label\n",
       "0    1  CAIDA_class  Transit/Access\n",
       "1    2  CAIDA_class  Transit/Access\n",
       "2    3  CAIDA_class  Transit/Access\n",
       "3    4  CAIDA_class  Transit/Access\n",
       "4    5  CAIDA_class      Enterprise\n",
       "5    6  CAIDA_class         Content\n",
       "6    7  CAIDA_class      Enterprise\n",
       "7    8  CAIDA_class  Transit/Access\n",
       "8    9  CAIDA_class  Transit/Access\n",
       "9   10  CAIDA_class  Transit/Access"
      ]
     },
     "execution_count": 95,
     "metadata": {},
     "output_type": "execute_result"
    }
   ],
   "source": [
    "AS_dataset.head(10)"
   ]
  },
  {
   "cell_type": "code",
   "execution_count": 96,
   "id": "d386056d",
   "metadata": {},
   "outputs": [],
   "source": [
    "def dictiongraph(fichier_texte):\n",
    "    fichier = open(fichier_texte,\"r\")\n",
    "    dictio = []\n",
    "    memoire=-1\n",
    "    for ligne in fichier:\n",
    "        tabligne = ligne.split(\"|\")\n",
    "        try:\n",
    "            asn1 = int(tabligne[0])\n",
    "            asn2 = int(tabligne[1])\n",
    "            if asn1 != memoire:\n",
    "                dictio.append(asn1)\n",
    "                memoire = asn1\n",
    "            dictio.append(asn2)\n",
    "        except ValueError:\n",
    "            pass\n",
    "    l = arange(len(list(set(dictio))))\n",
    "    dictiofinal =dict_from_list = dict(zip(sorted(list(set(dictio))), l))\n",
    "    return dictiofinal"
   ]
  },
  {
   "cell_type": "code",
   "execution_count": 97,
   "id": "b5b51058",
   "metadata": {},
   "outputs": [],
   "source": [
    "def creation_graph(fichier_texte):\n",
    "    G = nx.Graph() \n",
    "    fichier = open(fichier_texte,\"r\")\n",
    "    cpt = 0\n",
    "    memoire = -1\n",
    "    dictio = dictiongraph(fichier_texte)\n",
    "    i=0\n",
    "    #Ajout de tous les noeuds\n",
    "    for num_as in dictio :\n",
    "        G.add_node(i,asn=num_as)\n",
    "        i+=1\n",
    "    #Ajout des arêtes\n",
    "    for ligne in fichier:\n",
    "        tabligne = ligne.split(\"|\")\n",
    "        try:\n",
    "            asn1 = int(tabligne[0])\n",
    "            asn2 = int(tabligne[1])\n",
    "            info = int(tabligne[2])\n",
    "            if info == 0 :\n",
    "                G.add_edge(dictio[asn1],dictio[asn2],type= str(asn1) + '|p2p|' +str(asn2))\n",
    "            elif info == -1 :\n",
    "                G.add_edge(dictio[asn1],dictio[asn2],type=str(asn1) + '|p2c|' +str(asn2))\n",
    "        except ValueError:\n",
    "            pass\n",
    "    return G"
   ]
  },
  {
   "cell_type": "code",
   "execution_count": 98,
   "id": "42eee71d",
   "metadata": {},
   "outputs": [],
   "source": [
    "G = creation_graph(FILE_PATH)"
   ]
  },
  {
   "cell_type": "code",
   "execution_count": 99,
   "id": "aeccbfea",
   "metadata": {},
   "outputs": [],
   "source": [
    "def creation_graph_dirige(fichier_texte):\n",
    "    G = nx.DiGraph()\n",
    "    fichier = open(fichier_texte,\"r\")\n",
    "    cpt = 0\n",
    "    memoire = -1\n",
    "    dictio = dictiongraph(fichier_texte)\n",
    "    i=0\n",
    "    #Ajout de tous les noeuds\n",
    "    for num_as in dictio :\n",
    "        G.add_node(i,asn=num_as)\n",
    "        i+=1\n",
    "    #Ajout des arêtes\n",
    "    for ligne in fichier:\n",
    "        tabligne = ligne.split(\"|\")\n",
    "        try:\n",
    "            asn1 = int(tabligne[0])\n",
    "            asn2 = int(tabligne[1])\n",
    "            info = int(tabligne[2])\n",
    "            if info == 0 :\n",
    "                G.add_edge(dictio[asn1],dictio[asn2],type= 2/3)\n",
    "                G.add_edge(dictio[asn2],dictio[asn1],type= 2/3)\n",
    "            elif info == -1 :\n",
    "\n",
    "                G.add_edge(dictio[asn1],dictio[asn2],type= 3/3)\n",
    "                \n",
    "        except ValueError:\n",
    "            pass\n",
    "    return G"
   ]
  },
  {
   "cell_type": "code",
   "execution_count": 100,
   "id": "8216882b",
   "metadata": {},
   "outputs": [],
   "source": [
    "G_directed = creation_graph_dirige(FILE_PATH)"
   ]
  },
  {
   "cell_type": "code",
   "execution_count": 101,
   "id": "b43d8b5a",
   "metadata": {},
   "outputs": [],
   "source": [
    "def creation_graph_dirige_inverse(fichier_texte):\n",
    "    G = nx.DiGraph()\n",
    "    fichier = open(fichier_texte,\"r\")\n",
    "    cpt = 0\n",
    "    memoire = -1\n",
    "    dictio = dictiongraph(fichier_texte)\n",
    "    i=0\n",
    "    #Ajout de tous les noeuds\n",
    "    for num_as in dictio :\n",
    "        G.add_node(i,asn=num_as)\n",
    "        i+=1\n",
    "    #Ajout des arêtes\n",
    "    for ligne in fichier:\n",
    "        tabligne = ligne.split(\"|\")\n",
    "        try:\n",
    "            asn1 = int(tabligne[0])\n",
    "            asn2 = int(tabligne[1])\n",
    "            info = int(tabligne[2])\n",
    "            if info == 0 :\n",
    "                G.add_edge(dictio[asn1],dictio[asn2],type= 2/3)\n",
    "                G.add_edge(dictio[asn2],dictio[asn1],type= 2/3)\n",
    "            elif info == -1 :\n",
    "\n",
    "                G.add_edge(dictio[asn2],dictio[asn1],type= 3/3)\n",
    "                \n",
    "        except ValueError:\n",
    "            pass\n",
    "    return G"
   ]
  },
  {
   "cell_type": "code",
   "execution_count": 102,
   "id": "fcfa65ca",
   "metadata": {},
   "outputs": [],
   "source": [
    "G_directed_inverse = creation_graph_dirige_inverse(FILE_PATH)"
   ]
  },
  {
   "cell_type": "code",
   "execution_count": 103,
   "id": "d1ae2471",
   "metadata": {},
   "outputs": [],
   "source": [
    "def label_into_int(label):\n",
    "    if (label == 'Content'):\n",
    "        int_label = 0\n",
    "    elif (label == 'Transit/Access'):\n",
    "        int_label = 1\n",
    "    elif (label == 'Enterprise'):\n",
    "        int_label = 2\n",
    "    return int_label"
   ]
  },
  {
   "cell_type": "code",
   "execution_count": 104,
   "id": "b4aeb026",
   "metadata": {},
   "outputs": [],
   "source": [
    "def creation_graph_float(fichier_texte):\n",
    "    G = nx.DiGraph()\n",
    "    fichier = open(fichier_texte,\"r\")\n",
    "    cpt = 0\n",
    "    memoire = -1\n",
    "    dictio = dictiongraph(fichier_texte)\n",
    "    i=0\n",
    "    #Ajout de tous les noeuds\n",
    "    for num_as in dictio :\n",
    "        G.add_node(i,label=label_into_int(AS_dataset['label'][i]))\n",
    "        #print(\"G add node : index \" + str(i) + \", asn : \" + str(num_as) + \", \" + AS_dataset['label'][i] + \" => \" + str(label_into_int(AS_dataset['label'][i])))\n",
    "        i+=1\n",
    "    #Ajout des arêtes\n",
    "    for ligne in fichier:\n",
    "        tabligne = ligne.split(\"|\")\n",
    "        try:\n",
    "            asn1 = int(tabligne[0])\n",
    "            asn2 = int(tabligne[1])\n",
    "            info = int(tabligne[2])\n",
    "            if info == 0 :\n",
    "                G.add_edge(dictio[asn1],dictio[asn2],type= 2/3)\n",
    "                G.add_edge(dictio[asn2],dictio[asn1],type= 2/3)\n",
    "            elif info == -1 :\n",
    "                G.add_edge(dictio[asn1],dictio[asn2],type= 3/3)\n",
    "                G.add_edge(dictio[asn2],dictio[asn1],type= 1/3)\n",
    "        except ValueError:\n",
    "            pass\n",
    "    return G"
   ]
  },
  {
   "cell_type": "code",
   "execution_count": 105,
   "id": "862513fe",
   "metadata": {},
   "outputs": [],
   "source": [
    "G_float =creation_graph_float(FILE_PATH)"
   ]
  },
  {
   "cell_type": "code",
   "execution_count": 106,
   "id": "c9ac9d0c",
   "metadata": {},
   "outputs": [],
   "source": [
    "def creation_graph_array(fichier_texte):\n",
    "    G = nx.DiGraph()\n",
    "    fichier = open(fichier_texte,\"r\")\n",
    "    cpt = 0\n",
    "    memoire = -1\n",
    "    dictio = dictiongraph(fichier_texte)\n",
    "    i=0\n",
    "    #Ajout de tous les noeuds\n",
    "    for num_as in dictio :\n",
    "        G.add_node(i,label=label_into_int(AS_dataset['label'][i]))\n",
    "        i+=1\n",
    "    #Ajout des arêtes\n",
    "    for ligne in fichier:\n",
    "        tabligne = ligne.split(\"|\")\n",
    "        try:\n",
    "            asn1 = int(tabligne[0])\n",
    "            asn2 = int(tabligne[1])\n",
    "            info = int(tabligne[2])\n",
    "            if info == 0 :\n",
    "                G.add_edge(dictio[asn1],dictio[asn2],type= np.array([0,1,0]))\n",
    "                G.add_edge(dictio[asn2],dictio[asn1],type= np.array([0,1,0]))\n",
    "            elif info == -1 :\n",
    "                G.add_edge(dictio[asn1],dictio[asn2],type=np.array([1,0,0]))\n",
    "                G.add_edge(dictio[asn2],dictio[asn1],type=np.array([0,0,1]))\n",
    "        except ValueError:\n",
    "            pass\n",
    "    return G"
   ]
  },
  {
   "cell_type": "code",
   "execution_count": 107,
   "id": "883d7def",
   "metadata": {},
   "outputs": [],
   "source": [
    "G_array=creation_graph_array(FILE_PATH)"
   ]
  },
  {
   "cell_type": "code",
   "execution_count": 108,
   "id": "7a9ab4c8",
   "metadata": {},
   "outputs": [
    {
     "name": "stdout",
     "output_type": "stream",
     "text": [
      "Graph number of nodes :   71434\n",
      "Graph number of edges :  489716\n",
      "\n",
      "ASSERT NB NODES OK\n"
     ]
    }
   ],
   "source": [
    "nb_nodes_graph = G.number_of_nodes()\n",
    "nb_edges_graph = G.number_of_edges()\n",
    "\n",
    "print(\"Graph number of nodes :   \"  + str(nb_nodes_graph))\n",
    "print(\"Graph number of edges :  \" + str(nb_edges_graph))\n",
    "\n",
    "assert(nb_nodes_graph == int(nb_nodes_of_file(FILE_PATH)))\n",
    "print(\"\\nASSERT NB NODES OK\")"
   ]
  },
  {
   "cell_type": "markdown",
   "id": "ee183443",
   "metadata": {},
   "source": [
    "- ### Ajout des colonnes `page_rank_not_directed`, `page_rank_directed` et `degree_centrality`"
   ]
  },
  {
   "cell_type": "code",
   "execution_count": 109,
   "id": "354ef3d8",
   "metadata": {},
   "outputs": [],
   "source": [
    "list_pageRank = nx.pagerank(G).values()\n",
    "list_pageRank_directed = nx.pagerank(G_directed).values()\n",
    "list_pageRank_directed_inverse = nx.pagerank(G_directed_inverse).values()\n",
    "list_degreeCentrality = nx.degree_centrality(G).values()"
   ]
  },
  {
   "cell_type": "markdown",
   "id": "783aad5a",
   "metadata": {},
   "source": [
    "- #### Scale de la donnée `page_rank_not_directed`"
   ]
  },
  {
   "cell_type": "code",
   "execution_count": 167,
   "id": "59768b2b",
   "metadata": {},
   "outputs": [],
   "source": [
    "AS_dataset['page_rank_not_directed'] = list_pageRank"
   ]
  },
  {
   "cell_type": "code",
   "execution_count": 112,
   "id": "ea4ebbc1",
   "metadata": {},
   "outputs": [
    {
     "name": "stdout",
     "output_type": "stream",
     "text": [
      "count    71434.000000\n",
      "mean         0.000014\n",
      "std          0.000106\n",
      "min          0.000002\n",
      "25%          0.000004\n",
      "50%          0.000005\n",
      "75%          0.000007\n",
      "max          0.010813\n",
      "Name: page_rank_not_directed, dtype: float64\n"
     ]
    },
    {
     "data": {
      "text/plain": [
       "Text(0, 0.5, '%')"
      ]
     },
     "execution_count": 112,
     "metadata": {},
     "output_type": "execute_result"
    },
    {
     "data": {
      "image/png": "[encoded data removed]",
      "text/plain": [
       "<Figure size 432x288 with 1 Axes>"
      ]
     },
     "metadata": {
      "needs_background": "light"
     },
     "output_type": "display_data"
    }
   ],
   "source": [
    "print(AS_dataset['page_rank_not_directed'].describe())\n",
    "\n",
    "plt.hist(AS_dataset['page_rank_not_directed'], \n",
    "         range=(1e-6,1e-5), \n",
    "         weights=100*(np.ones(len(AS_dataset['page_rank_not_directed']))/len(AS_dataset['page_rank_not_directed'])))\n",
    "plt.xlabel(\"Value of page_rank\")\n",
    "plt.ylabel(\"%\")"
   ]
  },
  {
   "cell_type": "code",
   "execution_count": 118,
   "id": "dbef5d43",
   "metadata": {},
   "outputs": [],
   "source": [
    "AS_dataset['page_rank_not_directed'] = [element * 20000 if element * 20000 <= 1 else 1 for element in list_pageRank]"
   ]
  },
  {
   "cell_type": "code",
   "execution_count": 120,
   "id": "9a19743c",
   "metadata": {},
   "outputs": [
    {
     "name": "stdout",
     "output_type": "stream",
     "text": [
      "count    71434.000000\n",
      "mean         0.163160\n",
      "std          0.195769\n",
      "min          0.046870\n",
      "25%          0.075614\n",
      "50%          0.098458\n",
      "75%          0.141052\n",
      "max          1.000000\n",
      "Name: page_rank_not_directed, dtype: float64\n"
     ]
    },
    {
     "data": {
      "text/plain": [
       "Text(0, 0.5, '%')"
      ]
     },
     "execution_count": 120,
     "metadata": {},
     "output_type": "execute_result"
    },
    {
     "data": {
      "image/png": "[encoded data removed]",
      "text/plain": [
       "<Figure size 432x288 with 1 Axes>"
      ]
     },
     "metadata": {
      "needs_background": "light"
     },
     "output_type": "display_data"
    }
   ],
   "source": [
    "print(AS_dataset['page_rank_not_directed'].describe())\n",
    "\n",
    "plt.hist(AS_dataset['page_rank_not_directed'], \n",
    "         range=(1e-2,1e0), \n",
    "         weights=100*(np.ones(len(AS_dataset['page_rank_not_directed']))/len(AS_dataset['page_rank_not_directed'])))\n",
    "plt.xlabel(\"Value of page_rank\")\n",
    "plt.ylabel(\"%\")"
   ]
  },
  {
   "cell_type": "markdown",
   "id": "925f8657",
   "metadata": {},
   "source": [
    "- #### Scale de la donnée `page_rank_directed`"
   ]
  },
  {
   "cell_type": "code",
   "execution_count": 168,
   "id": "712391b2",
   "metadata": {},
   "outputs": [],
   "source": [
    "AS_dataset['page_rank_directed'] = list_pageRank_directed"
   ]
  },
  {
   "cell_type": "code",
   "execution_count": 122,
   "id": "152fb7e0",
   "metadata": {},
   "outputs": [
    {
     "name": "stdout",
     "output_type": "stream",
     "text": [
      "count    71434.000000\n",
      "mean         0.000014\n",
      "std          0.000066\n",
      "min          0.000008\n",
      "25%          0.000009\n",
      "50%          0.000009\n",
      "75%          0.000011\n",
      "max          0.009921\n",
      "Name: page_rank_directed, dtype: float64\n"
     ]
    },
    {
     "data": {
      "text/plain": [
       "Text(0, 0.5, '%')"
      ]
     },
     "execution_count": 122,
     "metadata": {},
     "output_type": "execute_result"
    },
    {
     "data": {
      "image/png": "[encoded data removed]",
      "text/plain": [
       "<Figure size 432x288 with 1 Axes>"
      ]
     },
     "metadata": {
      "needs_background": "light"
     },
     "output_type": "display_data"
    }
   ],
   "source": [
    "print(AS_dataset['page_rank_directed'].describe())\n",
    "\n",
    "plt.hist(AS_dataset['page_rank_directed'], \n",
    "         range=(8e-6,1e-5), \n",
    "         weights=100*(np.ones(len(AS_dataset['page_rank_directed']))/len(AS_dataset['page_rank_directed'])))\n",
    "plt.xlabel(\"Value of page_rank_directed\")\n",
    "plt.ylabel(\"%\")"
   ]
  },
  {
   "cell_type": "code",
   "execution_count": 123,
   "id": "e732ec05",
   "metadata": {},
   "outputs": [],
   "source": [
    "AS_dataset['page_rank_directed'] = [element * 45000 if element * 45000 <=1 else 1 for element in list_pageRank_directed]"
   ]
  },
  {
   "cell_type": "code",
   "execution_count": 124,
   "id": "39b839a1",
   "metadata": {},
   "outputs": [
    {
     "name": "stdout",
     "output_type": "stream",
     "text": [
      "count    71434.000000\n",
      "mean         0.484493\n",
      "std          0.172892\n",
      "min          0.378938\n",
      "25%          0.388982\n",
      "50%          0.404204\n",
      "75%          0.473491\n",
      "max          1.000000\n",
      "Name: page_rank_directed, dtype: float64\n"
     ]
    },
    {
     "data": {
      "text/plain": [
       "Text(0, 0.5, '%')"
      ]
     },
     "execution_count": 124,
     "metadata": {},
     "output_type": "execute_result"
    },
    {
     "data": {
      "image/png": "[encoded data removed]",
      "text/plain": [
       "<Figure size 432x288 with 1 Axes>"
      ]
     },
     "metadata": {
      "needs_background": "light"
     },
     "output_type": "display_data"
    }
   ],
   "source": [
    "print(AS_dataset['page_rank_directed'].describe())\n",
    "\n",
    "plt.hist(AS_dataset['page_rank_directed'], \n",
    "         range=(1e-2,1e0), \n",
    "         weights=100*(np.ones(len(AS_dataset['page_rank_directed']))/len(AS_dataset['page_rank_directed'])))\n",
    "plt.xlabel(\"Value of page_rank_directed\")\n",
    "plt.ylabel(\"%\")"
   ]
  },
  {
   "cell_type": "markdown",
   "id": "e653fed5",
   "metadata": {},
   "source": [
    "- #### Scale de la donnée `page_rank_directed_inverse`"
   ]
  },
  {
   "cell_type": "code",
   "execution_count": 169,
   "id": "565d4c94",
   "metadata": {},
   "outputs": [],
   "source": [
    "AS_dataset['page_rank_directed_inverse'] = list_pageRank_directed_inverse"
   ]
  },
  {
   "cell_type": "code",
   "execution_count": 126,
   "id": "58e13064",
   "metadata": {
    "scrolled": false
   },
   "outputs": [
    {
     "name": "stdout",
     "output_type": "stream",
     "text": [
      "count    71434.000000\n",
      "mean         0.000014\n",
      "std          0.000122\n",
      "min          0.000002\n",
      "25%          0.000002\n",
      "50%          0.000002\n",
      "75%          0.000002\n",
      "max          0.010811\n",
      "Name: page_rank_directed_inverse, dtype: float64\n"
     ]
    },
    {
     "data": {
      "text/plain": [
       "Text(0, 0.5, '%')"
      ]
     },
     "execution_count": 126,
     "metadata": {},
     "output_type": "execute_result"
    },
    {
     "data": {
      "image/png": "[encoded data removed]",
      "text/plain": [
       "<Figure size 432x288 with 1 Axes>"
      ]
     },
     "metadata": {
      "needs_background": "light"
     },
     "output_type": "display_data"
    }
   ],
   "source": [
    "print(AS_dataset['page_rank_directed_inverse'].describe())\n",
    "\n",
    "plt.hist(AS_dataset['page_rank_directed_inverse'], \n",
    "         range=(1e-6,1e-5), \n",
    "         weights=100*(np.ones(len(AS_dataset['page_rank_directed_inverse']))/len(AS_dataset['page_rank_directed_inverse'])))\n",
    "plt.xlabel(\"Value of page_rank_directed_inverse\")\n",
    "plt.ylabel(\"%\")"
   ]
  },
  {
   "cell_type": "code",
   "execution_count": 127,
   "id": "e7857c1f",
   "metadata": {},
   "outputs": [],
   "source": [
    "AS_dataset['page_rank_directed_inverse'] = [element * 40000 if element * 40000 <=1 else 1 for element in list_pageRank_directed_inverse]"
   ]
  },
  {
   "cell_type": "code",
   "execution_count": 129,
   "id": "c4e1ecf0",
   "metadata": {},
   "outputs": [
    {
     "name": "stdout",
     "output_type": "stream",
     "text": [
      "count    71434.000000\n",
      "mean         0.191827\n",
      "std          0.260949\n",
      "min          0.083994\n",
      "25%          0.083994\n",
      "50%          0.083994\n",
      "75%          0.083994\n",
      "max          1.000000\n",
      "Name: page_rank_directed_inverse, dtype: float64\n"
     ]
    },
    {
     "data": {
      "text/plain": [
       "Text(0, 0.5, '%')"
      ]
     },
     "execution_count": 129,
     "metadata": {},
     "output_type": "execute_result"
    },
    {
     "data": {
      "image/png": "[encoded data removed]",
      "text/plain": [
       "<Figure size 432x288 with 1 Axes>"
      ]
     },
     "metadata": {
      "needs_background": "light"
     },
     "output_type": "display_data"
    }
   ],
   "source": [
    "print(AS_dataset['page_rank_directed_inverse'].describe())\n",
    "\n",
    "plt.hist(AS_dataset['page_rank_directed_inverse'], \n",
    "         range=(1e-2,1e0), \n",
    "         weights=100*(np.ones(len(AS_dataset['page_rank_directed_inverse']))/len(AS_dataset['page_rank_directed_inverse'])))\n",
    "plt.xlabel(\"Value of page_rank_directed_inverse\")\n",
    "plt.ylabel(\"%\")"
   ]
  },
  {
   "cell_type": "markdown",
   "id": "f25e534d",
   "metadata": {},
   "source": [
    "- #### Scale de la donnée `degree_centrality`"
   ]
  },
  {
   "cell_type": "code",
   "execution_count": 170,
   "id": "a5e4fc8f",
   "metadata": {},
   "outputs": [],
   "source": [
    "AS_dataset['degree_centrality'] = list_degreeCentrality"
   ]
  },
  {
   "cell_type": "code",
   "execution_count": 131,
   "id": "caa618e1",
   "metadata": {},
   "outputs": [
    {
     "name": "stdout",
     "output_type": "stream",
     "text": [
      "count    71434.000000\n",
      "mean         0.000192\n",
      "std          0.001498\n",
      "min          0.000014\n",
      "25%          0.000014\n",
      "50%          0.000028\n",
      "75%          0.000042\n",
      "max          0.127154\n",
      "Name: degree_centrality, dtype: float64\n"
     ]
    },
    {
     "data": {
      "text/plain": [
       "Text(0, 0.5, '%')"
      ]
     },
     "execution_count": 131,
     "metadata": {},
     "output_type": "execute_result"
    },
    {
     "data": {
      "image/png": "[encoded data removed]",
      "text/plain": [
       "<Figure size 432x288 with 1 Axes>"
      ]
     },
     "metadata": {
      "needs_background": "light"
     },
     "output_type": "display_data"
    }
   ],
   "source": [
    "print(AS_dataset['degree_centrality'].describe())\n",
    "\n",
    "plt.hist(AS_dataset['degree_centrality'], \n",
    "         range=(1e-5,1e-4), \n",
    "         weights=100*(np.ones(len(AS_dataset['degree_centrality']))/len(AS_dataset['degree_centrality'])))\n",
    "plt.xlabel(\"Value of degree_centrality\")\n",
    "plt.ylabel(\"%\")"
   ]
  },
  {
   "cell_type": "code",
   "execution_count": 132,
   "id": "23c17dcb",
   "metadata": {},
   "outputs": [],
   "source": [
    "AS_dataset['degree_centrality'] = [element * 10000 if element * 10000 <=1 else 1 for element in list_degreeCentrality]"
   ]
  },
  {
   "cell_type": "code",
   "execution_count": 133,
   "id": "e62df131",
   "metadata": {},
   "outputs": [
    {
     "name": "stdout",
     "output_type": "stream",
     "text": [
      "count    71434.000000\n",
      "mean         0.382925\n",
      "std          0.296410\n",
      "min          0.139991\n",
      "25%          0.139991\n",
      "50%          0.279983\n",
      "75%          0.419974\n",
      "max          1.000000\n",
      "Name: degree_centrality, dtype: float64\n"
     ]
    },
    {
     "data": {
      "text/plain": [
       "Text(0, 0.5, '%')"
      ]
     },
     "execution_count": 133,
     "metadata": {},
     "output_type": "execute_result"
    },
    {
     "data": {
      "image/png": "[encoded data removed]",
      "text/plain": [
       "<Figure size 432x288 with 1 Axes>"
      ]
     },
     "metadata": {
      "needs_background": "light"
     },
     "output_type": "display_data"
    }
   ],
   "source": [
    "print(AS_dataset['degree_centrality'].describe())\n",
    "\n",
    "plt.hist(AS_dataset['degree_centrality'], \n",
    "         range=(1e-2,1e0), \n",
    "         weights=100*(np.ones(len(AS_dataset['degree_centrality']))/len(AS_dataset['degree_centrality'])))\n",
    "plt.xlabel(\"Value of degree_centrality\")\n",
    "plt.ylabel(\"%\")"
   ]
  },
  {
   "cell_type": "code",
   "execution_count": 171,
   "id": "4966dfe3",
   "metadata": {
    "scrolled": false
   },
   "outputs": [
    {
     "data": {
      "text/html": [
       "<div>\n",
       "<style scoped>\n",
       "    .dataframe tbody tr th:only-of-type {\n",
       "        vertical-align: middle;\n",
       "    }\n",
       "\n",
       "    .dataframe tbody tr th {\n",
       "        vertical-align: top;\n",
       "    }\n",
       "\n",
       "    .dataframe thead th {\n",
       "        text-align: right;\n",
       "    }\n",
       "</style>\n",
       "<table border=\"1\" class=\"dataframe\">\n",
       "  <thead>\n",
       "    <tr style=\"text-align: right;\">\n",
       "      <th></th>\n",
       "      <th>ASN</th>\n",
       "      <th>source_label</th>\n",
       "      <th>label</th>\n",
       "      <th>page_rank_not_directed</th>\n",
       "      <th>page_rank_directed</th>\n",
       "      <th>page_rank_directed_inverse</th>\n",
       "      <th>degree_centrality</th>\n",
       "      <th>degree_normalized</th>\n",
       "      <th>ratio_peering</th>\n",
       "      <th>ratio_customer</th>\n",
       "      <th>ratio_provider</th>\n",
       "      <th>degree</th>\n",
       "    </tr>\n",
       "  </thead>\n",
       "  <tbody>\n",
       "    <tr>\n",
       "      <th>0</th>\n",
       "      <td>1</td>\n",
       "      <td>CAIDA_class</td>\n",
       "      <td>Transit/Access</td>\n",
       "      <td>0.000025</td>\n",
       "      <td>0.000082</td>\n",
       "      <td>0.000017</td>\n",
       "      <td>0.000196</td>\n",
       "      <td>1.000000</td>\n",
       "      <td>1.000000</td>\n",
       "      <td>1.000000</td>\n",
       "      <td>1.000000</td>\n",
       "      <td>14.0</td>\n",
       "    </tr>\n",
       "    <tr>\n",
       "      <th>1</th>\n",
       "      <td>2</td>\n",
       "      <td>CAIDA_class</td>\n",
       "      <td>Transit/Access</td>\n",
       "      <td>0.000034</td>\n",
       "      <td>0.000162</td>\n",
       "      <td>0.000004</td>\n",
       "      <td>0.000294</td>\n",
       "      <td>1.000000</td>\n",
       "      <td>0.693147</td>\n",
       "      <td>1.000000</td>\n",
       "      <td>1.000000</td>\n",
       "      <td>21.0</td>\n",
       "    </tr>\n",
       "    <tr>\n",
       "      <th>2</th>\n",
       "      <td>3</td>\n",
       "      <td>CAIDA_class</td>\n",
       "      <td>Transit/Access</td>\n",
       "      <td>0.000031</td>\n",
       "      <td>0.000067</td>\n",
       "      <td>0.000092</td>\n",
       "      <td>0.000280</td>\n",
       "      <td>1.000000</td>\n",
       "      <td>1.000000</td>\n",
       "      <td>0.693147</td>\n",
       "      <td>1.000000</td>\n",
       "      <td>20.0</td>\n",
       "    </tr>\n",
       "    <tr>\n",
       "      <th>3</th>\n",
       "      <td>4</td>\n",
       "      <td>CAIDA_class</td>\n",
       "      <td>Transit/Access</td>\n",
       "      <td>0.000028</td>\n",
       "      <td>0.000093</td>\n",
       "      <td>0.000004</td>\n",
       "      <td>0.000210</td>\n",
       "      <td>1.000000</td>\n",
       "      <td>1.000000</td>\n",
       "      <td>0.693147</td>\n",
       "      <td>1.000000</td>\n",
       "      <td>15.0</td>\n",
       "    </tr>\n",
       "    <tr>\n",
       "      <th>4</th>\n",
       "      <td>5</td>\n",
       "      <td>CAIDA_class</td>\n",
       "      <td>Enterprise</td>\n",
       "      <td>0.000016</td>\n",
       "      <td>0.000126</td>\n",
       "      <td>0.000004</td>\n",
       "      <td>0.000098</td>\n",
       "      <td>0.845098</td>\n",
       "      <td>1.000000</td>\n",
       "      <td>0.000000</td>\n",
       "      <td>0.778151</td>\n",
       "      <td>7.0</td>\n",
       "    </tr>\n",
       "  </tbody>\n",
       "</table>\n",
       "</div>"
      ],
      "text/plain": [
       "   ASN source_label           label  page_rank_not_directed  \\\n",
       "0    1  CAIDA_class  Transit/Access                0.000025   \n",
       "1    2  CAIDA_class  Transit/Access                0.000034   \n",
       "2    3  CAIDA_class  Transit/Access                0.000031   \n",
       "3    4  CAIDA_class  Transit/Access                0.000028   \n",
       "4    5  CAIDA_class      Enterprise                0.000016   \n",
       "\n",
       "   page_rank_directed  page_rank_directed_inverse  degree_centrality  \\\n",
       "0            0.000082                    0.000017           0.000196   \n",
       "1            0.000162                    0.000004           0.000294   \n",
       "2            0.000067                    0.000092           0.000280   \n",
       "3            0.000093                    0.000004           0.000210   \n",
       "4            0.000126                    0.000004           0.000098   \n",
       "\n",
       "   degree_normalized  ratio_peering  ratio_customer  ratio_provider  degree  \n",
       "0           1.000000       1.000000        1.000000        1.000000    14.0  \n",
       "1           1.000000       0.693147        1.000000        1.000000    21.0  \n",
       "2           1.000000       1.000000        0.693147        1.000000    20.0  \n",
       "3           1.000000       1.000000        0.693147        1.000000    15.0  \n",
       "4           0.845098       1.000000        0.000000        0.778151     7.0  "
      ]
     },
     "execution_count": 171,
     "metadata": {},
     "output_type": "execute_result"
    }
   ],
   "source": [
    "AS_dataset.head()"
   ]
  },
  {
   "cell_type": "code",
   "execution_count": 135,
   "id": "bb1b8264",
   "metadata": {},
   "outputs": [],
   "source": [
    "def dictiongraph_Nbnoeud_Asn(fichier_texte):\n",
    "    fichier = open(fichier_texte,\"r\")\n",
    "    dictio = []\n",
    "    memoire=-1\n",
    "    for ligne in fichier:\n",
    "        tabligne = ligne.split(\"|\")\n",
    "        try:\n",
    "            asn1 = int(tabligne[0])\n",
    "            asn2 = int(tabligne[1])\n",
    "            if asn1 != memoire:\n",
    "                dictio.append(asn1)\n",
    "                memoire = asn1\n",
    "            dictio.append(asn2)\n",
    "        except ValueError:\n",
    "            pass\n",
    "    l = arange(len(list(set(dictio))))\n",
    "    dictiofinal =dict_from_list = dict(zip(l, sorted(list(set(dictio)))))\n",
    "    return dictiofinal\n",
    "Dictio_noeud_as = dictiongraph_Nbnoeud_Asn(FILE_PATH)"
   ]
  },
  {
   "cell_type": "code",
   "execution_count": 136,
   "id": "6479bce8",
   "metadata": {},
   "outputs": [],
   "source": [
    "def nbtypevoisins2(G):\n",
    "    nbNoeuds = G.number_of_nodes()\n",
    "    Liste_Nb_Voisins_Peering = np.zeros(nbNoeuds)\n",
    "    Liste_Nb_Voisins_Customer = np.zeros(nbNoeuds)\n",
    "    Liste_Nb_Voisins_Provider = np.zeros(nbNoeuds)\n",
    "    for i in range(nbNoeuds):\n",
    "        for j in range(len(G[i])) :\n",
    "            infos = list(G[i].values())[j][\"type\"].split(\"|\")\n",
    "            #print(infos)\n",
    "            type_lien = infos[1]\n",
    "            if type_lien == \"p2p\":\n",
    "\n",
    "                Liste_Nb_Voisins_Peering[i] +=1\n",
    "                #Liste_Nb_Voisins_Peering[dictio_as_noeud[int(asn2)]] +=1\n",
    "            elif type_lien == \"p2c\":\n",
    "                asn1 = infos[0]\n",
    "                asn2 = infos[2]\n",
    "                if int(asn2) == int(Dictio_noeud_as[i]) :\n",
    "                     Liste_Nb_Voisins_Provider[i]+=1                \n",
    "                else :\n",
    "                    Liste_Nb_Voisins_Customer[i]+=1\n",
    "\n",
    "        #print(i)\n",
    "\n",
    "    return Liste_Nb_Voisins_Peering, Liste_Nb_Voisins_Customer, Liste_Nb_Voisins_Provider \n",
    "                \n",
    "#### TEMPS D'EXECUTION : 5min ~\n",
    "L1,L2,L3=nbtypevoisins2(G) "
   ]
  },
  {
   "cell_type": "markdown",
   "id": "863911ef",
   "metadata": {},
   "source": [
    "- ### Vérification de la conformité des listes L1, L2 et L3 par rapport au graphe"
   ]
  },
  {
   "cell_type": "code",
   "execution_count": 137,
   "id": "7841246f",
   "metadata": {},
   "outputs": [
    {
     "name": "stdout",
     "output_type": "stream",
     "text": [
      "Max degree list : 9083.0\n",
      "Max degree index : 2475, max degree ASN : 6939\n",
      "Max degree graph : 9083\n",
      "\n",
      "ASSERT MAX DEGREE OK\n"
     ]
    }
   ],
   "source": [
    "max_degree_list = max(L1 + L2 + L3)\n",
    "highest_degree_graph = max(list(dict(G.degree()).values()))\n",
    "index_max = list(dict(G.degree()).values()).index(highest_degree_graph)\n",
    "ASN_max = list(Dictio_noeud_as.values())[index_max]\n",
    "\n",
    "print(\"Max degree list : \"  + str(max_degree_list))\n",
    "print(\"Max degree index : \" + str(index_max) + \", max degree ASN : \" + str(ASN_max))\n",
    "print(\"Max degree graph : \" + str(highest_degree_graph))\n",
    "\n",
    "assert (max_degree_list == highest_degree_graph)\n",
    "print(\"\\nASSERT MAX DEGREE OK\")"
   ]
  },
  {
   "cell_type": "code",
   "execution_count": 138,
   "id": "35ce6b47",
   "metadata": {},
   "outputs": [
    {
     "name": "stdout",
     "output_type": "stream",
     "text": [
      "Max p2p links          : 7250.0, index : 2475, ASN : 6939\n",
      "Max nb customer links  : 6237.0, index : 107, ASN : 174\n",
      "Max nb provider links  : 137.0, index : 11176, ASN : 20940\n"
     ]
    }
   ],
   "source": [
    "# Extraction des maximum de p2p link, customer link et provider link\n",
    "max_p2p, index_max_p2p = np.max(L1), np.argmax(L1)\n",
    "max_c,   index_max_c   = np.max(L2), np.argmax(L2)\n",
    "max_p,   index_max_p   = np.max(L3), np.argmax(L3)\n",
    "\n",
    "print(\"Max p2p links          : \" + str(max_p2p) + \", index : \" + str(index_max_p2p) + \", ASN : \" + str(list(Dictio_noeud_as.values())[index_max_p2p]))\n",
    "print(\"Max nb customer links  : \" + str(max_c)   + \", index : \" + str(index_max_c)   + \", ASN : \" + str(list(Dictio_noeud_as.values())[index_max_c]))\n",
    "print(\"Max nb provider links  : \" + str(max_p)   + \", index : \" + str(index_max_p)   + \", ASN : \" + str(list(Dictio_noeud_as.values())[index_max_p]))"
   ]
  },
  {
   "cell_type": "code",
   "execution_count": 61,
   "id": "42f2045a",
   "metadata": {},
   "outputs": [
    {
     "data": {
      "text/plain": [
       "ASN                                     6939\n",
       "source_label                    peerDB_class\n",
       "label                         Transit/Access\n",
       "page_rank_not_directed               0.00835\n",
       "page_rank_directed                  0.009921\n",
       "page_rank_directed_inverse          0.010811\n",
       "degree_centrality                   0.127154\n",
       "Name: 2475, dtype: object"
      ]
     },
     "execution_count": 61,
     "metadata": {},
     "output_type": "execute_result"
    }
   ],
   "source": [
    "AS_dataset.iloc[index_max_p2p]"
   ]
  },
  {
   "cell_type": "code",
   "execution_count": 62,
   "id": "434c97f3",
   "metadata": {},
   "outputs": [
    {
     "data": {
      "text/plain": [
       "ASN                                      174\n",
       "source_label                    peerDB_class\n",
       "label                         Transit/Access\n",
       "page_rank_not_directed              0.010813\n",
       "page_rank_directed                  0.000129\n",
       "page_rank_directed_inverse          0.009297\n",
       "degree_centrality                   0.088964\n",
       "Name: 107, dtype: object"
      ]
     },
     "execution_count": 62,
     "metadata": {},
     "output_type": "execute_result"
    }
   ],
   "source": [
    "AS_dataset.iloc[index_max_c]"
   ]
  },
  {
   "cell_type": "code",
   "execution_count": 63,
   "id": "86ccdfd6",
   "metadata": {},
   "outputs": [
    {
     "data": {
      "text/plain": [
       "ASN                                  20940\n",
       "source_label                  peerDB_class\n",
       "label                              Content\n",
       "page_rank_not_directed            0.000541\n",
       "page_rank_directed                0.000361\n",
       "page_rank_directed_inverse        0.000734\n",
       "degree_centrality                 0.013271\n",
       "Name: 11176, dtype: object"
      ]
     },
     "execution_count": 63,
     "metadata": {},
     "output_type": "execute_result"
    }
   ],
   "source": [
    "AS_dataset.iloc[index_max_p]"
   ]
  },
  {
   "cell_type": "markdown",
   "id": "35ab6ad5",
   "metadata": {},
   "source": [
    "- ### Ajout de la colonne `degree_normalized` définit par le log du degré de chaque noeud"
   ]
  },
  {
   "cell_type": "code",
   "execution_count": 172,
   "id": "8d874fc5",
   "metadata": {},
   "outputs": [],
   "source": [
    "## a supprimer\n",
    "\n",
    "List_degree = L1 + L2 + L3\n",
    "\n",
    "AS_dataset['degree_normalized'] = List_degree"
   ]
  },
  {
   "cell_type": "code",
   "execution_count": 165,
   "id": "8a392f88",
   "metadata": {},
   "outputs": [],
   "source": [
    "List_degree = L1 + L2 + L3\n",
    "\n",
    "AS_dataset['degree_normalized'] = [np.log10(element) if np.log10(element)<=1 else 1 for element in List_degree]"
   ]
  },
  {
   "cell_type": "code",
   "execution_count": 173,
   "id": "5035a9d6",
   "metadata": {},
   "outputs": [
    {
     "data": {
      "text/plain": [
       "count    71434.000000\n",
       "mean        13.711006\n",
       "std        107.017415\n",
       "min          1.000000\n",
       "25%          1.000000\n",
       "50%          2.000000\n",
       "75%          3.000000\n",
       "max       9083.000000\n",
       "Name: degree_normalized, dtype: float64"
      ]
     },
     "execution_count": 173,
     "metadata": {},
     "output_type": "execute_result"
    }
   ],
   "source": [
    "AS_dataset['degree_normalized'].describe()"
   ]
  },
  {
   "cell_type": "code",
   "execution_count": 166,
   "id": "0cc92634",
   "metadata": {},
   "outputs": [
    {
     "data": {
      "text/plain": [
       "0.000000    25598\n",
       "0.301030    21540\n",
       "1.000000     8684\n",
       "0.477121     7631\n",
       "0.602060     3230\n",
       "0.698970     1743\n",
       "0.778151     1064\n",
       "0.845098      781\n",
       "0.903090      640\n",
       "0.954243      523\n",
       "Name: degree_normalized, dtype: int64"
      ]
     },
     "execution_count": 166,
     "metadata": {},
     "output_type": "execute_result"
    }
   ],
   "source": [
    "AS_dataset['degree_normalized'].value_counts()"
   ]
  },
  {
   "cell_type": "code",
   "execution_count": 174,
   "id": "9e8010f6",
   "metadata": {},
   "outputs": [
    {
     "data": {
      "text/html": [
       "<div>\n",
       "<style scoped>\n",
       "    .dataframe tbody tr th:only-of-type {\n",
       "        vertical-align: middle;\n",
       "    }\n",
       "\n",
       "    .dataframe tbody tr th {\n",
       "        vertical-align: top;\n",
       "    }\n",
       "\n",
       "    .dataframe thead th {\n",
       "        text-align: right;\n",
       "    }\n",
       "</style>\n",
       "<table border=\"1\" class=\"dataframe\">\n",
       "  <thead>\n",
       "    <tr style=\"text-align: right;\">\n",
       "      <th></th>\n",
       "      <th>ASN</th>\n",
       "      <th>source_label</th>\n",
       "      <th>label</th>\n",
       "      <th>page_rank_not_directed</th>\n",
       "      <th>page_rank_directed</th>\n",
       "      <th>page_rank_directed_inverse</th>\n",
       "      <th>degree_centrality</th>\n",
       "      <th>degree_normalized</th>\n",
       "      <th>ratio_peering</th>\n",
       "      <th>ratio_customer</th>\n",
       "      <th>ratio_provider</th>\n",
       "      <th>degree</th>\n",
       "    </tr>\n",
       "  </thead>\n",
       "  <tbody>\n",
       "    <tr>\n",
       "      <th>0</th>\n",
       "      <td>1</td>\n",
       "      <td>CAIDA_class</td>\n",
       "      <td>Transit/Access</td>\n",
       "      <td>0.000025</td>\n",
       "      <td>0.000082</td>\n",
       "      <td>0.000017</td>\n",
       "      <td>0.000196</td>\n",
       "      <td>14.0</td>\n",
       "      <td>1.000000</td>\n",
       "      <td>1.000000</td>\n",
       "      <td>1.000000</td>\n",
       "      <td>14.0</td>\n",
       "    </tr>\n",
       "    <tr>\n",
       "      <th>1</th>\n",
       "      <td>2</td>\n",
       "      <td>CAIDA_class</td>\n",
       "      <td>Transit/Access</td>\n",
       "      <td>0.000034</td>\n",
       "      <td>0.000162</td>\n",
       "      <td>0.000004</td>\n",
       "      <td>0.000294</td>\n",
       "      <td>21.0</td>\n",
       "      <td>0.693147</td>\n",
       "      <td>1.000000</td>\n",
       "      <td>1.000000</td>\n",
       "      <td>21.0</td>\n",
       "    </tr>\n",
       "    <tr>\n",
       "      <th>2</th>\n",
       "      <td>3</td>\n",
       "      <td>CAIDA_class</td>\n",
       "      <td>Transit/Access</td>\n",
       "      <td>0.000031</td>\n",
       "      <td>0.000067</td>\n",
       "      <td>0.000092</td>\n",
       "      <td>0.000280</td>\n",
       "      <td>20.0</td>\n",
       "      <td>1.000000</td>\n",
       "      <td>0.693147</td>\n",
       "      <td>1.000000</td>\n",
       "      <td>20.0</td>\n",
       "    </tr>\n",
       "    <tr>\n",
       "      <th>3</th>\n",
       "      <td>4</td>\n",
       "      <td>CAIDA_class</td>\n",
       "      <td>Transit/Access</td>\n",
       "      <td>0.000028</td>\n",
       "      <td>0.000093</td>\n",
       "      <td>0.000004</td>\n",
       "      <td>0.000210</td>\n",
       "      <td>15.0</td>\n",
       "      <td>1.000000</td>\n",
       "      <td>0.693147</td>\n",
       "      <td>1.000000</td>\n",
       "      <td>15.0</td>\n",
       "    </tr>\n",
       "    <tr>\n",
       "      <th>4</th>\n",
       "      <td>5</td>\n",
       "      <td>CAIDA_class</td>\n",
       "      <td>Enterprise</td>\n",
       "      <td>0.000016</td>\n",
       "      <td>0.000126</td>\n",
       "      <td>0.000004</td>\n",
       "      <td>0.000098</td>\n",
       "      <td>7.0</td>\n",
       "      <td>1.000000</td>\n",
       "      <td>0.000000</td>\n",
       "      <td>0.778151</td>\n",
       "      <td>7.0</td>\n",
       "    </tr>\n",
       "  </tbody>\n",
       "</table>\n",
       "</div>"
      ],
      "text/plain": [
       "   ASN source_label           label  page_rank_not_directed  \\\n",
       "0    1  CAIDA_class  Transit/Access                0.000025   \n",
       "1    2  CAIDA_class  Transit/Access                0.000034   \n",
       "2    3  CAIDA_class  Transit/Access                0.000031   \n",
       "3    4  CAIDA_class  Transit/Access                0.000028   \n",
       "4    5  CAIDA_class      Enterprise                0.000016   \n",
       "\n",
       "   page_rank_directed  page_rank_directed_inverse  degree_centrality  \\\n",
       "0            0.000082                    0.000017           0.000196   \n",
       "1            0.000162                    0.000004           0.000294   \n",
       "2            0.000067                    0.000092           0.000280   \n",
       "3            0.000093                    0.000004           0.000210   \n",
       "4            0.000126                    0.000004           0.000098   \n",
       "\n",
       "   degree_normalized  ratio_peering  ratio_customer  ratio_provider  degree  \n",
       "0               14.0       1.000000        1.000000        1.000000    14.0  \n",
       "1               21.0       0.693147        1.000000        1.000000    21.0  \n",
       "2               20.0       1.000000        0.693147        1.000000    20.0  \n",
       "3               15.0       1.000000        0.693147        1.000000    15.0  \n",
       "4                7.0       1.000000        0.000000        0.778151     7.0  "
      ]
     },
     "execution_count": 174,
     "metadata": {},
     "output_type": "execute_result"
    }
   ],
   "source": [
    "AS_dataset.head()"
   ]
  },
  {
   "cell_type": "markdown",
   "id": "10d2fb4f",
   "metadata": {},
   "source": [
    "- ### Ajout des colonnes `ratio_peering`, `ratio_customer` et `ratio_provider`"
   ]
  },
  {
   "cell_type": "code",
   "execution_count": 175,
   "id": "14522524",
   "metadata": {},
   "outputs": [],
   "source": [
    "## a supprimmer\n",
    "\n",
    "AS_dataset['ratio_peering']  = L1\n",
    "\n",
    "AS_dataset['ratio_customer'] = L2\n",
    "\n",
    "AS_dataset['ratio_provider'] = L3"
   ]
  },
  {
   "cell_type": "code",
   "execution_count": 147,
   "id": "e7cf828f",
   "metadata": {},
   "outputs": [],
   "source": [
    "AS_dataset['ratio_peering']  = [np.log(element+1) if np.log(element+1)<=1 else 1 for element in L1]\n",
    "\n",
    "AS_dataset['ratio_customer'] = [np.log(element+1) if np.log(element+1)<=1 else 1 for element in L2]\n",
    "\n",
    "AS_dataset['ratio_provider'] = [np.log10(element+1) if np.log10(element+1)<=1 else 1 for element in L3]"
   ]
  },
  {
   "cell_type": "code",
   "execution_count": 148,
   "id": "cd911701",
   "metadata": {},
   "outputs": [
    {
     "name": "stdout",
     "output_type": "stream",
     "text": [
      "0.000000    58900\n",
      "1.000000     9845\n",
      "0.693147     2689\n",
      "Name: ratio_peering, dtype: int64\n",
      "0.000000    60531\n",
      "1.000000     6474\n",
      "0.693147     4429\n",
      "Name: ratio_customer, dtype: int64\n",
      "0.301030    29226\n",
      "0.477121    25250\n",
      "0.602060     9225\n",
      "0.698970     3651\n",
      "0.778151     1612\n",
      "0.845098      787\n",
      "1.000000      596\n",
      "0.000000      425\n",
      "0.903090      384\n",
      "0.954243      278\n",
      "Name: ratio_provider, dtype: int64\n"
     ]
    }
   ],
   "source": [
    "print(AS_dataset['ratio_peering'].value_counts())\n",
    "print(AS_dataset['ratio_customer'].value_counts())\n",
    "print(AS_dataset['ratio_provider'].value_counts())"
   ]
  },
  {
   "cell_type": "code",
   "execution_count": 149,
   "id": "b3ae52e8",
   "metadata": {},
   "outputs": [
    {
     "data": {
      "text/plain": [
       "count    71434.000000\n",
       "mean         0.163912\n",
       "std          0.359221\n",
       "min          0.000000\n",
       "25%          0.000000\n",
       "50%          0.000000\n",
       "75%          0.000000\n",
       "max          1.000000\n",
       "Name: ratio_peering, dtype: float64"
      ]
     },
     "execution_count": 149,
     "metadata": {},
     "output_type": "execute_result"
    }
   ],
   "source": [
    "AS_dataset['ratio_peering'].describe()"
   ]
  },
  {
   "cell_type": "code",
   "execution_count": 118,
   "id": "7ef317c2",
   "metadata": {},
   "outputs": [
    {
     "data": {
      "text/plain": [
       "count    71434.000000\n",
       "mean         0.228704\n",
       "std          0.677011\n",
       "min          0.000000\n",
       "25%          0.000000\n",
       "50%          0.000000\n",
       "75%          0.000000\n",
       "max          8.738415\n",
       "Name: ratio_customer, dtype: float64"
      ]
     },
     "execution_count": 118,
     "metadata": {},
     "output_type": "execute_result"
    }
   ],
   "source": [
    "AS_dataset['ratio_customer'].describe()"
   ]
  },
  {
   "cell_type": "code",
   "execution_count": 119,
   "id": "14c39bd3",
   "metadata": {},
   "outputs": [
    {
     "data": {
      "text/plain": [
       "count    71434.000000\n",
       "mean         0.450143\n",
       "std          0.164351\n",
       "min          0.000000\n",
       "25%          0.301030\n",
       "50%          0.477121\n",
       "75%          0.477121\n",
       "max          2.139879\n",
       "Name: ratio_provider, dtype: float64"
      ]
     },
     "execution_count": 119,
     "metadata": {},
     "output_type": "execute_result"
    }
   ],
   "source": [
    "AS_dataset['ratio_provider'].describe()"
   ]
  },
  {
   "cell_type": "code",
   "execution_count": 151,
   "id": "4fb6e6af",
   "metadata": {},
   "outputs": [
    {
     "data": {
      "text/html": [
       "<div>\n",
       "<style scoped>\n",
       "    .dataframe tbody tr th:only-of-type {\n",
       "        vertical-align: middle;\n",
       "    }\n",
       "\n",
       "    .dataframe tbody tr th {\n",
       "        vertical-align: top;\n",
       "    }\n",
       "\n",
       "    .dataframe thead th {\n",
       "        text-align: right;\n",
       "    }\n",
       "</style>\n",
       "<table border=\"1\" class=\"dataframe\">\n",
       "  <thead>\n",
       "    <tr style=\"text-align: right;\">\n",
       "      <th></th>\n",
       "      <th>ASN</th>\n",
       "      <th>source_label</th>\n",
       "      <th>label</th>\n",
       "      <th>page_rank_not_directed</th>\n",
       "      <th>page_rank_directed</th>\n",
       "      <th>page_rank_directed_inverse</th>\n",
       "      <th>degree_centrality</th>\n",
       "      <th>degree_normalized</th>\n",
       "      <th>ratio_peering</th>\n",
       "      <th>ratio_customer</th>\n",
       "      <th>ratio_provider</th>\n",
       "    </tr>\n",
       "  </thead>\n",
       "  <tbody>\n",
       "    <tr>\n",
       "      <th>550</th>\n",
       "      <td>1536</td>\n",
       "      <td>CAIDA_class</td>\n",
       "      <td>Transit/Access</td>\n",
       "      <td>0.129544</td>\n",
       "      <td>0.770263</td>\n",
       "      <td>0.905408</td>\n",
       "      <td>0.139991</td>\n",
       "      <td>0.000000</td>\n",
       "      <td>0.693147</td>\n",
       "      <td>0.000000</td>\n",
       "      <td>0.00000</td>\n",
       "    </tr>\n",
       "    <tr>\n",
       "      <th>551</th>\n",
       "      <td>1537</td>\n",
       "      <td>CAIDA_class</td>\n",
       "      <td>Transit/Access</td>\n",
       "      <td>0.125810</td>\n",
       "      <td>0.393434</td>\n",
       "      <td>0.083994</td>\n",
       "      <td>0.139991</td>\n",
       "      <td>0.000000</td>\n",
       "      <td>0.000000</td>\n",
       "      <td>0.000000</td>\n",
       "      <td>0.30103</td>\n",
       "    </tr>\n",
       "    <tr>\n",
       "      <th>552</th>\n",
       "      <td>1538</td>\n",
       "      <td>CAIDA_class</td>\n",
       "      <td>Transit/Access</td>\n",
       "      <td>0.221632</td>\n",
       "      <td>0.838601</td>\n",
       "      <td>1.000000</td>\n",
       "      <td>0.279983</td>\n",
       "      <td>0.301030</td>\n",
       "      <td>1.000000</td>\n",
       "      <td>0.000000</td>\n",
       "      <td>0.00000</td>\n",
       "    </tr>\n",
       "    <tr>\n",
       "      <th>553</th>\n",
       "      <td>1539</td>\n",
       "      <td>manual_class</td>\n",
       "      <td>Enterprise</td>\n",
       "      <td>0.389131</td>\n",
       "      <td>0.770263</td>\n",
       "      <td>1.000000</td>\n",
       "      <td>0.419974</td>\n",
       "      <td>0.477121</td>\n",
       "      <td>0.693147</td>\n",
       "      <td>1.000000</td>\n",
       "      <td>0.00000</td>\n",
       "    </tr>\n",
       "    <tr>\n",
       "      <th>554</th>\n",
       "      <td>1540</td>\n",
       "      <td>CAIDA_class</td>\n",
       "      <td>Content</td>\n",
       "      <td>0.218260</td>\n",
       "      <td>0.770263</td>\n",
       "      <td>1.000000</td>\n",
       "      <td>0.279983</td>\n",
       "      <td>0.301030</td>\n",
       "      <td>0.693147</td>\n",
       "      <td>0.693147</td>\n",
       "      <td>0.00000</td>\n",
       "    </tr>\n",
       "    <tr>\n",
       "      <th>555</th>\n",
       "      <td>1541</td>\n",
       "      <td>CAIDA_class</td>\n",
       "      <td>Transit/Access</td>\n",
       "      <td>1.000000</td>\n",
       "      <td>0.770263</td>\n",
       "      <td>1.000000</td>\n",
       "      <td>1.000000</td>\n",
       "      <td>1.000000</td>\n",
       "      <td>0.693147</td>\n",
       "      <td>1.000000</td>\n",
       "      <td>0.00000</td>\n",
       "    </tr>\n",
       "    <tr>\n",
       "      <th>556</th>\n",
       "      <td>1547</td>\n",
       "      <td>peerDB_class</td>\n",
       "      <td>Transit/Access</td>\n",
       "      <td>1.000000</td>\n",
       "      <td>1.000000</td>\n",
       "      <td>1.000000</td>\n",
       "      <td>1.000000</td>\n",
       "      <td>1.000000</td>\n",
       "      <td>1.000000</td>\n",
       "      <td>1.000000</td>\n",
       "      <td>1.00000</td>\n",
       "    </tr>\n",
       "    <tr>\n",
       "      <th>557</th>\n",
       "      <td>1551</td>\n",
       "      <td>CAIDA_class</td>\n",
       "      <td>Transit/Access</td>\n",
       "      <td>0.127189</td>\n",
       "      <td>0.430431</td>\n",
       "      <td>0.083994</td>\n",
       "      <td>0.139991</td>\n",
       "      <td>0.000000</td>\n",
       "      <td>0.000000</td>\n",
       "      <td>0.000000</td>\n",
       "      <td>0.30103</td>\n",
       "    </tr>\n",
       "  </tbody>\n",
       "</table>\n",
       "</div>"
      ],
      "text/plain": [
       "      ASN  source_label           label  page_rank_not_directed  \\\n",
       "550  1536   CAIDA_class  Transit/Access                0.129544   \n",
       "551  1537   CAIDA_class  Transit/Access                0.125810   \n",
       "552  1538   CAIDA_class  Transit/Access                0.221632   \n",
       "553  1539  manual_class      Enterprise                0.389131   \n",
       "554  1540   CAIDA_class         Content                0.218260   \n",
       "555  1541   CAIDA_class  Transit/Access                1.000000   \n",
       "556  1547  peerDB_class  Transit/Access                1.000000   \n",
       "557  1551   CAIDA_class  Transit/Access                0.127189   \n",
       "\n",
       "     page_rank_directed  page_rank_directed_inverse  degree_centrality  \\\n",
       "550            0.770263                    0.905408           0.139991   \n",
       "551            0.393434                    0.083994           0.139991   \n",
       "552            0.838601                    1.000000           0.279983   \n",
       "553            0.770263                    1.000000           0.419974   \n",
       "554            0.770263                    1.000000           0.279983   \n",
       "555            0.770263                    1.000000           1.000000   \n",
       "556            1.000000                    1.000000           1.000000   \n",
       "557            0.430431                    0.083994           0.139991   \n",
       "\n",
       "     degree_normalized  ratio_peering  ratio_customer  ratio_provider  \n",
       "550           0.000000       0.693147        0.000000         0.00000  \n",
       "551           0.000000       0.000000        0.000000         0.30103  \n",
       "552           0.301030       1.000000        0.000000         0.00000  \n",
       "553           0.477121       0.693147        1.000000         0.00000  \n",
       "554           0.301030       0.693147        0.693147         0.00000  \n",
       "555           1.000000       0.693147        1.000000         0.00000  \n",
       "556           1.000000       1.000000        1.000000         1.00000  \n",
       "557           0.000000       0.000000        0.000000         0.30103  "
      ]
     },
     "execution_count": 151,
     "metadata": {},
     "output_type": "execute_result"
    }
   ],
   "source": [
    "AS_dataset[550:558]"
   ]
  },
  {
   "cell_type": "code",
   "execution_count": 68,
   "id": "45a1e07d",
   "metadata": {},
   "outputs": [
    {
     "data": {
      "text/html": [
       "<div>\n",
       "<style scoped>\n",
       "    .dataframe tbody tr th:only-of-type {\n",
       "        vertical-align: middle;\n",
       "    }\n",
       "\n",
       "    .dataframe tbody tr th {\n",
       "        vertical-align: top;\n",
       "    }\n",
       "\n",
       "    .dataframe thead th {\n",
       "        text-align: right;\n",
       "    }\n",
       "</style>\n",
       "<table border=\"1\" class=\"dataframe\">\n",
       "  <thead>\n",
       "    <tr style=\"text-align: right;\">\n",
       "      <th></th>\n",
       "      <th>ASN</th>\n",
       "      <th>source_label</th>\n",
       "      <th>label</th>\n",
       "      <th>page_rank_not_directed</th>\n",
       "      <th>page_rank_directed</th>\n",
       "      <th>page_rank_directed_inverse</th>\n",
       "      <th>degree_centrality</th>\n",
       "      <th>degree_normalized</th>\n",
       "      <th>ratio_peering</th>\n",
       "      <th>ratio_customer</th>\n",
       "      <th>ratio_provider</th>\n",
       "    </tr>\n",
       "  </thead>\n",
       "  <tbody>\n",
       "    <tr>\n",
       "      <th>2475</th>\n",
       "      <td>6939</td>\n",
       "      <td>peerDB_class</td>\n",
       "      <td>Transit/Access</td>\n",
       "      <td>0.00835</td>\n",
       "      <td>0.009921</td>\n",
       "      <td>0.010811</td>\n",
       "      <td>0.127154</td>\n",
       "      <td>9083.0</td>\n",
       "      <td>7250.0</td>\n",
       "      <td>1831.0</td>\n",
       "      <td>2.0</td>\n",
       "    </tr>\n",
       "  </tbody>\n",
       "</table>\n",
       "</div>"
      ],
      "text/plain": [
       "       ASN  source_label           label  page_rank_not_directed  \\\n",
       "2475  6939  peerDB_class  Transit/Access                 0.00835   \n",
       "\n",
       "      page_rank_directed  page_rank_directed_inverse  degree_centrality  \\\n",
       "2475            0.009921                    0.010811           0.127154   \n",
       "\n",
       "      degree_normalized  ratio_peering  ratio_customer  ratio_provider  \n",
       "2475             9083.0         7250.0          1831.0             2.0  "
      ]
     },
     "execution_count": 68,
     "metadata": {},
     "output_type": "execute_result"
    }
   ],
   "source": [
    "AS_dataset [AS_dataset['ASN'] == 6939]"
   ]
  },
  {
   "cell_type": "code",
   "execution_count": 69,
   "id": "6d115d31",
   "metadata": {},
   "outputs": [
    {
     "name": "stdout",
     "output_type": "stream",
     "text": [
      "Nb p2p : 7250\n",
      "Nb c   : 1831\n",
      "Nb p   : 2\n"
     ]
    }
   ],
   "source": [
    "index_max_p2p = AS_dataset.index [AS_dataset['ASN'] == 6939]\n",
    "print(\"Nb p2p : \" + str(int(L1[index_max_p2p]))\n",
    "      + \"\\nNb c   : \" + str(int(L2[index_max_p2p])) \n",
    "      + \"\\nNb p   : \" + str(int(L3[index_max_p2p])))"
   ]
  },
  {
   "cell_type": "code",
   "execution_count": null,
   "id": "6e64dd7f",
   "metadata": {},
   "outputs": [],
   "source": [
    "#AS_dataset['peering_links']  = L1\n",
    "#AS_dataset['customer_links'] = L2\n",
    "#AS_dataset['provider_links'] = L3\n",
    "\n",
    "#AS_dataset['peering_links_mal_scaled']    = AS_dataset['peering_links']/max_p2p\n",
    "#AS_dataset['customer_links_mal_scaled']   = AS_dataset['customer_links']/max_c\n",
    "#AS_dataset['provider_links_mal_scaled']   = AS_dataset['provider_links']/max_p\n",
    "\n",
    "#AS_dataset['peering_centre_reduit']  = sklearn.preprocessing.scale(AS_dataset['peering_links'])\n",
    "#AS_dataset['customer_centre_reduit'] = sklearn.preprocessing.scale(AS_dataset['customer_links'])\n",
    "#AS_dataset['provider_centre_reduit'] = sklearn.preprocessing.scale(AS_dataset['provider_links'])"
   ]
  },
  {
   "cell_type": "code",
   "execution_count": null,
   "id": "0001515e",
   "metadata": {},
   "outputs": [],
   "source": [
    "AS_dataset['peering_links'].describe()"
   ]
  },
  {
   "cell_type": "code",
   "execution_count": null,
   "id": "11b40d5c",
   "metadata": {},
   "outputs": [],
   "source": [
    "AS_dataset['customer_links'].describe()"
   ]
  },
  {
   "cell_type": "code",
   "execution_count": null,
   "id": "47a5d6cd",
   "metadata": {},
   "outputs": [],
   "source": [
    "AS_dataset['provider_links'].describe()"
   ]
  },
  {
   "cell_type": "code",
   "execution_count": null,
   "id": "f02692dc",
   "metadata": {},
   "outputs": [],
   "source": [
    "AS_dataset['peering_centre_reduit'].describe()"
   ]
  },
  {
   "cell_type": "code",
   "execution_count": null,
   "id": "a7c964ec",
   "metadata": {},
   "outputs": [],
   "source": [
    "AS_dataset['peering_centre_reduit'].quantile(0.99)"
   ]
  },
  {
   "cell_type": "code",
   "execution_count": null,
   "id": "8aa72dc2",
   "metadata": {},
   "outputs": [],
   "source": [
    "AS_dataset['customer_centre_reduit'].describe()"
   ]
  },
  {
   "cell_type": "code",
   "execution_count": null,
   "id": "2cf08416",
   "metadata": {},
   "outputs": [],
   "source": [
    "AS_dataset['provider_centre_reduit'].describe()"
   ]
  },
  {
   "cell_type": "code",
   "execution_count": null,
   "id": "649d6acd",
   "metadata": {},
   "outputs": [],
   "source": [
    "AS_dataset['peering_links_mal_scaled'].describe()"
   ]
  },
  {
   "cell_type": "code",
   "execution_count": null,
   "id": "739ce58f",
   "metadata": {},
   "outputs": [],
   "source": [
    "AS_dataset['customer_links_mal_scaled'].describe()"
   ]
  },
  {
   "cell_type": "code",
   "execution_count": null,
   "id": "a3ddca62",
   "metadata": {},
   "outputs": [],
   "source": [
    "AS_dataset['provider_links_mal_scaled'].describe()"
   ]
  },
  {
   "cell_type": "code",
   "execution_count": null,
   "id": "0a4d6d6c",
   "metadata": {},
   "outputs": [],
   "source": [
    "AS_dataset['peering_links_mal_scaled'].value_counts()"
   ]
  },
  {
   "cell_type": "code",
   "execution_count": null,
   "id": "97e33d38",
   "metadata": {},
   "outputs": [],
   "source": [
    "AS_dataset['customer_links'].describe()"
   ]
  },
  {
   "cell_type": "code",
   "execution_count": null,
   "id": "53313405",
   "metadata": {},
   "outputs": [],
   "source": [
    "AS_dataset['provider_links'].describe()"
   ]
  },
  {
   "cell_type": "code",
   "execution_count": null,
   "id": "4f654d51",
   "metadata": {},
   "outputs": [],
   "source": [
    "AS_dataset['peering_links'] = L1/max_p2p\n",
    "AS_dataset['customer_links'] = L2/max_c\n",
    "AS_dataset['provider_links'] = L3/max_p\n",
    "\n",
    "assert(AS_dataset['peering_links'][index_max_p2p] == 1)\n",
    "assert(AS_dataset['customer_links'][index_max_c] == 1)\n",
    "assert(AS_dataset['provider_links'][index_max_p] == 1)"
   ]
  },
  {
   "cell_type": "code",
   "execution_count": 176,
   "id": "47067133",
   "metadata": {},
   "outputs": [
    {
     "data": {
      "text/html": [
       "<div>\n",
       "<style scoped>\n",
       "    .dataframe tbody tr th:only-of-type {\n",
       "        vertical-align: middle;\n",
       "    }\n",
       "\n",
       "    .dataframe tbody tr th {\n",
       "        vertical-align: top;\n",
       "    }\n",
       "\n",
       "    .dataframe thead th {\n",
       "        text-align: right;\n",
       "    }\n",
       "</style>\n",
       "<table border=\"1\" class=\"dataframe\">\n",
       "  <thead>\n",
       "    <tr style=\"text-align: right;\">\n",
       "      <th></th>\n",
       "      <th>ASN</th>\n",
       "      <th>source_label</th>\n",
       "      <th>label</th>\n",
       "      <th>page_rank_not_directed</th>\n",
       "      <th>page_rank_directed</th>\n",
       "      <th>page_rank_directed_inverse</th>\n",
       "      <th>degree_centrality</th>\n",
       "      <th>degree_normalized</th>\n",
       "      <th>ratio_peering</th>\n",
       "      <th>ratio_customer</th>\n",
       "      <th>ratio_provider</th>\n",
       "      <th>degree</th>\n",
       "    </tr>\n",
       "  </thead>\n",
       "  <tbody>\n",
       "    <tr>\n",
       "      <th>0</th>\n",
       "      <td>1</td>\n",
       "      <td>CAIDA_class</td>\n",
       "      <td>Transit/Access</td>\n",
       "      <td>0.000025</td>\n",
       "      <td>0.000082</td>\n",
       "      <td>0.000017</td>\n",
       "      <td>0.000196</td>\n",
       "      <td>14.0</td>\n",
       "      <td>2.0</td>\n",
       "      <td>2.0</td>\n",
       "      <td>10.0</td>\n",
       "      <td>14.0</td>\n",
       "    </tr>\n",
       "    <tr>\n",
       "      <th>1</th>\n",
       "      <td>2</td>\n",
       "      <td>CAIDA_class</td>\n",
       "      <td>Transit/Access</td>\n",
       "      <td>0.000034</td>\n",
       "      <td>0.000162</td>\n",
       "      <td>0.000004</td>\n",
       "      <td>0.000294</td>\n",
       "      <td>21.0</td>\n",
       "      <td>1.0</td>\n",
       "      <td>2.0</td>\n",
       "      <td>18.0</td>\n",
       "      <td>21.0</td>\n",
       "    </tr>\n",
       "    <tr>\n",
       "      <th>2</th>\n",
       "      <td>3</td>\n",
       "      <td>CAIDA_class</td>\n",
       "      <td>Transit/Access</td>\n",
       "      <td>0.000031</td>\n",
       "      <td>0.000067</td>\n",
       "      <td>0.000092</td>\n",
       "      <td>0.000280</td>\n",
       "      <td>20.0</td>\n",
       "      <td>5.0</td>\n",
       "      <td>1.0</td>\n",
       "      <td>14.0</td>\n",
       "      <td>20.0</td>\n",
       "    </tr>\n",
       "    <tr>\n",
       "      <th>3</th>\n",
       "      <td>4</td>\n",
       "      <td>CAIDA_class</td>\n",
       "      <td>Transit/Access</td>\n",
       "      <td>0.000028</td>\n",
       "      <td>0.000093</td>\n",
       "      <td>0.000004</td>\n",
       "      <td>0.000210</td>\n",
       "      <td>15.0</td>\n",
       "      <td>2.0</td>\n",
       "      <td>1.0</td>\n",
       "      <td>12.0</td>\n",
       "      <td>15.0</td>\n",
       "    </tr>\n",
       "    <tr>\n",
       "      <th>4</th>\n",
       "      <td>5</td>\n",
       "      <td>CAIDA_class</td>\n",
       "      <td>Enterprise</td>\n",
       "      <td>0.000016</td>\n",
       "      <td>0.000126</td>\n",
       "      <td>0.000004</td>\n",
       "      <td>0.000098</td>\n",
       "      <td>7.0</td>\n",
       "      <td>2.0</td>\n",
       "      <td>0.0</td>\n",
       "      <td>5.0</td>\n",
       "      <td>7.0</td>\n",
       "    </tr>\n",
       "  </tbody>\n",
       "</table>\n",
       "</div>"
      ],
      "text/plain": [
       "   ASN source_label           label  page_rank_not_directed  \\\n",
       "0    1  CAIDA_class  Transit/Access                0.000025   \n",
       "1    2  CAIDA_class  Transit/Access                0.000034   \n",
       "2    3  CAIDA_class  Transit/Access                0.000031   \n",
       "3    4  CAIDA_class  Transit/Access                0.000028   \n",
       "4    5  CAIDA_class      Enterprise                0.000016   \n",
       "\n",
       "   page_rank_directed  page_rank_directed_inverse  degree_centrality  \\\n",
       "0            0.000082                    0.000017           0.000196   \n",
       "1            0.000162                    0.000004           0.000294   \n",
       "2            0.000067                    0.000092           0.000280   \n",
       "3            0.000093                    0.000004           0.000210   \n",
       "4            0.000126                    0.000004           0.000098   \n",
       "\n",
       "   degree_normalized  ratio_peering  ratio_customer  ratio_provider  degree  \n",
       "0               14.0            2.0             2.0            10.0    14.0  \n",
       "1               21.0            1.0             2.0            18.0    21.0  \n",
       "2               20.0            5.0             1.0            14.0    20.0  \n",
       "3               15.0            2.0             1.0            12.0    15.0  \n",
       "4                7.0            2.0             0.0             5.0     7.0  "
      ]
     },
     "execution_count": 176,
     "metadata": {},
     "output_type": "execute_result"
    }
   ],
   "source": [
    "AS_dataset.head()"
   ]
  },
  {
   "cell_type": "markdown",
   "id": "058f0df6",
   "metadata": {},
   "source": [
    "- ### Modification de la colonne `label`\n",
    "\n",
    "On transforme la **catégorie non ordinale** en 3 classes entières :\n",
    " - *Content* ⇔ $0$\n",
    " - *Transit/Access* ⇔ $1$\n",
    " - *Enterprise* ⇔ $2$"
   ]
  },
  {
   "cell_type": "code",
   "execution_count": 124,
   "id": "45f26c9a",
   "metadata": {},
   "outputs": [],
   "source": [
    "AS_dataset['label'] = AS_dataset['label'].map({'Content': 0, 'Transit/Access': 1, 'Enterprise': 2})"
   ]
  },
  {
   "cell_type": "code",
   "execution_count": 168,
   "id": "90d7460e",
   "metadata": {},
   "outputs": [
    {
     "data": {
      "text/html": [
       "<div>\n",
       "<style scoped>\n",
       "    .dataframe tbody tr th:only-of-type {\n",
       "        vertical-align: middle;\n",
       "    }\n",
       "\n",
       "    .dataframe tbody tr th {\n",
       "        vertical-align: top;\n",
       "    }\n",
       "\n",
       "    .dataframe thead th {\n",
       "        text-align: right;\n",
       "    }\n",
       "</style>\n",
       "<table border=\"1\" class=\"dataframe\">\n",
       "  <thead>\n",
       "    <tr style=\"text-align: right;\">\n",
       "      <th></th>\n",
       "      <th>ASN</th>\n",
       "      <th>source_label</th>\n",
       "      <th>label</th>\n",
       "      <th>page_rank_not_directed</th>\n",
       "      <th>page_rank_directed</th>\n",
       "      <th>page_rank_directed_inverse</th>\n",
       "      <th>degree_centrality</th>\n",
       "      <th>degree_normalized</th>\n",
       "      <th>ratio_peering</th>\n",
       "      <th>ratio_customer</th>\n",
       "      <th>ratio_provider</th>\n",
       "    </tr>\n",
       "  </thead>\n",
       "  <tbody>\n",
       "    <tr>\n",
       "      <th>0</th>\n",
       "      <td>1</td>\n",
       "      <td>CAIDA_class</td>\n",
       "      <td>1</td>\n",
       "      <td>0.500388</td>\n",
       "      <td>3.688530</td>\n",
       "      <td>0.675913</td>\n",
       "      <td>1.959878</td>\n",
       "      <td>1.146128</td>\n",
       "      <td>1.098612</td>\n",
       "      <td>1.098612</td>\n",
       "      <td>1.041393</td>\n",
       "    </tr>\n",
       "    <tr>\n",
       "      <th>1</th>\n",
       "      <td>2</td>\n",
       "      <td>CAIDA_class</td>\n",
       "      <td>1</td>\n",
       "      <td>0.687322</td>\n",
       "      <td>7.292742</td>\n",
       "      <td>0.169510</td>\n",
       "      <td>2.939818</td>\n",
       "      <td>1.322219</td>\n",
       "      <td>0.693147</td>\n",
       "      <td>1.098612</td>\n",
       "      <td>1.278754</td>\n",
       "    </tr>\n",
       "    <tr>\n",
       "      <th>2</th>\n",
       "      <td>3</td>\n",
       "      <td>CAIDA_class</td>\n",
       "      <td>1</td>\n",
       "      <td>0.623851</td>\n",
       "      <td>2.997638</td>\n",
       "      <td>3.691148</td>\n",
       "      <td>2.799826</td>\n",
       "      <td>1.301030</td>\n",
       "      <td>1.791759</td>\n",
       "      <td>0.693147</td>\n",
       "      <td>1.176091</td>\n",
       "    </tr>\n",
       "    <tr>\n",
       "      <th>3</th>\n",
       "      <td>4</td>\n",
       "      <td>CAIDA_class</td>\n",
       "      <td>1</td>\n",
       "      <td>0.569730</td>\n",
       "      <td>4.188328</td>\n",
       "      <td>0.155139</td>\n",
       "      <td>2.099870</td>\n",
       "      <td>1.176091</td>\n",
       "      <td>1.098612</td>\n",
       "      <td>0.693147</td>\n",
       "      <td>1.113943</td>\n",
       "    </tr>\n",
       "    <tr>\n",
       "      <th>4</th>\n",
       "      <td>5</td>\n",
       "      <td>CAIDA_class</td>\n",
       "      <td>2</td>\n",
       "      <td>0.319572</td>\n",
       "      <td>5.659595</td>\n",
       "      <td>0.142545</td>\n",
       "      <td>0.979939</td>\n",
       "      <td>0.845098</td>\n",
       "      <td>1.098612</td>\n",
       "      <td>0.000000</td>\n",
       "      <td>0.778151</td>\n",
       "    </tr>\n",
       "  </tbody>\n",
       "</table>\n",
       "</div>"
      ],
      "text/plain": [
       "   ASN source_label  label  page_rank_not_directed  page_rank_directed  \\\n",
       "0    1  CAIDA_class      1                0.500388            3.688530   \n",
       "1    2  CAIDA_class      1                0.687322            7.292742   \n",
       "2    3  CAIDA_class      1                0.623851            2.997638   \n",
       "3    4  CAIDA_class      1                0.569730            4.188328   \n",
       "4    5  CAIDA_class      2                0.319572            5.659595   \n",
       "\n",
       "   page_rank_directed_inverse  degree_centrality  degree_normalized  \\\n",
       "0                    0.675913           1.959878           1.146128   \n",
       "1                    0.169510           2.939818           1.322219   \n",
       "2                    3.691148           2.799826           1.301030   \n",
       "3                    0.155139           2.099870           1.176091   \n",
       "4                    0.142545           0.979939           0.845098   \n",
       "\n",
       "   ratio_peering  ratio_customer  ratio_provider  \n",
       "0       1.098612        1.098612        1.041393  \n",
       "1       0.693147        1.098612        1.278754  \n",
       "2       1.791759        0.693147        1.176091  \n",
       "3       1.098612        0.693147        1.113943  \n",
       "4       1.098612        0.000000        0.778151  "
      ]
     },
     "execution_count": 168,
     "metadata": {},
     "output_type": "execute_result"
    }
   ],
   "source": [
    "AS_dataset.head()"
   ]
  },
  {
   "cell_type": "markdown",
   "id": "d747538e",
   "metadata": {},
   "source": [
    "### Exportation des données : `dataset` et `graph`\n",
    "\n",
    "On crée 4 fichiers : \n",
    "- Le `dataset`complet \n",
    "- Le `graphe` nx au format pickle\n",
    "- Le `graphe_float` nx au format pickle\n",
    "- Le `graphe_array` nx au format pickle"
   ]
  },
  {
   "cell_type": "code",
   "execution_count": 152,
   "id": "b66dea77",
   "metadata": {},
   "outputs": [],
   "source": [
    "# Exportation des données\n",
    "\n",
    "suffix = FILE_PATH.split('/')[3].split('.')[0]\n",
    "\n",
    "AS_dataset.to_csv('data_GCN/dataset_v5_'+suffix+'.csv', index=False)\n",
    "nx.write_gpickle(G, 'data_GCN/graph_'+suffix+'.pickle')\n",
    "nx.write_gpickle(G_float, 'data_GCN/graph_float_'+suffix+'.pickle')\n",
    "nx.write_gpickle(G_array, 'data_GCN/graph_array_'+suffix+'.pickle')"
   ]
  },
  {
   "cell_type": "code",
   "execution_count": null,
   "id": "c5d916af",
   "metadata": {},
   "outputs": [],
   "source": []
  }
 ],
 "metadata": {
  "kernelspec": {
   "display_name": "Python 3 (ipykernel)",
   "language": "python",
   "name": "python3"
  },
  "language_info": {
   "codemirror_mode": {
    "name": "ipython",
    "version": 3
   },
   "file_extension": ".py",
   "mimetype": "text/x-python",
   "name": "python",
   "nbconvert_exporter": "python",
   "pygments_lexer": "ipython3",
   "version": "3.9.5"
  }
 },
 "nbformat": 4,
 "nbformat_minor": 5
}
