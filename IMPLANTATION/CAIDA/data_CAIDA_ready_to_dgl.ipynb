{
 "cells": [
  {
   "cell_type": "code",
   "execution_count": 2,
   "id": "e1d135bc",
   "metadata": {},
   "outputs": [
    {
     "name": "stderr",
     "output_type": "stream",
     "text": [
      "Using backend: pytorch\n"
     ]
    }
   ],
   "source": [
    "# Common imports\n",
    "import numpy as np\n",
    "import os\n",
    "import pandas as pd\n",
    "import networkx as nx\n",
    "import pickle\n",
    "os.popen(\"export DGLBACKEND=pytorch\")\n",
    "import dgl as dgl\n",
    "import time"
   ]
  },
  {
   "cell_type": "markdown",
   "id": "827b9172",
   "metadata": {},
   "source": [
    "### Lecture du dataset et du graphe\n",
    "Les données sont disponibles dans le répertoire `./data_GCN`"
   ]
  },
  {
   "cell_type": "code",
   "execution_count": 3,
   "id": "f1f59052",
   "metadata": {},
   "outputs": [],
   "source": [
    "# Lecture de la table 'node_features' au format csv\n",
    "dataset_path = 'data_GCN/dataset_202001.csv'\n",
    "AS_dataset_202001 = pd.read_csv(dataset_path)\n",
    "\n",
    "# Lecture du graphe nx puis transformation en graphe dgl : G_dgl\n",
    "graph_path = 'data_GCN/graph_202001.pickle'\n",
    "G = nx.read_gpickle(graph_path)\n",
    "\n",
    "start_time = time.time()\n",
    "G_dgl = dgl.from_networkx(G) #(G, edge_attrs='type')\n",
    "end_time = time.time()"
   ]
  },
  {
   "cell_type": "markdown",
   "id": "29ab510d",
   "metadata": {},
   "source": [
    "### Visualisation des données"
   ]
  },
  {
   "cell_type": "code",
   "execution_count": 26,
   "id": "e13835bf",
   "metadata": {},
   "outputs": [
    {
     "data": {
      "text/html": [
       "<div>\n",
       "<style scoped>\n",
       "    .dataframe tbody tr th:only-of-type {\n",
       "        vertical-align: middle;\n",
       "    }\n",
       "\n",
       "    .dataframe tbody tr th {\n",
       "        vertical-align: top;\n",
       "    }\n",
       "\n",
       "    .dataframe thead th {\n",
       "        text-align: right;\n",
       "    }\n",
       "</style>\n",
       "<table border=\"1\" class=\"dataframe\">\n",
       "  <thead>\n",
       "    <tr style=\"text-align: right;\">\n",
       "      <th></th>\n",
       "      <th>ASN</th>\n",
       "      <th>source_label</th>\n",
       "      <th>label</th>\n",
       "      <th>page_rank</th>\n",
       "      <th>degree_centrality</th>\n",
       "      <th>peering_links</th>\n",
       "      <th>customer_links</th>\n",
       "      <th>provider_links</th>\n",
       "      <th>is_Content</th>\n",
       "      <th>is_Transit/Access</th>\n",
       "      <th>is_Enterprise</th>\n",
       "    </tr>\n",
       "  </thead>\n",
       "  <tbody>\n",
       "    <tr>\n",
       "      <th>0</th>\n",
       "      <td>1</td>\n",
       "      <td>CAIDA_class</td>\n",
       "      <td>Content</td>\n",
       "      <td>0.000025</td>\n",
       "      <td>0.000193</td>\n",
       "      <td>0.000150</td>\n",
       "      <td>0.000000</td>\n",
       "      <td>0.100000</td>\n",
       "      <td>1</td>\n",
       "      <td>0</td>\n",
       "      <td>0</td>\n",
       "    </tr>\n",
       "    <tr>\n",
       "      <th>1</th>\n",
       "      <td>2</td>\n",
       "      <td>CAIDA_class</td>\n",
       "      <td>Transit/Access</td>\n",
       "      <td>0.000064</td>\n",
       "      <td>0.000490</td>\n",
       "      <td>0.001202</td>\n",
       "      <td>0.001007</td>\n",
       "      <td>0.158333</td>\n",
       "      <td>0</td>\n",
       "      <td>1</td>\n",
       "      <td>0</td>\n",
       "    </tr>\n",
       "    <tr>\n",
       "      <th>2</th>\n",
       "      <td>3</td>\n",
       "      <td>CAIDA_class</td>\n",
       "      <td>Transit/Access</td>\n",
       "      <td>0.000037</td>\n",
       "      <td>0.000342</td>\n",
       "      <td>0.000451</td>\n",
       "      <td>0.000671</td>\n",
       "      <td>0.133333</td>\n",
       "      <td>0</td>\n",
       "      <td>1</td>\n",
       "      <td>0</td>\n",
       "    </tr>\n",
       "    <tr>\n",
       "      <th>3</th>\n",
       "      <td>4</td>\n",
       "      <td>CAIDA_class</td>\n",
       "      <td>Transit/Access</td>\n",
       "      <td>0.000034</td>\n",
       "      <td>0.000238</td>\n",
       "      <td>0.000451</td>\n",
       "      <td>0.000503</td>\n",
       "      <td>0.083333</td>\n",
       "      <td>0</td>\n",
       "      <td>1</td>\n",
       "      <td>0</td>\n",
       "    </tr>\n",
       "    <tr>\n",
       "      <th>4</th>\n",
       "      <td>5</td>\n",
       "      <td>CAIDA_class</td>\n",
       "      <td>Transit/Access</td>\n",
       "      <td>0.000018</td>\n",
       "      <td>0.000134</td>\n",
       "      <td>0.000150</td>\n",
       "      <td>0.000168</td>\n",
       "      <td>0.058333</td>\n",
       "      <td>0</td>\n",
       "      <td>1</td>\n",
       "      <td>0</td>\n",
       "    </tr>\n",
       "  </tbody>\n",
       "</table>\n",
       "</div>"
      ],
      "text/plain": [
       "   ASN source_label           label  page_rank  degree_centrality  \\\n",
       "0    1  CAIDA_class         Content   0.000025           0.000193   \n",
       "1    2  CAIDA_class  Transit/Access   0.000064           0.000490   \n",
       "2    3  CAIDA_class  Transit/Access   0.000037           0.000342   \n",
       "3    4  CAIDA_class  Transit/Access   0.000034           0.000238   \n",
       "4    5  CAIDA_class  Transit/Access   0.000018           0.000134   \n",
       "\n",
       "   peering_links  customer_links  provider_links  is_Content  \\\n",
       "0       0.000150        0.000000        0.100000           1   \n",
       "1       0.001202        0.001007        0.158333           0   \n",
       "2       0.000451        0.000671        0.133333           0   \n",
       "3       0.000451        0.000503        0.083333           0   \n",
       "4       0.000150        0.000168        0.058333           0   \n",
       "\n",
       "   is_Transit/Access  is_Enterprise  \n",
       "0                  0              0  \n",
       "1                  1              0  \n",
       "2                  1              0  \n",
       "3                  1              0  \n",
       "4                  1              0  "
      ]
     },
     "execution_count": 26,
     "metadata": {},
     "output_type": "execute_result"
    }
   ],
   "source": [
    "AS_dataset_202001.head()"
   ]
  },
  {
   "cell_type": "code",
   "execution_count": 29,
   "id": "f4965b80",
   "metadata": {},
   "outputs": [
    {
     "name": "stdout",
     "output_type": "stream",
     "text": [
      "** Graph nx (G) : Graph with 67308 nodes and 446633 edges\n",
      "\n",
      "** Time to get dgl graph : 14.71 s\n",
      "\n",
      "** Graph dgl (G_dgl) : Graph(num_nodes=67308, num_edges=893266,\n",
      "      ndata_schemes={}\n",
      "      edata_schemes={})\n",
      "\n",
      "** Nodes dgl : tensor([    0,     1,     2,  ..., 67305, 67306, 67307])\n",
      "** Edges dgl : (tensor([    0,     0,     0,  ..., 67306, 67306, 67307]), tensor([46417,  5027, 14839,  ..., 64565, 67241,   123]))\n"
     ]
    }
   ],
   "source": [
    "print(\"** Graph nx (G) : \" + str(nx.info(G)) + \"\\n\")\n",
    "print(\"** Time to get dgl graph : \" + str(round((end_time - start_time), 2)) + \" s\")\n",
    "print(\"\\n** Graph dgl (G_dgl) : \" + str(G_dgl))\n",
    "print(\"\\n** Nodes dgl : \" + str(G_dgl.nodes()))\n",
    "print(\"** Edges dgl : \" + str(G_dgl.edges()))"
   ]
  },
  {
   "cell_type": "code",
   "execution_count": null,
   "id": "7f36dc70",
   "metadata": {},
   "outputs": [],
   "source": []
  }
 ],
 "metadata": {
  "kernelspec": {
   "display_name": "Python 3 (ipykernel)",
   "language": "python",
   "name": "python3"
  },
  "language_info": {
   "codemirror_mode": {
    "name": "ipython",
    "version": 3
   },
   "file_extension": ".py",
   "mimetype": "text/x-python",
   "name": "python",
   "nbconvert_exporter": "python",
   "pygments_lexer": "ipython3",
   "version": "3.9.5"
  }
 },
 "nbformat": 4,
 "nbformat_minor": 5
}
