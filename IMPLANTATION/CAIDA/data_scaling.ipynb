{
 "cells": [
  {
   "cell_type": "markdown",
   "id": "36b622f1",
   "metadata": {},
   "source": [
    "## Data scale"
   ]
  },
  {
   "cell_type": "markdown",
   "id": "2b56d11f",
   "metadata": {},
   "source": [
    "### Goal of the notebook\n",
    "\n",
    "- Once the 8 nodes features are computed, we have the following Panda dataset. <br>\n",
    "However, **the data is not ready to be given to the GCN** because it is not scaled (values between `-1` and `1`) and because of it's distribution\n",
    "- Therefore, a visualization of the nodes features will help us determine the best transformation to scale them.\n",
    "\n",
    "💡 This notebook aim is to **read a Dataset file** and then **transform it into a scaled one**."
   ]
  },
  {
   "cell_type": "code",
   "execution_count": 1,
   "id": "bb70ecc3",
   "metadata": {},
   "outputs": [],
   "source": [
    "# Common imports\n",
    "import numpy as np\n",
    "import os\n",
    "import pandas as pd\n",
    "import networkx as nx\n",
    "from scipy import stats\n",
    "import pickle\n",
    "os.popen(\"export DGLBACKEND=pytorch\")\n",
    "#import dgl as dgl\n",
    "import time\n",
    "from sklearn import preprocessing\n",
    "\n",
    "# To plot pretty figures\n",
    "%matplotlib inline\n",
    "import matplotlib as mpl\n",
    "import matplotlib.pyplot as plt\n",
    "from numpy import arange"
   ]
  },
  {
   "cell_type": "code",
   "execution_count": 2,
   "id": "027761a3",
   "metadata": {},
   "outputs": [],
   "source": [
    "# File to chose among the directory ./data/CAIDA_AS_RELATIONSHIP/\n",
    "\n",
    "#FILE_PATH='./data/CAIDA_AS_RELATIONSHIP/20200101.as-rel2.txt'\n",
    "FILE_PATH='./data/CAIDA_AS_RELATIONSHIP/20210301.as-rel2.txt'\n",
    "suffix = FILE_PATH.split('/')[3].split('.')[0]"
   ]
  },
  {
   "cell_type": "code",
   "execution_count": 3,
   "id": "2a797564",
   "metadata": {
    "code_folding": []
   },
   "outputs": [],
   "source": [
    "# Get the dataset to scale it\n",
    "AS_dataset = pd.read_csv('data_GCN/dataset_v5_'+suffix+'.csv')"
   ]
  },
  {
   "cell_type": "markdown",
   "id": "5a9664b6",
   "metadata": {},
   "source": [
    "- #### Dataset not scaled, with 8 nodes-features"
   ]
  },
  {
   "cell_type": "code",
   "execution_count": 4,
   "id": "dd47dd4c",
   "metadata": {},
   "outputs": [
    {
     "data": {
      "text/html": [
       "<div>\n",
       "<style scoped>\n",
       "    .dataframe tbody tr th:only-of-type {\n",
       "        vertical-align: middle;\n",
       "    }\n",
       "\n",
       "    .dataframe tbody tr th {\n",
       "        vertical-align: top;\n",
       "    }\n",
       "\n",
       "    .dataframe thead th {\n",
       "        text-align: right;\n",
       "    }\n",
       "</style>\n",
       "<table border=\"1\" class=\"dataframe\">\n",
       "  <thead>\n",
       "    <tr style=\"text-align: right;\">\n",
       "      <th></th>\n",
       "      <th>ASN</th>\n",
       "      <th>source_label</th>\n",
       "      <th>label</th>\n",
       "      <th>page_rank_not_directed</th>\n",
       "      <th>page_rank_directed</th>\n",
       "      <th>page_rank_directed_inverse</th>\n",
       "      <th>degree_centrality</th>\n",
       "      <th>degree_normalized</th>\n",
       "      <th>ratio_peering</th>\n",
       "      <th>ratio_customer</th>\n",
       "      <th>ratio_provider</th>\n",
       "    </tr>\n",
       "  </thead>\n",
       "  <tbody>\n",
       "    <tr>\n",
       "      <th>0</th>\n",
       "      <td>1</td>\n",
       "      <td>CAIDA_class</td>\n",
       "      <td>Transit/Access</td>\n",
       "      <td>0.000025</td>\n",
       "      <td>0.000082</td>\n",
       "      <td>0.000017</td>\n",
       "      <td>0.000196</td>\n",
       "      <td>14.0</td>\n",
       "      <td>2.0</td>\n",
       "      <td>2.0</td>\n",
       "      <td>10.0</td>\n",
       "    </tr>\n",
       "    <tr>\n",
       "      <th>1</th>\n",
       "      <td>2</td>\n",
       "      <td>CAIDA_class</td>\n",
       "      <td>Transit/Access</td>\n",
       "      <td>0.000034</td>\n",
       "      <td>0.000162</td>\n",
       "      <td>0.000004</td>\n",
       "      <td>0.000294</td>\n",
       "      <td>21.0</td>\n",
       "      <td>1.0</td>\n",
       "      <td>2.0</td>\n",
       "      <td>18.0</td>\n",
       "    </tr>\n",
       "    <tr>\n",
       "      <th>2</th>\n",
       "      <td>3</td>\n",
       "      <td>CAIDA_class</td>\n",
       "      <td>Transit/Access</td>\n",
       "      <td>0.000031</td>\n",
       "      <td>0.000067</td>\n",
       "      <td>0.000092</td>\n",
       "      <td>0.000280</td>\n",
       "      <td>20.0</td>\n",
       "      <td>5.0</td>\n",
       "      <td>1.0</td>\n",
       "      <td>14.0</td>\n",
       "    </tr>\n",
       "    <tr>\n",
       "      <th>3</th>\n",
       "      <td>4</td>\n",
       "      <td>CAIDA_class</td>\n",
       "      <td>Transit/Access</td>\n",
       "      <td>0.000028</td>\n",
       "      <td>0.000093</td>\n",
       "      <td>0.000004</td>\n",
       "      <td>0.000210</td>\n",
       "      <td>15.0</td>\n",
       "      <td>2.0</td>\n",
       "      <td>1.0</td>\n",
       "      <td>12.0</td>\n",
       "    </tr>\n",
       "    <tr>\n",
       "      <th>4</th>\n",
       "      <td>5</td>\n",
       "      <td>CAIDA_class</td>\n",
       "      <td>Enterprise</td>\n",
       "      <td>0.000016</td>\n",
       "      <td>0.000126</td>\n",
       "      <td>0.000004</td>\n",
       "      <td>0.000098</td>\n",
       "      <td>7.0</td>\n",
       "      <td>2.0</td>\n",
       "      <td>0.0</td>\n",
       "      <td>5.0</td>\n",
       "    </tr>\n",
       "  </tbody>\n",
       "</table>\n",
       "</div>"
      ],
      "text/plain": [
       "   ASN source_label           label  page_rank_not_directed  \\\n",
       "0    1  CAIDA_class  Transit/Access                0.000025   \n",
       "1    2  CAIDA_class  Transit/Access                0.000034   \n",
       "2    3  CAIDA_class  Transit/Access                0.000031   \n",
       "3    4  CAIDA_class  Transit/Access                0.000028   \n",
       "4    5  CAIDA_class      Enterprise                0.000016   \n",
       "\n",
       "   page_rank_directed  page_rank_directed_inverse  degree_centrality  \\\n",
       "0            0.000082                    0.000017           0.000196   \n",
       "1            0.000162                    0.000004           0.000294   \n",
       "2            0.000067                    0.000092           0.000280   \n",
       "3            0.000093                    0.000004           0.000210   \n",
       "4            0.000126                    0.000004           0.000098   \n",
       "\n",
       "   degree_normalized  ratio_peering  ratio_customer  ratio_provider  \n",
       "0               14.0            2.0             2.0            10.0  \n",
       "1               21.0            1.0             2.0            18.0  \n",
       "2               20.0            5.0             1.0            14.0  \n",
       "3               15.0            2.0             1.0            12.0  \n",
       "4                7.0            2.0             0.0             5.0  "
      ]
     },
     "execution_count": 4,
     "metadata": {},
     "output_type": "execute_result"
    }
   ],
   "source": [
    "AS_dataset.head()"
   ]
  },
  {
   "cell_type": "markdown",
   "id": "9a1ecae4",
   "metadata": {},
   "source": [
    "### Scaling of metrics node-features\n",
    "\n",
    "The 4 nodes features that correspond to graph metrics are `page_rank_not_directed`, `page_rank_directed`, `page_rank_directed_inverse` et `degree_centrality`."
   ]
  },
  {
   "cell_type": "code",
   "execution_count": 5,
   "id": "1e4203b7",
   "metadata": {},
   "outputs": [],
   "source": [
    "list_pageRank                  = AS_dataset['page_rank_not_directed']\n",
    "list_pageRank_directed         = AS_dataset['page_rank_directed']\n",
    "list_pageRank_directed_inverse = AS_dataset['page_rank_directed_inverse']\n",
    "list_degreeCentrality          = AS_dataset['degree_centrality']\n",
    "# EXECUTE THIS CELL ONLY 1 TIME TO HAVE IDEMPOTENCY BELOW"
   ]
  },
  {
   "cell_type": "markdown",
   "id": "e6fb45a3",
   "metadata": {},
   "source": [
    "##### Scaling of  `page_rank_not_directed`"
   ]
  },
  {
   "cell_type": "code",
   "execution_count": 6,
   "id": "950c2528",
   "metadata": {},
   "outputs": [
    {
     "name": "stdout",
     "output_type": "stream",
     "text": [
      "Distribution of page_rank_not_directed node-feature :\n",
      "\n",
      "*********************************************\n",
      "count    71434.000000\n",
      "mean         0.000014\n",
      "std          0.000106\n",
      "min          0.000002\n",
      "25%          0.000004\n",
      "50%          0.000005\n",
      "75%          0.000007\n",
      "max          0.010813\n",
      "Name: page_rank_not_directed, dtype: float64\n",
      "*********************************************\n"
     ]
    },
    {
     "data": {
      "text/plain": [
       "Text(0, 0.5, '%')"
      ]
     },
     "execution_count": 6,
     "metadata": {},
     "output_type": "execute_result"
    },
    {
     "data": {
      "image/png": "[encoded data removed]",
      "text/plain": [
       "<Figure size 360x216 with 1 Axes>"
      ]
     },
     "metadata": {
      "needs_background": "light"
     },
     "output_type": "display_data"
    }
   ],
   "source": [
    "print(\"Distribution of page_rank_not_directed node-feature :\")\n",
    "print(\"\\n*********************************************\")\n",
    "print(AS_dataset['page_rank_not_directed'].describe())\n",
    "print(\"*********************************************\")\n",
    "\n",
    "plt.figure(figsize=(5,3))\n",
    "plt.hist(list_pageRank, \n",
    "         range=(1e-6,1e-5), \n",
    "         weights=100*(np.ones(len(list_pageRank))/len(list_pageRank)))\n",
    "plt.xlabel(\"Value of page_rank\")\n",
    "plt.ylabel(\"%\")"
   ]
  },
  {
   "cell_type": "code",
   "execution_count": 7,
   "id": "448b2e41",
   "metadata": {},
   "outputs": [],
   "source": [
    "AS_dataset['page_rank_not_directed'] = [element * 20000 if element * 20000 <= 1 else 1 for element in list_pageRank]"
   ]
  },
  {
   "cell_type": "code",
   "execution_count": 8,
   "id": "ac251c90",
   "metadata": {},
   "outputs": [
    {
     "name": "stdout",
     "output_type": "stream",
     "text": [
      "Distribution of \u001b[1mscaled\u001b[0m page_rank_not_directed node-feature :\n",
      "\n",
      "*********************************************\n",
      "count    71434.000000\n",
      "mean         0.163160\n",
      "std          0.195769\n",
      "min          0.046870\n",
      "25%          0.075614\n",
      "50%          0.098458\n",
      "75%          0.141052\n",
      "max          1.000000\n",
      "Name: page_rank_not_directed, dtype: float64\n",
      "*********************************************\n"
     ]
    },
    {
     "data": {
      "text/plain": [
       "Text(0, 0.5, '%')"
      ]
     },
     "execution_count": 8,
     "metadata": {},
     "output_type": "execute_result"
    },
    {
     "data": {
      "image/png": "[encoded data removed]",
      "text/plain": [
       "<Figure size 360x216 with 1 Axes>"
      ]
     },
     "metadata": {
      "needs_background": "light"
     },
     "output_type": "display_data"
    }
   ],
   "source": [
    "print(\"Distribution of \" + \"\\033[1m\" + \"scaled\" + \"\\033[0m\" + \" page_rank_not_directed node-feature :\") \n",
    "print(\"\\n*********************************************\")\n",
    "print(AS_dataset['page_rank_not_directed'].describe())\n",
    "print(\"*********************************************\")\n",
    "\n",
    "plt.figure(figsize=(5,3))\n",
    "plt.hist(AS_dataset['page_rank_not_directed'], \n",
    "         range=(1e-2,1e0), \n",
    "         weights=100*(np.ones(len(AS_dataset['page_rank_not_directed']))/len(AS_dataset['page_rank_not_directed'])))\n",
    "plt.xlabel(\"Histogram of scaled page_rank\")\n",
    "plt.ylabel(\"%\")"
   ]
  },
  {
   "cell_type": "markdown",
   "id": "643e3c53",
   "metadata": {},
   "source": [
    "##### Scaling of  `page_rank_directed`"
   ]
  },
  {
   "cell_type": "code",
   "execution_count": 9,
   "id": "0095eb92",
   "metadata": {},
   "outputs": [
    {
     "name": "stdout",
     "output_type": "stream",
     "text": [
      "Distribution of page_rank_not_directed node-feature :\n",
      "\n",
      "*********************************************\n",
      "count    71434.000000\n",
      "mean         0.000014\n",
      "std          0.000066\n",
      "min          0.000008\n",
      "25%          0.000009\n",
      "50%          0.000009\n",
      "75%          0.000011\n",
      "max          0.009921\n",
      "Name: page_rank_directed, dtype: float64\n",
      "*********************************************\n"
     ]
    },
    {
     "data": {
      "text/plain": [
       "Text(0, 0.5, '%')"
      ]
     },
     "execution_count": 9,
     "metadata": {},
     "output_type": "execute_result"
    },
    {
     "data": {
      "image/png": "[encoded data removed]",
      "text/plain": [
       "<Figure size 360x216 with 1 Axes>"
      ]
     },
     "metadata": {
      "needs_background": "light"
     },
     "output_type": "display_data"
    }
   ],
   "source": [
    "print(\"Distribution of page_rank_not_directed node-feature :\")\n",
    "print(\"\\n*********************************************\")\n",
    "print(AS_dataset['page_rank_directed'].describe())\n",
    "print(\"*********************************************\")\n",
    "\n",
    "plt.figure(figsize=(5,3))\n",
    "plt.hist(list_pageRank_directed, \n",
    "         range=(8e-6,1e-5), \n",
    "         weights=100*(np.ones(len(list_pageRank_directed))/len(list_pageRank_directed)))\n",
    "plt.xlabel(\"Value of page_rank_directed\")\n",
    "plt.ylabel(\"%\")"
   ]
  },
  {
   "cell_type": "code",
   "execution_count": 10,
   "id": "7ab374d2",
   "metadata": {},
   "outputs": [],
   "source": [
    "AS_dataset['page_rank_directed'] = [element * 45000 if element * 45000 <=1 else 1 for element in list_pageRank_directed]"
   ]
  },
  {
   "cell_type": "code",
   "execution_count": 11,
   "id": "17a4366f",
   "metadata": {},
   "outputs": [
    {
     "name": "stdout",
     "output_type": "stream",
     "text": [
      "Distribution of \u001b[1mscaled\u001b[0m page_rank_directed node-feature :\n",
      "\n",
      "*********************************************\n",
      "count    71434.000000\n",
      "mean         0.484493\n",
      "std          0.172892\n",
      "min          0.378938\n",
      "25%          0.388982\n",
      "50%          0.404204\n",
      "75%          0.473491\n",
      "max          1.000000\n",
      "Name: page_rank_directed, dtype: float64\n",
      "*********************************************\n"
     ]
    },
    {
     "data": {
      "text/plain": [
       "Text(0, 0.5, '%')"
      ]
     },
     "execution_count": 11,
     "metadata": {},
     "output_type": "execute_result"
    },
    {
     "data": {
      "image/png": "[encoded data removed]",
      "text/plain": [
       "<Figure size 360x216 with 1 Axes>"
      ]
     },
     "metadata": {
      "needs_background": "light"
     },
     "output_type": "display_data"
    }
   ],
   "source": [
    "print(\"Distribution of \" + \"\\033[1m\" + \"scaled\" + \"\\033[0m\" + \" page_rank_directed node-feature :\") \n",
    "\n",
    "print(\"\\n*********************************************\")\n",
    "print(AS_dataset['page_rank_directed'].describe())\n",
    "print(\"*********************************************\")\n",
    "\n",
    "plt.figure(figsize=(5,3))\n",
    "plt.hist(AS_dataset['page_rank_directed'], \n",
    "         range=(1e-2,1e0), \n",
    "         weights=100*(np.ones(len(AS_dataset['page_rank_directed']))/len(AS_dataset['page_rank_directed'])))\n",
    "plt.xlabel(\"Histogram of scaled page_rank_directed\")\n",
    "plt.ylabel(\"%\")"
   ]
  },
  {
   "cell_type": "markdown",
   "id": "631986fc",
   "metadata": {},
   "source": [
    "##### Scaling of  `page_rank_directed_inverse`"
   ]
  },
  {
   "cell_type": "code",
   "execution_count": 12,
   "id": "aebf65f6",
   "metadata": {},
   "outputs": [
    {
     "name": "stdout",
     "output_type": "stream",
     "text": [
      "Distribution of page_rank_directed_inverse node-feature :\n",
      "\n",
      "*********************************************\n",
      "count    71434.000000\n",
      "mean         0.000014\n",
      "std          0.000122\n",
      "min          0.000002\n",
      "25%          0.000002\n",
      "50%          0.000002\n",
      "75%          0.000002\n",
      "max          0.010811\n",
      "Name: page_rank_directed_inverse, dtype: float64\n",
      "*********************************************\n"
     ]
    },
    {
     "data": {
      "text/plain": [
       "Text(0, 0.5, '%')"
      ]
     },
     "execution_count": 12,
     "metadata": {},
     "output_type": "execute_result"
    },
    {
     "data": {
      "image/png": "[encoded data removed]",
      "text/plain": [
       "<Figure size 360x216 with 1 Axes>"
      ]
     },
     "metadata": {
      "needs_background": "light"
     },
     "output_type": "display_data"
    }
   ],
   "source": [
    "print(\"Distribution of page_rank_directed_inverse node-feature :\")\n",
    "print(\"\\n*********************************************\")\n",
    "print(AS_dataset['page_rank_directed_inverse'].describe())\n",
    "print(\"*********************************************\")\n",
    "\n",
    "plt.figure(figsize=(5,3))\n",
    "plt.hist(list_pageRank_directed_inverse, \n",
    "         range=(1e-6,1e-5), \n",
    "         weights=100*(np.ones(len(list_pageRank_directed_inverse))/len(list_pageRank_directed_inverse)))\n",
    "plt.xlabel(\"Value of page_rank_directed_inverse\")\n",
    "plt.ylabel(\"%\")"
   ]
  },
  {
   "cell_type": "code",
   "execution_count": 13,
   "id": "398b28c3",
   "metadata": {},
   "outputs": [],
   "source": [
    "AS_dataset['page_rank_directed_inverse'] = [element * 40000 if element * 40000 <=1 else 1 for element in list_pageRank_directed_inverse]"
   ]
  },
  {
   "cell_type": "code",
   "execution_count": 14,
   "id": "a7035377",
   "metadata": {},
   "outputs": [
    {
     "name": "stdout",
     "output_type": "stream",
     "text": [
      "Distribution of \u001b[1mscaled\u001b[0m page_rank_directed_inverse node-feature :\n",
      "\n",
      "*********************************************\n",
      "count    71434.000000\n",
      "mean         0.191827\n",
      "std          0.260949\n",
      "min          0.083994\n",
      "25%          0.083994\n",
      "50%          0.083994\n",
      "75%          0.083994\n",
      "max          1.000000\n",
      "Name: page_rank_directed_inverse, dtype: float64\n",
      "*********************************************\n"
     ]
    },
    {
     "data": {
      "text/plain": [
       "Text(0, 0.5, '%')"
      ]
     },
     "execution_count": 14,
     "metadata": {},
     "output_type": "execute_result"
    },
    {
     "data": {
      "image/png": "[encoded data removed]",
      "text/plain": [
       "<Figure size 360x216 with 1 Axes>"
      ]
     },
     "metadata": {
      "needs_background": "light"
     },
     "output_type": "display_data"
    }
   ],
   "source": [
    "print(\"Distribution of \" + \"\\033[1m\" + \"scaled\" + \"\\033[0m\" + \" page_rank_directed_inverse node-feature :\") \n",
    "print(\"\\n*********************************************\")\n",
    "print(AS_dataset['page_rank_directed_inverse'].describe())\n",
    "print(\"*********************************************\")\n",
    "\n",
    "plt.figure(figsize=(5,3))\n",
    "plt.hist(AS_dataset['page_rank_directed_inverse'], \n",
    "         range=(1e-2,1e0), \n",
    "         weights=100*(np.ones(len(AS_dataset['page_rank_directed_inverse']))/len(AS_dataset['page_rank_directed_inverse'])))\n",
    "plt.xlabel(\"Histogram of scaled page_rank_directed_inverse\")\n",
    "plt.ylabel(\"%\")"
   ]
  },
  {
   "cell_type": "markdown",
   "id": "6fca1f18",
   "metadata": {},
   "source": [
    "##### Scaling of  `degree_centrality`"
   ]
  },
  {
   "cell_type": "code",
   "execution_count": 15,
   "id": "145cf4c8",
   "metadata": {},
   "outputs": [
    {
     "name": "stdout",
     "output_type": "stream",
     "text": [
      "Distribution of degree_centrality node-feature :\n",
      "\n",
      "*********************************************\n",
      "count    71434.000000\n",
      "mean         0.000192\n",
      "std          0.001498\n",
      "min          0.000014\n",
      "25%          0.000014\n",
      "50%          0.000028\n",
      "75%          0.000042\n",
      "max          0.127154\n",
      "Name: degree_centrality, dtype: float64\n",
      "*********************************************\n"
     ]
    },
    {
     "data": {
      "text/plain": [
       "Text(0, 0.5, '%')"
      ]
     },
     "execution_count": 15,
     "metadata": {},
     "output_type": "execute_result"
    },
    {
     "data": {
      "image/png": "[encoded data removed]",
      "text/plain": [
       "<Figure size 360x216 with 1 Axes>"
      ]
     },
     "metadata": {
      "needs_background": "light"
     },
     "output_type": "display_data"
    }
   ],
   "source": [
    "print(\"Distribution of degree_centrality node-feature :\")\n",
    "print(\"\\n*********************************************\")\n",
    "print(AS_dataset['degree_centrality'].describe())\n",
    "print(\"*********************************************\")\n",
    "\n",
    "plt.figure(figsize=(5,3))\n",
    "plt.hist(list_degreeCentrality, \n",
    "         range=(1e-5,1e-4), \n",
    "         weights=100*(np.ones(len(list_degreeCentrality))/len(list_degreeCentrality)))\n",
    "plt.xlabel(\"Value of degree_centrality\")\n",
    "plt.ylabel(\"%\")"
   ]
  },
  {
   "cell_type": "code",
   "execution_count": 16,
   "id": "f10d7ffa",
   "metadata": {},
   "outputs": [],
   "source": [
    "AS_dataset['degree_centrality'] = [element * 10000 if element * 10000 <=1 else 1 for element in list_degreeCentrality]"
   ]
  },
  {
   "cell_type": "code",
   "execution_count": 17,
   "id": "97acde91",
   "metadata": {},
   "outputs": [
    {
     "name": "stdout",
     "output_type": "stream",
     "text": [
      "Distribution of \u001b[1mscaled\u001b[0m degree_centrality node-feature :\n",
      "\n",
      "*********************************************\n",
      "count    71434.000000\n",
      "mean         0.382925\n",
      "std          0.296410\n",
      "min          0.139991\n",
      "25%          0.139991\n",
      "50%          0.279983\n",
      "75%          0.419974\n",
      "max          1.000000\n",
      "Name: degree_centrality, dtype: float64\n",
      "*********************************************\n"
     ]
    },
    {
     "data": {
      "text/plain": [
       "Text(0, 0.5, '%')"
      ]
     },
     "execution_count": 17,
     "metadata": {},
     "output_type": "execute_result"
    },
    {
     "data": {
      "image/png": "[encoded data removed]",
      "text/plain": [
       "<Figure size 360x216 with 1 Axes>"
      ]
     },
     "metadata": {
      "needs_background": "light"
     },
     "output_type": "display_data"
    }
   ],
   "source": [
    "print(\"Distribution of \" + \"\\033[1m\" + \"scaled\" + \"\\033[0m\" + \" degree_centrality node-feature :\") \n",
    "print(\"\\n*********************************************\")\n",
    "print(AS_dataset['degree_centrality'].describe())\n",
    "print(\"*********************************************\")\n",
    "\n",
    "plt.figure(figsize=(5,3))\n",
    "plt.hist(AS_dataset['degree_centrality'], \n",
    "         range=(1e-2,1e0), \n",
    "         weights=100*(np.ones(len(AS_dataset['degree_centrality']))/len(AS_dataset['degree_centrality'])))\n",
    "plt.xlabel(\"Histogram of scaled degree_centrality\")\n",
    "plt.ylabel(\"%\")"
   ]
  },
  {
   "cell_type": "markdown",
   "id": "f21ee726",
   "metadata": {},
   "source": [
    "### Scaling of non-metric features\n",
    "The 4 other node features are `degree_normalized`, `ratio_peering`, `ratio_customer` and `ratio_provider`"
   ]
  },
  {
   "cell_type": "markdown",
   "id": "de740cc5",
   "metadata": {},
   "source": [
    "##### Scaling of `degree_normalized` "
   ]
  },
  {
   "cell_type": "code",
   "execution_count": 18,
   "id": "e8f5a5dc",
   "metadata": {},
   "outputs": [],
   "source": [
    "List_degree = AS_dataset['degree_normalized']\n",
    "AS_dataset['degree_normalized'] = [np.log10(element) if np.log10(element)<=1 else 1 for element in List_degree]"
   ]
  },
  {
   "cell_type": "code",
   "execution_count": 19,
   "id": "4aa0a2d9",
   "metadata": {},
   "outputs": [
    {
     "data": {
      "text/plain": [
       "Text(0, 0.5, '%')"
      ]
     },
     "execution_count": 19,
     "metadata": {},
     "output_type": "execute_result"
    },
    {
     "data": {
      "image/png": "[encoded data removed]",
      "text/plain": [
       "<Figure size 360x216 with 1 Axes>"
      ]
     },
     "metadata": {
      "needs_background": "light"
     },
     "output_type": "display_data"
    }
   ],
   "source": [
    "plt.figure(figsize=(5,3))\n",
    "AS_dataset['degree_normalized'].hist(\n",
    "    weights=100*(np.ones(len(AS_dataset['degree_normalized'])) /len(AS_dataset['degree_normalized'])))\n",
    "plt.xlabel(\"Value of degree normalized\")\n",
    "plt.ylabel(\"%\")"
   ]
  },
  {
   "cell_type": "markdown",
   "id": "a602dbbb",
   "metadata": {},
   "source": [
    "##### Scaling of `ratio_peering`, `ratio_customer` and `ratio_provider`"
   ]
  },
  {
   "cell_type": "code",
   "execution_count": 20,
   "id": "536f8517",
   "metadata": {},
   "outputs": [],
   "source": [
    "L1 = AS_dataset['ratio_peering']\n",
    "L2 = AS_dataset['ratio_customer']\n",
    "L3 = AS_dataset['ratio_provider']\n",
    "# EXECUTE THIS CELL ONLY 1 TIME TO HAVE IDEMPOTENCY BELOW"
   ]
  },
  {
   "cell_type": "code",
   "execution_count": 21,
   "id": "b7a51cd8",
   "metadata": {},
   "outputs": [],
   "source": [
    "AS_dataset['ratio_peering']  = [np.log(element+1)   if np.log(element+1)  <=1 else 1 for element in L1]\n",
    "AS_dataset['ratio_customer'] = [np.log(element+1)   if np.log(element+1)  <=1 else 1 for element in L2]\n",
    "AS_dataset['ratio_provider'] = [np.log10(element+1) if np.log10(element+1)<=1 else 1 for element in L3]"
   ]
  },
  {
   "cell_type": "code",
   "execution_count": 22,
   "id": "32a55794",
   "metadata": {},
   "outputs": [
    {
     "data": {
      "text/plain": [
       "Text(0, 0.5, '%')"
      ]
     },
     "execution_count": 22,
     "metadata": {},
     "output_type": "execute_result"
    },
    {
     "data": {
      "image/png": "[encoded data removed]",
      "text/plain": [
       "<Figure size 1152x288 with 3 Axes>"
      ]
     },
     "metadata": {
      "needs_background": "light"
     },
     "output_type": "display_data"
    }
   ],
   "source": [
    "#############################\n",
    "fig = plt.figure(figsize=(16,4))\n",
    "fig.suptitle(\"Display of the 3 scaled 'ratio' node-feature\", fontsize=15)\n",
    "\n",
    "plt.subplot(1,3,1)\n",
    "AS_dataset['ratio_peering'].hist(\n",
    "    weights=100*(np.ones(len(AS_dataset['ratio_peering'])) /len(AS_dataset['ratio_peering'])))\n",
    "plt.xlabel(\"Histogram of scaled ratio peering\")\n",
    "plt.ylabel(\"%\")\n",
    "\n",
    "plt.subplot(1,3,2)\n",
    "AS_dataset['ratio_customer'].hist(\n",
    "    weights=100*(np.ones(len(AS_dataset['ratio_customer'])) /len(AS_dataset['ratio_customer'])))\n",
    "plt.xlabel(\"Histogram of scaled ratio customer\")\n",
    "plt.ylabel(\"%\")\n",
    "\n",
    "plt.subplot(1,3,3)\n",
    "AS_dataset['ratio_provider'].hist(\n",
    "    weights=100*(np.ones(len(AS_dataset['ratio_provider'])) /len(AS_dataset['ratio_provider'])))\n",
    "plt.xlabel(\"Histogram of scaled ratio provider\")\n",
    "plt.ylabel(\"%\")\n",
    "#############################"
   ]
  },
  {
   "cell_type": "code",
   "execution_count": 27,
   "id": "1b1d4621",
   "metadata": {},
   "outputs": [
    {
     "name": "stdout",
     "output_type": "stream",
     "text": [
      "0.000000    58900\n",
      "1.000000     9845\n",
      "0.693147     2689\n",
      "Name: ratio_peering, dtype: int64\n",
      "\n",
      "0.000000    60531\n",
      "1.000000     6474\n",
      "0.693147     4429\n",
      "Name: ratio_customer, dtype: int64\n",
      "\n",
      "0.301030    29226\n",
      "0.477121    25250\n",
      "0.602060     9225\n",
      "0.698970     3651\n",
      "0.778151     1612\n",
      "0.845098      787\n",
      "1.000000      596\n",
      "0.000000      425\n",
      "0.903090      384\n",
      "0.954243      278\n",
      "Name: ratio_provider, dtype: int64\n",
      "\n"
     ]
    }
   ],
   "source": [
    "print(str(AS_dataset['ratio_peering'].value_counts())  + \"\\n\")\n",
    "print(str(AS_dataset['ratio_customer'].value_counts()) + \"\\n\")\n",
    "print(str(AS_dataset['ratio_provider'].value_counts()) + \"\\n\")"
   ]
  },
  {
   "cell_type": "markdown",
   "id": "7f7b1356",
   "metadata": {},
   "source": [
    "### Scaling of column `label`\n",
    "\n",
    "We transform the **non ordinal category** `label` into 3 integers values:\n",
    " - *Content* ⇔ $0$\n",
    " - *Transit/Access* ⇔ $1$\n",
    " - *Enterprise* ⇔ $2$"
   ]
  },
  {
   "cell_type": "code",
   "execution_count": 28,
   "id": "f139024a",
   "metadata": {},
   "outputs": [
    {
     "data": {
      "text/html": [
       "<div>\n",
       "<style scoped>\n",
       "    .dataframe tbody tr th:only-of-type {\n",
       "        vertical-align: middle;\n",
       "    }\n",
       "\n",
       "    .dataframe tbody tr th {\n",
       "        vertical-align: top;\n",
       "    }\n",
       "\n",
       "    .dataframe thead th {\n",
       "        text-align: right;\n",
       "    }\n",
       "</style>\n",
       "<table border=\"1\" class=\"dataframe\">\n",
       "  <thead>\n",
       "    <tr style=\"text-align: right;\">\n",
       "      <th></th>\n",
       "      <th>ASN</th>\n",
       "      <th>source_label</th>\n",
       "      <th>label</th>\n",
       "      <th>peering_link</th>\n",
       "      <th>customer_link</th>\n",
       "      <th>provider_link</th>\n",
       "      <th>page_rank_not_directed</th>\n",
       "      <th>page_rank_directed</th>\n",
       "      <th>page_rank_directed_inverse</th>\n",
       "      <th>degree_centrality</th>\n",
       "      <th>degree_normalized</th>\n",
       "      <th>ratio_peering</th>\n",
       "      <th>ratio_customer</th>\n",
       "      <th>ratio_provider</th>\n",
       "    </tr>\n",
       "  </thead>\n",
       "  <tbody>\n",
       "    <tr>\n",
       "      <th>0</th>\n",
       "      <td>1</td>\n",
       "      <td>CAIDA_class</td>\n",
       "      <td>1</td>\n",
       "      <td>2.0</td>\n",
       "      <td>2.0</td>\n",
       "      <td>10.0</td>\n",
       "      <td>0.500388</td>\n",
       "      <td>1.0</td>\n",
       "      <td>0.675913</td>\n",
       "      <td>1.000000</td>\n",
       "      <td>1.000000</td>\n",
       "      <td>1.000000</td>\n",
       "      <td>1.000000</td>\n",
       "      <td>1.000000</td>\n",
       "    </tr>\n",
       "    <tr>\n",
       "      <th>1</th>\n",
       "      <td>2</td>\n",
       "      <td>CAIDA_class</td>\n",
       "      <td>1</td>\n",
       "      <td>1.0</td>\n",
       "      <td>2.0</td>\n",
       "      <td>18.0</td>\n",
       "      <td>0.687322</td>\n",
       "      <td>1.0</td>\n",
       "      <td>0.169510</td>\n",
       "      <td>1.000000</td>\n",
       "      <td>1.000000</td>\n",
       "      <td>0.693147</td>\n",
       "      <td>1.000000</td>\n",
       "      <td>1.000000</td>\n",
       "    </tr>\n",
       "    <tr>\n",
       "      <th>2</th>\n",
       "      <td>3</td>\n",
       "      <td>CAIDA_class</td>\n",
       "      <td>1</td>\n",
       "      <td>5.0</td>\n",
       "      <td>1.0</td>\n",
       "      <td>14.0</td>\n",
       "      <td>0.623851</td>\n",
       "      <td>1.0</td>\n",
       "      <td>1.000000</td>\n",
       "      <td>1.000000</td>\n",
       "      <td>1.000000</td>\n",
       "      <td>1.000000</td>\n",
       "      <td>0.693147</td>\n",
       "      <td>1.000000</td>\n",
       "    </tr>\n",
       "    <tr>\n",
       "      <th>3</th>\n",
       "      <td>4</td>\n",
       "      <td>CAIDA_class</td>\n",
       "      <td>1</td>\n",
       "      <td>2.0</td>\n",
       "      <td>1.0</td>\n",
       "      <td>12.0</td>\n",
       "      <td>0.569730</td>\n",
       "      <td>1.0</td>\n",
       "      <td>0.155139</td>\n",
       "      <td>1.000000</td>\n",
       "      <td>1.000000</td>\n",
       "      <td>1.000000</td>\n",
       "      <td>0.693147</td>\n",
       "      <td>1.000000</td>\n",
       "    </tr>\n",
       "    <tr>\n",
       "      <th>4</th>\n",
       "      <td>5</td>\n",
       "      <td>CAIDA_class</td>\n",
       "      <td>2</td>\n",
       "      <td>2.0</td>\n",
       "      <td>0.0</td>\n",
       "      <td>5.0</td>\n",
       "      <td>0.319572</td>\n",
       "      <td>1.0</td>\n",
       "      <td>0.142545</td>\n",
       "      <td>0.979939</td>\n",
       "      <td>0.845098</td>\n",
       "      <td>1.000000</td>\n",
       "      <td>0.000000</td>\n",
       "      <td>0.778151</td>\n",
       "    </tr>\n",
       "  </tbody>\n",
       "</table>\n",
       "</div>"
      ],
      "text/plain": [
       "   ASN source_label  label  peering_link  customer_link  provider_link  \\\n",
       "0    1  CAIDA_class      1           2.0            2.0           10.0   \n",
       "1    2  CAIDA_class      1           1.0            2.0           18.0   \n",
       "2    3  CAIDA_class      1           5.0            1.0           14.0   \n",
       "3    4  CAIDA_class      1           2.0            1.0           12.0   \n",
       "4    5  CAIDA_class      2           2.0            0.0            5.0   \n",
       "\n",
       "   page_rank_not_directed  page_rank_directed  page_rank_directed_inverse  \\\n",
       "0                0.500388                 1.0                    0.675913   \n",
       "1                0.687322                 1.0                    0.169510   \n",
       "2                0.623851                 1.0                    1.000000   \n",
       "3                0.569730                 1.0                    0.155139   \n",
       "4                0.319572                 1.0                    0.142545   \n",
       "\n",
       "   degree_centrality  degree_normalized  ratio_peering  ratio_customer  \\\n",
       "0           1.000000           1.000000       1.000000        1.000000   \n",
       "1           1.000000           1.000000       0.693147        1.000000   \n",
       "2           1.000000           1.000000       1.000000        0.693147   \n",
       "3           1.000000           1.000000       1.000000        0.693147   \n",
       "4           0.979939           0.845098       1.000000        0.000000   \n",
       "\n",
       "   ratio_provider  \n",
       "0        1.000000  \n",
       "1        1.000000  \n",
       "2        1.000000  \n",
       "3        1.000000  \n",
       "4        0.778151  "
      ]
     },
     "execution_count": 28,
     "metadata": {},
     "output_type": "execute_result"
    }
   ],
   "source": [
    "AS_dataset['label'] = AS_dataset['label'].map({'Content': 0, 'Transit/Access': 1, 'Enterprise': 2})\n",
    "AS_dataset.head()"
   ]
  },
  {
   "cell_type": "markdown",
   "id": "4afd0710",
   "metadata": {},
   "source": [
    "### Exportation of scaled `dataset`"
   ]
  },
  {
   "cell_type": "code",
   "execution_count": 29,
   "id": "5bc284cc",
   "metadata": {
    "code_folding": []
   },
   "outputs": [],
   "source": [
    "# Export the final scaled dataset that is ready for the GCN\n",
    "\n",
    "suffix = FILE_PATH.split('/')[3].split('.')[0]\n",
    "\n",
    "AS_dataset.to_csv('data_GCN/dataset_v5_'+suffix+'.csv', index=False)"
   ]
  },
  {
   "cell_type": "code",
   "execution_count": null,
   "id": "74883975",
   "metadata": {},
   "outputs": [],
   "source": []
  }
 ],
 "metadata": {
  "kernelspec": {
   "display_name": "Python 3 (ipykernel)",
   "language": "python",
   "name": "python3"
  },
  "language_info": {
   "codemirror_mode": {
    "name": "ipython",
    "version": 3
   },
   "file_extension": ".py",
   "mimetype": "text/x-python",
   "name": "python",
   "nbconvert_exporter": "python",
   "pygments_lexer": "ipython3",
   "version": "3.9.5"
  }
 },
 "nbformat": 4,
 "nbformat_minor": 5
}
