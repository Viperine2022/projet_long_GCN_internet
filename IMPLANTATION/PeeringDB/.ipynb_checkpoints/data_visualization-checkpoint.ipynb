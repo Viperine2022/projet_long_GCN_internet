{
 "cells": [
  {
   "cell_type": "markdown",
   "id": "2adced18",
   "metadata": {},
   "source": [
    "This notebook describes part of the PeeringDB dataset.  \n",
    "It consists in IXP metadata (table `ix`), ASes metadata (table `net`), a directed Graph (`DiGraph`) and a table containing the graph's nodes metadata (table `nodes`)."
   ]
  },
  {
   "cell_type": "code",
   "execution_count": 1,
   "id": "5f1f9930",
   "metadata": {},
   "outputs": [],
   "source": [
    "import numpy as np\n",
    "import pandas as pd\n",
    "import networkx as nx\n",
    "import pickle\n",
    "import matplotlib.pyplot as plt\n",
    "from sklearn import preprocessing"
   ]
  },
  {
   "cell_type": "markdown",
   "id": "2ee3a8f6",
   "metadata": {},
   "source": [
    "# Loading preprocessed data\n",
    "Notes on the preprocessing: \n",
    "* All entries are uniquely defined with an index.\n",
    " * ASes: the index is the AS number (asn)\n",
    " * IXPs: a negative number that I attributed\n",
    "* The graph is first built from infos present in `netixlan_set` of the API. This makes a bipartite graph (AS-IXP) with links weighted by the router port size (`speed` in the API)\n",
    "* We want to derive a directed graph: we rely on ASes `info_ratio` attribute, that can take the values `Not Disclosed`, `Heavy In(out)bound`, `Mostly In(out)bound`, `Balanced`.\n",
    " * Inbound: a link is created with a weight=`speed` from IXP to AS. Another link of weight $(1-\\beta)$*`speed` is created in the other direction\n",
    " * Outbound: a link is created with a weight=`speed` from AS to IXP. Another link of weight $(1-\\beta)$*`speed` is created in the other direction\n",
    " * `Balanced` or `Not Disclosed`: A link in both direction with a weight=`speed`\n",
    " * Heavy categories: $\\beta=\\beta_H=0.95$, Mostly categories: $\\beta=\\beta_M=0.75$"
   ]
  },
  {
   "cell_type": "code",
   "execution_count": 2,
   "id": "7bd94a4f",
   "metadata": {},
   "outputs": [
    {
     "name": "stdout",
     "output_type": "stream",
     "text": [
      "nodes table summary\n",
      "<class 'pandas.core.frame.DataFrame'>\n",
      "Int64Index: 12282 entries, 20940 to -893\n",
      "Data columns (total 7 columns):\n",
      " #   Column         Non-Null Count  Dtype  \n",
      "---  ------         --------------  -----  \n",
      " 0   name           12282 non-null  object \n",
      " 1   type           12282 non-null  object \n",
      " 2   prev_id        12282 non-null  int64  \n",
      " 3   AStype         11472 non-null  object \n",
      " 4   region         12282 non-null  object \n",
      " 5   asn            12282 non-null  int64  \n",
      " 6   port_capacity  12282 non-null  float64\n",
      "dtypes: float64(1), int64(2), object(4)\n",
      "memory usage: 767.6+ KB\n"
     ]
    },
    {
     "data": {
      "text/plain": [
       "None"
      ]
     },
     "metadata": {},
     "output_type": "display_data"
    },
    {
     "name": "stdout",
     "output_type": "stream",
     "text": [
      "ix table summary\n",
      "<class 'pandas.core.frame.DataFrame'>\n",
      "Int64Index: 810 entries, -1 to -893\n",
      "Data columns (total 26 columns):\n",
      " #   Column            Non-Null Count  Dtype \n",
      "---  ------            --------------  ----- \n",
      " 0   proto_ipv6        810 non-null    bool  \n",
      " 1   status            810 non-null    object\n",
      " 2   url_stats         810 non-null    object\n",
      " 3   id                810 non-null    int64 \n",
      " 4   tech_email        810 non-null    object\n",
      " 5   city              810 non-null    object\n",
      " 6   policy_email      810 non-null    object\n",
      " 7   tech_phone        810 non-null    object\n",
      " 8   media             810 non-null    object\n",
      " 9   proto_multicast   810 non-null    bool  \n",
      " 10  ixf_last_import   127 non-null    object\n",
      " 11  website           810 non-null    object\n",
      " 12  updated           810 non-null    object\n",
      " 13  net_count         810 non-null    int64 \n",
      " 14  policy_phone      810 non-null    object\n",
      " 15  proto_unicast     810 non-null    bool  \n",
      " 16  region_continent  810 non-null    object\n",
      " 17  name              810 non-null    object\n",
      " 18  created           810 non-null    object\n",
      " 19  country           810 non-null    object\n",
      " 20  notes             810 non-null    object\n",
      " 21  org_id            810 non-null    int64 \n",
      " 22  ixf_net_count     810 non-null    int64 \n",
      " 23  name_long         810 non-null    object\n",
      " 24  port_capacity     810 non-null    int64 \n",
      " 25  asn               810 non-null    int64 \n",
      "dtypes: bool(3), int64(6), object(17)\n",
      "memory usage: 154.2+ KB\n"
     ]
    },
    {
     "data": {
      "text/plain": [
       "None"
      ]
     },
     "metadata": {},
     "output_type": "display_data"
    },
    {
     "name": "stdout",
     "output_type": "stream",
     "text": [
      "net table summary\n",
      "<class 'pandas.core.frame.DataFrame'>\n",
      "Int64Index: 11472 entries, 20940 to 61437\n",
      "Data columns (total 35 columns):\n",
      " #   Column                        Non-Null Count  Dtype  \n",
      "---  ------                        --------------  -----  \n",
      " 0   status                        11472 non-null  object \n",
      " 1   looking_glass                 11472 non-null  object \n",
      " 2   route_server                  11472 non-null  object \n",
      " 3   netixlan_updated              11472 non-null  object \n",
      " 4   info_ratio                    11472 non-null  object \n",
      " 5   id                            11472 non-null  int64  \n",
      " 6   policy_ratio                  11472 non-null  bool   \n",
      " 7   info_unicast                  11472 non-null  bool   \n",
      " 8   policy_general                11472 non-null  object \n",
      " 9   website                       11472 non-null  object \n",
      " 10  allow_ixp_update              11472 non-null  bool   \n",
      " 11  updated                       11472 non-null  object \n",
      " 12  netfac_updated                7121 non-null   object \n",
      " 13  info_traffic                  11472 non-null  object \n",
      " 14  info_multicast                11472 non-null  bool   \n",
      " 15  policy_locations              11472 non-null  object \n",
      " 16  name                          11472 non-null  object \n",
      " 17  info_scope                    11472 non-null  object \n",
      " 18  notes                         11472 non-null  object \n",
      " 19  created                       11472 non-null  object \n",
      " 20  org_id                        11472 non-null  int64  \n",
      " 21  policy_url                    11472 non-null  object \n",
      " 22  info_never_via_route_servers  11472 non-null  bool   \n",
      " 23  poc_updated                   10524 non-null  object \n",
      " 24  info_type                     11472 non-null  object \n",
      " 25  policy_contracts              11472 non-null  object \n",
      " 26  info_prefixes6                11472 non-null  int64  \n",
      " 27  aka                           11472 non-null  object \n",
      " 28  info_prefixes4                11472 non-null  int64  \n",
      " 29  info_ipv6                     11472 non-null  bool   \n",
      " 30  irr_as_set                    11472 non-null  object \n",
      " 31  netixlan_set                  11472 non-null  object \n",
      " 32  ix_count                      11472 non-null  int64  \n",
      " 33  port_capacity                 11472 non-null  float64\n",
      " 34  asn                           11472 non-null  int64  \n",
      "dtypes: bool(6), float64(1), int64(6), object(22)\n",
      "memory usage: 2.7+ MB\n"
     ]
    },
    {
     "data": {
      "text/plain": [
       "None"
      ]
     },
     "metadata": {},
     "output_type": "display_data"
    },
    {
     "name": "stdout",
     "output_type": "stream",
     "text": [
      "Total number of nodes: 12282\n",
      "Total number of IXP: 810\n",
      "Total number of ASes:  11472\n",
      "Total number of edges:  63914\n"
     ]
    }
   ],
   "source": [
    "path = \"./\"\n",
    "prefix = \"peeringdb_2_dump_\"\n",
    "date = \"2021_03_01\"\n",
    "\n",
    "pickle_in = open(path+\"nodes/\"+prefix+date+\".pickle\", \"rb\")\n",
    "nodes = pickle.load(pickle_in)\n",
    "pickle_in.close()\n",
    "nodes = nodes.loc[nodes[\"port_capacity\"]>0] ##port capacity = sum of all ports\n",
    "print(\"nodes table summary\")\n",
    "display(nodes.info())\n",
    "\n",
    "pickle_in = open(path+\"ix/\"+prefix+date+\".pickle\", \"rb\")\n",
    "ix = pickle.load(pickle_in)\n",
    "pickle_in.close()\n",
    "ix = ix.loc[ix[\"port_capacity\"]>0]\n",
    "print(\"ix table summary\")\n",
    "display(ix.info())\n",
    "\n",
    "pickle_in = open(path+\"net/\"+prefix+date+\".pickle\", \"rb\")\n",
    "net = pickle.load(pickle_in)\n",
    "pickle_in.close()\n",
    "net = net.loc[net[\"port_capacity\"]>0]\n",
    "print(\"net table summary\")\n",
    "display(net.info())\n",
    "\n",
    "BETA_H = 0.95\n",
    "BETA_M = 0.75\n",
    "\n",
    "edgelist = open(path+\"graph/\"+format(BETA_H, '.4f')+\"_\"+format(BETA_M, '.4f')+\"_\"+prefix+date+\".txt\", \"r\")\n",
    "DiGraph = nx.parse_edgelist(edgelist, nodetype = int, data=(('weight',float),), create_using = nx.DiGraph, delimiter=\",\")\n",
    "\n",
    "\n",
    "assert(len(nodes) == len(ix) + len(net))\n",
    "assert(len(nodes) == len(DiGraph))\n",
    "\n",
    "print(\"Total number of nodes:\", len(nodes))\n",
    "print(\"Total number of IXP:\", len(ix))\n",
    "print(\"Total number of ASes: \", len(net))\n",
    "print(\"Total number of edges: \", len(DiGraph.edges()))"
   ]
  },
  {
   "cell_type": "markdown",
   "id": "f04e8e99",
   "metadata": {},
   "source": [
    "# Selecting the main connected component\n",
    "Most graph algorithms behave best when the graph has a single connected component "
   ]
  },
  {
   "cell_type": "code",
   "execution_count": 3,
   "id": "3b537906",
   "metadata": {},
   "outputs": [
    {
     "name": "stdout",
     "output_type": "stream",
     "text": [
      "Number of connected components 28\n",
      "Percentage of nodes in the graph main connected component 99.22651034033545\n"
     ]
    }
   ],
   "source": [
    "##I work only with the main connected component. Some entries of nodes, ix and net must be removed\n",
    "##Main connected component.\n",
    "#watch out casting DiGraph to Graph is not correct (delete doubled edges). For our use here it will be fine.\n",
    "components = sorted(nx.connected_components(nx.Graph(DiGraph)), key=len, reverse=True) \n",
    "print(\"Number of connected components\", len(components))\n",
    "print(\"Percentage of nodes in the graph main connected component\", 100.0*len(components[0])/DiGraph.number_of_nodes())\n",
    "DiGraph = DiGraph.subgraph(components[0])\n",
    "\n",
    "##Removing entries.\n",
    "for i in range(1,len(components)):\n",
    "    component = components[i]\n",
    "    for node in component:\n",
    "        #if node is an AS\n",
    "        if node >= 0:\n",
    "            net.drop(index=node, inplace=True)\n",
    "            nodes.drop(index=node, inplace=True)\n",
    "        #if node is an IXP\n",
    "        if node < 0:\n",
    "            ix.drop(index=node, inplace=True)\n",
    "            nodes.drop(index=node, inplace=True)\n",
    "            \n",
    "assert(len(nodes) == len(ix) + len(net))\n",
    "assert(len(nodes) == len(DiGraph))"
   ]
  },
  {
   "cell_type": "markdown",
   "id": "4126b78f",
   "metadata": {},
   "source": [
    "- #### Définition des colonnes pertinentes pour l'étude"
   ]
  },
  {
   "cell_type": "code",
   "execution_count": 4,
   "id": "a7cac749",
   "metadata": {},
   "outputs": [],
   "source": [
    "list_columns_ix = ['net_count', 'name', 'country', \n",
    "                   'notes', 'port_capacity', 'asn', 'ixf_net_count', 'id']\n",
    "\n",
    "list_columns_net = ['info_ratio', 'id', 'policy_general', 'policy_locations',\n",
    "                    'info_traffic', 'asn', 'info_type', 'ix_count', 'port_capacity']"
   ]
  },
  {
   "cell_type": "markdown",
   "id": "9100b162",
   "metadata": {},
   "source": [
    "## PEERINGDB data visualization\n",
    "\n",
    "doc attributs peeringDB : https://www.peeringdb.com/apidocs/#operation/list%20net \n",
    "\n",
    "- Tableau récapitulatif des données conservées, et de l'étendue de leurs valeurs possibles"
   ]
  },
  {
   "cell_type": "markdown",
   "id": "441a8c97",
   "metadata": {},
   "source": [
    "| Attribute name        | Meaning           | Possible values  |\n",
    "| :-------------:       |:---------------:  | :--------------: |\n",
    "| **info_type** (AS)    | classification de l'AS (NaN pour un IXP) | `Cable/DSL/ISP` `NSP` `Content` `Not Disclosed` `Enterprise` `Educational/Research` `Non-Profit` `Route Server` `\"\"` `Network Services` `Route Collector` `Government`\n",
    "| **info_ratio** (AS) | politique de communication de l'AS | `\"\" ` `Not Disclosed` `Heavy Outbound` <br><br>`Mostly Outbound` `Balanced` `Mostly Inbound` `Heavy Inbound` \n",
    "| **info_scope** (AS) | origine géographique de la mesure | `Not Disclosed` `Regional` `North America` <br>`Asia Pacific` `Europe` `South America` `Africa` `Australia` `Middle East` `Global` \n",
    "| **policy_general** |politique de traffic de l'AS | `\"\"` `Open` `Selective` `Restrictive` `No`| \n",
    "| **policy_locations** |  | `\"\"` `Not Required` `Preferred` `Required - US` `Required - EU` `Required - International`\n",
    "| **info_traffic** | ordre de grandeur du traffic | `\"\"` `0-20Mbps` `20-100Mbps` `100-1000Mbps`  `1-5Gbps` `5-10Gbps` `10-20Gbps` `20-50Gbps` `50-100Gbps` `100-200Gbps` `200-300Gbps` `300-500Gbps` `500-1000Gbps` `1-5Tbps` `5-10Tbps` `10-20Tbps` `20-50Tbps` `50-100Tbps` `100+Tbps`\n",
    "| **port_capacity** (both) | bande passante d'un port | value in gigabyte : 1 to 26M8 for AS, 100 to 50M for IXP\n",
    "| **ix_count** (AS) | nombre d'IXP auquel l'AS se connecte | `int` from 1 to 328\n",
    "| **net_count** (IXP) | nombre d'AS auquel l'AS se connecte | `int` from 1 to 1309"
   ]
  },
  {
   "cell_type": "code",
   "execution_count": 9,
   "id": "6ac51c71",
   "metadata": {},
   "outputs": [
    {
     "data": {
      "text/plain": [
       "Cable/DSL/ISP           4993\n",
       "NSP                     2135\n",
       "Content                 1226\n",
       "Not Disclosed           1179\n",
       "Enterprise               625\n",
       "Educational/Research     500\n",
       "Non-Profit               320\n",
       "Route Server             258\n",
       "                         122\n",
       "Network Services          27\n",
       "Route Collector           12\n",
       "Government                10\n",
       "Name: info_type, dtype: int64"
      ]
     },
     "execution_count": 9,
     "metadata": {},
     "output_type": "execute_result"
    }
   ],
   "source": [
    "net['info_type'].value_counts()"
   ]
  },
  {
   "cell_type": "code",
   "execution_count": 56,
   "id": "d60969b6",
   "metadata": {},
   "outputs": [
    {
     "data": {
      "image/png": "[encoded data removed]",
      "text/plain": [
       "<Figure size 360x360 with 1 Axes>"
      ]
     },
     "metadata": {},
     "output_type": "display_data"
    }
   ],
   "source": [
    "my_circle = plt.Circle( (0,0), 1.1, color='white')\n",
    "plt.pie(net['info_type'].value_counts(), labels=['Cable/DSL/ISP', 'NSP', 'Content', 'Not Disclosed',\n",
    "                                                 'Enterprise', 'Educational/Research', 'Non-Profit',\n",
    "                                                 'Route Server', '', 'Network Services', \n",
    "                                                 'Route Collector', 'Government'],autopct='%1.1f%%', \n",
    "                                                  pctdistance=0.62, radius=1.5)\n",
    "fig = plt.gcf()\n",
    "fig.set_size_inches(5,5)\n",
    "\n",
    "fig.gca().add_artist(my_circle)\n",
    "plt.show()"
   ]
  },
  {
   "cell_type": "code",
   "execution_count": 88,
   "id": "d009e487",
   "metadata": {},
   "outputs": [],
   "source": [
    "dataset_info_traffic = pd.DataFrame()"
   ]
  },
  {
   "cell_type": "code",
   "execution_count": 89,
   "id": "aad3d133",
   "metadata": {},
   "outputs": [],
   "source": [
    "labels_info_traffic = net['info_traffic'].value_counts().keys()"
   ]
  },
  {
   "cell_type": "code",
   "execution_count": 90,
   "id": "d7c11968",
   "metadata": {},
   "outputs": [
    {
     "name": "stdout",
     "output_type": "stream",
     "text": [
      "Index(['', '1-5Gbps', '5-10Gbps', '100-1000Mbps', '10-20Gbps', '20-50Gbps',\n",
      "       '50-100Gbps', '100-200Gbps', '20-100Mbps', '1-5Tbps', '0-20Mbps',\n",
      "       '500-1000Gbps', '300-500Gbps', '200-300Gbps', '10-20Tbps', '5-10Tbps',\n",
      "       '20-50Tbps', '100+Tbps', '50-100Tbps'],\n",
      "      dtype='object')\n"
     ]
    }
   ],
   "source": [
    "print(labels_info_traffic)"
   ]
  },
  {
   "cell_type": "code",
   "execution_count": 91,
   "id": "03192c8d",
   "metadata": {},
   "outputs": [],
   "source": [
    "_nothing   = net['port_capacity'] [net['info_traffic'] == \"\"]\n",
    "_0_20_M    = net['port_capacity'] [net['info_traffic'] == \"0-20Mbps\"]\n",
    "_20_100M   = net['port_capacity'] [net['info_traffic'] == \"20-100Mbps\"]\n",
    "_100_1000M = net['port_capacity'] [net['info_traffic'] == \"100-1000Mbps\"]\n",
    "_1_5G      = net['port_capacity'] [net['info_traffic'] == \"1-5Gbps\"]\n",
    "_5_10G     = net['port_capacity'] [net['info_traffic'] == \"5-10Gbps\"]\n",
    "_10_20G    = net['port_capacity'] [net['info_traffic'] == \"10-20Gbps\"]\n",
    "_20_50G    = net['port_capacity'] [net['info_traffic'] == \"20-50Gbps\"]\n",
    "_50_100G   = net['port_capacity'] [net['info_traffic'] == \"50-100Gbps\"]\n",
    "_100_200G  = net['port_capacity'] [net['info_traffic'] == \"100-200Gbps\"]\n",
    "_200_300G  = net['port_capacity'] [net['info_traffic'] == \"200-300Gbps\"]\n",
    "_300_500G  = net['port_capacity'] [net['info_traffic'] == \"300-500Gbps\"]\n",
    "_500_1000G = net['port_capacity'] [net['info_traffic'] == \"500-1000Gbps\"]\n",
    "_1_5T      = net['port_capacity'] [net['info_traffic'] == \"1-5Tbps\"]\n",
    "_5_10T     = net['port_capacity'] [net['info_traffic'] == \"5-10Tbps\"]\n",
    "_10_20T    = net['port_capacity'] [net['info_traffic'] == \"10-20Tbps\"]\n",
    "_20_50T    = net['port_capacity'] [net['info_traffic'] == \"20-50Tbps\"]\n",
    "_50_100T   = net['port_capacity'] [net['info_traffic'] == \"50-100Tbps\"]\n",
    "_100_plusT = net['port_capacity'] [net['info_traffic'] == \"100+Tbps\"]"
   ]
  },
  {
   "cell_type": "code",
   "execution_count": 109,
   "id": "af950bb1",
   "metadata": {},
   "outputs": [
    {
     "data": {
      "text/plain": [
       "[]"
      ]
     },
     "execution_count": 109,
     "metadata": {},
     "output_type": "execute_result"
    },
    {
     "data": {
      "image/png": "[encoded data removed]",
      "text/plain": [
       "<Figure size 432x288 with 1 Axes>"
      ]
     },
     "metadata": {
      "needs_background": "light"
     },
     "output_type": "display_data"
    }
   ],
   "source": [
    "plt.boxplot([_nothing, _0_20_M, _20_100M, _100_1000M, _1_5G, _5_10G, _10_20G, \n",
    "             _20_50G, _50_100G, _100_200G, _200_300G, _300_500G,\n",
    "             _500_1000G, _1_5T, _5_10T, _10_20T, _20_50T, \n",
    "            _50_100T, _100_plusT])\n",
    "plt.loglog()\n",
    "#plt.xticks(np.arange(1,18), labels_info_traffic)"
   ]
  },
  {
   "cell_type": "code",
   "execution_count": 97,
   "id": "633462b3",
   "metadata": {},
   "outputs": [
    {
     "name": "stdout",
     "output_type": "stream",
     "text": [
      "[1 2 3 4]\n"
     ]
    }
   ],
   "source": [
    "print(np.arange(1,5))"
   ]
  },
  {
   "cell_type": "code",
   "execution_count": 35,
   "id": "064d58bc",
   "metadata": {},
   "outputs": [
    {
     "data": {
      "text/html": [
       "<div>\n",
       "<style scoped>\n",
       "    .dataframe tbody tr th:only-of-type {\n",
       "        vertical-align: middle;\n",
       "    }\n",
       "\n",
       "    .dataframe tbody tr th {\n",
       "        vertical-align: top;\n",
       "    }\n",
       "\n",
       "    .dataframe thead th {\n",
       "        text-align: right;\n",
       "    }\n",
       "</style>\n",
       "<table border=\"1\" class=\"dataframe\">\n",
       "  <thead>\n",
       "    <tr style=\"text-align: right;\">\n",
       "      <th></th>\n",
       "      <th>info_ratio</th>\n",
       "      <th>id</th>\n",
       "      <th>policy_general</th>\n",
       "      <th>policy_locations</th>\n",
       "      <th>info_traffic</th>\n",
       "      <th>asn</th>\n",
       "      <th>info_type</th>\n",
       "      <th>ix_count</th>\n",
       "      <th>port_capacity</th>\n",
       "    </tr>\n",
       "    <tr>\n",
       "      <th>asn</th>\n",
       "      <th></th>\n",
       "      <th></th>\n",
       "      <th></th>\n",
       "      <th></th>\n",
       "      <th></th>\n",
       "      <th></th>\n",
       "      <th></th>\n",
       "      <th></th>\n",
       "      <th></th>\n",
       "    </tr>\n",
       "  </thead>\n",
       "  <tbody>\n",
       "    <tr>\n",
       "      <th>20940</th>\n",
       "      <td>Heavy Outbound</td>\n",
       "      <td>2</td>\n",
       "      <td>Open</td>\n",
       "      <td>Not Required</td>\n",
       "      <td>100+Tbps</td>\n",
       "      <td>20940</td>\n",
       "      <td>Content</td>\n",
       "      <td>211</td>\n",
       "      <td>23992000.0</td>\n",
       "    </tr>\n",
       "    <tr>\n",
       "      <th>31800</th>\n",
       "      <td>Heavy Inbound</td>\n",
       "      <td>3</td>\n",
       "      <td>Open</td>\n",
       "      <td>Preferred</td>\n",
       "      <td>100-1000Mbps</td>\n",
       "      <td>31800</td>\n",
       "      <td>Non-Profit</td>\n",
       "      <td>14</td>\n",
       "      <td>6800.0</td>\n",
       "    </tr>\n",
       "    <tr>\n",
       "      <th>22822</th>\n",
       "      <td>Mostly Outbound</td>\n",
       "      <td>4</td>\n",
       "      <td>Selective</td>\n",
       "      <td>Required - US</td>\n",
       "      <td>1-5Tbps</td>\n",
       "      <td>22822</td>\n",
       "      <td>Content</td>\n",
       "      <td>104</td>\n",
       "      <td>7331000.0</td>\n",
       "    </tr>\n",
       "    <tr>\n",
       "      <th>3303</th>\n",
       "      <td>Mostly Inbound</td>\n",
       "      <td>5</td>\n",
       "      <td>Selective</td>\n",
       "      <td>Preferred</td>\n",
       "      <td>1-5Tbps</td>\n",
       "      <td>3303</td>\n",
       "      <td>Cable/DSL/ISP</td>\n",
       "      <td>50</td>\n",
       "      <td>407700.0</td>\n",
       "    </tr>\n",
       "    <tr>\n",
       "      <th>6079</th>\n",
       "      <td>Mostly Inbound</td>\n",
       "      <td>7</td>\n",
       "      <td>Selective</td>\n",
       "      <td>Preferred</td>\n",
       "      <td>1-5Tbps</td>\n",
       "      <td>6079</td>\n",
       "      <td>Cable/DSL/ISP</td>\n",
       "      <td>6</td>\n",
       "      <td>370000.0</td>\n",
       "    </tr>\n",
       "  </tbody>\n",
       "</table>\n",
       "</div>"
      ],
      "text/plain": [
       "            info_ratio  id policy_general policy_locations  info_traffic  \\\n",
       "asn                                                                        \n",
       "20940   Heavy Outbound   2           Open     Not Required      100+Tbps   \n",
       "31800    Heavy Inbound   3           Open        Preferred  100-1000Mbps   \n",
       "22822  Mostly Outbound   4      Selective    Required - US       1-5Tbps   \n",
       "3303    Mostly Inbound   5      Selective        Preferred       1-5Tbps   \n",
       "6079    Mostly Inbound   7      Selective        Preferred       1-5Tbps   \n",
       "\n",
       "         asn      info_type  ix_count  port_capacity  \n",
       "asn                                                   \n",
       "20940  20940        Content       211     23992000.0  \n",
       "31800  31800     Non-Profit        14         6800.0  \n",
       "22822  22822        Content       104      7331000.0  \n",
       "3303    3303  Cable/DSL/ISP        50       407700.0  \n",
       "6079    6079  Cable/DSL/ISP         6       370000.0  "
      ]
     },
     "execution_count": 35,
     "metadata": {},
     "output_type": "execute_result"
    }
   ],
   "source": [
    "net[list_columns_net].head()"
   ]
  },
  {
   "cell_type": "code",
   "execution_count": 30,
   "id": "af64d1ca",
   "metadata": {
    "scrolled": true
   },
   "outputs": [
    {
     "data": {
      "text/plain": [
       "                3112\n",
       "1-5Gbps         2093\n",
       "5-10Gbps        1263\n",
       "100-1000Mbps    1149\n",
       "10-20Gbps       1055\n",
       "20-50Gbps        900\n",
       "50-100Gbps       555\n",
       "100-200Gbps      313\n",
       "20-100Mbps       231\n",
       "1-5Tbps          178\n",
       "0-20Mbps         149\n",
       "500-1000Gbps     130\n",
       "300-500Gbps      123\n",
       "200-300Gbps      117\n",
       "10-20Tbps         17\n",
       "5-10Tbps          13\n",
       "20-50Tbps          5\n",
       "100+Tbps           3\n",
       "50-100Tbps         1\n",
       "Name: info_traffic, dtype: int64"
      ]
     },
     "execution_count": 30,
     "metadata": {},
     "output_type": "execute_result"
    }
   ],
   "source": [
    "net['info_traffic'].value_counts()"
   ]
  },
  {
   "cell_type": "code",
   "execution_count": 110,
   "id": "ed143787",
   "metadata": {},
   "outputs": [
    {
     "data": {
      "text/plain": [
       "Balanced           3494\n",
       "Mostly Inbound     3476\n",
       "Not Disclosed      1965\n",
       "Mostly Outbound    1078\n",
       "Heavy Inbound       803\n",
       "Heavy Outbound      397\n",
       "                    194\n",
       "Name: info_ratio, dtype: int64"
      ]
     },
     "execution_count": 110,
     "metadata": {},
     "output_type": "execute_result"
    }
   ],
   "source": [
    "net['info_ratio'].value_counts()"
   ]
  },
  {
   "cell_type": "code",
   "execution_count": 107,
   "id": "6d4ed1bd",
   "metadata": {},
   "outputs": [
    {
     "data": {
      "text/plain": [
       "                3112\n",
       "1-5Gbps         2093\n",
       "5-10Gbps        1263\n",
       "100-1000Mbps    1149\n",
       "10-20Gbps       1055\n",
       "20-50Gbps        900\n",
       "50-100Gbps       555\n",
       "100-200Gbps      313\n",
       "20-100Mbps       231\n",
       "1-5Tbps          178\n",
       "0-20Mbps         149\n",
       "500-1000Gbps     130\n",
       "300-500Gbps      123\n",
       "200-300Gbps      117\n",
       "10-20Tbps         17\n",
       "5-10Tbps          13\n",
       "20-50Tbps          5\n",
       "100+Tbps           3\n",
       "50-100Tbps         1\n",
       "Name: info_traffic, dtype: int64"
      ]
     },
     "execution_count": 107,
     "metadata": {},
     "output_type": "execute_result"
    }
   ],
   "source": [
    "net['info_traffic'].value_counts()"
   ]
  },
  {
   "cell_type": "code",
   "execution_count": 91,
   "id": "5ff25564",
   "metadata": {},
   "outputs": [
    {
     "data": {
      "text/plain": [
       "asn\n",
       "-77          100\n",
       "-160         100\n",
       "-271         100\n",
       "-122         100\n",
       "-761         110\n",
       "          ...   \n",
       "-98     18934200\n",
       "-15     24737596\n",
       "-21     39243675\n",
       "-24     45180600\n",
       "-102    50251588\n",
       "Name: port_capacity, Length: 780, dtype: int64"
      ]
     },
     "execution_count": 91,
     "metadata": {},
     "output_type": "execute_result"
    }
   ],
   "source": [
    "ix['port_capacity'].sort_values()"
   ]
  },
  {
   "cell_type": "markdown",
   "id": "7b4137b9",
   "metadata": {},
   "source": [
    "- ### Corrélation entre les données `info_traffic` et `port_capacity`"
   ]
  },
  {
   "cell_type": "code",
   "execution_count": 10,
   "id": "533eff1a",
   "metadata": {
    "scrolled": true
   },
   "outputs": [
    {
     "data": {
      "text/plain": [
       "                3136\n",
       "1-5Gbps         2105\n",
       "5-10Gbps        1268\n",
       "100-1000Mbps    1159\n",
       "10-20Gbps       1057\n",
       "20-50Gbps        904\n",
       "50-100Gbps       557\n",
       "100-200Gbps      313\n",
       "20-100Mbps       236\n",
       "1-5Tbps          178\n",
       "0-20Mbps         149\n",
       "500-1000Gbps     130\n",
       "300-500Gbps      123\n",
       "200-300Gbps      118\n",
       "10-20Tbps         17\n",
       "5-10Tbps          13\n",
       "20-50Tbps          5\n",
       "100+Tbps           3\n",
       "50-100Tbps         1\n",
       "Name: info_traffic, dtype: int64"
      ]
     },
     "execution_count": 10,
     "metadata": {},
     "output_type": "execute_result"
    }
   ],
   "source": [
    "net['info_traffic'].value_counts()"
   ]
  },
  {
   "cell_type": "code",
   "execution_count": 5,
   "id": "e89204e4",
   "metadata": {},
   "outputs": [
    {
     "data": {
      "text/html": [
       "<div>\n",
       "<style scoped>\n",
       "    .dataframe tbody tr th:only-of-type {\n",
       "        vertical-align: middle;\n",
       "    }\n",
       "\n",
       "    .dataframe tbody tr th {\n",
       "        vertical-align: top;\n",
       "    }\n",
       "\n",
       "    .dataframe thead th {\n",
       "        text-align: right;\n",
       "    }\n",
       "</style>\n",
       "<table border=\"1\" class=\"dataframe\">\n",
       "  <thead>\n",
       "    <tr style=\"text-align: right;\">\n",
       "      <th></th>\n",
       "      <th>info_traffic</th>\n",
       "      <th>port_capacity</th>\n",
       "    </tr>\n",
       "    <tr>\n",
       "      <th>asn</th>\n",
       "      <th></th>\n",
       "      <th></th>\n",
       "    </tr>\n",
       "  </thead>\n",
       "  <tbody>\n",
       "    <tr>\n",
       "      <th>42</th>\n",
       "      <td>1-5Gbps</td>\n",
       "      <td>559507.0</td>\n",
       "    </tr>\n",
       "    <tr>\n",
       "      <th>21574</th>\n",
       "      <td>1-5Gbps</td>\n",
       "      <td>223000.0</td>\n",
       "    </tr>\n",
       "    <tr>\n",
       "      <th>3856</th>\n",
       "      <td>1-5Gbps</td>\n",
       "      <td>220614.0</td>\n",
       "    </tr>\n",
       "    <tr>\n",
       "      <th>267129</th>\n",
       "      <td>1-5Gbps</td>\n",
       "      <td>200000.0</td>\n",
       "    </tr>\n",
       "    <tr>\n",
       "      <th>201119</th>\n",
       "      <td>1-5Gbps</td>\n",
       "      <td>160000.0</td>\n",
       "    </tr>\n",
       "  </tbody>\n",
       "</table>\n",
       "</div>"
      ],
      "text/plain": [
       "       info_traffic  port_capacity\n",
       "asn                               \n",
       "42          1-5Gbps       559507.0\n",
       "21574       1-5Gbps       223000.0\n",
       "3856        1-5Gbps       220614.0\n",
       "267129      1-5Gbps       200000.0\n",
       "201119      1-5Gbps       160000.0"
      ]
     },
     "execution_count": 5,
     "metadata": {},
     "output_type": "execute_result"
    }
   ],
   "source": [
    "net[['info_traffic', 'port_capacity']] [net['info_traffic'] == '1-5Gbps'].sort_values(ascending=False, by='port_capacity').head()"
   ]
  },
  {
   "cell_type": "code",
   "execution_count": 6,
   "id": "db704a70",
   "metadata": {},
   "outputs": [
    {
     "data": {
      "text/html": [
       "<div>\n",
       "<style scoped>\n",
       "    .dataframe tbody tr th:only-of-type {\n",
       "        vertical-align: middle;\n",
       "    }\n",
       "\n",
       "    .dataframe tbody tr th {\n",
       "        vertical-align: top;\n",
       "    }\n",
       "\n",
       "    .dataframe thead th {\n",
       "        text-align: right;\n",
       "    }\n",
       "</style>\n",
       "<table border=\"1\" class=\"dataframe\">\n",
       "  <thead>\n",
       "    <tr style=\"text-align: right;\">\n",
       "      <th></th>\n",
       "      <th>info_traffic</th>\n",
       "      <th>port_capacity</th>\n",
       "    </tr>\n",
       "    <tr>\n",
       "      <th>asn</th>\n",
       "      <th></th>\n",
       "      <th></th>\n",
       "    </tr>\n",
       "  </thead>\n",
       "  <tbody>\n",
       "    <tr>\n",
       "      <th>52423</th>\n",
       "      <td>1-5Gbps</td>\n",
       "      <td>1.0</td>\n",
       "    </tr>\n",
       "    <tr>\n",
       "      <th>264902</th>\n",
       "      <td>1-5Gbps</td>\n",
       "      <td>2.0</td>\n",
       "    </tr>\n",
       "    <tr>\n",
       "      <th>61417</th>\n",
       "      <td>1-5Gbps</td>\n",
       "      <td>10.0</td>\n",
       "    </tr>\n",
       "    <tr>\n",
       "      <th>37224</th>\n",
       "      <td>1-5Gbps</td>\n",
       "      <td>10.0</td>\n",
       "    </tr>\n",
       "    <tr>\n",
       "      <th>31126</th>\n",
       "      <td>1-5Gbps</td>\n",
       "      <td>20.0</td>\n",
       "    </tr>\n",
       "  </tbody>\n",
       "</table>\n",
       "</div>"
      ],
      "text/plain": [
       "       info_traffic  port_capacity\n",
       "asn                               \n",
       "52423       1-5Gbps            1.0\n",
       "264902      1-5Gbps            2.0\n",
       "61417       1-5Gbps           10.0\n",
       "37224       1-5Gbps           10.0\n",
       "31126       1-5Gbps           20.0"
      ]
     },
     "execution_count": 6,
     "metadata": {},
     "output_type": "execute_result"
    }
   ],
   "source": [
    "net[['info_traffic', 'port_capacity']] [net['info_traffic'] == '1-5Gbps'].sort_values(ascending=True, by='port_capacity').head()"
   ]
  },
  {
   "cell_type": "code",
   "execution_count": 7,
   "id": "0bd8cbd5",
   "metadata": {},
   "outputs": [
    {
     "data": {
      "text/plain": [
       "array([[<AxesSubplot:title={'center':'port_capacity'}>]], dtype=object)"
      ]
     },
     "execution_count": 7,
     "metadata": {},
     "output_type": "execute_result"
    },
    {
     "data": {
      "image/png": "[encoded data removed]",
      "text/plain": [
       "<Figure size 432x288 with 1 Axes>"
      ]
     },
     "metadata": {
      "needs_background": "light"
     },
     "output_type": "display_data"
    }
   ],
   "source": [
    "net[['info_traffic', 'port_capacity']] [net['info_traffic'] == '10-20Gbps'].hist()"
   ]
  },
  {
   "cell_type": "code",
   "execution_count": 99,
   "id": "c012d94f",
   "metadata": {},
   "outputs": [],
   "source": [
    "list_port_capacity_nothing = net['port_capacity'] [net['info_traffic'] == '']"
   ]
  },
  {
   "cell_type": "code",
   "execution_count": 100,
   "id": "b1e02d97",
   "metadata": {},
   "outputs": [],
   "source": [
    "list_port_capacity_un_cinqGpbs = net['port_capacity'] [net['info_traffic'] == '1-5Gbps']"
   ]
  },
  {
   "cell_type": "code",
   "execution_count": 101,
   "id": "7f66be7f",
   "metadata": {},
   "outputs": [],
   "source": [
    "list_port_capacity_dix_vingtGpbs = net['port_capacity'] [net['info_traffic'] == '10-20Gbps']"
   ]
  },
  {
   "cell_type": "code",
   "execution_count": 102,
   "id": "eb4b11f5",
   "metadata": {},
   "outputs": [],
   "source": [
    "list_port_capacity_vingt_cinquanteGpbs = net['port_capacity'] [net['info_traffic'] == '20-50Gbps']"
   ]
  },
  {
   "cell_type": "code",
   "execution_count": 103,
   "id": "68547cd3",
   "metadata": {},
   "outputs": [
    {
     "name": "stdout",
     "output_type": "stream",
     "text": [
      "Smallest port capacity : 1.0\n",
      "Biggest port capacity :  21640000.0\n",
      "Mean :                   81572.38110539845\n",
      "Ecart-type :             798310.7666564836\n",
      "First quartile :         1100.0\n",
      "Mediane :                10000.0\n",
      "Third quartile :         20000.0\n"
     ]
    }
   ],
   "source": [
    "print(\"Smallest port capacity : \" + str(list_port_capacity_nothing.min()))\n",
    "print(\"Biggest port capacity :  \" + str(list_port_capacity_nothing.max()))\n",
    "print(\"Mean :                   \" + str(list_port_capacity_nothing.mean()))\n",
    "print(\"Ecart-type :             \" + str(list_port_capacity_nothing.std()))\n",
    "print(\"First quartile :         \" + str(list_port_capacity_nothing.quantile(0.25)))\n",
    "print(\"Mediane :                \" + str(list_port_capacity_nothing.quantile(0.5)))\n",
    "print(\"Third quartile :         \" + str(list_port_capacity_nothing.quantile(0.75)))"
   ]
  },
  {
   "cell_type": "code",
   "execution_count": 93,
   "id": "a5a7ecea",
   "metadata": {},
   "outputs": [
    {
     "name": "stdout",
     "output_type": "stream",
     "text": [
      "Smallest port capacity : 1.0\n",
      "Biggest port capacity :  559507.0\n",
      "Mean :                   10401.761520190024\n",
      "Ecart-type :             19350.737067419836\n",
      "First quartile :         1000.0\n",
      "Mediane :                6000.0\n",
      "Third quartile :         11000.0\n"
     ]
    }
   ],
   "source": [
    "print(\"Smallest port capacity : \" + str(list_port_capacity_un_cinqGpbs.min()))\n",
    "print(\"Biggest port capacity :  \" + str(list_port_capacity_un_cinqGpbs.max()))\n",
    "print(\"Mean :                   \" + str(list_port_capacity_un_cinqGpbs.mean()))\n",
    "print(\"Ecart-type :             \" + str(list_port_capacity_un_cinqGpbs.std()))\n",
    "print(\"First quartile :         \" + str(list_port_capacity_un_cinqGpbs.quantile(0.25)))\n",
    "print(\"Mediane :                \" + str(list_port_capacity_un_cinqGpbs.quantile(0.5)))\n",
    "print(\"Third quartile :         \" + str(list_port_capacity_un_cinqGpbs.quantile(0.75)))"
   ]
  },
  {
   "cell_type": "code",
   "execution_count": 94,
   "id": "b0d580fc",
   "metadata": {},
   "outputs": [
    {
     "name": "stdout",
     "output_type": "stream",
     "text": [
      "Smallest port capacity : 100.0\n",
      "Biggest port capacity :  575000.0\n",
      "Mean :                   24735.084200567646\n",
      "Ecart-type :             34512.35642932045\n",
      "First quartile :         10000.0\n",
      "Mediane :                20000.0\n",
      "Third quartile :         30000.0\n"
     ]
    }
   ],
   "source": [
    "print(\"Smallest port capacity : \" + str(list_port_capacity_dix_vingtGpbs.min()))\n",
    "print(\"Biggest port capacity :  \" + str(list_port_capacity_dix_vingtGpbs.max()))\n",
    "print(\"Mean :                   \" + str(list_port_capacity_dix_vingtGpbs.mean()))\n",
    "print(\"Ecart-type :             \" + str(list_port_capacity_dix_vingtGpbs.std()))\n",
    "print(\"First quartile :         \" + str(list_port_capacity_dix_vingtGpbs.quantile(0.25)))\n",
    "print(\"Mediane :                \" + str(list_port_capacity_dix_vingtGpbs.quantile(0.5)))\n",
    "print(\"Third quartile :         \" + str(list_port_capacity_dix_vingtGpbs.quantile(0.75)))"
   ]
  },
  {
   "cell_type": "code",
   "execution_count": 95,
   "id": "da27e9a7",
   "metadata": {},
   "outputs": [
    {
     "name": "stdout",
     "output_type": "stream",
     "text": [
      "Smallest port capacity : 10.0\n",
      "Biggest port capacity :  1010000.0\n",
      "Mean :                   41303.41261061947\n",
      "Ecart-type :             63552.012664169604\n",
      "First quartile :         11000.0\n",
      "Mediane :                23500.0\n",
      "Third quartile :         41000.0\n"
     ]
    }
   ],
   "source": [
    "print(\"Smallest port capacity : \" + str(list_port_capacity_vingt_cinquanteGpbs.min()))\n",
    "print(\"Biggest port capacity :  \" + str(list_port_capacity_vingt_cinquanteGpbs.max()))\n",
    "print(\"Mean :                   \" + str(list_port_capacity_vingt_cinquanteGpbs.mean()))\n",
    "print(\"Ecart-type :             \" + str(list_port_capacity_vingt_cinquanteGpbs.std()))\n",
    "print(\"First quartile :         \" + str(list_port_capacity_vingt_cinquanteGpbs.quantile(0.25)))\n",
    "print(\"Mediane :                \" + str(list_port_capacity_vingt_cinquanteGpbs.quantile(0.5)))\n",
    "print(\"Third quartile :         \" + str(list_port_capacity_vingt_cinquanteGpbs.quantile(0.75)))"
   ]
  },
  {
   "cell_type": "code",
   "execution_count": 108,
   "id": "3145dc4a",
   "metadata": {},
   "outputs": [
    {
     "data": {
      "text/plain": [
       "count    9.000000e+02\n",
       "mean     4.146254e+04\n",
       "std      6.364754e+04\n",
       "min      1.000000e+01\n",
       "25%      1.100000e+04\n",
       "50%      2.400000e+04\n",
       "75%      4.100000e+04\n",
       "max      1.010000e+06\n",
       "Name: port_capacity, dtype: float64"
      ]
     },
     "execution_count": 108,
     "metadata": {},
     "output_type": "execute_result"
    }
   ],
   "source": [
    "list_port_capacity_vingt_cinquanteGpbs.describe()"
   ]
  },
  {
   "cell_type": "markdown",
   "id": "a7dedad8",
   "metadata": {},
   "source": [
    "- ### Importance des données <br>\n",
    "  - `ix_count` : number of exchanges at this facility (pour un AS)\n",
    "  - `net_count` : number of exchanges at this facility (pour un IXP)\n"
   ]
  },
  {
   "cell_type": "markdown",
   "id": "c6deed3b",
   "metadata": {},
   "source": [
    "- ### Visualisation et pertinence de la donnée `policy_locations`"
   ]
  },
  {
   "cell_type": "code",
   "execution_count": 50,
   "id": "32b099c8",
   "metadata": {},
   "outputs": [
    {
     "data": {
      "text/plain": [
       "Not Required                9962\n",
       "Preferred                   1218\n",
       "Required - International      88\n",
       "                              71\n",
       "Required - US                 36\n",
       "Required - EU                 32\n",
       "Name: policy_locations, dtype: int64"
      ]
     },
     "execution_count": 50,
     "metadata": {},
     "output_type": "execute_result"
    }
   ],
   "source": [
    "net['policy_locations'].value_counts()"
   ]
  },
  {
   "cell_type": "code",
   "execution_count": null,
   "id": "6ca5b09f",
   "metadata": {},
   "outputs": [],
   "source": []
  },
  {
   "cell_type": "code",
   "execution_count": 97,
   "id": "3af2e0c0",
   "metadata": {},
   "outputs": [
    {
     "data": {
      "text/plain": [
       "Text(0.5, 1.0, 'Port_capacity percentage')"
      ]
     },
     "execution_count": 97,
     "metadata": {},
     "output_type": "execute_result"
    },
    {
     "data": {
      "image/png": "[encoded data removed]",
      "text/plain": [
       "<Figure size 1440x720 with 6 Axes>"
      ]
     },
     "metadata": {
      "needs_background": "light"
     },
     "output_type": "display_data"
    }
   ],
   "source": [
    "# Configuration of the main figure\n",
    "fig = plt.figure(figsize=(20,10))\n",
    "fig.tight_layout(pad=3.0)\n",
    "plt.subplots_adjust(left=None, bottom=None, right=None, top=None, wspace=0.2, hspace=0.3)\n",
    "fig.suptitle(\"Values of port_capacity (from %s to %s) for each `policy_locations` value\" % (begin_port_value, end_port_value), fontsize=16)\n",
    "\n",
    "\n",
    "# Parameters values\n",
    "nb_bins_hist=15\n",
    "begin_port_value = 1e5\n",
    "end_port_value   = 1e7\n",
    "rang_hist=[begin_port_value, end_port_value]\n",
    "\n",
    "data_not_required = net['port_capacity'] [net['policy_locations'] == 'Not Required']\n",
    "data_preferred    = net['port_capacity'] [net['policy_locations'] == 'Preferred']\n",
    "data_required_int = net['port_capacity'] [net['policy_locations'] == 'Required - International']\n",
    "data_blank        = net['port_capacity'] [net['policy_locations'] == '']\n",
    "data_required_US  = net['port_capacity'] [net['policy_locations'] == 'Required - US']\n",
    "data_required_EU  = net['port_capacity'] [net['policy_locations'] == 'Required - EU']\n",
    "\n",
    "\n",
    "\n",
    "## 6 histograms displayed\n",
    "\n",
    "plt.subplot(2,3,1)\n",
    "plt.hist(data_not_required, \n",
    "         bins=nb_bins_hist, range=rang_hist, weights=100*(np.ones(len(data_not_required)) /len(data_not_required)))\n",
    "plt.xlabel(\"port_capacity\")\n",
    "plt.ylabel(\"Not Required (%)\")\n",
    "plt.title(\"Port_capacity percentage\")\n",
    "\n",
    "plt.subplot(2,3,4)\n",
    "plt.hist(data_preferred,\n",
    "         bins=nb_bins_hist, range=rang_hist, weights=100*(np.ones(len(data_preferred)) /len(data_preferred)))\n",
    "plt.xlabel(\"port_capacity\")\n",
    "plt.ylabel(\"Preferred (%)\")\n",
    "plt.title(\"Port_capacity percentage\")\n",
    "\n",
    "plt.subplot(2,3,2)\n",
    "plt.hist(data_required_int, \n",
    "         bins=nb_bins_hist, range=rang_hist, weights=100*(np.ones(len(data_required_int)) /len(data_required_int)))\n",
    "plt.xlabel(\"port_capacity\")\n",
    "plt.ylabel(\"Required - International (%)\")\n",
    "plt.title(\"Port_capacity percentage\")\n",
    "\n",
    "plt.subplot(2,3,5)\n",
    "plt.hist(data_blank, \n",
    "         bins=nb_bins_hist, range=rang_hist, weights=100*(np.ones(len(data_blank)) /len(data_blank)))\n",
    "plt.xlabel(\"port_capacity\")\n",
    "plt.ylabel(\"'' (%)\")\n",
    "plt.title(\"Port_capacity percentage\")\n",
    "\n",
    "plt.subplot(2,3,3)\n",
    "plt.hist(data_required_US, \n",
    "         bins=nb_bins_hist, range=rang_hist, weights=100*(np.ones(len(data_required_US)) /len(data_required_US)))\n",
    "plt.xlabel(\"port_capacity\")\n",
    "plt.ylabel(\"Required - US (%)\")\n",
    "plt.title(\"Port_capacity percentage\")\n",
    "\n",
    "plt.subplot(2,3,6)\n",
    "plt.hist(data_required_EU, \n",
    "         bins=nb_bins_hist, range=rang_hist, weights=100*(np.ones(len(data_required_EU)) /len(data_required_EU)))\n",
    "plt.xlabel(\"port_capacity\")\n",
    "plt.ylabel(\"Required - EU (%)\")\n",
    "plt.title(\"Port_capacity percentage\")\n"
   ]
  },
  {
   "cell_type": "code",
   "execution_count": 106,
   "id": "70508185",
   "metadata": {},
   "outputs": [
    {
     "data": {
      "text/plain": [
       "Regional         3614\n",
       "Europe           1903\n",
       "Not Disclosed    1527\n",
       "Global           1264\n",
       "Asia Pacific     1228\n",
       "South America     690\n",
       "North America     646\n",
       "Africa            226\n",
       "Australia         172\n",
       "                   96\n",
       "Middle East        41\n",
       "Name: info_scope, dtype: int64"
      ]
     },
     "execution_count": 106,
     "metadata": {},
     "output_type": "execute_result"
    }
   ],
   "source": [
    "net['info_scope'].value_counts()"
   ]
  },
  {
   "cell_type": "code",
   "execution_count": null,
   "id": "299c7cff",
   "metadata": {},
   "outputs": [],
   "source": []
  }
 ],
 "metadata": {
  "kernelspec": {
   "display_name": "Python 3 (ipykernel)",
   "language": "python",
   "name": "python3"
  },
  "language_info": {
   "codemirror_mode": {
    "name": "ipython",
    "version": 3
   },
   "file_extension": ".py",
   "mimetype": "text/x-python",
   "name": "python",
   "nbconvert_exporter": "python",
   "pygments_lexer": "ipython3",
   "version": "3.9.5"
  }
 },
 "nbformat": 4,
 "nbformat_minor": 5
}
