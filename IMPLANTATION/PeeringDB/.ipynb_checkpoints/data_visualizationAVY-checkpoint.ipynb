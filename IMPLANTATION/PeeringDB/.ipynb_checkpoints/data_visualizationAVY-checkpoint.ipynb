{
 "cells": [
  {
   "cell_type": "markdown",
   "id": "2adced18",
   "metadata": {},
   "source": [
    "This notebook describes part of the PeeringDB dataset.  \n",
    "It consists in IXP metadata (table `ix`), ASes metadata (table `net`), a directed Graph (`DiGraph`) and a table containing the graph's nodes metadata (table `nodes`)."
   ]
  },
  {
   "cell_type": "code",
   "execution_count": 51,
   "id": "5f1f9930",
   "metadata": {},
   "outputs": [],
   "source": [
    "import numpy as np\n",
    "import pandas as pd\n",
    "import networkx as nx\n",
    "import pickle\n",
    "import matplotlib.pyplot as plt\n",
    "from numpy import arange\n",
    "from sklearn import preprocessing"
   ]
  },
  {
   "cell_type": "markdown",
   "id": "2ee3a8f6",
   "metadata": {},
   "source": [
    "# Loading preprocessed data\n",
    "Notes on the preprocessing: \n",
    "* All entries are uniquely defined with an index.\n",
    " * ASes: the index is the AS number (asn)\n",
    " * IXPs: a negative number that I attributed\n",
    "* The graph is first built from infos present in `netixlan_set` of the API. This makes a bipartite graph (AS-IXP) with links weighted by the router port size (`speed` in the API)\n",
    "* We want to derive a directed graph: we rely on ASes `info_ratio` attribute, that can take the values `Not Disclosed`, `Heavy In(out)bound`, `Mostly In(out)bound`, `Balanced`.\n",
    " * Inbound: a link is created with a weight=`speed` from IXP to AS. Another link of weight $(1-\\beta)$*`speed` is created in the other direction\n",
    " * Outbound: a link is created with a weight=`speed` from AS to IXP. Another link of weight $(1-\\beta)$*`speed` is created in the other direction\n",
    " * `Balanced` or `Not Disclosed`: A link in both direction with a weight=`speed`\n",
    " * Heavy categories: $\\beta=\\beta_H=0.95$, Mostly categories: $\\beta=\\beta_M=0.75$"
   ]
  },
  {
   "cell_type": "code",
   "execution_count": 2,
   "id": "7bd94a4f",
   "metadata": {},
   "outputs": [
    {
     "name": "stdout",
     "output_type": "stream",
     "text": [
      "nodes table summary\n",
      "<class 'pandas.core.frame.DataFrame'>\n",
      "Int64Index: 12282 entries, 20940 to -893\n",
      "Data columns (total 7 columns):\n",
      " #   Column         Non-Null Count  Dtype  \n",
      "---  ------         --------------  -----  \n",
      " 0   name           12282 non-null  object \n",
      " 1   type           12282 non-null  object \n",
      " 2   prev_id        12282 non-null  int64  \n",
      " 3   AStype         11472 non-null  object \n",
      " 4   region         12282 non-null  object \n",
      " 5   asn            12282 non-null  int64  \n",
      " 6   port_capacity  12282 non-null  float64\n",
      "dtypes: float64(1), int64(2), object(4)\n",
      "memory usage: 767.6+ KB\n"
     ]
    },
    {
     "data": {
      "text/plain": [
       "None"
      ]
     },
     "metadata": {},
     "output_type": "display_data"
    },
    {
     "name": "stdout",
     "output_type": "stream",
     "text": [
      "ix table summary\n",
      "<class 'pandas.core.frame.DataFrame'>\n",
      "Int64Index: 810 entries, -1 to -893\n",
      "Data columns (total 26 columns):\n",
      " #   Column            Non-Null Count  Dtype \n",
      "---  ------            --------------  ----- \n",
      " 0   proto_ipv6        810 non-null    bool  \n",
      " 1   status            810 non-null    object\n",
      " 2   url_stats         810 non-null    object\n",
      " 3   id                810 non-null    int64 \n",
      " 4   tech_email        810 non-null    object\n",
      " 5   city              810 non-null    object\n",
      " 6   policy_email      810 non-null    object\n",
      " 7   tech_phone        810 non-null    object\n",
      " 8   media             810 non-null    object\n",
      " 9   proto_multicast   810 non-null    bool  \n",
      " 10  ixf_last_import   127 non-null    object\n",
      " 11  website           810 non-null    object\n",
      " 12  updated           810 non-null    object\n",
      " 13  net_count         810 non-null    int64 \n",
      " 14  policy_phone      810 non-null    object\n",
      " 15  proto_unicast     810 non-null    bool  \n",
      " 16  region_continent  810 non-null    object\n",
      " 17  name              810 non-null    object\n",
      " 18  created           810 non-null    object\n",
      " 19  country           810 non-null    object\n",
      " 20  notes             810 non-null    object\n",
      " 21  org_id            810 non-null    int64 \n",
      " 22  ixf_net_count     810 non-null    int64 \n",
      " 23  name_long         810 non-null    object\n",
      " 24  port_capacity     810 non-null    int64 \n",
      " 25  asn               810 non-null    int64 \n",
      "dtypes: bool(3), int64(6), object(17)\n",
      "memory usage: 154.2+ KB\n"
     ]
    },
    {
     "data": {
      "text/plain": [
       "None"
      ]
     },
     "metadata": {},
     "output_type": "display_data"
    },
    {
     "name": "stdout",
     "output_type": "stream",
     "text": [
      "net table summary\n",
      "<class 'pandas.core.frame.DataFrame'>\n",
      "Int64Index: 11472 entries, 20940 to 61437\n",
      "Data columns (total 35 columns):\n",
      " #   Column                        Non-Null Count  Dtype  \n",
      "---  ------                        --------------  -----  \n",
      " 0   status                        11472 non-null  object \n",
      " 1   looking_glass                 11472 non-null  object \n",
      " 2   route_server                  11472 non-null  object \n",
      " 3   netixlan_updated              11472 non-null  object \n",
      " 4   info_ratio                    11472 non-null  object \n",
      " 5   id                            11472 non-null  int64  \n",
      " 6   policy_ratio                  11472 non-null  bool   \n",
      " 7   info_unicast                  11472 non-null  bool   \n",
      " 8   policy_general                11472 non-null  object \n",
      " 9   website                       11472 non-null  object \n",
      " 10  allow_ixp_update              11472 non-null  bool   \n",
      " 11  updated                       11472 non-null  object \n",
      " 12  netfac_updated                7121 non-null   object \n",
      " 13  info_traffic                  11472 non-null  object \n",
      " 14  info_multicast                11472 non-null  bool   \n",
      " 15  policy_locations              11472 non-null  object \n",
      " 16  name                          11472 non-null  object \n",
      " 17  info_scope                    11472 non-null  object \n",
      " 18  notes                         11472 non-null  object \n",
      " 19  created                       11472 non-null  object \n",
      " 20  org_id                        11472 non-null  int64  \n",
      " 21  policy_url                    11472 non-null  object \n",
      " 22  info_never_via_route_servers  11472 non-null  bool   \n",
      " 23  poc_updated                   10524 non-null  object \n",
      " 24  info_type                     11472 non-null  object \n",
      " 25  policy_contracts              11472 non-null  object \n",
      " 26  info_prefixes6                11472 non-null  int64  \n",
      " 27  aka                           11472 non-null  object \n",
      " 28  info_prefixes4                11472 non-null  int64  \n",
      " 29  info_ipv6                     11472 non-null  bool   \n",
      " 30  irr_as_set                    11472 non-null  object \n",
      " 31  netixlan_set                  11472 non-null  object \n",
      " 32  ix_count                      11472 non-null  int64  \n",
      " 33  port_capacity                 11472 non-null  float64\n",
      " 34  asn                           11472 non-null  int64  \n",
      "dtypes: bool(6), float64(1), int64(6), object(22)\n",
      "memory usage: 2.7+ MB\n"
     ]
    },
    {
     "data": {
      "text/plain": [
       "None"
      ]
     },
     "metadata": {},
     "output_type": "display_data"
    },
    {
     "name": "stdout",
     "output_type": "stream",
     "text": [
      "Total number of nodes: 12282\n",
      "Total number of IXP: 810\n",
      "Total number of ASes:  11472\n",
      "Total number of edges:  63914\n"
     ]
    }
   ],
   "source": [
    "path = \"./\"\n",
    "prefix = \"peeringdb_2_dump_\"\n",
    "date = \"2021_03_01\"\n",
    "\n",
    "pickle_in = open(path+\"nodes/\"+prefix+date+\".pickle\", \"rb\")\n",
    "nodes = pickle.load(pickle_in)\n",
    "pickle_in.close()\n",
    "nodes = nodes.loc[nodes[\"port_capacity\"]>0] ##port capacity = sum of all ports\n",
    "print(\"nodes table summary\")\n",
    "display(nodes.info())\n",
    "\n",
    "pickle_in = open(path+\"ix/\"+prefix+date+\".pickle\", \"rb\")\n",
    "ix = pickle.load(pickle_in)\n",
    "pickle_in.close()\n",
    "ix = ix.loc[ix[\"port_capacity\"]>0]\n",
    "print(\"ix table summary\")\n",
    "display(ix.info())\n",
    "\n",
    "pickle_in = open(path+\"net/\"+prefix+date+\".pickle\", \"rb\")\n",
    "net = pickle.load(pickle_in)\n",
    "pickle_in.close()\n",
    "net = net.loc[net[\"port_capacity\"]>0]\n",
    "print(\"net table summary\")\n",
    "display(net.info())\n",
    "\n",
    "BETA_H = 0.95\n",
    "BETA_M = 0.75\n",
    "\n",
    "edgelist = open(path+\"graph/\"+format(BETA_H, '.4f')+\"_\"+format(BETA_M, '.4f')+\"_\"+prefix+date+\".txt\", \"r\")\n",
    "DiGraph = nx.parse_edgelist(edgelist, nodetype = int, data=(('weight',float),), create_using = nx.DiGraph, delimiter=\",\")\n",
    "\n",
    "\n",
    "assert(len(nodes) == len(ix) + len(net))\n",
    "assert(len(nodes) == len(DiGraph))\n",
    "\n",
    "print(\"Total number of nodes:\", len(nodes))\n",
    "print(\"Total number of IXP:\", len(ix))\n",
    "print(\"Total number of ASes: \", len(net))\n",
    "print(\"Total number of edges: \", len(DiGraph.edges()))"
   ]
  },
  {
   "cell_type": "markdown",
   "id": "f04e8e99",
   "metadata": {},
   "source": [
    "# Selecting the main connected component\n",
    "Most graph algorithms behave best when the graph has a single connected component "
   ]
  },
  {
   "cell_type": "code",
   "execution_count": 34,
   "id": "3b537906",
   "metadata": {},
   "outputs": [
    {
     "name": "stdout",
     "output_type": "stream",
     "text": [
      "Number of connected components 1\n",
      "Percentage of nodes in the graph main connected component 100.0\n"
     ]
    }
   ],
   "source": [
    "##I work only with the main connected component. Some entries of nodes, ix and net must be removed\n",
    "##Main connected component.\n",
    "#watch out casting DiGraph to Graph is not correct (delete doubled edges). For our use here it will be fine.\n",
    "components = sorted(nx.connected_components(nx.Graph(DiGraph)), key=len, reverse=True) \n",
    "print(\"Number of connected components\", len(components))\n",
    "print(\"Percentage of nodes in the graph main connected component\", 100.0*len(components[0])/DiGraph.number_of_nodes())\n",
    "DiGraph = DiGraph.subgraph(components[0])\n",
    "\n",
    "##Removing entries.\n",
    "for i in range(1,len(components)):\n",
    "    component = components[i]\n",
    "    for node in component:\n",
    "        #if node is an AS\n",
    "        if node >= 0:\n",
    "            net.drop(index=node, inplace=True)\n",
    "            nodes.drop(index=node, inplace=True)\n",
    "        #if node is an IXP\n",
    "        if node < 0:\n",
    "            ix.drop(index=node, inplace=True)\n",
    "            nodes.drop(index=node, inplace=True)\n",
    "            \n",
    "assert(len(nodes) == len(ix) + len(net))\n",
    "assert(len(nodes) == len(DiGraph))"
   ]
  },
  {
   "cell_type": "markdown",
   "id": "4126b78f",
   "metadata": {},
   "source": [
    "- #### Definition of relevant columns relevant to the study"
   ]
  },
  {
   "cell_type": "code",
   "execution_count": 4,
   "id": "a7cac749",
   "metadata": {},
   "outputs": [],
   "source": [
    "list_columns_ix = ['net_count', 'name', 'country', \n",
    "                   'notes', 'port_capacity', 'asn', 'ixf_net_count', 'id']\n",
    "\n",
    "list_columns_net = ['info_scope', 'info_traffic', 'ix_count', 'port_capacity',\n",
    "                    'info_ratio', 'policy_general','info_type']"
   ]
  },
  {
   "cell_type": "markdown",
   "id": "9100b162",
   "metadata": {},
   "source": [
    "## PEERINGDB data visualization\n",
    "\n",
    "doc attributs peeringDB : https://www.peeringdb.com/apidocs/#operation/list%20net \n",
    "\n",
    "- #### Summary table of retained data, and the range of their possible values"
   ]
  },
  {
   "cell_type": "markdown",
   "id": "441a8c97",
   "metadata": {},
   "source": [
    "| Attribute name        | Meaning           | Possible values  |\n",
    "| :-------------:       |:---------------:  | :--------------: |\n",
    "| **info_type** (AS)    | classification de l'AS (NaN pour un IXP) | `Cable/DSL/ISP` `NSP` `Content` `Not Disclosed` `Enterprise` `Educational/Research` `Non-Profit` `Route Server` `\"\"` `Network Services` `Route Collector` `Government`\n",
    "| **info_ratio** (AS) | politique de communication de l'AS | `\"\" ` `Not Disclosed` `Heavy Outbound` <br><br>`Mostly Outbound` `Balanced` `Mostly Inbound` `Heavy Inbound` \n",
    "| **info_scope** (AS) | origine géographique de la mesure | `Not Disclosed` `Regional` `North America` <br>`Asia Pacific` `Europe` `South America` `Africa` `Australia` `Middle East` `Global` \n",
    "| **policy_general** |politique de traffic de l'AS | `\"\"` `Open` `Selective` `Restrictive` `No`| \n",
    "| **policy_locations** |politique de traffic de l'AS | `\"\"` `Not Required` `Preferred` `Selective` `Required - International` `Required - US` `Required - EU` \n",
    "| **info_traffic** | ordre de grandeur du traffic | `\"\"` `0-20Mbps` `20-100Mbps` `100-1000Mbps`  `1-5Gbps` `5-10Gbps` `10-20Gbps` `20-50Gbps` `50-100Gbps` `100-200Gbps` `200-300Gbps` `300-500Gbps` `500-1000Gbps` `1-5Tbps` `5-10Tbps` `10-20Tbps` `20-50Tbps` `50-100Tbps` `100+Tbps`\n",
    "| **port_capacity** (both) | bande passante d'un port | value in gigabyte : 1 to 26M8 for AS, 100 to 50M for IXP\n",
    "| **ix_count** (AS) | nombre d'IXP auquel l'AS se connecte | `int` from 1 to 328\n",
    "| **net_count** (IXP) | nombre d'AS auquel l'AS se connecte | `int` from 1 to 1309"
   ]
  },
  {
   "cell_type": "markdown",
   "id": "9784e2bf",
   "metadata": {},
   "source": [
    "- #### Then we scale the data "
   ]
  },
  {
   "cell_type": "markdown",
   "id": "b91eba6b",
   "metadata": {},
   "source": [
    "| Attribute name        | Meaning           | Possible values  |\n",
    "| :-------------:       |:---------------:  | :--------------: |\n",
    "| **info_type** (AS)    | classification de l'AS (NaN pour un IXP) | `Cable/DSL/ISP` `NSP` `Content` `Not Disclosed` `Enterprise` `Educational/Research` `Non-Profit` `Route Server` `\"\"` `Network Services` `Route Collector` `Government`\n",
    "| **info_ratio** (AS) | politique de communication de l'AS | `0.2` `0.4` `0.6` `0.8` `1` \n",
    "| **info_scope** (AS) | origine géographique de la mesure | `1/3` `2/3` `1`\n",
    "| **policy_general** |politique de traffic de l'AS | `0.25` `0.5` `0.75` `1`\n",
    "| **info_traffic** | ordre de grandeur du traffic | `1/18` `2/18` `3/18` `4/18` `5/18` `6/18` `7/18` `8/18` `9/18` `10/18` `11/18` `12/18` `13/18` `14/18` `15/18` `16/18` `17/18` `1`\n",
    "| **port_capacity** (both) | bande passante d'un port | std value of port_capacity (from `0` to `1`)\n",
    "| **ix_count** (AS) | nombre d'IXP auquel l'AS se connecte | `int` scaled\n",
    "| **net_count** (IXP) | nombre d'AS auquel l'AS se connecte | `int` scaled"
   ]
  },
  {
   "cell_type": "markdown",
   "id": "60b4f7ab",
   "metadata": {},
   "source": [
    "- #### visualization of AS distribution"
   ]
  },
  {
   "cell_type": "code",
   "execution_count": 6,
   "id": "d60969b6",
   "metadata": {},
   "outputs": [
    {
     "data": {
      "image/png": "[encoded data removed]",
      "text/plain": [
       "<Figure size 360x360 with 1 Axes>"
      ]
     },
     "metadata": {},
     "output_type": "display_data"
    }
   ],
   "source": [
    "my_circle = plt.Circle( (0,0), 1.1, color='white')\n",
    "plt.pie(net['info_type'].value_counts(), labels=['Cable/DSL/ISP', 'NSP', 'Content', 'Not Disclosed',\n",
    "                                                 'Enterprise', 'Educational/Research', 'Non-Profit',\n",
    "                                                 'Route Server', '', 'Network Services', \n",
    "                                                 'Route Collector', 'Government'],autopct='%1.1f%%', \n",
    "                                                  pctdistance=0.62, radius=1.5)\n",
    "fig = plt.gcf()\n",
    "fig.set_size_inches(5,5)\n",
    "\n",
    "fig.gca().add_artist(my_circle)\n",
    "plt.show()"
   ]
  },
  {
   "cell_type": "markdown",
   "id": "ef55639e",
   "metadata": {},
   "source": [
    "- ### Corrélation entre les données `info_traffic` et `port_capacity`"
   ]
  },
  {
   "cell_type": "code",
   "execution_count": 8,
   "id": "aad3d133",
   "metadata": {},
   "outputs": [],
   "source": [
    "labels_info_traffic = net['info_traffic'].value_counts().keys()"
   ]
  },
  {
   "cell_type": "code",
   "execution_count": 9,
   "id": "d7c11968",
   "metadata": {},
   "outputs": [
    {
     "name": "stdout",
     "output_type": "stream",
     "text": [
      "Index(['', '1-5Gbps', '5-10Gbps', '100-1000Mbps', '10-20Gbps', '20-50Gbps',\n",
      "       '50-100Gbps', '100-200Gbps', '20-100Mbps', '1-5Tbps', '0-20Mbps',\n",
      "       '500-1000Gbps', '300-500Gbps', '200-300Gbps', '10-20Tbps', '5-10Tbps',\n",
      "       '20-50Tbps', '100+Tbps', '50-100Tbps'],\n",
      "      dtype='object')\n"
     ]
    }
   ],
   "source": [
    "print(labels_info_traffic)"
   ]
  },
  {
   "cell_type": "code",
   "execution_count": 10,
   "id": "03192c8d",
   "metadata": {},
   "outputs": [],
   "source": [
    "_nothing   = net['port_capacity'] [net['info_traffic'] == \"\"]\n",
    "_0_20_M    = net['port_capacity'] [net['info_traffic'] == \"0-20Mbps\"]\n",
    "_20_100M   = net['port_capacity'] [net['info_traffic'] == \"20-100Mbps\"]\n",
    "_100_1000M = net['port_capacity'] [net['info_traffic'] == \"100-1000Mbps\"]\n",
    "_1_5G      = net['port_capacity'] [net['info_traffic'] == \"1-5Gbps\"]\n",
    "_5_10G     = net['port_capacity'] [net['info_traffic'] == \"5-10Gbps\"]\n",
    "_10_20G    = net['port_capacity'] [net['info_traffic'] == \"10-20Gbps\"]\n",
    "_20_50G    = net['port_capacity'] [net['info_traffic'] == \"20-50Gbps\"]\n",
    "_50_100G   = net['port_capacity'] [net['info_traffic'] == \"50-100Gbps\"]\n",
    "_100_200G  = net['port_capacity'] [net['info_traffic'] == \"100-200Gbps\"]\n",
    "_200_300G  = net['port_capacity'] [net['info_traffic'] == \"200-300Gbps\"]\n",
    "_300_500G  = net['port_capacity'] [net['info_traffic'] == \"300-500Gbps\"]\n",
    "_500_1000G = net['port_capacity'] [net['info_traffic'] == \"500-1000Gbps\"]\n",
    "_1_5T      = net['port_capacity'] [net['info_traffic'] == \"1-5Tbps\"]\n",
    "_5_10T     = net['port_capacity'] [net['info_traffic'] == \"5-10Tbps\"]\n",
    "_10_20T    = net['port_capacity'] [net['info_traffic'] == \"10-20Tbps\"]\n",
    "_20_50T    = net['port_capacity'] [net['info_traffic'] == \"20-50Tbps\"]\n",
    "_50_100T   = net['port_capacity'] [net['info_traffic'] == \"50-100Tbps\"]\n",
    "_100_plusT = net['port_capacity'] [net['info_traffic'] == \"100+Tbps\"]"
   ]
  },
  {
   "cell_type": "code",
   "execution_count": 11,
   "id": "af950bb1",
   "metadata": {},
   "outputs": [
    {
     "data": {
      "text/plain": [
       "[]"
      ]
     },
     "execution_count": 11,
     "metadata": {},
     "output_type": "execute_result"
    },
    {
     "data": {
      "image/png": "[encoded data removed]",
      "text/plain": [
       "<Figure size 432x288 with 1 Axes>"
      ]
     },
     "metadata": {
      "needs_background": "light"
     },
     "output_type": "display_data"
    }
   ],
   "source": [
    "plt.boxplot([_nothing, _0_20_M, _20_100M, _100_1000M, _1_5G, _5_10G, _10_20G, \n",
    "             _20_50G, _50_100G, _100_200G, _200_300G, _300_500G,\n",
    "             _500_1000G, _1_5T, _5_10T, _10_20T, _20_50T, \n",
    "            _50_100T, _100_plusT])\n",
    "\n",
    "plt.xlabel(\"info_traffic class (from 0-20Mbps to 100+Tbps)\")\n",
    "plt.ylabel(\"boxplot of port capacity\")\n",
    "plt.title(\"Correlation between port_capacity and info_traffic\")\n",
    "\n",
    "plt.loglog()\n",
    "#plt.xticks(np.arange(1,18), labels_info_traffic)"
   ]
  },
  {
   "cell_type": "markdown",
   "id": "88aefdd5",
   "metadata": {},
   "source": [
    "- As we can see in general, the more the higher the port capacity is the higher the info_traffic is "
   ]
  },
  {
   "cell_type": "markdown",
   "id": "5a7f8dd6",
   "metadata": {},
   "source": [
    "- #### Vizualisation of `info_traffic` `info_ratio`  features"
   ]
  },
  {
   "cell_type": "code",
   "execution_count": 36,
   "id": "af64d1ca",
   "metadata": {
    "scrolled": true
   },
   "outputs": [
    {
     "data": {
      "text/plain": [
       "                3112\n",
       "1-5Gbps         2093\n",
       "5-10Gbps        1263\n",
       "100-1000Mbps    1149\n",
       "10-20Gbps       1055\n",
       "20-50Gbps        900\n",
       "50-100Gbps       555\n",
       "100-200Gbps      313\n",
       "20-100Mbps       231\n",
       "1-5Tbps          178\n",
       "0-20Mbps         149\n",
       "500-1000Gbps     130\n",
       "300-500Gbps      123\n",
       "200-300Gbps      117\n",
       "10-20Tbps         17\n",
       "5-10Tbps          13\n",
       "20-50Tbps          5\n",
       "100+Tbps           3\n",
       "50-100Tbps         1\n",
       "Name: info_traffic, dtype: int64"
      ]
     },
     "execution_count": 36,
     "metadata": {},
     "output_type": "execute_result"
    }
   ],
   "source": [
    "net['info_traffic'].value_counts()"
   ]
  },
  {
   "cell_type": "markdown",
   "id": "df30a8b5",
   "metadata": {},
   "source": [
    "Most of `info_traffic` values are not disclosed (3112)\n",
    "Therefore, we have to give a value to these empty data to use this feature <br>\n",
    "We chose the average value between `100-200Gbps`  and `200-300Gbps` (in the jupyter notebook named `peeringDB_data_scaled`)"
   ]
  },
  {
   "cell_type": "code",
   "execution_count": 37,
   "id": "ed143787",
   "metadata": {},
   "outputs": [
    {
     "data": {
      "text/plain": [
       "Balanced           3494\n",
       "Mostly Inbound     3476\n",
       "Not Disclosed      1965\n",
       "Mostly Outbound    1078\n",
       "Heavy Inbound       803\n",
       "Heavy Outbound      397\n",
       "                    194\n",
       "Name: info_ratio, dtype: int64"
      ]
     },
     "execution_count": 37,
     "metadata": {},
     "output_type": "execute_result"
    }
   ],
   "source": [
    "net['info_ratio'].value_counts()"
   ]
  },
  {
   "cell_type": "markdown",
   "id": "46cee322",
   "metadata": {},
   "source": [
    "We chose the value `Balanced` for those which have `Not disclosed` and those empty (in the jupyter notebook named `peeringDB_data_scale`)"
   ]
  },
  {
   "cell_type": "code",
   "execution_count": 21,
   "id": "0bd8cbd5",
   "metadata": {},
   "outputs": [
    {
     "data": {
      "text/plain": [
       "array([[<AxesSubplot:title={'center':'port_capacity'}>]], dtype=object)"
      ]
     },
     "execution_count": 21,
     "metadata": {},
     "output_type": "execute_result"
    },
    {
     "data": {
      "image/png": "[encoded data removed]",
      "text/plain": [
       "<Figure size 432x288 with 1 Axes>"
      ]
     },
     "metadata": {
      "needs_background": "light"
     },
     "output_type": "display_data"
    }
   ],
   "source": [
    "net[['info_traffic', 'port_capacity']] [net['info_traffic'] == '10-20Gbps'].hist()"
   ]
  },
  {
   "cell_type": "code",
   "execution_count": 35,
   "id": "c012d94f",
   "metadata": {},
   "outputs": [],
   "source": [
    "list_port_capacity_nothing = net['port_capacity'] [net['info_traffic'] == '']"
   ]
  },
  {
   "cell_type": "code",
   "execution_count": 23,
   "id": "b1e02d97",
   "metadata": {},
   "outputs": [],
   "source": [
    "list_port_capacity_un_cinqGpbs = net['port_capacity'] [net['info_traffic'] == '1-5Gbps']"
   ]
  },
  {
   "cell_type": "code",
   "execution_count": 24,
   "id": "7f66be7f",
   "metadata": {},
   "outputs": [],
   "source": [
    "list_port_capacity_dix_vingtGpbs = net['port_capacity'] [net['info_traffic'] == '10-20Gbps']"
   ]
  },
  {
   "cell_type": "code",
   "execution_count": 25,
   "id": "eb4b11f5",
   "metadata": {},
   "outputs": [],
   "source": [
    "list_port_capacity_vingt_cinquanteGpbs = net['port_capacity'] [net['info_traffic'] == '20-50Gbps']"
   ]
  },
  {
   "cell_type": "code",
   "execution_count": 26,
   "id": "68547cd3",
   "metadata": {},
   "outputs": [
    {
     "name": "stdout",
     "output_type": "stream",
     "text": [
      "Smallest port capacity : 1.0\n",
      "Biggest port capacity :  21640000.0\n",
      "Mean :                   81572.38110539845\n",
      "Ecart-type :             798310.7666564836\n",
      "First quartile :         1100.0\n",
      "Mediane :                10000.0\n",
      "Third quartile :         20000.0\n"
     ]
    }
   ],
   "source": [
    "print(\"Smallest port capacity : \" + str(list_port_capacity_nothing.min()))\n",
    "print(\"Biggest port capacity :  \" + str(list_port_capacity_nothing.max()))\n",
    "print(\"Mean :                   \" + str(list_port_capacity_nothing.mean()))\n",
    "print(\"Ecart-type :             \" + str(list_port_capacity_nothing.std()))\n",
    "print(\"First quartile :         \" + str(list_port_capacity_nothing.quantile(0.25)))\n",
    "print(\"Mediane :                \" + str(list_port_capacity_nothing.quantile(0.5)))\n",
    "print(\"Third quartile :         \" + str(list_port_capacity_nothing.quantile(0.75)))"
   ]
  },
  {
   "cell_type": "code",
   "execution_count": 27,
   "id": "a5a7ecea",
   "metadata": {},
   "outputs": [
    {
     "name": "stdout",
     "output_type": "stream",
     "text": [
      "Smallest port capacity : 1.0\n",
      "Biggest port capacity :  559507.0\n",
      "Mean :                   10436.554228380315\n",
      "Ecart-type :             19398.259449514935\n",
      "First quartile :         1000.0\n",
      "Mediane :                6000.0\n",
      "Third quartile :         11000.0\n"
     ]
    }
   ],
   "source": [
    "print(\"Smallest port capacity : \" + str(list_port_capacity_un_cinqGpbs.min()))\n",
    "print(\"Biggest port capacity :  \" + str(list_port_capacity_un_cinqGpbs.max()))\n",
    "print(\"Mean :                   \" + str(list_port_capacity_un_cinqGpbs.mean()))\n",
    "print(\"Ecart-type :             \" + str(list_port_capacity_un_cinqGpbs.std()))\n",
    "print(\"First quartile :         \" + str(list_port_capacity_un_cinqGpbs.quantile(0.25)))\n",
    "print(\"Mediane :                \" + str(list_port_capacity_un_cinqGpbs.quantile(0.5)))\n",
    "print(\"Third quartile :         \" + str(list_port_capacity_un_cinqGpbs.quantile(0.75)))"
   ]
  },
  {
   "cell_type": "code",
   "execution_count": 28,
   "id": "b0d580fc",
   "metadata": {},
   "outputs": [
    {
     "name": "stdout",
     "output_type": "stream",
     "text": [
      "Smallest port capacity : 100.0\n",
      "Biggest port capacity :  575000.0\n",
      "Mean :                   24763.018009478674\n",
      "Ecart-type :             34539.110074449934\n",
      "First quartile :         10000.0\n",
      "Mediane :                20000.0\n",
      "Third quartile :         30000.0\n"
     ]
    }
   ],
   "source": [
    "print(\"Smallest port capacity : \" + str(list_port_capacity_dix_vingtGpbs.min()))\n",
    "print(\"Biggest port capacity :  \" + str(list_port_capacity_dix_vingtGpbs.max()))\n",
    "print(\"Mean :                   \" + str(list_port_capacity_dix_vingtGpbs.mean()))\n",
    "print(\"Ecart-type :             \" + str(list_port_capacity_dix_vingtGpbs.std()))\n",
    "print(\"First quartile :         \" + str(list_port_capacity_dix_vingtGpbs.quantile(0.25)))\n",
    "print(\"Mediane :                \" + str(list_port_capacity_dix_vingtGpbs.quantile(0.5)))\n",
    "print(\"Third quartile :         \" + str(list_port_capacity_dix_vingtGpbs.quantile(0.75)))"
   ]
  },
  {
   "cell_type": "code",
   "execution_count": 29,
   "id": "da27e9a7",
   "metadata": {},
   "outputs": [
    {
     "name": "stdout",
     "output_type": "stream",
     "text": [
      "Smallest port capacity : 10.0\n",
      "Biggest port capacity :  1010000.0\n",
      "Mean :                   41462.53888888889\n",
      "Ecart-type :             63647.542856292945\n",
      "First quartile :         11000.0\n",
      "Mediane :                24000.0\n",
      "Third quartile :         41000.0\n"
     ]
    }
   ],
   "source": [
    "print(\"Smallest port capacity : \" + str(list_port_capacity_vingt_cinquanteGpbs.min()))\n",
    "print(\"Biggest port capacity :  \" + str(list_port_capacity_vingt_cinquanteGpbs.max()))\n",
    "print(\"Mean :                   \" + str(list_port_capacity_vingt_cinquanteGpbs.mean()))\n",
    "print(\"Ecart-type :             \" + str(list_port_capacity_vingt_cinquanteGpbs.std()))\n",
    "print(\"First quartile :         \" + str(list_port_capacity_vingt_cinquanteGpbs.quantile(0.25)))\n",
    "print(\"Mediane :                \" + str(list_port_capacity_vingt_cinquanteGpbs.quantile(0.5)))\n",
    "print(\"Third quartile :         \" + str(list_port_capacity_vingt_cinquanteGpbs.quantile(0.75)))"
   ]
  },
  {
   "cell_type": "code",
   "execution_count": 30,
   "id": "3145dc4a",
   "metadata": {},
   "outputs": [
    {
     "data": {
      "text/plain": [
       "count    9.000000e+02\n",
       "mean     4.146254e+04\n",
       "std      6.364754e+04\n",
       "min      1.000000e+01\n",
       "25%      1.100000e+04\n",
       "50%      2.400000e+04\n",
       "75%      4.100000e+04\n",
       "max      1.010000e+06\n",
       "Name: port_capacity, dtype: float64"
      ]
     },
     "execution_count": 30,
     "metadata": {},
     "output_type": "execute_result"
    }
   ],
   "source": [
    "list_port_capacity_vingt_cinquanteGpbs.describe()"
   ]
  },
  {
   "cell_type": "markdown",
   "id": "a7dedad8",
   "metadata": {},
   "source": [
    "- ### Importance of the features  <br>\n",
    "  - `ix_count` : number of exchanges at this facility (pour un AS)\n",
    "  - `net_count` : number of exchanges at this facility (pour un IXP)\n"
   ]
  },
  {
   "cell_type": "markdown",
   "id": "c6deed3b",
   "metadata": {},
   "source": [
    "- ### Visualization and relevance of the feature `policy_locations`"
   ]
  },
  {
   "cell_type": "code",
   "execution_count": 31,
   "id": "32b099c8",
   "metadata": {},
   "outputs": [
    {
     "data": {
      "text/plain": [
       "Not Required                9962\n",
       "Preferred                   1218\n",
       "Required - International      88\n",
       "                              71\n",
       "Required - US                 36\n",
       "Required - EU                 32\n",
       "Name: policy_locations, dtype: int64"
      ]
     },
     "execution_count": 31,
     "metadata": {},
     "output_type": "execute_result"
    }
   ],
   "source": [
    "net['policy_locations'].value_counts()"
   ]
  },
  {
   "cell_type": "code",
   "execution_count": 32,
   "id": "3af2e0c0",
   "metadata": {},
   "outputs": [
    {
     "data": {
      "text/plain": [
       "Text(0.5, 1.0, 'Port_capacity percentage')"
      ]
     },
     "execution_count": 32,
     "metadata": {},
     "output_type": "execute_result"
    },
    {
     "data": {
      "image/png": "[encoded data removed]",
      "text/plain": [
       "<Figure size 1440x720 with 6 Axes>"
      ]
     },
     "metadata": {
      "needs_background": "light"
     },
     "output_type": "display_data"
    }
   ],
   "source": [
    "# Parameters values\n",
    "nb_bins_hist=15\n",
    "begin_port_value = 1e4\n",
    "end_port_value   = 1e7\n",
    "rang_hist=[begin_port_value, end_port_value]\n",
    "\n",
    "# Configuration of the main figure\n",
    "fig = plt.figure(figsize=(20,10))\n",
    "fig.tight_layout(pad=3.0)\n",
    "plt.subplots_adjust(left=None, bottom=None, right=None, top=None, wspace=0.2, hspace=0.3)\n",
    "fig.suptitle(\"Values of port_capacity (from %s to %s) for each `policy_locations` value\" % (begin_port_value, end_port_value), fontsize=16)\n",
    "\n",
    "data_not_required = net['port_capacity'] [net['policy_locations'] == 'Not Required']\n",
    "data_preferred    = net['port_capacity'] [net['policy_locations'] == 'Preferred']\n",
    "data_required_int = net['port_capacity'] [net['policy_locations'] == 'Required - International']\n",
    "data_blank        = net['port_capacity'] [net['policy_locations'] == '']\n",
    "data_required_US  = net['port_capacity'] [net['policy_locations'] == 'Required - US']\n",
    "data_required_EU  = net['port_capacity'] [net['policy_locations'] == 'Required - EU']\n",
    "\n",
    "\n",
    "\n",
    "## 6 histograms displayed\n",
    "\n",
    "plt.subplot(2,3,1)\n",
    "plt.hist(data_not_required, \n",
    "         bins=nb_bins_hist, range=rang_hist, weights=100*(np.ones(len(data_not_required)) /len(data_not_required)))\n",
    "plt.xlabel(\"port_capacity\")\n",
    "plt.ylabel(\"Not Required (%)\")\n",
    "plt.title(\"Port_capacity percentage\")\n",
    "\n",
    "plt.subplot(2,3,4)\n",
    "plt.hist(data_preferred,\n",
    "         bins=nb_bins_hist, range=rang_hist, weights=100*(np.ones(len(data_preferred)) /len(data_preferred)))\n",
    "plt.xlabel(\"port_capacity\")\n",
    "plt.ylabel(\"Preferred (%)\")\n",
    "plt.title(\"Port_capacity percentage\")\n",
    "\n",
    "plt.subplot(2,3,2)\n",
    "plt.hist(data_required_int, \n",
    "         bins=nb_bins_hist, range=rang_hist, weights=100*(np.ones(len(data_required_int)) /len(data_required_int)))\n",
    "plt.xlabel(\"port_capacity\")\n",
    "plt.ylabel(\"Required - International (%)\")\n",
    "plt.title(\"Port_capacity percentage\")\n",
    "\n",
    "plt.subplot(2,3,5)\n",
    "plt.hist(data_blank, \n",
    "         bins=nb_bins_hist, range=rang_hist, weights=100*(np.ones(len(data_blank)) /len(data_blank)))\n",
    "plt.xlabel(\"port_capacity\")\n",
    "plt.ylabel(\"'' (%)\")\n",
    "plt.title(\"Port_capacity percentage\")\n",
    "\n",
    "plt.subplot(2,3,3)\n",
    "plt.hist(data_required_US, \n",
    "         bins=nb_bins_hist, range=rang_hist, weights=100*(np.ones(len(data_required_US)) /len(data_required_US)))\n",
    "plt.xlabel(\"port_capacity\")\n",
    "plt.ylabel(\"Required - US (%)\")\n",
    "plt.title(\"Port_capacity percentage\")\n",
    "\n",
    "plt.subplot(2,3,6)\n",
    "plt.hist(data_required_EU, \n",
    "         bins=nb_bins_hist, range=rang_hist, weights=100*(np.ones(len(data_required_EU)) /len(data_required_EU)))\n",
    "plt.xlabel(\"port_capacity\")\n",
    "plt.ylabel(\"Required - EU (%)\")\n",
    "plt.title(\"Port_capacity percentage\")\n"
   ]
  },
  {
   "cell_type": "code",
   "execution_count": 33,
   "id": "70508185",
   "metadata": {},
   "outputs": [
    {
     "data": {
      "text/plain": [
       "Regional         3614\n",
       "Europe           1903\n",
       "Not Disclosed    1527\n",
       "Global           1264\n",
       "Asia Pacific     1228\n",
       "South America     690\n",
       "North America     646\n",
       "Africa            226\n",
       "Australia         172\n",
       "                   96\n",
       "Middle East        41\n",
       "Name: info_scope, dtype: int64"
      ]
     },
     "execution_count": 33,
     "metadata": {},
     "output_type": "execute_result"
    }
   ],
   "source": [
    "net['info_scope'].value_counts()"
   ]
  },
  {
   "cell_type": "code",
   "execution_count": 60,
   "id": "877454d7",
   "metadata": {},
   "outputs": [],
   "source": [
    "#-------------------------------------------------#\n",
    "#  Function that creates 2 lists. The first one   #\n",
    "# contains the weight and the second one contains #\n",
    "#      the number of links  of each nodes         #\n",
    "#      @param DiGraph : A directed graph          #\n",
    "#      @return liste_poids, liste_nbliens : lists #\n",
    "#                         as describe above       #\n",
    "#-------------------------------------------------#\n",
    "\n",
    "def poids_nbliens(DiGraph) :\n",
    "    nbnoeud = DiGraph.number_of_nodes()\n",
    "    liste_poids = np.zeros(nbnoeud)\n",
    "    liste_nbliens = np.zeros(nbnoeud)\n",
    "\n",
    "    liste_noeuds = list(DiGraph.nodes)\n",
    "    for i in range(len(liste_noeuds)):\n",
    "         if liste_noeuds[i]>0 :\n",
    "\n",
    "            poids = 0\n",
    "            liste_poids_voisin = list(DiGraph[liste_noeuds[i]].values())\n",
    "            for j in range(len(liste_poids_voisin)):\n",
    "                poids += liste_poids_voisin[j][\"weight\"]\n",
    "            liste_poids[i]=poids\n",
    "            liste_nbliens[i] = len(DiGraph[liste_noeuds[i]])\n",
    "    return liste_poids, liste_nbliens\n",
    "\n",
    "\n",
    "liste_poids, liste_nbliens = poids_nbliens(DiGraph)\n"
   ]
  },
  {
   "cell_type": "markdown",
   "id": "0f4a9b64",
   "metadata": {},
   "source": [
    "- #### Now we can plot the weight of the nodes as a function of the degree \n",
    "<br> ⚠️ We use a log scale for a better vizualisation "
   ]
  },
  {
   "cell_type": "code",
   "execution_count": 61,
   "id": "0f6d01ae",
   "metadata": {},
   "outputs": [
    {
     "data": {
      "text/plain": [
       "<matplotlib.collections.PathCollection at 0x1eb07de9e50>"
      ]
     },
     "execution_count": 61,
     "metadata": {},
     "output_type": "execute_result"
    },
    {
     "data": {
      "image/png": "[encoded data removed]",
      "text/plain": [
       "<Figure size 432x288 with 1 Axes>"
      ]
     },
     "metadata": {
      "needs_background": "light"
     },
     "output_type": "display_data"
    }
   ],
   "source": [
    "ax = plt.gca()\n",
    "ax.set_xscale('log')\n",
    "ax.set_yscale('log')\n",
    "plt.title(\"\")\n",
    "plt.xlabel(\"Nombre de liens\")\n",
    "plt.ylabel(\"Poids du noeuds\")\n",
    "plt.scatter(liste_nbliens,liste_poids)"
   ]
  },
  {
   "cell_type": "markdown",
   "id": "80f07f8b",
   "metadata": {},
   "source": [
    "-  On this figure we see that some nodes have a few neighbors and a huge weight and vice-versa. <br> The two points off-center on the right represent DNS Servers which try to have a good Latency "
   ]
  },
  {
   "cell_type": "code",
   "execution_count": 62,
   "id": "f5b78dcc",
   "metadata": {},
   "outputs": [],
   "source": [
    "#------------------------------------------------#\n",
    "#   Function that creates the list which         #\n",
    "#     contains the distribution of degree        #\n",
    "#      @param G : a Networkx graph               #\n",
    "#      @return List listenbvoisins : distribution#\n",
    "#                                   of degree    #\n",
    "#------------------------------------------------#\n",
    "def listeNbVoisinsNoeudAS(G):\n",
    "    nbNoeuds = G.number_of_nodes()\n",
    "    b=list(G._node)\n",
    "    listeDesVoisins = [b[i] for i in range(nbNoeuds) if b[i]>0]\n",
    "    listenbvoisins = np.zeros(len(listeDesVoisins))\n",
    "    for i in range(len(listeDesVoisins)) :\n",
    "        listenbvoisins[i] = len(G[listeDesVoisins[i]])\n",
    "    return listenbvoisins\n",
    "\n",
    "\n",
    "lst = listeNbVoisinsNoeudAS(DiGraph)\n",
    "\n",
    "   "
   ]
  },
  {
   "cell_type": "code",
   "execution_count": 63,
   "id": "ff961f45",
   "metadata": {},
   "outputs": [],
   "source": [
    "liste_nb_noeud_k_voisin = np.zeros(int(max(lst)))\n",
    "for i in range(len(lst)) :\n",
    "    if lst[i]> 99 and lst[i]<200 :\n",
    "        liste_nb_noeud_k_voisin[99]+=1\n",
    "    elif lst[i]> 199 and lst[i]<300 :\n",
    "        liste_nb_noeud_k_voisin[199]+=1\n",
    "    elif lst[i]> 299 and lst[i]<400 :\n",
    "        liste_nb_noeud_k_voisin[299]+=1\n",
    "    elif lst[i]> 399 and lst[i]<500 :\n",
    "        liste_nb_noeud_k_voisin[399]+=1\n",
    "    elif lst[i]> 499 and lst[i]<600 :\n",
    "        liste_nb_noeud_k_voisin[499]+=1\n",
    "    elif lst[i]> 599 and lst[i]<700 :\n",
    "        liste_nb_noeud_k_voisin[599]+=1\n",
    "    elif lst[i]> 699 and lst[i]<800 :\n",
    "        liste_nb_noeud_k_voisin[699]+=1\n",
    "    elif lst[i]> 799 and lst[i]<900 :\n",
    "        liste_nb_noeud_k_voisin[799]+=1\n",
    "    elif lst[i]> 899 and lst[i]<1000 :\n",
    "        liste_nb_noeud_k_voisin[899]+=1\n",
    "    else :\n",
    "        liste_nb_noeud_k_voisin[int(lst[i])-1]+=1"
   ]
  },
  {
   "cell_type": "markdown",
   "id": "512b35f1",
   "metadata": {},
   "source": [
    "⚠️ Here we also use a log scale for a better vizualisation"
   ]
  },
  {
   "cell_type": "code",
   "execution_count": 64,
   "id": "f3d0d54f",
   "metadata": {},
   "outputs": [
    {
     "data": {
      "text/plain": [
       "<matplotlib.collections.PathCollection at 0x1eb07effd30>"
      ]
     },
     "execution_count": 64,
     "metadata": {},
     "output_type": "execute_result"
    },
    {
     "data": {
      "image/png": "[encoded data removed]",
      "text/plain": [
       "<Figure size 432x288 with 1 Axes>"
      ]
     },
     "metadata": {
      "needs_background": "light"
     },
     "output_type": "display_data"
    }
   ],
   "source": [
    "\n",
    "ax = plt.gca()\n",
    "ax.set_xscale('log')\n",
    "ax.set_yscale('log')\n",
    "plt.title(\"Distribution of degrees\")\n",
    "plt.xlabel(\"Degree\")\n",
    "plt.ylabel(\"Number of nodes\")\n",
    "plt.scatter(arange(int(max(lst))),liste_nb_noeud_k_voisin)"
   ]
  },
  {
   "cell_type": "markdown",
   "id": "b5386255",
   "metadata": {},
   "source": [
    "- Here we see that the distribution of degree looks like a linear line. Most of the nodes have 1 or 2 neighboors but few of them have more than 100 neighboors. "
   ]
  }
 ],
 "metadata": {
  "kernelspec": {
   "display_name": "Python 3 (ipykernel)",
   "language": "python",
   "name": "python3"
  },
  "language_info": {
   "codemirror_mode": {
    "name": "ipython",
    "version": 3
   },
   "file_extension": ".py",
   "mimetype": "text/x-python",
   "name": "python",
   "nbconvert_exporter": "python",
   "pygments_lexer": "ipython3",
   "version": "3.9.5"
  }
 },
 "nbformat": 4,
 "nbformat_minor": 5
}
