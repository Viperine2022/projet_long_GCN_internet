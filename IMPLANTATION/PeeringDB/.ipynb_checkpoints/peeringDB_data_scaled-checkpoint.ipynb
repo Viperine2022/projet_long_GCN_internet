{
 "cells": [
  {
   "cell_type": "markdown",
   "id": "03b9ec87",
   "metadata": {},
   "source": [
    "This notebook describes part of the PeeringDB dataset.  \n",
    "It consists in IXP metadata (table `ix`), ASes metadata (table `net`), a directed Graph (`DiGraph`) and a table containing the graph's nodes metadata (table `nodes`)."
   ]
  },
  {
   "cell_type": "code",
   "execution_count": 54,
   "id": "0d75ef12",
   "metadata": {},
   "outputs": [],
   "source": [
    "import numpy as np\n",
    "import pandas as pd\n",
    "import networkx as nx\n",
    "import pickle\n",
    "import matplotlib.pyplot as plt"
   ]
  },
  {
   "cell_type": "markdown",
   "id": "d0dd4791",
   "metadata": {},
   "source": [
    "# Loading preprocessed data\n",
    "Notes on the preprocessing: \n",
    "* All entries are uniquely defined with an index.\n",
    " * ASes: the index is the AS number (asn)\n",
    " * IXPs: a negative number that I attributed\n",
    "* The graph is first built from infos present in `netixlan_set` of the API. This makes a bipartite graph (AS-IXP) with links weighted by the router port size (`speed` in the API)\n",
    "* We want to derive a directed graph: we rely on ASes `info_ratio` attribute, that can take the values `Not Disclosed`, `Heavy In(out)bound`, `Mostly In(out)bound`, `Balanced`.\n",
    " * Inbound: a link is created with a weight=`speed` from IXP to AS. Another link of weight $(1-\\beta)$*`speed` is created in the other direction\n",
    " * Outbound: a link is created with a weight=`speed` from AS to IXP. Another link of weight $(1-\\beta)$*`speed` is created in the other direction\n",
    " * `Balanced` or `Not Disclosed`: A link in both direction with a weight=`speed`\n",
    " * Heavy categories: $\\beta=\\beta_H=0.95$, Mostly categories: $\\beta=\\beta_M=0.75$"
   ]
  },
  {
   "cell_type": "code",
   "execution_count": 23,
   "id": "b6776a64",
   "metadata": {
    "scrolled": false
   },
   "outputs": [
    {
     "name": "stdout",
     "output_type": "stream",
     "text": [
      "nodes table summary\n",
      "<class 'pandas.core.frame.DataFrame'>\n",
      "Int64Index: 12282 entries, 20940 to -893\n",
      "Data columns (total 7 columns):\n",
      " #   Column         Non-Null Count  Dtype  \n",
      "---  ------         --------------  -----  \n",
      " 0   name           12282 non-null  object \n",
      " 1   type           12282 non-null  object \n",
      " 2   prev_id        12282 non-null  int64  \n",
      " 3   AStype         11472 non-null  object \n",
      " 4   region         12282 non-null  object \n",
      " 5   asn            12282 non-null  int64  \n",
      " 6   port_capacity  12282 non-null  float64\n",
      "dtypes: float64(1), int64(2), object(4)\n",
      "memory usage: 767.6+ KB\n"
     ]
    },
    {
     "data": {
      "text/plain": [
       "None"
      ]
     },
     "metadata": {},
     "output_type": "display_data"
    },
    {
     "name": "stdout",
     "output_type": "stream",
     "text": [
      "ix table summary\n",
      "<class 'pandas.core.frame.DataFrame'>\n",
      "Int64Index: 810 entries, -1 to -893\n",
      "Data columns (total 26 columns):\n",
      " #   Column            Non-Null Count  Dtype \n",
      "---  ------            --------------  ----- \n",
      " 0   proto_ipv6        810 non-null    bool  \n",
      " 1   status            810 non-null    object\n",
      " 2   url_stats         810 non-null    object\n",
      " 3   id                810 non-null    int64 \n",
      " 4   tech_email        810 non-null    object\n",
      " 5   city              810 non-null    object\n",
      " 6   policy_email      810 non-null    object\n",
      " 7   tech_phone        810 non-null    object\n",
      " 8   media             810 non-null    object\n",
      " 9   proto_multicast   810 non-null    bool  \n",
      " 10  ixf_last_import   127 non-null    object\n",
      " 11  website           810 non-null    object\n",
      " 12  updated           810 non-null    object\n",
      " 13  net_count         810 non-null    int64 \n",
      " 14  policy_phone      810 non-null    object\n",
      " 15  proto_unicast     810 non-null    bool  \n",
      " 16  region_continent  810 non-null    object\n",
      " 17  name              810 non-null    object\n",
      " 18  created           810 non-null    object\n",
      " 19  country           810 non-null    object\n",
      " 20  notes             810 non-null    object\n",
      " 21  org_id            810 non-null    int64 \n",
      " 22  ixf_net_count     810 non-null    int64 \n",
      " 23  name_long         810 non-null    object\n",
      " 24  port_capacity     810 non-null    int64 \n",
      " 25  asn               810 non-null    int64 \n",
      "dtypes: bool(3), int64(6), object(17)\n",
      "memory usage: 154.2+ KB\n"
     ]
    },
    {
     "data": {
      "text/plain": [
       "None"
      ]
     },
     "metadata": {},
     "output_type": "display_data"
    },
    {
     "name": "stdout",
     "output_type": "stream",
     "text": [
      "net table summary\n",
      "<class 'pandas.core.frame.DataFrame'>\n",
      "Int64Index: 11472 entries, 20940 to 61437\n",
      "Data columns (total 35 columns):\n",
      " #   Column                        Non-Null Count  Dtype  \n",
      "---  ------                        --------------  -----  \n",
      " 0   status                        11472 non-null  object \n",
      " 1   looking_glass                 11472 non-null  object \n",
      " 2   route_server                  11472 non-null  object \n",
      " 3   netixlan_updated              11472 non-null  object \n",
      " 4   info_ratio                    11472 non-null  object \n",
      " 5   id                            11472 non-null  int64  \n",
      " 6   policy_ratio                  11472 non-null  bool   \n",
      " 7   info_unicast                  11472 non-null  bool   \n",
      " 8   policy_general                11472 non-null  object \n",
      " 9   website                       11472 non-null  object \n",
      " 10  allow_ixp_update              11472 non-null  bool   \n",
      " 11  updated                       11472 non-null  object \n",
      " 12  netfac_updated                7121 non-null   object \n",
      " 13  info_traffic                  11472 non-null  object \n",
      " 14  info_multicast                11472 non-null  bool   \n",
      " 15  policy_locations              11472 non-null  object \n",
      " 16  name                          11472 non-null  object \n",
      " 17  info_scope                    11472 non-null  object \n",
      " 18  notes                         11472 non-null  object \n",
      " 19  created                       11472 non-null  object \n",
      " 20  org_id                        11472 non-null  int64  \n",
      " 21  policy_url                    11472 non-null  object \n",
      " 22  info_never_via_route_servers  11472 non-null  bool   \n",
      " 23  poc_updated                   10524 non-null  object \n",
      " 24  info_type                     11472 non-null  object \n",
      " 25  policy_contracts              11472 non-null  object \n",
      " 26  info_prefixes6                11472 non-null  int64  \n",
      " 27  aka                           11472 non-null  object \n",
      " 28  info_prefixes4                11472 non-null  int64  \n",
      " 29  info_ipv6                     11472 non-null  bool   \n",
      " 30  irr_as_set                    11472 non-null  object \n",
      " 31  netixlan_set                  11472 non-null  object \n",
      " 32  ix_count                      11472 non-null  int64  \n",
      " 33  port_capacity                 11472 non-null  float64\n",
      " 34  asn                           11472 non-null  int64  \n",
      "dtypes: bool(6), float64(1), int64(6), object(22)\n",
      "memory usage: 2.7+ MB\n"
     ]
    },
    {
     "data": {
      "text/plain": [
       "None"
      ]
     },
     "metadata": {},
     "output_type": "display_data"
    },
    {
     "name": "stdout",
     "output_type": "stream",
     "text": [
      "Total number of nodes: 12282\n",
      "Total number of IXP: 810\n",
      "Total number of ASes:  11472\n",
      "Total number of edges:  63914\n"
     ]
    }
   ],
   "source": [
    "path = \"./\"\n",
    "prefix = \"peeringdb_2_dump_\"\n",
    "date = \"2021_03_01\"\n",
    "\n",
    "pickle_in = open(path+\"nodes/\"+prefix+date+\".pickle\", \"rb\")\n",
    "nodes = pickle.load(pickle_in)\n",
    "pickle_in.close()\n",
    "nodes = nodes.loc[nodes[\"port_capacity\"]>0] ##port capacity = sum of all ports\n",
    "print(\"nodes table summary\")\n",
    "display(nodes.info())\n",
    "\n",
    "pickle_in = open(path+\"ix/\"+prefix+date+\".pickle\", \"rb\")\n",
    "ix = pickle.load(pickle_in)\n",
    "pickle_in.close()\n",
    "ix = ix.loc[ix[\"port_capacity\"]>0]\n",
    "print(\"ix table summary\")\n",
    "display(ix.info())\n",
    "\n",
    "pickle_in = open(path+\"net/\"+prefix+date+\".pickle\", \"rb\")\n",
    "net = pickle.load(pickle_in)\n",
    "pickle_in.close()\n",
    "net = net.loc[net[\"port_capacity\"]>0]\n",
    "print(\"net table summary\")\n",
    "display(net.info())\n",
    "\n",
    "BETA_H = 0.95\n",
    "BETA_M = 0.75\n",
    "\n",
    "edgelist = open(path+\"graph/\"+format(BETA_H, '.4f')+\"_\"+format(BETA_M, '.4f')+\"_\"+prefix+date+\".txt\", \"r\")\n",
    "DiGraph = nx.parse_edgelist(edgelist, nodetype = int, data=(('weight',float),), create_using = nx.DiGraph, delimiter=\",\")\n",
    "\n",
    "\n",
    "assert(len(nodes) == len(ix) + len(net))\n",
    "assert(len(nodes) == len(DiGraph))\n",
    "\n",
    "print(\"Total number of nodes:\", len(nodes))\n",
    "print(\"Total number of IXP:\", len(ix))\n",
    "print(\"Total number of ASes: \", len(net))\n",
    "print(\"Total number of edges: \", len(DiGraph.edges()))"
   ]
  },
  {
   "cell_type": "code",
   "execution_count": 26,
   "id": "a7337fb1",
   "metadata": {
    "collapsed": true
   },
   "outputs": [
    {
     "data": {
      "text/html": [
       "<div>\n",
       "<style scoped>\n",
       "    .dataframe tbody tr th:only-of-type {\n",
       "        vertical-align: middle;\n",
       "    }\n",
       "\n",
       "    .dataframe tbody tr th {\n",
       "        vertical-align: top;\n",
       "    }\n",
       "\n",
       "    .dataframe thead th {\n",
       "        text-align: right;\n",
       "    }\n",
       "</style>\n",
       "<table border=\"1\" class=\"dataframe\">\n",
       "  <thead>\n",
       "    <tr style=\"text-align: right;\">\n",
       "      <th></th>\n",
       "      <th>proto_ipv6</th>\n",
       "      <th>status</th>\n",
       "      <th>url_stats</th>\n",
       "      <th>id</th>\n",
       "      <th>tech_email</th>\n",
       "      <th>city</th>\n",
       "      <th>policy_email</th>\n",
       "      <th>tech_phone</th>\n",
       "      <th>media</th>\n",
       "      <th>proto_multicast</th>\n",
       "      <th>...</th>\n",
       "      <th>region_continent</th>\n",
       "      <th>name</th>\n",
       "      <th>created</th>\n",
       "      <th>country</th>\n",
       "      <th>notes</th>\n",
       "      <th>org_id</th>\n",
       "      <th>ixf_net_count</th>\n",
       "      <th>name_long</th>\n",
       "      <th>port_capacity</th>\n",
       "      <th>asn</th>\n",
       "    </tr>\n",
       "    <tr>\n",
       "      <th>asn</th>\n",
       "      <th></th>\n",
       "      <th></th>\n",
       "      <th></th>\n",
       "      <th></th>\n",
       "      <th></th>\n",
       "      <th></th>\n",
       "      <th></th>\n",
       "      <th></th>\n",
       "      <th></th>\n",
       "      <th></th>\n",
       "      <th></th>\n",
       "      <th></th>\n",
       "      <th></th>\n",
       "      <th></th>\n",
       "      <th></th>\n",
       "      <th></th>\n",
       "      <th></th>\n",
       "      <th></th>\n",
       "      <th></th>\n",
       "      <th></th>\n",
       "      <th></th>\n",
       "    </tr>\n",
       "  </thead>\n",
       "  <tbody>\n",
       "    <tr>\n",
       "      <th>-1</th>\n",
       "      <td>True</td>\n",
       "      <td>ok</td>\n",
       "      <td></td>\n",
       "      <td>1</td>\n",
       "      <td>support@equinix.com</td>\n",
       "      <td>Ashburn</td>\n",
       "      <td>support@equinix.com</td>\n",
       "      <td></td>\n",
       "      <td>Ethernet</td>\n",
       "      <td>False</td>\n",
       "      <td>...</td>\n",
       "      <td>North America</td>\n",
       "      <td>Equinix Ashburn</td>\n",
       "      <td>2010-07-29T00:00:00Z</td>\n",
       "      <td>US</td>\n",
       "      <td></td>\n",
       "      <td>2</td>\n",
       "      <td>0</td>\n",
       "      <td>Equinix Internet Exchange Ashburn</td>\n",
       "      <td>14120580</td>\n",
       "      <td>-1</td>\n",
       "    </tr>\n",
       "    <tr>\n",
       "      <th>-2</th>\n",
       "      <td>True</td>\n",
       "      <td>ok</td>\n",
       "      <td></td>\n",
       "      <td>2</td>\n",
       "      <td>support@equinix.com</td>\n",
       "      <td>Chicago</td>\n",
       "      <td>support@equinix.com</td>\n",
       "      <td></td>\n",
       "      <td>Ethernet</td>\n",
       "      <td>False</td>\n",
       "      <td>...</td>\n",
       "      <td>North America</td>\n",
       "      <td>Equinix Chicago</td>\n",
       "      <td>2010-07-29T00:00:00Z</td>\n",
       "      <td>US</td>\n",
       "      <td></td>\n",
       "      <td>2</td>\n",
       "      <td>0</td>\n",
       "      <td>Equinix Internet Exchange Chicago</td>\n",
       "      <td>11511604</td>\n",
       "      <td>-2</td>\n",
       "    </tr>\n",
       "    <tr>\n",
       "      <th>-3</th>\n",
       "      <td>True</td>\n",
       "      <td>ok</td>\n",
       "      <td></td>\n",
       "      <td>3</td>\n",
       "      <td>support@equinix.com</td>\n",
       "      <td>Dallas</td>\n",
       "      <td>support@equinix.com</td>\n",
       "      <td></td>\n",
       "      <td>Ethernet</td>\n",
       "      <td>False</td>\n",
       "      <td>...</td>\n",
       "      <td>North America</td>\n",
       "      <td>Equinix Dallas</td>\n",
       "      <td>2010-07-29T00:00:00Z</td>\n",
       "      <td>US</td>\n",
       "      <td></td>\n",
       "      <td>2</td>\n",
       "      <td>0</td>\n",
       "      <td>Equinix Internet Exchange Dallas</td>\n",
       "      <td>8022300</td>\n",
       "      <td>-3</td>\n",
       "    </tr>\n",
       "    <tr>\n",
       "      <th>-4</th>\n",
       "      <td>True</td>\n",
       "      <td>ok</td>\n",
       "      <td></td>\n",
       "      <td>4</td>\n",
       "      <td>support@equinix.com</td>\n",
       "      <td>Los Angeles</td>\n",
       "      <td>support@equinix.com</td>\n",
       "      <td></td>\n",
       "      <td>Ethernet</td>\n",
       "      <td>False</td>\n",
       "      <td>...</td>\n",
       "      <td>North America</td>\n",
       "      <td>Equinix Los Angeles</td>\n",
       "      <td>2010-07-29T00:00:00Z</td>\n",
       "      <td>US</td>\n",
       "      <td></td>\n",
       "      <td>2</td>\n",
       "      <td>0</td>\n",
       "      <td>Equinix Internet Exchange Los Angeles</td>\n",
       "      <td>3878200</td>\n",
       "      <td>-4</td>\n",
       "    </tr>\n",
       "    <tr>\n",
       "      <th>-5</th>\n",
       "      <td>True</td>\n",
       "      <td>ok</td>\n",
       "      <td></td>\n",
       "      <td>5</td>\n",
       "      <td>support@equinix.com</td>\n",
       "      <td>San Jose</td>\n",
       "      <td>support@equinix.com</td>\n",
       "      <td></td>\n",
       "      <td>Ethernet</td>\n",
       "      <td>False</td>\n",
       "      <td>...</td>\n",
       "      <td>North America</td>\n",
       "      <td>Equinix San Jose</td>\n",
       "      <td>2010-07-29T00:00:00Z</td>\n",
       "      <td>US</td>\n",
       "      <td></td>\n",
       "      <td>2</td>\n",
       "      <td>0</td>\n",
       "      <td>Equinix Internet Exchange San Jose (Bay Area)</td>\n",
       "      <td>7103100</td>\n",
       "      <td>-5</td>\n",
       "    </tr>\n",
       "  </tbody>\n",
       "</table>\n",
       "<p>5 rows × 26 columns</p>\n",
       "</div>"
      ],
      "text/plain": [
       "     proto_ipv6 status url_stats  id           tech_email         city  \\\n",
       "asn                                                                      \n",
       "-1         True     ok             1  support@equinix.com      Ashburn   \n",
       "-2         True     ok             2  support@equinix.com      Chicago   \n",
       "-3         True     ok             3  support@equinix.com       Dallas   \n",
       "-4         True     ok             4  support@equinix.com  Los Angeles   \n",
       "-5         True     ok             5  support@equinix.com     San Jose   \n",
       "\n",
       "            policy_email tech_phone     media  proto_multicast  ...  \\\n",
       "asn                                                             ...   \n",
       "-1   support@equinix.com             Ethernet            False  ...   \n",
       "-2   support@equinix.com             Ethernet            False  ...   \n",
       "-3   support@equinix.com             Ethernet            False  ...   \n",
       "-4   support@equinix.com             Ethernet            False  ...   \n",
       "-5   support@equinix.com             Ethernet            False  ...   \n",
       "\n",
       "    region_continent                 name               created  country  \\\n",
       "asn                                                                        \n",
       "-1     North America      Equinix Ashburn  2010-07-29T00:00:00Z       US   \n",
       "-2     North America      Equinix Chicago  2010-07-29T00:00:00Z       US   \n",
       "-3     North America       Equinix Dallas  2010-07-29T00:00:00Z       US   \n",
       "-4     North America  Equinix Los Angeles  2010-07-29T00:00:00Z       US   \n",
       "-5     North America     Equinix San Jose  2010-07-29T00:00:00Z       US   \n",
       "\n",
       "    notes  org_id ixf_net_count  \\\n",
       "asn                               \n",
       "-1              2             0   \n",
       "-2              2             0   \n",
       "-3              2             0   \n",
       "-4              2             0   \n",
       "-5              2             0   \n",
       "\n",
       "                                         name_long port_capacity asn  \n",
       "asn                                                                   \n",
       "-1               Equinix Internet Exchange Ashburn      14120580  -1  \n",
       "-2               Equinix Internet Exchange Chicago      11511604  -2  \n",
       "-3                Equinix Internet Exchange Dallas       8022300  -3  \n",
       "-4           Equinix Internet Exchange Los Angeles       3878200  -4  \n",
       "-5   Equinix Internet Exchange San Jose (Bay Area)       7103100  -5  \n",
       "\n",
       "[5 rows x 26 columns]"
      ]
     },
     "execution_count": 26,
     "metadata": {},
     "output_type": "execute_result"
    }
   ],
   "source": [
    "#animals[animals.Animal=='chat']\n",
    "\n",
    "nodes[nodes.asn<50]\n",
    "\n",
    "ix.head()"
   ]
  },
  {
   "cell_type": "code",
   "execution_count": 30,
   "id": "b5db054a",
   "metadata": {},
   "outputs": [
    {
     "data": {
      "text/plain": [
       "asn\n",
       "20940        100+Tbps\n",
       "31800    100-1000Mbps\n",
       "22822         1-5Tbps\n",
       "3303          1-5Tbps\n",
       "6079          1-5Tbps\n",
       "Name: info_traffic, dtype: object"
      ]
     },
     "execution_count": 30,
     "metadata": {},
     "output_type": "execute_result"
    }
   ],
   "source": [
    "net['info_traffic'].head()"
   ]
  },
  {
   "cell_type": "code",
   "execution_count": 20,
   "id": "911b6fc1",
   "metadata": {},
   "outputs": [
    {
     "data": {
      "text/plain": [
       "AS     11472\n",
       "IXP      810\n",
       "Name: type, dtype: int64"
      ]
     },
     "execution_count": 20,
     "metadata": {},
     "output_type": "execute_result"
    }
   ],
   "source": [
    "nodes['type'].value_counts()"
   ]
  },
  {
   "cell_type": "markdown",
   "id": "adf98659",
   "metadata": {},
   "source": [
    "# Selecting the main connected component\n",
    "Most graph algorithms behave best when the graph has a single connected component "
   ]
  },
  {
   "cell_type": "code",
   "execution_count": 4,
   "id": "29b8276d",
   "metadata": {},
   "outputs": [
    {
     "name": "stdout",
     "output_type": "stream",
     "text": [
      "Number of connected components 28\n",
      "Percentage of nodes in the graph main connected component 99.22651034033545\n"
     ]
    }
   ],
   "source": [
    "##I work only with the main connected component. Some entries of nodes, ix and net must be removed\n",
    "##Main connected component.\n",
    "#watch out casting DiGraph to Graph is not correct (delete doubled edges). For our use here it will be fine.\n",
    "components = sorted(nx.connected_components(nx.Graph(DiGraph)), key=len, reverse=True) \n",
    "print(\"Number of connected components\", len(components))\n",
    "print(\"Percentage of nodes in the graph main connected component\", 100.0*len(components[0])/DiGraph.number_of_nodes())\n",
    "DiGraph = DiGraph.subgraph(components[0])\n",
    "\n",
    "##Removing entries.\n",
    "for i in range(1,len(components)):\n",
    "    component = components[i]\n",
    "    for node in component:\n",
    "        #if node is an AS\n",
    "        if node >= 0:\n",
    "            net.drop(index=node, inplace=True)\n",
    "            nodes.drop(index=node, inplace=True)\n",
    "        #if node is an IXP\n",
    "        if node < 0:\n",
    "            ix.drop(index=node, inplace=True)\n",
    "            nodes.drop(index=node, inplace=True)\n",
    "            \n",
    "assert(len(nodes) == len(ix) + len(net))\n",
    "assert(len(nodes) == len(DiGraph))"
   ]
  },
  {
   "cell_type": "markdown",
   "id": "0ebd09ab",
   "metadata": {},
   "source": [
    "## PEERINGDB\n",
    "\n",
    "doc attributs peeringDB : https://www.peeringdb.com/apidocs/#operation/list%20net"
   ]
  },
  {
   "cell_type": "markdown",
   "id": "e2b778fe",
   "metadata": {},
   "source": [
    "## ROUTE SERVER \n",
    "- Les serveurs de routes, aussi connus sous le nom de RS (route servers) permettent aux membres de réduire le nombre de sessions BGP à configurer et donc le temps de gestion de son réseau IP. En effet, par défaut toutes les routes des membres connectés aux RS sont redistribuées.\n",
    "\n",
    "\n",
    "- Un serveur de routes n’est pas un routeur, le flux de données est directement échangé entre les participants, seules les informations BGP sont échangées avec le RS. Par exemple, si deux membres établissent une session BGP avec les RS, seules les informations de routages seront échangées par les Route-Serveurs (Control-plane), le flux de donnée sera direct entre leur routeur (Data-plane) car ils sont dans le même LAN.\n",
    "\n",
    " "
   ]
  },
  {
   "cell_type": "markdown",
   "id": "a4bbaad1",
   "metadata": {},
   "source": [
    "| Attribute name        | Meaning           | Possible values  |\n",
    "| :-------------:       |:---------------:  | :--------------: |\n",
    "| **info_ratio** | classification du noeud | `\"\" ` `Not Disclosed` `Heavy Outbound` <br><br>`Mostly Outbound` `Balanced` `Mostly Inbound` `Heavy Inbound` \n",
    "| **info_scope** | origine géographique de la mesure | `Not Disclosed` `Regional` `North America` <br>`Asia Pacific` `Europe` `South America` `Africa` `Australia` `Middle East` `Global` \n",
    "| id  | id de l'ixp | Integer\n",
    "| media  | type de transfert de données | `Ethernet` `ATM` `Multiple`\n",
    "| proto_multicast | protocol multicast used | `True` `False`\n",
    "|region_continent | continent de l'ixp |`North America` `Asia Pacific` `Europe` `South America` `Africa` `Australia` `Middle Eastregion_continent`\n",
    "|port_capacity | bande passante d'un port | value in gigabyte \n",
    "|info_traffic | | `\"\"` `0-20Mbps` `20-100Mbps` `100-1000Mbps`  `1-5Gbps` `5-10Gbps` `10-20Gbps` `20-50Gbps` `50-100Gbps` `100-200Gbps` `200-300Gbps` `300-500Gbps` `500-1000Gbps` `1-5Tbps` `5-10Tbps` `10-20Tbps` `20-50Tbps` `50-100Tbps` `100+Tbps`\n",
    "|policy_general |politique de traffic| `Open` `Selective` `Restrictive` `No`| \n",
    "| ix_count( pour les AS) | nombre d'échanges sur ce réseau | `integer <int64> [ 0 .. 4294967295 ]`\n",
    "| info_prefixes4 | Recommended maximum number of IPv4 routes/prefixes to be configured on peering sessions for this ASN| Integer"
   ]
  },
  {
   "cell_type": "code",
   "execution_count": 36,
   "id": "6ad143f3",
   "metadata": {
    "collapsed": true
   },
   "outputs": [
    {
     "data": {
      "text/plain": [
       "array([[<AxesSubplot:title={'center':'id'}>,\n",
       "        <AxesSubplot:title={'center':'org_id'}>,\n",
       "        <AxesSubplot:title={'center':'info_prefixes6'}>],\n",
       "       [<AxesSubplot:title={'center':'info_prefixes4'}>,\n",
       "        <AxesSubplot:title={'center':'ix_count'}>,\n",
       "        <AxesSubplot:title={'center':'port_capacity'}>],\n",
       "       [<AxesSubplot:title={'center':'asn'}>, <AxesSubplot:>,\n",
       "        <AxesSubplot:>]], dtype=object)"
      ]
     },
     "execution_count": 36,
     "metadata": {},
     "output_type": "execute_result"
    },
    {
     "data": {
      "image/png": "[encoded data removed]",
      "text/plain": [
       "<Figure size 1080x1080 with 9 Axes>"
      ]
     },
     "metadata": {
      "needs_background": "light"
     },
     "output_type": "display_data"
    }
   ],
   "source": [
    "net.hist(figsize=(15,15))"
   ]
  },
  {
   "cell_type": "code",
   "execution_count": 38,
   "id": "48d23728",
   "metadata": {
    "collapsed": true
   },
   "outputs": [
    {
     "data": {
      "text/plain": [
       "array([[<AxesSubplot:title={'center':'id'}>,\n",
       "        <AxesSubplot:title={'center':'net_count'}>],\n",
       "       [<AxesSubplot:title={'center':'org_id'}>,\n",
       "        <AxesSubplot:title={'center':'ixf_net_count'}>],\n",
       "       [<AxesSubplot:title={'center':'port_capacity'}>,\n",
       "        <AxesSubplot:title={'center':'asn'}>]], dtype=object)"
      ]
     },
     "execution_count": 38,
     "metadata": {},
     "output_type": "execute_result"
    },
    {
     "data": {
      "image/png": "[encoded data removed]",
      "text/plain": [
       "<Figure size 1080x1080 with 6 Axes>"
      ]
     },
     "metadata": {
      "needs_background": "light"
     },
     "output_type": "display_data"
    }
   ],
   "source": [
    "ix.hist(figsize=(15,15))"
   ]
  },
  {
   "cell_type": "code",
   "execution_count": 37,
   "id": "49207b06",
   "metadata": {
    "collapsed": true
   },
   "outputs": [
    {
     "data": {
      "text/plain": [
       "array([[<AxesSubplot:title={'center':'prev_id'}>,\n",
       "        <AxesSubplot:title={'center':'asn'}>],\n",
       "       [<AxesSubplot:title={'center':'port_capacity'}>, <AxesSubplot:>]],\n",
       "      dtype=object)"
      ]
     },
     "execution_count": 37,
     "metadata": {},
     "output_type": "execute_result"
    },
    {
     "data": {
      "image/png": "[encoded data removed]",
      "text/plain": [
       "<Figure size 1080x1080 with 4 Axes>"
      ]
     },
     "metadata": {
      "needs_background": "light"
     },
     "output_type": "display_data"
    }
   ],
   "source": [
    "nodes.hist(figsize=(15,15))"
   ]
  },
  {
   "cell_type": "code",
   "execution_count": 58,
   "id": "e1f90e15",
   "metadata": {},
   "outputs": [
    {
     "data": {
      "text/html": [
       "<div>\n",
       "<style scoped>\n",
       "    .dataframe tbody tr th:only-of-type {\n",
       "        vertical-align: middle;\n",
       "    }\n",
       "\n",
       "    .dataframe tbody tr th {\n",
       "        vertical-align: top;\n",
       "    }\n",
       "\n",
       "    .dataframe thead th {\n",
       "        text-align: right;\n",
       "    }\n",
       "</style>\n",
       "<table border=\"1\" class=\"dataframe\">\n",
       "  <thead>\n",
       "    <tr style=\"text-align: right;\">\n",
       "      <th></th>\n",
       "      <th>net_count</th>\n",
       "      <th>port_capacity</th>\n",
       "    </tr>\n",
       "    <tr>\n",
       "      <th>asn</th>\n",
       "      <th></th>\n",
       "      <th></th>\n",
       "    </tr>\n",
       "  </thead>\n",
       "  <tbody>\n",
       "    <tr>\n",
       "      <th>-102</th>\n",
       "      <td>1309</td>\n",
       "      <td>50251588</td>\n",
       "    </tr>\n",
       "    <tr>\n",
       "      <th>-24</th>\n",
       "      <td>924</td>\n",
       "      <td>45180600</td>\n",
       "    </tr>\n",
       "    <tr>\n",
       "      <th>-21</th>\n",
       "      <td>857</td>\n",
       "      <td>39243675</td>\n",
       "    </tr>\n",
       "    <tr>\n",
       "      <th>-15</th>\n",
       "      <td>787</td>\n",
       "      <td>24737596</td>\n",
       "    </tr>\n",
       "    <tr>\n",
       "      <th>-280</th>\n",
       "      <td>406</td>\n",
       "      <td>9268190</td>\n",
       "    </tr>\n",
       "    <tr>\n",
       "      <th>...</th>\n",
       "      <td>...</td>\n",
       "      <td>...</td>\n",
       "    </tr>\n",
       "    <tr>\n",
       "      <th>-856</th>\n",
       "      <td>1</td>\n",
       "      <td>100000</td>\n",
       "    </tr>\n",
       "    <tr>\n",
       "      <th>-857</th>\n",
       "      <td>1</td>\n",
       "      <td>100000</td>\n",
       "    </tr>\n",
       "    <tr>\n",
       "      <th>-858</th>\n",
       "      <td>1</td>\n",
       "      <td>100000</td>\n",
       "    </tr>\n",
       "    <tr>\n",
       "      <th>-859</th>\n",
       "      <td>1</td>\n",
       "      <td>100000</td>\n",
       "    </tr>\n",
       "    <tr>\n",
       "      <th>-876</th>\n",
       "      <td>1</td>\n",
       "      <td>200000</td>\n",
       "    </tr>\n",
       "  </tbody>\n",
       "</table>\n",
       "<p>810 rows × 2 columns</p>\n",
       "</div>"
      ],
      "text/plain": [
       "      net_count  port_capacity\n",
       "asn                           \n",
       "-102       1309       50251588\n",
       "-24         924       45180600\n",
       "-21         857       39243675\n",
       "-15         787       24737596\n",
       "-280        406        9268190\n",
       "...         ...            ...\n",
       "-856          1         100000\n",
       "-857          1         100000\n",
       "-858          1         100000\n",
       "-859          1         100000\n",
       "-876          1         200000\n",
       "\n",
       "[810 rows x 2 columns]"
      ]
     },
     "execution_count": 58,
     "metadata": {},
     "output_type": "execute_result"
    }
   ],
   "source": [
    "ix[['net_count', 'port_capacity']].head(999).sort_values([\"net_count\", \"port_capacity\"], ascending=(False,True))"
   ]
  },
  {
   "cell_type": "code",
   "execution_count": 59,
   "id": "823f3a4c",
   "metadata": {},
   "outputs": [
    {
     "data": {
      "text/plain": [
       "asn\n",
       " 20940    23992000.0\n",
       " 31800        6800.0\n",
       " 22822     7331000.0\n",
       " 3303       407700.0\n",
       " 6079       370000.0\n",
       "             ...    \n",
       "-886        130614.0\n",
       "-888        791000.0\n",
       "-890          2200.0\n",
       "-892         80000.0\n",
       "-893         11000.0\n",
       "Name: port_capacity, Length: 12282, dtype: float64"
      ]
     },
     "execution_count": 59,
     "metadata": {},
     "output_type": "execute_result"
    }
   ],
   "source": [
    "nodes['port_capacity']"
   ]
  },
  {
   "cell_type": "code",
   "execution_count": null,
   "id": "66356867",
   "metadata": {},
   "outputs": [],
   "source": []
  }
 ],
 "metadata": {
  "kernelspec": {
   "display_name": "Python 3 (ipykernel)",
   "language": "python",
   "name": "python3"
  },
  "language_info": {
   "codemirror_mode": {
    "name": "ipython",
    "version": 3
   },
   "file_extension": ".py",
   "mimetype": "text/x-python",
   "name": "python",
   "nbconvert_exporter": "python",
   "pygments_lexer": "ipython3",
   "version": "3.9.5"
  },
  "toc": {
   "base_numbering": 1,
   "nav_menu": {},
   "number_sections": true,
   "sideBar": true,
   "skip_h1_title": false,
   "title_cell": "Table of Contents",
   "title_sidebar": "Contents",
   "toc_cell": false,
   "toc_position": {},
   "toc_section_display": true,
   "toc_window_display": false
  }
 },
 "nbformat": 4,
 "nbformat_minor": 5
}
