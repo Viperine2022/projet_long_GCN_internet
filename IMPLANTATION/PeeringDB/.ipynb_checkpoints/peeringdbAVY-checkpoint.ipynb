{
 "cells": [
  {
   "cell_type": "markdown",
   "id": "2adced18",
   "metadata": {},
   "source": [
    "## PEERINGDB\n",
    "\n",
    "doc attributs peeringDB : https://www.peeringdb.com/apidocs/#operation/list%20net"
   ]
  },
  {
   "cell_type": "markdown",
   "id": "a3dbb353",
   "metadata": {},
   "source": [
    "| Attribute name        | Meaning           | Possible values  |\n",
    "| :-------------:       |:---------------:  | :--------------: |\n",
    "| Je suis un attribut, <br> je vais à la ligne     | right-aligned | 1600 |\n",
    "| **info_ratio** | classification du noeud | `\"\" ` `Not Disclosed` `Heavy Outbound` <br>`Mostly Outbound`, `Balanced`, `Mostly Inbound`, `Heavy Inbound` \n",
    "| **info_scope** | origine géographique de la mesure | `Not Disclosed`, `Regional`, `North America`, <br>`Asia Pacific`, `Europe`, `South America`, `Africa`, `Australia`, `Middle East`, `Global` \n",
    "| id  | id de l'ixp | Integer\n",
    "| media  | type de transfert de données | `Ethernet` `ATM` `Multiple`\n",
    "| proto_multicast | protocol multicast used | `True` `False`\n",
    "|region_continent | Continent de l'ixp |`North America`, `Asia Pacific`, `Europe`, `South America`, `Africa`, `Australia`, `Middle Eastregion_continent`\n",
    "|port_capacity | bande passante d'un port | value in gigabyte \n",
    "|info_traffic | | \"\" \"0-20Mbps\" \"20-100Mbps\" \"100-1000Mbps\" \"1-5Gbps\" \"5-10Gbps\" \"10-20Gbps\" \"20-50Gbps\" \"50-100Gbps\" \"100-200Gbps\" \"200-300Gbps\" \"300-500Gbps\" \"500-1000Gbps\" \"1-5Tbps\" \"5-10Tbps\" \"10-20Tbps\" \"20-50Tbps\" \"50-100Tbps\" \"100+Tbps\"\n",
    "|policy_general |politique ?? JE sais pas trop| `Open` `Selective` `Restrictive` `No`\n"
   ]
  },
  {
   "cell_type": "markdown",
   "id": "cbbd6f3a",
   "metadata": {},
   "source": [
    "## ROUTE SERVER "
   ]
  },
  {
   "cell_type": "markdown",
   "id": "9100b162",
   "metadata": {},
   "source": [
    "- Les serveurs de routes, aussi connus sous le nom de RS (route servers) permettent aux membres de réduire le nombre de sessions BGP à configurer et donc le temps de gestion de son réseau IP. En effet, par défaut toutes les routes des membres connectés aux RS sont redistribuées.\n",
    "\n",
    "\n",
    "- Un serveur de routes n’est pas un routeur, le flux de données est directement échangé entre les participants, seules les informations BGP sont échangées avec le RS. Par exemple, si deux membres établissent une session BGP avec les RS, seules les informations de routages seront échangées par les Route-Serveurs (Control-plane), le flux de donnée sera direct entre leur routeur (Data-plane) car ils sont dans le même LAN.\n",
    "\n",
    " "
   ]
  },
  {
   "cell_type": "code",
   "execution_count": null,
   "id": "daae9afe",
   "metadata": {},
   "outputs": [],
   "source": []
  }
 ],
 "metadata": {
  "kernelspec": {
   "display_name": "Python 3 (ipykernel)",
   "language": "python",
   "name": "python3"
  },
  "language_info": {
   "codemirror_mode": {
    "name": "ipython",
    "version": 3
   },
   "file_extension": ".py",
   "mimetype": "text/x-python",
   "name": "python",
   "nbconvert_exporter": "python",
   "pygments_lexer": "ipython3",
   "version": "3.9.5"
  }
 },
 "nbformat": 4,
 "nbformat_minor": 5
}
