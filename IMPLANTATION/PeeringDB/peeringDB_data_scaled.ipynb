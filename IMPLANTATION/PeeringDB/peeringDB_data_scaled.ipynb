{
 "cells": [
  {
   "cell_type": "markdown",
   "id": "03b9ec87",
   "metadata": {},
   "source": [
    "This notebook describes part of the PeeringDB dataset.  \n",
    "It consists in IXP metadata (table `ix`), ASes metadata (table `net`), a directed Graph (`DiGraph`) and a table containing the graph's nodes metadata (table `nodes`)."
   ]
  },
  {
   "cell_type": "code",
   "execution_count": 87,
   "id": "0d75ef12",
   "metadata": {},
   "outputs": [],
   "source": [
    "import os\n",
    "import numpy as np\n",
    "import pandas as pd\n",
    "import networkx as nx\n",
    "import pickle\n",
    "import matplotlib.pyplot as plt\n",
    "from sklearn import preprocessing\n",
    "from networkx.algorithms import bipartite"
   ]
  },
  {
   "cell_type": "markdown",
   "id": "d0dd4791",
   "metadata": {},
   "source": [
    "# Loading preprocessed data\n",
    "Notes on the preprocessing: \n",
    "* All entries are uniquely defined with an index.\n",
    " * ASes: the index is the AS number (asn)\n",
    " * IXPs: a negative number that I attributed\n",
    "* The graph is first built from infos present in `netixlan_set` of the API. This makes a bipartite graph (AS-IXP) with links weighted by the router port size (`speed` in the API)\n",
    "* We want to derive a directed graph: we rely on ASes `info_ratio` attribute, that can take the values `Not Disclosed`, `Heavy In(out)bound`, `Mostly In(out)bound`, `Balanced`.\n",
    " * Inbound: a link is created with a weight=`speed` from IXP to AS. Another link of weight $(1-\\beta)$*`speed` is created in the other direction\n",
    " * Outbound: a link is created with a weight=`speed` from AS to IXP. Another link of weight $(1-\\beta)$*`speed` is created in the other direction\n",
    " * `Balanced` or `Not Disclosed`: A link in both direction with a weight=`speed`\n",
    " * Heavy categories: $\\beta=\\beta_H=0.95$, Mostly categories: $\\beta=\\beta_M=0.75$"
   ]
  },
  {
   "cell_type": "code",
   "execution_count": 88,
   "id": "b6776a64",
   "metadata": {},
   "outputs": [
    {
     "name": "stdout",
     "output_type": "stream",
     "text": [
      "nodes table summary\n",
      "<class 'pandas.core.frame.DataFrame'>\n",
      "Int64Index: 12282 entries, 20940 to -893\n",
      "Data columns (total 7 columns):\n",
      " #   Column         Non-Null Count  Dtype  \n",
      "---  ------         --------------  -----  \n",
      " 0   name           12282 non-null  object \n",
      " 1   type           12282 non-null  object \n",
      " 2   prev_id        12282 non-null  int64  \n",
      " 3   AStype         11472 non-null  object \n",
      " 4   region         12282 non-null  object \n",
      " 5   asn            12282 non-null  int64  \n",
      " 6   port_capacity  12282 non-null  float64\n",
      "dtypes: float64(1), int64(2), object(4)\n",
      "memory usage: 767.6+ KB\n"
     ]
    },
    {
     "data": {
      "text/plain": [
       "None"
      ]
     },
     "metadata": {},
     "output_type": "display_data"
    },
    {
     "name": "stdout",
     "output_type": "stream",
     "text": [
      "ix table summary\n",
      "<class 'pandas.core.frame.DataFrame'>\n",
      "Int64Index: 810 entries, -1 to -893\n",
      "Data columns (total 26 columns):\n",
      " #   Column            Non-Null Count  Dtype \n",
      "---  ------            --------------  ----- \n",
      " 0   proto_ipv6        810 non-null    bool  \n",
      " 1   status            810 non-null    object\n",
      " 2   url_stats         810 non-null    object\n",
      " 3   id                810 non-null    int64 \n",
      " 4   tech_email        810 non-null    object\n",
      " 5   city              810 non-null    object\n",
      " 6   policy_email      810 non-null    object\n",
      " 7   tech_phone        810 non-null    object\n",
      " 8   media             810 non-null    object\n",
      " 9   proto_multicast   810 non-null    bool  \n",
      " 10  ixf_last_import   127 non-null    object\n",
      " 11  website           810 non-null    object\n",
      " 12  updated           810 non-null    object\n",
      " 13  net_count         810 non-null    int64 \n",
      " 14  policy_phone      810 non-null    object\n",
      " 15  proto_unicast     810 non-null    bool  \n",
      " 16  region_continent  810 non-null    object\n",
      " 17  name              810 non-null    object\n",
      " 18  created           810 non-null    object\n",
      " 19  country           810 non-null    object\n",
      " 20  notes             810 non-null    object\n",
      " 21  org_id            810 non-null    int64 \n",
      " 22  ixf_net_count     810 non-null    int64 \n",
      " 23  name_long         810 non-null    object\n",
      " 24  port_capacity     810 non-null    int64 \n",
      " 25  asn               810 non-null    int64 \n",
      "dtypes: bool(3), int64(6), object(17)\n",
      "memory usage: 154.2+ KB\n"
     ]
    },
    {
     "data": {
      "text/plain": [
       "None"
      ]
     },
     "metadata": {},
     "output_type": "display_data"
    },
    {
     "name": "stdout",
     "output_type": "stream",
     "text": [
      "net table summary\n",
      "<class 'pandas.core.frame.DataFrame'>\n",
      "Int64Index: 11472 entries, 20940 to 61437\n",
      "Data columns (total 35 columns):\n",
      " #   Column                        Non-Null Count  Dtype  \n",
      "---  ------                        --------------  -----  \n",
      " 0   status                        11472 non-null  object \n",
      " 1   looking_glass                 11472 non-null  object \n",
      " 2   route_server                  11472 non-null  object \n",
      " 3   netixlan_updated              11472 non-null  object \n",
      " 4   info_ratio                    11472 non-null  object \n",
      " 5   id                            11472 non-null  int64  \n",
      " 6   policy_ratio                  11472 non-null  bool   \n",
      " 7   info_unicast                  11472 non-null  bool   \n",
      " 8   policy_general                11472 non-null  object \n",
      " 9   website                       11472 non-null  object \n",
      " 10  allow_ixp_update              11472 non-null  bool   \n",
      " 11  updated                       11472 non-null  object \n",
      " 12  netfac_updated                7121 non-null   object \n",
      " 13  info_traffic                  11472 non-null  object \n",
      " 14  info_multicast                11472 non-null  bool   \n",
      " 15  policy_locations              11472 non-null  object \n",
      " 16  name                          11472 non-null  object \n",
      " 17  info_scope                    11472 non-null  object \n",
      " 18  notes                         11472 non-null  object \n",
      " 19  created                       11472 non-null  object \n",
      " 20  org_id                        11472 non-null  int64  \n",
      " 21  policy_url                    11472 non-null  object \n",
      " 22  info_never_via_route_servers  11472 non-null  bool   \n",
      " 23  poc_updated                   10524 non-null  object \n",
      " 24  info_type                     11472 non-null  object \n",
      " 25  policy_contracts              11472 non-null  object \n",
      " 26  info_prefixes6                11472 non-null  int64  \n",
      " 27  aka                           11472 non-null  object \n",
      " 28  info_prefixes4                11472 non-null  int64  \n",
      " 29  info_ipv6                     11472 non-null  bool   \n",
      " 30  irr_as_set                    11472 non-null  object \n",
      " 31  netixlan_set                  11472 non-null  object \n",
      " 32  ix_count                      11472 non-null  int64  \n",
      " 33  port_capacity                 11472 non-null  float64\n",
      " 34  asn                           11472 non-null  int64  \n",
      "dtypes: bool(6), float64(1), int64(6), object(22)\n",
      "memory usage: 2.7+ MB\n"
     ]
    },
    {
     "data": {
      "text/plain": [
       "None"
      ]
     },
     "metadata": {},
     "output_type": "display_data"
    },
    {
     "name": "stdout",
     "output_type": "stream",
     "text": [
      "Total number of nodes: 12282\n",
      "Total number of IXP: 810\n",
      "Total number of ASes:  11472\n",
      "Total number of edges:  63914\n"
     ]
    }
   ],
   "source": [
    "path = \"./\"\n",
    "prefix = \"peeringdb_2_dump_\"\n",
    "date = \"2021_03_01\"\n",
    "\n",
    "pickle_in = open(path+\"nodes/\"+prefix+date+\".pickle\", \"rb\")\n",
    "nodes = pickle.load(pickle_in)\n",
    "pickle_in.close()\n",
    "nodes = nodes.loc[nodes[\"port_capacity\"]>0] ##port capacity = sum of all ports\n",
    "print(\"nodes table summary\")\n",
    "display(nodes.info())\n",
    "\n",
    "pickle_in = open(path+\"ix/\"+prefix+date+\".pickle\", \"rb\")\n",
    "ix = pickle.load(pickle_in)\n",
    "pickle_in.close()\n",
    "ix = ix.loc[ix[\"port_capacity\"]>0]\n",
    "print(\"ix table summary\")\n",
    "display(ix.info())\n",
    "\n",
    "pickle_in = open(path+\"net/\"+prefix+date+\".pickle\", \"rb\")\n",
    "net = pickle.load(pickle_in)\n",
    "pickle_in.close()\n",
    "net = net.loc[net[\"port_capacity\"]>0]\n",
    "print(\"net table summary\")\n",
    "display(net.info())\n",
    "\n",
    "BETA_H = 0.95\n",
    "BETA_M = 0.75\n",
    "\n",
    "edgelist = open(path+\"graph/\"+format(BETA_H, '.4f')+\"_\"+format(BETA_M, '.4f')+\"_\"+prefix+date+\".txt\", \"r\")\n",
    "DiGraph = nx.parse_edgelist(edgelist, nodetype = int, data=(('weight',float),), create_using = nx.DiGraph, delimiter=\",\")\n",
    "\n",
    "\n",
    "assert(len(nodes) == len(ix) + len(net))\n",
    "assert(len(nodes) == len(DiGraph))\n",
    "\n",
    "print(\"Total number of nodes:\", len(nodes))\n",
    "print(\"Total number of IXP:\", len(ix))\n",
    "print(\"Total number of ASes: \", len(net))\n",
    "print(\"Total number of edges: \", len(DiGraph.edges()))"
   ]
  },
  {
   "cell_type": "markdown",
   "id": "adf98659",
   "metadata": {},
   "source": [
    "# Selecting the main connected component\n",
    "Most graph algorithms behave best when the graph has a single connected component "
   ]
  },
  {
   "cell_type": "code",
   "execution_count": 89,
   "id": "29b8276d",
   "metadata": {},
   "outputs": [
    {
     "name": "stdout",
     "output_type": "stream",
     "text": [
      "Number of connected components 28\n",
      "Percentage of nodes in the graph main connected component 99.22651034033545\n"
     ]
    }
   ],
   "source": [
    "##I work only with the main connected component. Some entries of nodes, ix and net must be removed\n",
    "##Main connected component.\n",
    "#watch out casting DiGraph to Graph is not correct (delete doubled edges). For our use here it will be fine.\n",
    "components = sorted(nx.connected_components(nx.Graph(DiGraph)), key=len, reverse=True) \n",
    "print(\"Number of connected components\", len(components))\n",
    "print(\"Percentage of nodes in the graph main connected component\", 100.0*len(components[0])/DiGraph.number_of_nodes())\n",
    "DiGraph = DiGraph.subgraph(components[0])\n",
    "\n",
    "##Removing entries.\n",
    "for i in range(1,len(components)):\n",
    "    component = components[i]\n",
    "    for node in component:\n",
    "        #if node is an AS\n",
    "        if node >= 0:\n",
    "            net.drop(index=node, inplace=True)\n",
    "            nodes.drop(index=node, inplace=True)\n",
    "        #if node is an IXP\n",
    "        if node < 0:\n",
    "            ix.drop(index=node, inplace=True)\n",
    "            nodes.drop(index=node, inplace=True)\n",
    "            \n",
    "assert(len(nodes) == len(ix) + len(net))\n",
    "assert(len(nodes) == len(DiGraph))"
   ]
  },
  {
   "cell_type": "markdown",
   "id": "de02ba9d",
   "metadata": {},
   "source": [
    "## Création / Affichage du Graph Bipartite"
   ]
  },
  {
   "cell_type": "code",
   "execution_count": 8,
   "id": "5ea6bfa5",
   "metadata": {},
   "outputs": [],
   "source": [
    "FILE_SMALL = 'graph/0.9500_0.7500_pDB_petit.txt'\n",
    "FILE = \"graph/0.9500_0.7500_peeringdb_2_dump_2021_03_01.txt\"\n",
    "\n",
    "edgelist = open(FILE_SMALL, \"r\")\n",
    "DiGraph_small = nx.parse_edgelist(edgelist, nodetype = int, data=(('weight',float),), create_using = nx.DiGraph, delimiter=\",\")"
   ]
  },
  {
   "cell_type": "code",
   "execution_count": 10,
   "id": "cbcb026a",
   "metadata": {},
   "outputs": [
    {
     "data": {
      "image/png": "[encoded data removed]",
      "text/plain": [
       "<Figure size 432x288 with 1 Axes>"
      ]
     },
     "metadata": {},
     "output_type": "display_data"
    }
   ],
   "source": [
    "list_ixp = os.popen(\"cat %s | grep \\\"^-.*\\\" | cut -d \\\",\\\" -f 1 | sort | uniq | sort -h | tac\" % FILE_SMALL).read()\n",
    "\n",
    "nx.draw_networkx(\n",
    "    DiGraph_small,\n",
    "    pos=nx.drawing.bipartite_layout(DiGraph_small, [45896, 23944]),\n",
    "    width=0.1)"
   ]
  },
  {
   "cell_type": "code",
   "execution_count": 90,
   "id": "c8d84469",
   "metadata": {},
   "outputs": [],
   "source": [
    "def ajout_arete_bipartite_graph(G, filename):\n",
    "    fichier = open(filename,\"r\")\n",
    "    # Ajout des noeuds et arêtes \n",
    "    for ligne in fichier:\n",
    "        tabligne = ligne.split(\",\")\n",
    "        try:\n",
    "            node1 = int(tabligne[0])\n",
    "            node2 = int(tabligne[1])\n",
    "            weight = float(tabligne[2])\n",
    "            if node1 > 0:    \n",
    "                G.add_edge(node1, node2, weight=weight)\n",
    "        except ValueError:\n",
    "            pass"
   ]
  },
  {
   "cell_type": "code",
   "execution_count": 82,
   "id": "97855b71",
   "metadata": {},
   "outputs": [],
   "source": [
    "G_bipartite = nx.DiGraph()\n",
    "list_as = net['asn']\n",
    "list_ixp = ix['asn']\n",
    "G_bipartite.add_nodes_from(list_as, bipartite=0)\n",
    "G_bipartite.add_nodes_from(list_ixp,  bipartite=1)\n",
    "\n",
    "ajout_arete_bipartite_graph(G_bipartite, FILE)"
   ]
  },
  {
   "cell_type": "code",
   "execution_count": 83,
   "id": "f3495d83",
   "metadata": {},
   "outputs": [
    {
     "name": "stdout",
     "output_type": "stream",
     "text": [
      "<class 'networkx.classes.digraph.DiGraph'>\n",
      "12282\n"
     ]
    }
   ],
   "source": [
    "print(type(G_bipartite))\n",
    "print(len(G_bipartite.nodes()))"
   ]
  },
  {
   "cell_type": "code",
   "execution_count": 84,
   "id": "22e2d284",
   "metadata": {},
   "outputs": [
    {
     "name": "stdout",
     "output_type": "stream",
     "text": [
      "Number of connected components 28\n",
      "Percentage of nodes in the graph main connected component 99.22651034033545\n"
     ]
    }
   ],
   "source": [
    "components = sorted(nx.connected_components(nx.Graph(G_bipartite)), key=len, reverse=True) \n",
    "print(\"Number of connected components\", len(components))\n",
    "print(\"Percentage of nodes in the graph main connected component\", 100.0*len(components[0])/G_bipartite.number_of_nodes())\n",
    "G_bipartite = G_bipartite.subgraph(components[0])"
   ]
  },
  {
   "cell_type": "code",
   "execution_count": 85,
   "id": "0cc2abcf",
   "metadata": {},
   "outputs": [
    {
     "name": "stdout",
     "output_type": "stream",
     "text": [
      "<class 'networkx.classes.digraph.DiGraph'>\n",
      "12187\n",
      "31889\n"
     ]
    }
   ],
   "source": [
    "print(type(G_bipartite))\n",
    "print(len(G_bipartite.nodes()))\n",
    "print(len(G_bipartite.edges()))"
   ]
  },
  {
   "cell_type": "code",
   "execution_count": 45,
   "id": "5d1cdba8",
   "metadata": {},
   "outputs": [],
   "source": [
    "bottom_nodes, top_nodes = bipartite.sets(G_bipartite)"
   ]
  },
  {
   "cell_type": "markdown",
   "id": "4a5ec7be",
   "metadata": {},
   "source": [
    "- #### Définition des colonnes pertinentes pour l'étude"
   ]
  },
  {
   "cell_type": "code",
   "execution_count": 91,
   "id": "f5edd1ce",
   "metadata": {},
   "outputs": [],
   "source": [
    "list_columns_ix = ['net_count', 'name', 'country', \n",
    "                   'notes', 'port_capacity', 'asn', 'ixf_net_count', 'id']\n",
    "\n",
    "list_columns_net = ['info_ratio', 'id', 'policy_general', 'policy_locations',\n",
    "                    'info_traffic', 'asn', 'info_type', 'ix_count', 'port_capacity']"
   ]
  },
  {
   "cell_type": "markdown",
   "id": "9477d4f5",
   "metadata": {},
   "source": [
    "- ### Ajout de la colonne `info_scope`"
   ]
  },
  {
   "cell_type": "code",
   "execution_count": 92,
   "id": "c08e3060",
   "metadata": {},
   "outputs": [
    {
     "data": {
      "text/plain": [
       "Regional         3614\n",
       "Europe           1903\n",
       "Not Disclosed    1527\n",
       "Global           1264\n",
       "Asia Pacific     1228\n",
       "South America     690\n",
       "North America     646\n",
       "Africa            226\n",
       "Australia         172\n",
       "                   96\n",
       "Middle East        41\n",
       "Name: info_scope, dtype: int64"
      ]
     },
     "execution_count": 92,
     "metadata": {},
     "output_type": "execute_result"
    }
   ],
   "source": [
    "net['info_scope'].value_counts()"
   ]
  },
  {
   "cell_type": "code",
   "execution_count": 93,
   "id": "3af16e11",
   "metadata": {},
   "outputs": [],
   "source": [
    "dataset_as = pd.DataFrame()\n",
    "dataset_ixp = pd.DataFrame()\n",
    "\n",
    "info_scope_scaled = net['info_scope'].map({\"Regional\":1/3, \"Europe\":2/3, \"Not Disclosed\":2/3, \"Global\":1, \n",
    "                                           \"Asia Pacific\":2/3, \"South America\":2/3, \"North America\":2/3, \n",
    "                                           \"Africa\":2/3, \"Australia\":2/3, \"\":2/3, \"Middle East\":2/3})"
   ]
  },
  {
   "cell_type": "code",
   "execution_count": 94,
   "id": "d8dd38db",
   "metadata": {},
   "outputs": [
    {
     "data": {
      "text/plain": [
       "0.666667    6529\n",
       "0.333333    3614\n",
       "1.000000    1264\n",
       "Name: info_scope, dtype: int64"
      ]
     },
     "execution_count": 94,
     "metadata": {},
     "output_type": "execute_result"
    }
   ],
   "source": [
    "dataset_as['info_scope'] = info_scope_scaled\n",
    "dataset_as['info_scope'].value_counts()"
   ]
  },
  {
   "cell_type": "code",
   "execution_count": 95,
   "id": "a46157e7",
   "metadata": {},
   "outputs": [
    {
     "data": {
      "text/html": [
       "<div>\n",
       "<style scoped>\n",
       "    .dataframe tbody tr th:only-of-type {\n",
       "        vertical-align: middle;\n",
       "    }\n",
       "\n",
       "    .dataframe tbody tr th {\n",
       "        vertical-align: top;\n",
       "    }\n",
       "\n",
       "    .dataframe thead th {\n",
       "        text-align: right;\n",
       "    }\n",
       "</style>\n",
       "<table border=\"1\" class=\"dataframe\">\n",
       "  <thead>\n",
       "    <tr style=\"text-align: right;\">\n",
       "      <th></th>\n",
       "      <th>port_capacity</th>\n",
       "    </tr>\n",
       "  </thead>\n",
       "  <tbody>\n",
       "    <tr>\n",
       "      <th>count</th>\n",
       "      <td>1.527000e+03</td>\n",
       "    </tr>\n",
       "    <tr>\n",
       "      <th>mean</th>\n",
       "      <td>2.019525e+04</td>\n",
       "    </tr>\n",
       "    <tr>\n",
       "      <th>std</th>\n",
       "      <td>1.020947e+05</td>\n",
       "    </tr>\n",
       "    <tr>\n",
       "      <th>min</th>\n",
       "      <td>1.000000e+00</td>\n",
       "    </tr>\n",
       "    <tr>\n",
       "      <th>25%</th>\n",
       "      <td>1.000000e+03</td>\n",
       "    </tr>\n",
       "    <tr>\n",
       "      <th>50%</th>\n",
       "      <td>8.200000e+03</td>\n",
       "    </tr>\n",
       "    <tr>\n",
       "      <th>75%</th>\n",
       "      <td>1.100000e+04</td>\n",
       "    </tr>\n",
       "    <tr>\n",
       "      <th>max</th>\n",
       "      <td>3.200000e+06</td>\n",
       "    </tr>\n",
       "  </tbody>\n",
       "</table>\n",
       "</div>"
      ],
      "text/plain": [
       "       port_capacity\n",
       "count   1.527000e+03\n",
       "mean    2.019525e+04\n",
       "std     1.020947e+05\n",
       "min     1.000000e+00\n",
       "25%     1.000000e+03\n",
       "50%     8.200000e+03\n",
       "75%     1.100000e+04\n",
       "max     3.200000e+06"
      ]
     },
     "execution_count": 95,
     "metadata": {},
     "output_type": "execute_result"
    }
   ],
   "source": [
    "not_disclosed_vs_port = pd.DataFrame(net['port_capacity'] [net['info_scope'] == 'Not Disclosed'])\n",
    "not_disclosed_vs_port.describe()"
   ]
  },
  {
   "cell_type": "code",
   "execution_count": 96,
   "id": "33878ce6",
   "metadata": {},
   "outputs": [
    {
     "data": {
      "text/html": [
       "<div>\n",
       "<style scoped>\n",
       "    .dataframe tbody tr th:only-of-type {\n",
       "        vertical-align: middle;\n",
       "    }\n",
       "\n",
       "    .dataframe tbody tr th {\n",
       "        vertical-align: top;\n",
       "    }\n",
       "\n",
       "    .dataframe thead th {\n",
       "        text-align: right;\n",
       "    }\n",
       "</style>\n",
       "<table border=\"1\" class=\"dataframe\">\n",
       "  <thead>\n",
       "    <tr style=\"text-align: right;\">\n",
       "      <th></th>\n",
       "      <th>ix_count</th>\n",
       "    </tr>\n",
       "  </thead>\n",
       "  <tbody>\n",
       "    <tr>\n",
       "      <th>count</th>\n",
       "      <td>1527.000000</td>\n",
       "    </tr>\n",
       "    <tr>\n",
       "      <th>mean</th>\n",
       "      <td>1.782580</td>\n",
       "    </tr>\n",
       "    <tr>\n",
       "      <th>std</th>\n",
       "      <td>1.848774</td>\n",
       "    </tr>\n",
       "    <tr>\n",
       "      <th>min</th>\n",
       "      <td>1.000000</td>\n",
       "    </tr>\n",
       "    <tr>\n",
       "      <th>25%</th>\n",
       "      <td>1.000000</td>\n",
       "    </tr>\n",
       "    <tr>\n",
       "      <th>50%</th>\n",
       "      <td>1.000000</td>\n",
       "    </tr>\n",
       "    <tr>\n",
       "      <th>75%</th>\n",
       "      <td>2.000000</td>\n",
       "    </tr>\n",
       "    <tr>\n",
       "      <th>max</th>\n",
       "      <td>29.000000</td>\n",
       "    </tr>\n",
       "  </tbody>\n",
       "</table>\n",
       "</div>"
      ],
      "text/plain": [
       "          ix_count\n",
       "count  1527.000000\n",
       "mean      1.782580\n",
       "std       1.848774\n",
       "min       1.000000\n",
       "25%       1.000000\n",
       "50%       1.000000\n",
       "75%       2.000000\n",
       "max      29.000000"
      ]
     },
     "execution_count": 96,
     "metadata": {},
     "output_type": "execute_result"
    }
   ],
   "source": [
    "not_disclosed_vs_ixcount = pd.DataFrame(net['ix_count'] [net['info_scope'] == 'Not Disclosed'])\n",
    "not_disclosed_vs_ixcount.describe()"
   ]
  },
  {
   "cell_type": "code",
   "execution_count": 97,
   "id": "a6319947",
   "metadata": {},
   "outputs": [
    {
     "data": {
      "text/html": [
       "<div>\n",
       "<style scoped>\n",
       "    .dataframe tbody tr th:only-of-type {\n",
       "        vertical-align: middle;\n",
       "    }\n",
       "\n",
       "    .dataframe tbody tr th {\n",
       "        vertical-align: top;\n",
       "    }\n",
       "\n",
       "    .dataframe thead th {\n",
       "        text-align: right;\n",
       "    }\n",
       "</style>\n",
       "<table border=\"1\" class=\"dataframe\">\n",
       "  <thead>\n",
       "    <tr style=\"text-align: right;\">\n",
       "      <th></th>\n",
       "      <th>ix_count</th>\n",
       "    </tr>\n",
       "  </thead>\n",
       "  <tbody>\n",
       "    <tr>\n",
       "      <th>count</th>\n",
       "      <td>3614.000000</td>\n",
       "    </tr>\n",
       "    <tr>\n",
       "      <th>mean</th>\n",
       "      <td>2.368567</td>\n",
       "    </tr>\n",
       "    <tr>\n",
       "      <th>std</th>\n",
       "      <td>2.531346</td>\n",
       "    </tr>\n",
       "    <tr>\n",
       "      <th>min</th>\n",
       "      <td>1.000000</td>\n",
       "    </tr>\n",
       "    <tr>\n",
       "      <th>25%</th>\n",
       "      <td>1.000000</td>\n",
       "    </tr>\n",
       "    <tr>\n",
       "      <th>50%</th>\n",
       "      <td>2.000000</td>\n",
       "    </tr>\n",
       "    <tr>\n",
       "      <th>75%</th>\n",
       "      <td>3.000000</td>\n",
       "    </tr>\n",
       "    <tr>\n",
       "      <th>max</th>\n",
       "      <td>75.000000</td>\n",
       "    </tr>\n",
       "  </tbody>\n",
       "</table>\n",
       "</div>"
      ],
      "text/plain": [
       "          ix_count\n",
       "count  3614.000000\n",
       "mean      2.368567\n",
       "std       2.531346\n",
       "min       1.000000\n",
       "25%       1.000000\n",
       "50%       2.000000\n",
       "75%       3.000000\n",
       "max      75.000000"
      ]
     },
     "execution_count": 97,
     "metadata": {},
     "output_type": "execute_result"
    }
   ],
   "source": [
    "info_scope_global = pd.DataFrame(net['ix_count'] [net['info_scope'] == 'Regional'])\n",
    "info_scope_global.describe()"
   ]
  },
  {
   "cell_type": "markdown",
   "id": "beba4bf4",
   "metadata": {},
   "source": [
    "- ### Ajout de la colonne `info_traffic`"
   ]
  },
  {
   "cell_type": "code",
   "execution_count": 98,
   "id": "55c6fd71",
   "metadata": {},
   "outputs": [
    {
     "data": {
      "text/plain": [
       "                3112\n",
       "1-5Gbps         2093\n",
       "5-10Gbps        1263\n",
       "100-1000Mbps    1149\n",
       "10-20Gbps       1055\n",
       "20-50Gbps        900\n",
       "50-100Gbps       555\n",
       "100-200Gbps      313\n",
       "20-100Mbps       231\n",
       "1-5Tbps          178\n",
       "0-20Mbps         149\n",
       "500-1000Gbps     130\n",
       "300-500Gbps      123\n",
       "200-300Gbps      117\n",
       "10-20Tbps         17\n",
       "5-10Tbps          13\n",
       "20-50Tbps          5\n",
       "100+Tbps           3\n",
       "50-100Tbps         1\n",
       "Name: info_traffic, dtype: int64"
      ]
     },
     "execution_count": 98,
     "metadata": {},
     "output_type": "execute_result"
    }
   ],
   "source": [
    "net['info_traffic'].value_counts()"
   ]
  },
  {
   "cell_type": "code",
   "execution_count": 99,
   "id": "619f0df7",
   "metadata": {},
   "outputs": [],
   "source": [
    "nb_info_traffic = len(net['info_traffic'].value_counts())\n",
    "\n",
    "info_traffic_scaled = net['info_traffic'].map({\"0-20Mbps\":1/nb_info_traffic, \"20-100Mbps\":2/nb_info_traffic,\n",
    "                       \"100-1000Mbps\":3/nb_info_traffic, \"1-5Gbps\":4/nb_info_traffic, \n",
    "                       \"5-10Gbps\":5/nb_info_traffic, \"10-20Gbps\":6/nb_info_traffic, \n",
    "                       \"20-50Gbps\":7/nb_info_traffic, \"50-100Gbps\":8/nb_info_traffic, \n",
    "                       \"100-200Gbps\":9/nb_info_traffic, \"\":10/nb_info_traffic, \n",
    "                       \"200-300Gbps\":11/nb_info_traffic, \"300-500Gbps\":12/nb_info_traffic,\n",
    "                       \"500-1000Gbps\":13/nb_info_traffic, \"1-5Tbps\":14/nb_info_traffic, \n",
    "                       \"5-10Tbps\":15/nb_info_traffic, \"10-20Tbps\":16/nb_info_traffic, \n",
    "                       \"20-50Tbps\":17/nb_info_traffic, \"50-100Tbps\":18/nb_info_traffic,\n",
    "                       \"100+Tbps\":19/nb_info_traffic})"
   ]
  },
  {
   "cell_type": "code",
   "execution_count": 100,
   "id": "0b58b628",
   "metadata": {},
   "outputs": [
    {
     "data": {
      "text/plain": [
       "0.526316    3112\n",
       "0.210526    2093\n",
       "0.263158    1263\n",
       "0.157895    1149\n",
       "0.315789    1055\n",
       "0.368421     900\n",
       "0.421053     555\n",
       "0.473684     313\n",
       "0.105263     231\n",
       "0.736842     178\n",
       "0.052632     149\n",
       "0.684211     130\n",
       "0.631579     123\n",
       "0.578947     117\n",
       "0.842105      17\n",
       "0.789474      13\n",
       "0.894737       5\n",
       "1.000000       3\n",
       "0.947368       1\n",
       "Name: info_traffic, dtype: int64"
      ]
     },
     "execution_count": 100,
     "metadata": {},
     "output_type": "execute_result"
    }
   ],
   "source": [
    "dataset_as['info_traffic'] = info_traffic_scaled\n",
    "dataset_as['info_traffic'].value_counts()"
   ]
  },
  {
   "cell_type": "markdown",
   "id": "072a5eb2",
   "metadata": {},
   "source": [
    "- ### Ajout de la colonne `net_count` [IXP]"
   ]
  },
  {
   "cell_type": "code",
   "execution_count": 101,
   "id": "469447d2",
   "metadata": {},
   "outputs": [],
   "source": [
    "max_net_count = ix['net_count'].max()\n",
    "net_count_scaled = [len(DiGraph[i])/max_net_count for i in DiGraph.nodes() if i < 0]\n",
    "\n",
    "dataset_ixp['net_count'] = net_count_scaled"
   ]
  },
  {
   "cell_type": "code",
   "execution_count": 102,
   "id": "87ef870c",
   "metadata": {},
   "outputs": [
    {
     "data": {
      "text/html": [
       "<div>\n",
       "<style scoped>\n",
       "    .dataframe tbody tr th:only-of-type {\n",
       "        vertical-align: middle;\n",
       "    }\n",
       "\n",
       "    .dataframe tbody tr th {\n",
       "        vertical-align: top;\n",
       "    }\n",
       "\n",
       "    .dataframe thead th {\n",
       "        text-align: right;\n",
       "    }\n",
       "</style>\n",
       "<table border=\"1\" class=\"dataframe\">\n",
       "  <thead>\n",
       "    <tr style=\"text-align: right;\">\n",
       "      <th></th>\n",
       "      <th>net_count</th>\n",
       "    </tr>\n",
       "  </thead>\n",
       "  <tbody>\n",
       "    <tr>\n",
       "      <th>0</th>\n",
       "      <td>0.249809</td>\n",
       "    </tr>\n",
       "    <tr>\n",
       "      <th>1</th>\n",
       "      <td>0.184110</td>\n",
       "    </tr>\n",
       "    <tr>\n",
       "      <th>2</th>\n",
       "      <td>0.131398</td>\n",
       "    </tr>\n",
       "    <tr>\n",
       "      <th>3</th>\n",
       "      <td>0.077922</td>\n",
       "    </tr>\n",
       "    <tr>\n",
       "      <th>4</th>\n",
       "      <td>0.092437</td>\n",
       "    </tr>\n",
       "  </tbody>\n",
       "</table>\n",
       "</div>"
      ],
      "text/plain": [
       "   net_count\n",
       "0   0.249809\n",
       "1   0.184110\n",
       "2   0.131398\n",
       "3   0.077922\n",
       "4   0.092437"
      ]
     },
     "execution_count": 102,
     "metadata": {},
     "output_type": "execute_result"
    }
   ],
   "source": [
    "dataset_ixp.head()"
   ]
  },
  {
   "cell_type": "markdown",
   "id": "2309b3b6",
   "metadata": {},
   "source": [
    "- ### Ajout de la colonne `ix_count` [AS]"
   ]
  },
  {
   "cell_type": "code",
   "execution_count": 103,
   "id": "4b0d16b4",
   "metadata": {},
   "outputs": [],
   "source": [
    "max_ix_count = net['ix_count'].max()\n",
    "ix_count_scaled = [len(DiGraph[i])/max_ix_count for i in DiGraph.nodes() if i > 0]\n",
    "\n",
    "dataset_as['ix_count'] = ix_count_scaled"
   ]
  },
  {
   "cell_type": "code",
   "execution_count": 104,
   "id": "0107f2e0",
   "metadata": {},
   "outputs": [
    {
     "data": {
      "text/html": [
       "<div>\n",
       "<style scoped>\n",
       "    .dataframe tbody tr th:only-of-type {\n",
       "        vertical-align: middle;\n",
       "    }\n",
       "\n",
       "    .dataframe tbody tr th {\n",
       "        vertical-align: top;\n",
       "    }\n",
       "\n",
       "    .dataframe thead th {\n",
       "        text-align: right;\n",
       "    }\n",
       "</style>\n",
       "<table border=\"1\" class=\"dataframe\">\n",
       "  <thead>\n",
       "    <tr style=\"text-align: right;\">\n",
       "      <th></th>\n",
       "      <th>info_scope</th>\n",
       "      <th>info_traffic</th>\n",
       "      <th>ix_count</th>\n",
       "    </tr>\n",
       "    <tr>\n",
       "      <th>asn</th>\n",
       "      <th></th>\n",
       "      <th></th>\n",
       "      <th></th>\n",
       "    </tr>\n",
       "  </thead>\n",
       "  <tbody>\n",
       "    <tr>\n",
       "      <th>20940</th>\n",
       "      <td>1.000000</td>\n",
       "      <td>1.000000</td>\n",
       "      <td>0.515244</td>\n",
       "    </tr>\n",
       "    <tr>\n",
       "      <th>31800</th>\n",
       "      <td>1.000000</td>\n",
       "      <td>0.157895</td>\n",
       "      <td>0.042683</td>\n",
       "    </tr>\n",
       "    <tr>\n",
       "      <th>22822</th>\n",
       "      <td>1.000000</td>\n",
       "      <td>0.736842</td>\n",
       "      <td>0.253049</td>\n",
       "    </tr>\n",
       "    <tr>\n",
       "      <th>3303</th>\n",
       "      <td>0.666667</td>\n",
       "      <td>0.736842</td>\n",
       "      <td>0.152439</td>\n",
       "    </tr>\n",
       "    <tr>\n",
       "      <th>6079</th>\n",
       "      <td>0.666667</td>\n",
       "      <td>0.736842</td>\n",
       "      <td>0.018293</td>\n",
       "    </tr>\n",
       "  </tbody>\n",
       "</table>\n",
       "</div>"
      ],
      "text/plain": [
       "       info_scope  info_traffic  ix_count\n",
       "asn                                      \n",
       "20940    1.000000      1.000000  0.515244\n",
       "31800    1.000000      0.157895  0.042683\n",
       "22822    1.000000      0.736842  0.253049\n",
       "3303     0.666667      0.736842  0.152439\n",
       "6079     0.666667      0.736842  0.018293"
      ]
     },
     "execution_count": 104,
     "metadata": {},
     "output_type": "execute_result"
    }
   ],
   "source": [
    "dataset_as.head()"
   ]
  },
  {
   "cell_type": "markdown",
   "id": "6d95e031",
   "metadata": {},
   "source": [
    "- ### Ajout de la colonne `port_capacity` <br>\n",
    "   - 1) On divise par port_max de l'AS\n",
    "   - 2) On divise par la port_max indépendament entre IXP et AS"
   ]
  },
  {
   "cell_type": "code",
   "execution_count": 105,
   "id": "14ff42c2",
   "metadata": {},
   "outputs": [],
   "source": [
    "max_portAS = net['port_capacity'].max()\n",
    "dataset_as['port_capacity'] = net['port_capacity']/max_portAS"
   ]
  },
  {
   "cell_type": "code",
   "execution_count": 106,
   "id": "934176b4",
   "metadata": {},
   "outputs": [
    {
     "data": {
      "text/html": [
       "<div>\n",
       "<style scoped>\n",
       "    .dataframe tbody tr th:only-of-type {\n",
       "        vertical-align: middle;\n",
       "    }\n",
       "\n",
       "    .dataframe tbody tr th {\n",
       "        vertical-align: top;\n",
       "    }\n",
       "\n",
       "    .dataframe thead th {\n",
       "        text-align: right;\n",
       "    }\n",
       "</style>\n",
       "<table border=\"1\" class=\"dataframe\">\n",
       "  <thead>\n",
       "    <tr style=\"text-align: right;\">\n",
       "      <th></th>\n",
       "      <th>info_scope</th>\n",
       "      <th>info_traffic</th>\n",
       "      <th>ix_count</th>\n",
       "      <th>port_capacity</th>\n",
       "    </tr>\n",
       "    <tr>\n",
       "      <th>asn</th>\n",
       "      <th></th>\n",
       "      <th></th>\n",
       "      <th></th>\n",
       "      <th></th>\n",
       "    </tr>\n",
       "  </thead>\n",
       "  <tbody>\n",
       "    <tr>\n",
       "      <th>20940</th>\n",
       "      <td>1.000000</td>\n",
       "      <td>1.000000</td>\n",
       "      <td>0.515244</td>\n",
       "      <td>0.893224</td>\n",
       "    </tr>\n",
       "    <tr>\n",
       "      <th>31800</th>\n",
       "      <td>1.000000</td>\n",
       "      <td>0.157895</td>\n",
       "      <td>0.042683</td>\n",
       "      <td>0.000253</td>\n",
       "    </tr>\n",
       "    <tr>\n",
       "      <th>22822</th>\n",
       "      <td>1.000000</td>\n",
       "      <td>0.736842</td>\n",
       "      <td>0.253049</td>\n",
       "      <td>0.272934</td>\n",
       "    </tr>\n",
       "    <tr>\n",
       "      <th>3303</th>\n",
       "      <td>0.666667</td>\n",
       "      <td>0.736842</td>\n",
       "      <td>0.152439</td>\n",
       "      <td>0.015179</td>\n",
       "    </tr>\n",
       "    <tr>\n",
       "      <th>6079</th>\n",
       "      <td>0.666667</td>\n",
       "      <td>0.736842</td>\n",
       "      <td>0.018293</td>\n",
       "      <td>0.013775</td>\n",
       "    </tr>\n",
       "  </tbody>\n",
       "</table>\n",
       "</div>"
      ],
      "text/plain": [
       "       info_scope  info_traffic  ix_count  port_capacity\n",
       "asn                                                     \n",
       "20940    1.000000      1.000000  0.515244       0.893224\n",
       "31800    1.000000      0.157895  0.042683       0.000253\n",
       "22822    1.000000      0.736842  0.253049       0.272934\n",
       "3303     0.666667      0.736842  0.152439       0.015179\n",
       "6079     0.666667      0.736842  0.018293       0.013775"
      ]
     },
     "execution_count": 106,
     "metadata": {},
     "output_type": "execute_result"
    }
   ],
   "source": [
    "dataset_as.head()"
   ]
  },
  {
   "cell_type": "code",
   "execution_count": 107,
   "id": "b501c5a7",
   "metadata": {},
   "outputs": [
    {
     "name": "stdout",
     "output_type": "stream",
     "text": [
      "asn\n",
      "-1      0.280998\n",
      "-2      0.229079\n",
      "-3      0.159643\n",
      "-4      0.077176\n",
      "-5      0.141351\n",
      "          ...   \n",
      "-886    0.002599\n",
      "-888    0.015741\n",
      "-890    0.000044\n",
      "-892    0.001592\n",
      "-893    0.000219\n",
      "Name: port_capacity, Length: 780, dtype: float64\n"
     ]
    }
   ],
   "source": [
    "max_portIXP = ix['port_capacity'].max()\n",
    "\n",
    "list_port_scaled = ix['port_capacity']/max_portIXP\n",
    "print(list_port_scaled)\n",
    "\n",
    "dataset_ixp['port_capacity'] = ix['port_capacity']/max_portIXP"
   ]
  },
  {
   "cell_type": "code",
   "execution_count": 108,
   "id": "b5b8c82d",
   "metadata": {},
   "outputs": [
    {
     "data": {
      "text/html": [
       "<div>\n",
       "<style scoped>\n",
       "    .dataframe tbody tr th:only-of-type {\n",
       "        vertical-align: middle;\n",
       "    }\n",
       "\n",
       "    .dataframe tbody tr th {\n",
       "        vertical-align: top;\n",
       "    }\n",
       "\n",
       "    .dataframe thead th {\n",
       "        text-align: right;\n",
       "    }\n",
       "</style>\n",
       "<table border=\"1\" class=\"dataframe\">\n",
       "  <thead>\n",
       "    <tr style=\"text-align: right;\">\n",
       "      <th></th>\n",
       "      <th>net_count</th>\n",
       "      <th>port_capacity</th>\n",
       "    </tr>\n",
       "  </thead>\n",
       "  <tbody>\n",
       "    <tr>\n",
       "      <th>0</th>\n",
       "      <td>0.249809</td>\n",
       "      <td>NaN</td>\n",
       "    </tr>\n",
       "    <tr>\n",
       "      <th>1</th>\n",
       "      <td>0.184110</td>\n",
       "      <td>NaN</td>\n",
       "    </tr>\n",
       "    <tr>\n",
       "      <th>2</th>\n",
       "      <td>0.131398</td>\n",
       "      <td>NaN</td>\n",
       "    </tr>\n",
       "    <tr>\n",
       "      <th>3</th>\n",
       "      <td>0.077922</td>\n",
       "      <td>NaN</td>\n",
       "    </tr>\n",
       "    <tr>\n",
       "      <th>4</th>\n",
       "      <td>0.092437</td>\n",
       "      <td>NaN</td>\n",
       "    </tr>\n",
       "  </tbody>\n",
       "</table>\n",
       "</div>"
      ],
      "text/plain": [
       "   net_count  port_capacity\n",
       "0   0.249809            NaN\n",
       "1   0.184110            NaN\n",
       "2   0.131398            NaN\n",
       "3   0.077922            NaN\n",
       "4   0.092437            NaN"
      ]
     },
     "execution_count": 108,
     "metadata": {},
     "output_type": "execute_result"
    }
   ],
   "source": [
    "dataset_ixp.head()"
   ]
  },
  {
   "cell_type": "markdown",
   "id": "a4189224",
   "metadata": {},
   "source": [
    "- ### Ajout de la colonne `info_ratio` [AS]"
   ]
  },
  {
   "cell_type": "code",
   "execution_count": 109,
   "id": "f9bc83f7",
   "metadata": {},
   "outputs": [
    {
     "data": {
      "text/plain": [
       "Balanced           3494\n",
       "Mostly Inbound     3476\n",
       "Not Disclosed      1965\n",
       "Mostly Outbound    1078\n",
       "Heavy Inbound       803\n",
       "Heavy Outbound      397\n",
       "                    194\n",
       "Name: info_ratio, dtype: int64"
      ]
     },
     "execution_count": 109,
     "metadata": {},
     "output_type": "execute_result"
    }
   ],
   "source": [
    "net['info_ratio'].value_counts()"
   ]
  },
  {
   "cell_type": "code",
   "execution_count": 110,
   "id": "aa085e31",
   "metadata": {},
   "outputs": [],
   "source": [
    "nb_info_ratio = 5\n",
    "info_ratio_scaled = net['info_ratio'].map({\"Heavy Inbound\":1/nb_info_ratio, \"Mostly Inbound\":2/nb_info_ratio,\n",
    "                                           \"Balanced\":3/nb_info_ratio, \"Not Disclosed\":3/nb_info_ratio,\n",
    "                                           \"\":3/nb_info_ratio, \"Mostly Outbound\":4/nb_info_ratio,\n",
    "                                           \"Heavy Outbound\":1})"
   ]
  },
  {
   "cell_type": "code",
   "execution_count": 111,
   "id": "548f9274",
   "metadata": {},
   "outputs": [
    {
     "data": {
      "text/plain": [
       "0.6    5653\n",
       "0.4    3476\n",
       "0.8    1078\n",
       "0.2     803\n",
       "1.0     397\n",
       "Name: info_ratio, dtype: int64"
      ]
     },
     "execution_count": 111,
     "metadata": {},
     "output_type": "execute_result"
    }
   ],
   "source": [
    "dataset_as['info_ratio'] = info_ratio_scaled\n",
    "dataset_as['info_ratio'].value_counts()"
   ]
  },
  {
   "cell_type": "code",
   "execution_count": 471,
   "id": "43df9019",
   "metadata": {},
   "outputs": [
    {
     "data": {
      "text/html": [
       "<div>\n",
       "<style scoped>\n",
       "    .dataframe tbody tr th:only-of-type {\n",
       "        vertical-align: middle;\n",
       "    }\n",
       "\n",
       "    .dataframe tbody tr th {\n",
       "        vertical-align: top;\n",
       "    }\n",
       "\n",
       "    .dataframe thead th {\n",
       "        text-align: right;\n",
       "    }\n",
       "</style>\n",
       "<table border=\"1\" class=\"dataframe\">\n",
       "  <thead>\n",
       "    <tr style=\"text-align: right;\">\n",
       "      <th></th>\n",
       "      <th>info_scope</th>\n",
       "      <th>info_traffic</th>\n",
       "      <th>ix_count</th>\n",
       "      <th>net_count</th>\n",
       "      <th>port_capacity</th>\n",
       "      <th>info_ratio</th>\n",
       "      <th>policy_general</th>\n",
       "      <th>info_type</th>\n",
       "    </tr>\n",
       "    <tr>\n",
       "      <th>asn</th>\n",
       "      <th></th>\n",
       "      <th></th>\n",
       "      <th></th>\n",
       "      <th></th>\n",
       "      <th></th>\n",
       "      <th></th>\n",
       "      <th></th>\n",
       "      <th></th>\n",
       "    </tr>\n",
       "  </thead>\n",
       "  <tbody>\n",
       "    <tr>\n",
       "      <th>20940</th>\n",
       "      <td>1.000000</td>\n",
       "      <td>1.000000</td>\n",
       "      <td>0.515244</td>\n",
       "      <td>22.742338</td>\n",
       "      <td>0.893224</td>\n",
       "      <td>1.0</td>\n",
       "      <td>0.25</td>\n",
       "      <td>2</td>\n",
       "    </tr>\n",
       "    <tr>\n",
       "      <th>31800</th>\n",
       "      <td>1.000000</td>\n",
       "      <td>0.157895</td>\n",
       "      <td>0.042683</td>\n",
       "      <td>1.178390</td>\n",
       "      <td>0.000253</td>\n",
       "      <td>0.2</td>\n",
       "      <td>0.25</td>\n",
       "      <td>5</td>\n",
       "    </tr>\n",
       "    <tr>\n",
       "      <th>22822</th>\n",
       "      <td>1.000000</td>\n",
       "      <td>0.736842</td>\n",
       "      <td>0.253049</td>\n",
       "      <td>11.029940</td>\n",
       "      <td>0.272934</td>\n",
       "      <td>0.8</td>\n",
       "      <td>0.50</td>\n",
       "      <td>2</td>\n",
       "    </tr>\n",
       "    <tr>\n",
       "      <th>3303</th>\n",
       "      <td>0.666667</td>\n",
       "      <td>0.736842</td>\n",
       "      <td>0.152439</td>\n",
       "      <td>5.119010</td>\n",
       "      <td>0.015179</td>\n",
       "      <td>0.4</td>\n",
       "      <td>0.50</td>\n",
       "      <td>0</td>\n",
       "    </tr>\n",
       "    <tr>\n",
       "      <th>6079</th>\n",
       "      <td>0.666667</td>\n",
       "      <td>0.736842</td>\n",
       "      <td>0.018293</td>\n",
       "      <td>0.302696</td>\n",
       "      <td>0.013775</td>\n",
       "      <td>0.4</td>\n",
       "      <td>0.50</td>\n",
       "      <td>0</td>\n",
       "    </tr>\n",
       "  </tbody>\n",
       "</table>\n",
       "</div>"
      ],
      "text/plain": [
       "       info_scope  info_traffic  ix_count  net_count  port_capacity  \\\n",
       "asn                                                                   \n",
       "20940    1.000000      1.000000  0.515244  22.742338       0.893224   \n",
       "31800    1.000000      0.157895  0.042683   1.178390       0.000253   \n",
       "22822    1.000000      0.736842  0.253049  11.029940       0.272934   \n",
       "3303     0.666667      0.736842  0.152439   5.119010       0.015179   \n",
       "6079     0.666667      0.736842  0.018293   0.302696       0.013775   \n",
       "\n",
       "       info_ratio  policy_general  info_type  \n",
       "asn                                           \n",
       "20940         1.0            0.25          2  \n",
       "31800         0.2            0.25          5  \n",
       "22822         0.8            0.50          2  \n",
       "3303          0.4            0.50          0  \n",
       "6079          0.4            0.50          0  "
      ]
     },
     "execution_count": 471,
     "metadata": {},
     "output_type": "execute_result"
    }
   ],
   "source": [
    "dataset_as.head()"
   ]
  },
  {
   "cell_type": "markdown",
   "id": "3b9a36dc",
   "metadata": {},
   "source": [
    "- ### Ajout de la colonne `policy_general` [AS]"
   ]
  },
  {
   "cell_type": "code",
   "execution_count": 427,
   "id": "09c651a5",
   "metadata": {},
   "outputs": [
    {
     "data": {
      "text/plain": [
       "Open           9217\n",
       "Selective      1921\n",
       "Restrictive     167\n",
       "                 71\n",
       "No               31\n",
       "Name: policy_general, dtype: int64"
      ]
     },
     "execution_count": 427,
     "metadata": {},
     "output_type": "execute_result"
    }
   ],
   "source": [
    "net['policy_general'].value_counts()"
   ]
  },
  {
   "cell_type": "code",
   "execution_count": 428,
   "id": "2470368f",
   "metadata": {},
   "outputs": [],
   "source": [
    "nb_policy_general = 4\n",
    "policy_general_scaled = net['policy_general'].map({\"Open\":1/nb_policy_general, \"Selective\":2/nb_policy_general,\n",
    "                                                   \"Restrictive\":3/nb_policy_general, \"No\":1,\n",
    "                                                   \"\":1/nb_policy_general})"
   ]
  },
  {
   "cell_type": "code",
   "execution_count": 429,
   "id": "6b5486f9",
   "metadata": {},
   "outputs": [
    {
     "data": {
      "text/plain": [
       "0.25    9288\n",
       "0.50    1921\n",
       "0.75     167\n",
       "1.00      31\n",
       "Name: policy_general, dtype: int64"
      ]
     },
     "execution_count": 429,
     "metadata": {},
     "output_type": "execute_result"
    }
   ],
   "source": [
    "dataset_as['policy_general'] = policy_general_scaled\n",
    "dataset_as['policy_general'].value_counts()"
   ]
  },
  {
   "cell_type": "markdown",
   "id": "3217010a",
   "metadata": {},
   "source": [
    "- ### Ajout de la colonne `info_type` [AS]"
   ]
  },
  {
   "cell_type": "code",
   "execution_count": 9,
   "id": "27cf5780",
   "metadata": {},
   "outputs": [
    {
     "data": {
      "text/plain": [
       "Cable/DSL/ISP           4993\n",
       "NSP                     2135\n",
       "Content                 1226\n",
       "Not Disclosed           1179\n",
       "Enterprise               625\n",
       "Educational/Research     500\n",
       "Non-Profit               320\n",
       "Route Server             258\n",
       "                         122\n",
       "Network Services          27\n",
       "Route Collector           12\n",
       "Government                10\n",
       "Name: info_type, dtype: int64"
      ]
     },
     "execution_count": 9,
     "metadata": {},
     "output_type": "execute_result"
    }
   ],
   "source": [
    "net['info_type'].value_counts()"
   ]
  },
  {
   "cell_type": "code",
   "execution_count": 431,
   "id": "12846a04",
   "metadata": {},
   "outputs": [],
   "source": [
    "info_type_classified = net['info_type'].map({\"Cable/DSL/ISP\":0, \"NSP\":1, \"Content\":2, \"\":0,\n",
    "                                             \"Not Disclosed\":0, \"Enterprise\":3, \"Educational/Research\":4,\n",
    "                                             \"Non-Profit\":5, \"Route Server\":6, \"Network Services\":7,\n",
    "                                             \"Route Collector\":8, \"Government\":9})"
   ]
  },
  {
   "cell_type": "code",
   "execution_count": 432,
   "id": "2f04a1a6",
   "metadata": {},
   "outputs": [
    {
     "data": {
      "text/plain": [
       "0    6294\n",
       "1    2135\n",
       "2    1226\n",
       "3     625\n",
       "4     500\n",
       "5     320\n",
       "6     258\n",
       "7      27\n",
       "8      12\n",
       "9      10\n",
       "Name: info_type, dtype: int64"
      ]
     },
     "execution_count": 432,
     "metadata": {},
     "output_type": "execute_result"
    }
   ],
   "source": [
    "dataset_as['info_type'] = info_type_classified\n",
    "dataset_as['info_type'].value_counts()"
   ]
  },
  {
   "cell_type": "code",
   "execution_count": 433,
   "id": "267a54b3",
   "metadata": {},
   "outputs": [
    {
     "data": {
      "text/html": [
       "<div>\n",
       "<style scoped>\n",
       "    .dataframe tbody tr th:only-of-type {\n",
       "        vertical-align: middle;\n",
       "    }\n",
       "\n",
       "    .dataframe tbody tr th {\n",
       "        vertical-align: top;\n",
       "    }\n",
       "\n",
       "    .dataframe thead th {\n",
       "        text-align: right;\n",
       "    }\n",
       "</style>\n",
       "<table border=\"1\" class=\"dataframe\">\n",
       "  <thead>\n",
       "    <tr style=\"text-align: right;\">\n",
       "      <th></th>\n",
       "      <th>info_scope</th>\n",
       "      <th>info_traffic</th>\n",
       "      <th>ix_count</th>\n",
       "      <th>net_count</th>\n",
       "      <th>port_capacity</th>\n",
       "      <th>info_ratio</th>\n",
       "      <th>policy_general</th>\n",
       "      <th>info_type</th>\n",
       "    </tr>\n",
       "    <tr>\n",
       "      <th>asn</th>\n",
       "      <th></th>\n",
       "      <th></th>\n",
       "      <th></th>\n",
       "      <th></th>\n",
       "      <th></th>\n",
       "      <th></th>\n",
       "      <th></th>\n",
       "      <th></th>\n",
       "    </tr>\n",
       "  </thead>\n",
       "  <tbody>\n",
       "    <tr>\n",
       "      <th>20940</th>\n",
       "      <td>1.000000</td>\n",
       "      <td>1.000000</td>\n",
       "      <td>0.515244</td>\n",
       "      <td>22.742338</td>\n",
       "      <td>0.893224</td>\n",
       "      <td>1.0</td>\n",
       "      <td>0.25</td>\n",
       "      <td>2</td>\n",
       "    </tr>\n",
       "    <tr>\n",
       "      <th>31800</th>\n",
       "      <td>1.000000</td>\n",
       "      <td>0.157895</td>\n",
       "      <td>0.042683</td>\n",
       "      <td>1.178390</td>\n",
       "      <td>0.000253</td>\n",
       "      <td>0.2</td>\n",
       "      <td>0.25</td>\n",
       "      <td>5</td>\n",
       "    </tr>\n",
       "    <tr>\n",
       "      <th>22822</th>\n",
       "      <td>1.000000</td>\n",
       "      <td>0.736842</td>\n",
       "      <td>0.253049</td>\n",
       "      <td>11.029940</td>\n",
       "      <td>0.272934</td>\n",
       "      <td>0.8</td>\n",
       "      <td>0.50</td>\n",
       "      <td>2</td>\n",
       "    </tr>\n",
       "    <tr>\n",
       "      <th>3303</th>\n",
       "      <td>0.666667</td>\n",
       "      <td>0.736842</td>\n",
       "      <td>0.152439</td>\n",
       "      <td>5.119010</td>\n",
       "      <td>0.015179</td>\n",
       "      <td>0.4</td>\n",
       "      <td>0.50</td>\n",
       "      <td>0</td>\n",
       "    </tr>\n",
       "    <tr>\n",
       "      <th>6079</th>\n",
       "      <td>0.666667</td>\n",
       "      <td>0.736842</td>\n",
       "      <td>0.018293</td>\n",
       "      <td>0.302696</td>\n",
       "      <td>0.013775</td>\n",
       "      <td>0.4</td>\n",
       "      <td>0.50</td>\n",
       "      <td>0</td>\n",
       "    </tr>\n",
       "  </tbody>\n",
       "</table>\n",
       "</div>"
      ],
      "text/plain": [
       "       info_scope  info_traffic  ix_count  net_count  port_capacity  \\\n",
       "asn                                                                   \n",
       "20940    1.000000      1.000000  0.515244  22.742338       0.893224   \n",
       "31800    1.000000      0.157895  0.042683   1.178390       0.000253   \n",
       "22822    1.000000      0.736842  0.253049  11.029940       0.272934   \n",
       "3303     0.666667      0.736842  0.152439   5.119010       0.015179   \n",
       "6079     0.666667      0.736842  0.018293   0.302696       0.013775   \n",
       "\n",
       "       info_ratio  policy_general  info_type  \n",
       "asn                                           \n",
       "20940         1.0            0.25          2  \n",
       "31800         0.2            0.25          5  \n",
       "22822         0.8            0.50          2  \n",
       "3303          0.4            0.50          0  \n",
       "6079          0.4            0.50          0  "
      ]
     },
     "execution_count": 433,
     "metadata": {},
     "output_type": "execute_result"
    }
   ],
   "source": [
    "dataset_as.head()"
   ]
  },
  {
   "cell_type": "markdown",
   "id": "abcda45b",
   "metadata": {},
   "source": [
    "Réflexion autour du graphe créé"
   ]
  },
  {
   "cell_type": "markdown",
   "id": "9035a88b",
   "metadata": {},
   "source": [
    "### Exportation des données :\n",
    "Table `dataset_as` pour les **AS feature** <br>\n",
    "Table `dataset_ixp` pour les **IXP feature**\n",
    "\n",
    "Graphe `G_bipartite` pour le **graphe biparti**"
   ]
  },
  {
   "cell_type": "code",
   "execution_count": 86,
   "id": "48f7ca99",
   "metadata": {},
   "outputs": [],
   "source": [
    "# Exportation des données\n",
    "suffix = '_pDB_'\n",
    "\n",
    "#dataset_as.to_csv('data_GCN/dataset_AS'+suffix+'.csv', index=False)\n",
    "#dataset_ixp.to_csv('data_GCN/dataset_IXP'+suffix+'.csv', index=False)\n",
    "\n",
    "\n",
    "#pickle.dump(G_bipartite, 'data_GCN/graph'+suffix+'.pickle', 0)\n",
    "\n",
    "nx.write_gpickle(G_bipartite.copy(), 'data_GCN/graph'+suffix+'.pickle')"
   ]
  },
  {
   "cell_type": "markdown",
   "id": "7e1ae78a",
   "metadata": {},
   "source": [
    " Calcul des **page_rank**"
   ]
  },
  {
   "cell_type": "code",
   "execution_count": null,
   "id": "bb20eaff",
   "metadata": {},
   "outputs": [],
   "source": [
    "pagerank_pondere = nx.pagerank(DiGraph)\n",
    "pagerank = nx.pagerank(DiGraph, weight=None)\n",
    "pagerank_pondere_inverse = nx.pagerank(DiGraph.reverse(copy=True))\n",
    "pagerank_inverse = nx.pagerank(DiGraph.reverse(copy=True), weight=None)"
   ]
  },
  {
   "cell_type": "code",
   "execution_count": null,
   "id": "4962447e",
   "metadata": {},
   "outputs": [],
   "source": []
  }
 ],
 "metadata": {
  "kernelspec": {
   "display_name": "Python 3 (ipykernel)",
   "language": "python",
   "name": "python3"
  },
  "language_info": {
   "codemirror_mode": {
    "name": "ipython",
    "version": 3
   },
   "file_extension": ".py",
   "mimetype": "text/x-python",
   "name": "python",
   "nbconvert_exporter": "python",
   "pygments_lexer": "ipython3",
   "version": "3.9.5"
  },
  "toc": {
   "base_numbering": 1,
   "nav_menu": {},
   "number_sections": true,
   "sideBar": true,
   "skip_h1_title": false,
   "title_cell": "Table of Contents",
   "title_sidebar": "Contents",
   "toc_cell": false,
   "toc_position": {},
   "toc_section_display": true,
   "toc_window_display": false
  }
 },
 "nbformat": 4,
 "nbformat_minor": 5
}
