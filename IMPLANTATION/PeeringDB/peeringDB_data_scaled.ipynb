{
 "cells": [
  {
   "cell_type": "markdown",
   "id": "03b9ec87",
   "metadata": {},
   "source": [
    "This notebook describes part of the PeeringDB dataset.  \n",
    "It consists in IXP metadata (table `ix`), ASes metadata (table `net`), a directed Graph (`DiGraph`) and a table containing the graph's nodes metadata (table `nodes`)."
   ]
  },
  {
   "cell_type": "code",
   "execution_count": 198,
   "id": "0d75ef12",
   "metadata": {},
   "outputs": [],
   "source": [
    "import numpy as np\n",
    "import pandas as pd\n",
    "import networkx as nx\n",
    "import pickle\n",
    "import matplotlib.pyplot as plt"
   ]
  },
  {
   "cell_type": "markdown",
   "id": "d0dd4791",
   "metadata": {},
   "source": [
    "# Loading preprocessed data\n",
    "Notes on the preprocessing: \n",
    "* All entries are uniquely defined with an index.\n",
    " * ASes: the index is the AS number (asn)\n",
    " * IXPs: a negative number that I attributed\n",
    "* The graph is first built from infos present in `netixlan_set` of the API. This makes a bipartite graph (AS-IXP) with links weighted by the router port size (`speed` in the API)\n",
    "* We want to derive a directed graph: we rely on ASes `info_ratio` attribute, that can take the values `Not Disclosed`, `Heavy In(out)bound`, `Mostly In(out)bound`, `Balanced`.\n",
    " * Inbound: a link is created with a weight=`speed` from IXP to AS. Another link of weight $(1-\\beta)$*`speed` is created in the other direction\n",
    " * Outbound: a link is created with a weight=`speed` from AS to IXP. Another link of weight $(1-\\beta)$*`speed` is created in the other direction\n",
    " * `Balanced` or `Not Disclosed`: A link in both direction with a weight=`speed`\n",
    " * Heavy categories: $\\beta=\\beta_H=0.95$, Mostly categories: $\\beta=\\beta_M=0.75$"
   ]
  },
  {
   "cell_type": "code",
   "execution_count": 199,
   "id": "b6776a64",
   "metadata": {
    "scrolled": true
   },
   "outputs": [
    {
     "name": "stdout",
     "output_type": "stream",
     "text": [
      "nodes table summary\n",
      "<class 'pandas.core.frame.DataFrame'>\n",
      "Int64Index: 12282 entries, 20940 to -893\n",
      "Data columns (total 7 columns):\n",
      " #   Column         Non-Null Count  Dtype  \n",
      "---  ------         --------------  -----  \n",
      " 0   name           12282 non-null  object \n",
      " 1   type           12282 non-null  object \n",
      " 2   prev_id        12282 non-null  int64  \n",
      " 3   AStype         11472 non-null  object \n",
      " 4   region         12282 non-null  object \n",
      " 5   asn            12282 non-null  int64  \n",
      " 6   port_capacity  12282 non-null  float64\n",
      "dtypes: float64(1), int64(2), object(4)\n",
      "memory usage: 767.6+ KB\n"
     ]
    },
    {
     "data": {
      "text/plain": [
       "None"
      ]
     },
     "metadata": {},
     "output_type": "display_data"
    },
    {
     "name": "stdout",
     "output_type": "stream",
     "text": [
      "ix table summary\n",
      "<class 'pandas.core.frame.DataFrame'>\n",
      "Int64Index: 810 entries, -1 to -893\n",
      "Data columns (total 26 columns):\n",
      " #   Column            Non-Null Count  Dtype \n",
      "---  ------            --------------  ----- \n",
      " 0   proto_ipv6        810 non-null    bool  \n",
      " 1   status            810 non-null    object\n",
      " 2   url_stats         810 non-null    object\n",
      " 3   id                810 non-null    int64 \n",
      " 4   tech_email        810 non-null    object\n",
      " 5   city              810 non-null    object\n",
      " 6   policy_email      810 non-null    object\n",
      " 7   tech_phone        810 non-null    object\n",
      " 8   media             810 non-null    object\n",
      " 9   proto_multicast   810 non-null    bool  \n",
      " 10  ixf_last_import   127 non-null    object\n",
      " 11  website           810 non-null    object\n",
      " 12  updated           810 non-null    object\n",
      " 13  net_count         810 non-null    int64 \n",
      " 14  policy_phone      810 non-null    object\n",
      " 15  proto_unicast     810 non-null    bool  \n",
      " 16  region_continent  810 non-null    object\n",
      " 17  name              810 non-null    object\n",
      " 18  created           810 non-null    object\n",
      " 19  country           810 non-null    object\n",
      " 20  notes             810 non-null    object\n",
      " 21  org_id            810 non-null    int64 \n",
      " 22  ixf_net_count     810 non-null    int64 \n",
      " 23  name_long         810 non-null    object\n",
      " 24  port_capacity     810 non-null    int64 \n",
      " 25  asn               810 non-null    int64 \n",
      "dtypes: bool(3), int64(6), object(17)\n",
      "memory usage: 154.2+ KB\n"
     ]
    },
    {
     "data": {
      "text/plain": [
       "None"
      ]
     },
     "metadata": {},
     "output_type": "display_data"
    },
    {
     "name": "stdout",
     "output_type": "stream",
     "text": [
      "net table summary\n",
      "<class 'pandas.core.frame.DataFrame'>\n",
      "Int64Index: 11472 entries, 20940 to 61437\n",
      "Data columns (total 35 columns):\n",
      " #   Column                        Non-Null Count  Dtype  \n",
      "---  ------                        --------------  -----  \n",
      " 0   status                        11472 non-null  object \n",
      " 1   looking_glass                 11472 non-null  object \n",
      " 2   route_server                  11472 non-null  object \n",
      " 3   netixlan_updated              11472 non-null  object \n",
      " 4   info_ratio                    11472 non-null  object \n",
      " 5   id                            11472 non-null  int64  \n",
      " 6   policy_ratio                  11472 non-null  bool   \n",
      " 7   info_unicast                  11472 non-null  bool   \n",
      " 8   policy_general                11472 non-null  object \n",
      " 9   website                       11472 non-null  object \n",
      " 10  allow_ixp_update              11472 non-null  bool   \n",
      " 11  updated                       11472 non-null  object \n",
      " 12  netfac_updated                7121 non-null   object \n",
      " 13  info_traffic                  11472 non-null  object \n",
      " 14  info_multicast                11472 non-null  bool   \n",
      " 15  policy_locations              11472 non-null  object \n",
      " 16  name                          11472 non-null  object \n",
      " 17  info_scope                    11472 non-null  object \n",
      " 18  notes                         11472 non-null  object \n",
      " 19  created                       11472 non-null  object \n",
      " 20  org_id                        11472 non-null  int64  \n",
      " 21  policy_url                    11472 non-null  object \n",
      " 22  info_never_via_route_servers  11472 non-null  bool   \n",
      " 23  poc_updated                   10524 non-null  object \n",
      " 24  info_type                     11472 non-null  object \n",
      " 25  policy_contracts              11472 non-null  object \n",
      " 26  info_prefixes6                11472 non-null  int64  \n",
      " 27  aka                           11472 non-null  object \n",
      " 28  info_prefixes4                11472 non-null  int64  \n",
      " 29  info_ipv6                     11472 non-null  bool   \n",
      " 30  irr_as_set                    11472 non-null  object \n",
      " 31  netixlan_set                  11472 non-null  object \n",
      " 32  ix_count                      11472 non-null  int64  \n",
      " 33  port_capacity                 11472 non-null  float64\n",
      " 34  asn                           11472 non-null  int64  \n",
      "dtypes: bool(6), float64(1), int64(6), object(22)\n",
      "memory usage: 2.7+ MB\n"
     ]
    },
    {
     "data": {
      "text/plain": [
       "None"
      ]
     },
     "metadata": {},
     "output_type": "display_data"
    },
    {
     "name": "stdout",
     "output_type": "stream",
     "text": [
      "Total number of nodes: 12282\n",
      "Total number of IXP: 810\n",
      "Total number of ASes:  11472\n",
      "Total number of edges:  63914\n"
     ]
    }
   ],
   "source": [
    "path = \"./\"\n",
    "prefix = \"peeringdb_2_dump_\"\n",
    "date = \"2021_03_01\"\n",
    "\n",
    "pickle_in = open(path+\"nodes/\"+prefix+date+\".pickle\", \"rb\")\n",
    "nodes = pickle.load(pickle_in)\n",
    "pickle_in.close()\n",
    "nodes = nodes.loc[nodes[\"port_capacity\"]>0] ##port capacity = sum of all ports\n",
    "print(\"nodes table summary\")\n",
    "display(nodes.info())\n",
    "\n",
    "pickle_in = open(path+\"ix/\"+prefix+date+\".pickle\", \"rb\")\n",
    "ix = pickle.load(pickle_in)\n",
    "pickle_in.close()\n",
    "ix = ix.loc[ix[\"port_capacity\"]>0]\n",
    "print(\"ix table summary\")\n",
    "display(ix.info())\n",
    "\n",
    "pickle_in = open(path+\"net/\"+prefix+date+\".pickle\", \"rb\")\n",
    "net = pickle.load(pickle_in)\n",
    "pickle_in.close()\n",
    "net = net.loc[net[\"port_capacity\"]>0]\n",
    "print(\"net table summary\")\n",
    "display(net.info())\n",
    "\n",
    "BETA_H = 0.95\n",
    "BETA_M = 0.75\n",
    "\n",
    "edgelist = open(path+\"graph/\"+format(BETA_H, '.4f')+\"_\"+format(BETA_M, '.4f')+\"_\"+prefix+date+\".txt\", \"r\")\n",
    "DiGraph = nx.parse_edgelist(edgelist, nodetype = int, data=(('weight',float),), create_using = nx.DiGraph, delimiter=\",\")\n",
    "\n",
    "\n",
    "assert(len(nodes) == len(ix) + len(net))\n",
    "assert(len(nodes) == len(DiGraph))\n",
    "\n",
    "print(\"Total number of nodes:\", len(nodes))\n",
    "print(\"Total number of IXP:\", len(ix))\n",
    "print(\"Total number of ASes: \", len(net))\n",
    "print(\"Total number of edges: \", len(DiGraph.edges()))"
   ]
  },
  {
   "cell_type": "markdown",
   "id": "adf98659",
   "metadata": {},
   "source": [
    "# Selecting the main connected component\n",
    "Most graph algorithms behave best when the graph has a single connected component "
   ]
  },
  {
   "cell_type": "code",
   "execution_count": 200,
   "id": "29b8276d",
   "metadata": {},
   "outputs": [
    {
     "name": "stdout",
     "output_type": "stream",
     "text": [
      "Number of connected components 28\n",
      "Percentage of nodes in the graph main connected component 99.22651034033545\n"
     ]
    }
   ],
   "source": [
    "##I work only with the main connected component. Some entries of nodes, ix and net must be removed\n",
    "##Main connected component.\n",
    "#watch out casting DiGraph to Graph is not correct (delete doubled edges). For our use here it will be fine.\n",
    "components = sorted(nx.connected_components(nx.Graph(DiGraph)), key=len, reverse=True) \n",
    "print(\"Number of connected components\", len(components))\n",
    "print(\"Percentage of nodes in the graph main connected component\", 100.0*len(components[0])/DiGraph.number_of_nodes())\n",
    "DiGraph = DiGraph.subgraph(components[0])\n",
    "\n",
    "##Removing entries.\n",
    "for i in range(1,len(components)):\n",
    "    component = components[i]\n",
    "    for node in component:\n",
    "        #if node is an AS\n",
    "        if node >= 0:\n",
    "            net.drop(index=node, inplace=True)\n",
    "            nodes.drop(index=node, inplace=True)\n",
    "        #if node is an IXP\n",
    "        if node < 0:\n",
    "            ix.drop(index=node, inplace=True)\n",
    "            nodes.drop(index=node, inplace=True)\n",
    "            \n",
    "assert(len(nodes) == len(ix) + len(net))\n",
    "assert(len(nodes) == len(DiGraph))"
   ]
  },
  {
   "cell_type": "markdown",
   "id": "4a5ec7be",
   "metadata": {},
   "source": [
    "- #### Définition des colonnes pertinentes pour l'étude"
   ]
  },
  {
   "cell_type": "code",
   "execution_count": 205,
   "id": "f5edd1ce",
   "metadata": {},
   "outputs": [],
   "source": [
    "list_columns_ix = ['net_count', 'name', 'country', \n",
    "                   'notes', 'port_capacity', 'asn', 'ixf_net_count', 'id']\n",
    "\n",
    "list_columns_net = ['info_ratio', 'id', 'policy_general', 'policy_locations',\n",
    "                    'info_traffic', 'asn', 'info_type', 'ix_count', 'port_capacity']"
   ]
  },
  {
   "cell_type": "markdown",
   "id": "62570a15",
   "metadata": {},
   "source": [
    "- L'IXP n° -212 n'est relié qu'à 2 AS (net_count = 2)\n",
    "- L'AS n° 20144 est principalement sortant (poids élevé en sortie d'AS vers ses IXP membres)"
   ]
  },
  {
   "cell_type": "code",
   "execution_count": 206,
   "id": "f5e3d0f1",
   "metadata": {},
   "outputs": [
    {
     "data": {
      "text/html": [
       "<div>\n",
       "<style scoped>\n",
       "    .dataframe tbody tr th:only-of-type {\n",
       "        vertical-align: middle;\n",
       "    }\n",
       "\n",
       "    .dataframe tbody tr th {\n",
       "        vertical-align: top;\n",
       "    }\n",
       "\n",
       "    .dataframe thead th {\n",
       "        text-align: right;\n",
       "    }\n",
       "</style>\n",
       "<table border=\"1\" class=\"dataframe\">\n",
       "  <thead>\n",
       "    <tr style=\"text-align: right;\">\n",
       "      <th></th>\n",
       "      <th>net_count</th>\n",
       "      <th>name</th>\n",
       "      <th>country</th>\n",
       "      <th>notes</th>\n",
       "      <th>port_capacity</th>\n",
       "      <th>asn</th>\n",
       "      <th>ixf_net_count</th>\n",
       "      <th>id</th>\n",
       "    </tr>\n",
       "    <tr>\n",
       "      <th>asn</th>\n",
       "      <th></th>\n",
       "      <th></th>\n",
       "      <th></th>\n",
       "      <th></th>\n",
       "      <th></th>\n",
       "      <th></th>\n",
       "      <th></th>\n",
       "      <th></th>\n",
       "    </tr>\n",
       "  </thead>\n",
       "  <tbody>\n",
       "    <tr>\n",
       "      <th>-212</th>\n",
       "      <td>2</td>\n",
       "      <td>GigaPIX - Oporto</td>\n",
       "      <td>PT</td>\n",
       "      <td></td>\n",
       "      <td>3000</td>\n",
       "      <td>-212</td>\n",
       "      <td>0</td>\n",
       "      <td>368</td>\n",
       "    </tr>\n",
       "  </tbody>\n",
       "</table>\n",
       "</div>"
      ],
      "text/plain": [
       "      net_count              name country notes  port_capacity  asn  \\\n",
       "asn                                                                   \n",
       "-212          2  GigaPIX - Oporto      PT                 3000 -212   \n",
       "\n",
       "      ixf_net_count   id  \n",
       "asn                       \n",
       "-212              0  368  "
      ]
     },
     "execution_count": 206,
     "metadata": {},
     "output_type": "execute_result"
    }
   ],
   "source": [
    "ix[list_columns_ix] [ix['asn'] == -212]"
   ]
  },
  {
   "cell_type": "code",
   "execution_count": 207,
   "id": "633ed313",
   "metadata": {},
   "outputs": [
    {
     "data": {
      "text/html": [
       "<div>\n",
       "<style scoped>\n",
       "    .dataframe tbody tr th:only-of-type {\n",
       "        vertical-align: middle;\n",
       "    }\n",
       "\n",
       "    .dataframe tbody tr th {\n",
       "        vertical-align: top;\n",
       "    }\n",
       "\n",
       "    .dataframe thead th {\n",
       "        text-align: right;\n",
       "    }\n",
       "</style>\n",
       "<table border=\"1\" class=\"dataframe\">\n",
       "  <thead>\n",
       "    <tr style=\"text-align: right;\">\n",
       "      <th></th>\n",
       "      <th>info_ratio</th>\n",
       "      <th>id</th>\n",
       "      <th>policy_general</th>\n",
       "      <th>policy_locations</th>\n",
       "      <th>info_traffic</th>\n",
       "      <th>asn</th>\n",
       "      <th>info_type</th>\n",
       "      <th>ix_count</th>\n",
       "      <th>port_capacity</th>\n",
       "    </tr>\n",
       "    <tr>\n",
       "      <th>asn</th>\n",
       "      <th></th>\n",
       "      <th></th>\n",
       "      <th></th>\n",
       "      <th></th>\n",
       "      <th></th>\n",
       "      <th></th>\n",
       "      <th></th>\n",
       "      <th></th>\n",
       "      <th></th>\n",
       "    </tr>\n",
       "  </thead>\n",
       "  <tbody>\n",
       "    <tr>\n",
       "      <th>20144</th>\n",
       "      <td>Mostly Outbound</td>\n",
       "      <td>618</td>\n",
       "      <td>Selective</td>\n",
       "      <td>Not Required</td>\n",
       "      <td>1-5Gbps</td>\n",
       "      <td>20144</td>\n",
       "      <td>Non-Profit</td>\n",
       "      <td>22</td>\n",
       "      <td>58000.0</td>\n",
       "    </tr>\n",
       "  </tbody>\n",
       "</table>\n",
       "</div>"
      ],
      "text/plain": [
       "            info_ratio   id policy_general policy_locations info_traffic  \\\n",
       "asn                                                                        \n",
       "20144  Mostly Outbound  618      Selective     Not Required      1-5Gbps   \n",
       "\n",
       "         asn   info_type  ix_count  port_capacity  \n",
       "asn                                                \n",
       "20144  20144  Non-Profit        22        58000.0  "
      ]
     },
     "execution_count": 207,
     "metadata": {},
     "output_type": "execute_result"
    }
   ],
   "source": [
    "net[list_columns_net] [net['asn'] == 20144]"
   ]
  },
  {
   "cell_type": "code",
   "execution_count": 208,
   "id": "f583da8f",
   "metadata": {},
   "outputs": [
    {
     "data": {
      "text/html": [
       "<div>\n",
       "<style scoped>\n",
       "    .dataframe tbody tr th:only-of-type {\n",
       "        vertical-align: middle;\n",
       "    }\n",
       "\n",
       "    .dataframe tbody tr th {\n",
       "        vertical-align: top;\n",
       "    }\n",
       "\n",
       "    .dataframe thead th {\n",
       "        text-align: right;\n",
       "    }\n",
       "</style>\n",
       "<table border=\"1\" class=\"dataframe\">\n",
       "  <thead>\n",
       "    <tr style=\"text-align: right;\">\n",
       "      <th></th>\n",
       "      <th>name</th>\n",
       "      <th>type</th>\n",
       "      <th>prev_id</th>\n",
       "      <th>AStype</th>\n",
       "      <th>region</th>\n",
       "      <th>asn</th>\n",
       "      <th>port_capacity</th>\n",
       "    </tr>\n",
       "    <tr>\n",
       "      <th>asn</th>\n",
       "      <th></th>\n",
       "      <th></th>\n",
       "      <th></th>\n",
       "      <th></th>\n",
       "      <th></th>\n",
       "      <th></th>\n",
       "      <th></th>\n",
       "    </tr>\n",
       "  </thead>\n",
       "  <tbody>\n",
       "    <tr>\n",
       "      <th>42</th>\n",
       "      <td>Packet Clearing House AS42</td>\n",
       "      <td>AS</td>\n",
       "      <td>3924</td>\n",
       "      <td>Educational/Research</td>\n",
       "      <td>Global</td>\n",
       "      <td>42</td>\n",
       "      <td>559507.0</td>\n",
       "    </tr>\n",
       "    <tr>\n",
       "      <th>46</th>\n",
       "      <td>Rutgers University</td>\n",
       "      <td>AS</td>\n",
       "      <td>9329</td>\n",
       "      <td>Educational/Research</td>\n",
       "      <td>Regional</td>\n",
       "      <td>46</td>\n",
       "      <td>100000.0</td>\n",
       "    </tr>\n",
       "    <tr>\n",
       "      <th>-1</th>\n",
       "      <td>Equinix Ashburn</td>\n",
       "      <td>IXP</td>\n",
       "      <td>1</td>\n",
       "      <td>NaN</td>\n",
       "      <td>North America</td>\n",
       "      <td>-1</td>\n",
       "      <td>14120580.0</td>\n",
       "    </tr>\n",
       "    <tr>\n",
       "      <th>-2</th>\n",
       "      <td>Equinix Chicago</td>\n",
       "      <td>IXP</td>\n",
       "      <td>2</td>\n",
       "      <td>NaN</td>\n",
       "      <td>North America</td>\n",
       "      <td>-2</td>\n",
       "      <td>11511604.0</td>\n",
       "    </tr>\n",
       "    <tr>\n",
       "      <th>-3</th>\n",
       "      <td>Equinix Dallas</td>\n",
       "      <td>IXP</td>\n",
       "      <td>3</td>\n",
       "      <td>NaN</td>\n",
       "      <td>North America</td>\n",
       "      <td>-3</td>\n",
       "      <td>8022300.0</td>\n",
       "    </tr>\n",
       "  </tbody>\n",
       "</table>\n",
       "</div>"
      ],
      "text/plain": [
       "                           name type  prev_id                AStype  \\\n",
       "asn                                                                   \n",
       " 42  Packet Clearing House AS42   AS     3924  Educational/Research   \n",
       " 46          Rutgers University   AS     9329  Educational/Research   \n",
       "-1              Equinix Ashburn  IXP        1                   NaN   \n",
       "-2              Equinix Chicago  IXP        2                   NaN   \n",
       "-3               Equinix Dallas  IXP        3                   NaN   \n",
       "\n",
       "            region  asn  port_capacity  \n",
       "asn                                     \n",
       " 42         Global   42       559507.0  \n",
       " 46       Regional   46       100000.0  \n",
       "-1   North America   -1     14120580.0  \n",
       "-2   North America   -2     11511604.0  \n",
       "-3   North America   -3      8022300.0  "
      ]
     },
     "execution_count": 208,
     "metadata": {},
     "output_type": "execute_result"
    }
   ],
   "source": [
    "# Afficher quelques AS nodes et IXP nodes\n",
    "nodes[nodes.asn<50].head()"
   ]
  },
  {
   "cell_type": "code",
   "execution_count": 209,
   "id": "0200ac93",
   "metadata": {},
   "outputs": [
    {
     "data": {
      "text/html": [
       "<div>\n",
       "<style scoped>\n",
       "    .dataframe tbody tr th:only-of-type {\n",
       "        vertical-align: middle;\n",
       "    }\n",
       "\n",
       "    .dataframe tbody tr th {\n",
       "        vertical-align: top;\n",
       "    }\n",
       "\n",
       "    .dataframe thead th {\n",
       "        text-align: right;\n",
       "    }\n",
       "</style>\n",
       "<table border=\"1\" class=\"dataframe\">\n",
       "  <thead>\n",
       "    <tr style=\"text-align: right;\">\n",
       "      <th></th>\n",
       "      <th>info_traffic</th>\n",
       "      <th>port_capacity</th>\n",
       "    </tr>\n",
       "    <tr>\n",
       "      <th>asn</th>\n",
       "      <th></th>\n",
       "      <th></th>\n",
       "    </tr>\n",
       "  </thead>\n",
       "  <tbody>\n",
       "    <tr>\n",
       "      <th>20940</th>\n",
       "      <td>100+Tbps</td>\n",
       "      <td>23992000.0</td>\n",
       "    </tr>\n",
       "    <tr>\n",
       "      <th>31800</th>\n",
       "      <td>100-1000Mbps</td>\n",
       "      <td>6800.0</td>\n",
       "    </tr>\n",
       "    <tr>\n",
       "      <th>22822</th>\n",
       "      <td>1-5Tbps</td>\n",
       "      <td>7331000.0</td>\n",
       "    </tr>\n",
       "    <tr>\n",
       "      <th>3303</th>\n",
       "      <td>1-5Tbps</td>\n",
       "      <td>407700.0</td>\n",
       "    </tr>\n",
       "    <tr>\n",
       "      <th>6079</th>\n",
       "      <td>1-5Tbps</td>\n",
       "      <td>370000.0</td>\n",
       "    </tr>\n",
       "  </tbody>\n",
       "</table>\n",
       "</div>"
      ],
      "text/plain": [
       "       info_traffic  port_capacity\n",
       "asn                               \n",
       "20940      100+Tbps     23992000.0\n",
       "31800  100-1000Mbps         6800.0\n",
       "22822       1-5Tbps      7331000.0\n",
       "3303        1-5Tbps       407700.0\n",
       "6079        1-5Tbps       370000.0"
      ]
     },
     "execution_count": 209,
     "metadata": {},
     "output_type": "execute_result"
    }
   ],
   "source": [
    "net[['info_traffic', 'port_capacity']].head()"
   ]
  },
  {
   "cell_type": "markdown",
   "id": "42215dc0",
   "metadata": {},
   "source": [
    "## PEERINGDB\n",
    "\n",
    "doc attributs peeringDB : https://www.peeringdb.com/apidocs/#operation/list%20net"
   ]
  },
  {
   "cell_type": "markdown",
   "id": "9ed04618",
   "metadata": {},
   "source": [
    "## ROUTE SERVER \n",
    "- Les serveurs de routes, aussi connus sous le nom de RS (route servers) permettent aux membres de réduire le nombre de sessions BGP à configurer et donc le temps de gestion de son réseau IP. En effet, par défaut toutes les routes des membres connectés aux RS sont redistribuées.\n",
    "\n",
    "\n",
    "- Un serveur de routes n’est pas un routeur, le flux de données est directement échangé entre les participants, seules les informations BGP sont échangées avec le RS. Par exemple, si deux membres établissent une session BGP avec les RS, seules les informations de routages seront échangées par les Route-Serveurs (Control-plane), le flux de donnée sera direct entre leur routeur (Data-plane) car ils sont dans le même LAN.\n",
    "\n",
    " "
   ]
  },
  {
   "cell_type": "markdown",
   "id": "a460e279",
   "metadata": {},
   "source": [
    "| Attribute name        | Meaning           | Possible values  |\n",
    "| :-------------:       |:---------------:  | :--------------: |\n",
    "| **info_type**     | classification de l'AS (NaN pour un IXP) | `Cable/DSL/ISP` `NSP` `Content` `Not Disclosed` `Enterprise` `Educational/Research` `Non-Profit` `Route Server` `\"\"` `Network Services` `Route Collector` `Government`\n",
    "| **info_ratio** | politique de communication de l'AS | `\"\" ` `Not Disclosed` `Heavy Outbound` <br><br>`Mostly Outbound` `Balanced` `Mostly Inbound` `Heavy Inbound` \n",
    "| **info_scope** | origine géographique de la mesure | `Not Disclosed` `Regional` `North America` <br>`Asia Pacific` `Europe` `South America` `Africa` `Australia` `Middle East` `Global` \n",
    "| **policy_general** |politique de traffic de l'AS | `Open` `Selective` `Restrictive` `No`| \n",
    "| **info_traffic** | ordre de grandeur du traffic | `\"\"` `0-20Mbps` `20-100Mbps` `100-1000Mbps`  `1-5Gbps` `5-10Gbps` `10-20Gbps` `20-50Gbps` `50-100Gbps` `100-200Gbps` `200-300Gbps` `300-500Gbps` `500-1000Gbps` `1-5Tbps` `5-10Tbps` `10-20Tbps` `20-50Tbps` `50-100Tbps` `100+Tbps`\n",
    "| **id**  | id de l'ixp | Integer\n",
    "| **media**  | type de transfert de données | `Ethernet` `ATM` `Multiple`\n",
    "| proto_multicast | protocol multicast used | `True` `False`\n",
    "|region_continent | continent de l'ixp |`North America` `Asia Pacific` `Europe` `South America` `Africa` `Australia` `Middle Eastregion_continent`\n",
    "|port_capacity | bande passante d'un port | value in gigabyte \n",
    "| ix_count( pour les AS) | nombre d'échanges sur ce réseau | `integer <int64> [ 0 .. 4294967295 ]`\n",
    "| info_prefixes4 | Recommended maximum number of IPv4 routes/prefixes to be configured on peering sessions for this ASN| Integer"
   ]
  },
  {
   "cell_type": "code",
   "execution_count": 215,
   "id": "1e8af172",
   "metadata": {},
   "outputs": [
    {
     "data": {
      "text/html": [
       "<div>\n",
       "<style scoped>\n",
       "    .dataframe tbody tr th:only-of-type {\n",
       "        vertical-align: middle;\n",
       "    }\n",
       "\n",
       "    .dataframe tbody tr th {\n",
       "        vertical-align: top;\n",
       "    }\n",
       "\n",
       "    .dataframe thead th {\n",
       "        text-align: right;\n",
       "    }\n",
       "</style>\n",
       "<table border=\"1\" class=\"dataframe\">\n",
       "  <thead>\n",
       "    <tr style=\"text-align: right;\">\n",
       "      <th></th>\n",
       "      <th>info_ratio</th>\n",
       "      <th>id</th>\n",
       "      <th>policy_general</th>\n",
       "      <th>policy_locations</th>\n",
       "      <th>info_traffic</th>\n",
       "      <th>asn</th>\n",
       "      <th>info_type</th>\n",
       "      <th>ix_count</th>\n",
       "      <th>port_capacity</th>\n",
       "    </tr>\n",
       "    <tr>\n",
       "      <th>asn</th>\n",
       "      <th></th>\n",
       "      <th></th>\n",
       "      <th></th>\n",
       "      <th></th>\n",
       "      <th></th>\n",
       "      <th></th>\n",
       "      <th></th>\n",
       "      <th></th>\n",
       "      <th></th>\n",
       "    </tr>\n",
       "  </thead>\n",
       "  <tbody>\n",
       "    <tr>\n",
       "      <th>15169</th>\n",
       "      <td>Mostly Outbound</td>\n",
       "      <td>433</td>\n",
       "      <td>Open</td>\n",
       "      <td>Preferred</td>\n",
       "      <td></td>\n",
       "      <td>15169</td>\n",
       "      <td>Content</td>\n",
       "      <td>328</td>\n",
       "      <td>19590000.0</td>\n",
       "    </tr>\n",
       "    <tr>\n",
       "      <th>32934</th>\n",
       "      <td>Heavy Outbound</td>\n",
       "      <td>979</td>\n",
       "      <td>Selective</td>\n",
       "      <td>Not Required</td>\n",
       "      <td>100+Tbps</td>\n",
       "      <td>32934</td>\n",
       "      <td>Content</td>\n",
       "      <td>314</td>\n",
       "      <td>26860000.0</td>\n",
       "    </tr>\n",
       "    <tr>\n",
       "      <th>8075</th>\n",
       "      <td>Mostly Outbound</td>\n",
       "      <td>694</td>\n",
       "      <td>Selective</td>\n",
       "      <td>Preferred</td>\n",
       "      <td></td>\n",
       "      <td>8075</td>\n",
       "      <td>Content</td>\n",
       "      <td>282</td>\n",
       "      <td>18730000.0</td>\n",
       "    </tr>\n",
       "    <tr>\n",
       "      <th>6939</th>\n",
       "      <td>Balanced</td>\n",
       "      <td>291</td>\n",
       "      <td>Open</td>\n",
       "      <td>Preferred</td>\n",
       "      <td>20-50Tbps</td>\n",
       "      <td>6939</td>\n",
       "      <td>NSP</td>\n",
       "      <td>262</td>\n",
       "      <td>10484000.0</td>\n",
       "    </tr>\n",
       "    <tr>\n",
       "      <th>13335</th>\n",
       "      <td>Mostly Outbound</td>\n",
       "      <td>4224</td>\n",
       "      <td>Open</td>\n",
       "      <td>Preferred</td>\n",
       "      <td></td>\n",
       "      <td>13335</td>\n",
       "      <td>Content</td>\n",
       "      <td>249</td>\n",
       "      <td>11310000.0</td>\n",
       "    </tr>\n",
       "    <tr>\n",
       "      <th>...</th>\n",
       "      <td>...</td>\n",
       "      <td>...</td>\n",
       "      <td>...</td>\n",
       "      <td>...</td>\n",
       "      <td>...</td>\n",
       "      <td>...</td>\n",
       "      <td>...</td>\n",
       "      <td>...</td>\n",
       "      <td>...</td>\n",
       "    </tr>\n",
       "    <tr>\n",
       "      <th>328043</th>\n",
       "      <td>Balanced</td>\n",
       "      <td>16342</td>\n",
       "      <td>Open</td>\n",
       "      <td>Not Required</td>\n",
       "      <td>20-100Mbps</td>\n",
       "      <td>328043</td>\n",
       "      <td>Enterprise</td>\n",
       "      <td>1</td>\n",
       "      <td>1000.0</td>\n",
       "    </tr>\n",
       "    <tr>\n",
       "      <th>27660</th>\n",
       "      <td>Mostly Inbound</td>\n",
       "      <td>16341</td>\n",
       "      <td>Selective</td>\n",
       "      <td>Not Required</td>\n",
       "      <td></td>\n",
       "      <td>27660</td>\n",
       "      <td>Cable/DSL/ISP</td>\n",
       "      <td>1</td>\n",
       "      <td>10000.0</td>\n",
       "    </tr>\n",
       "    <tr>\n",
       "      <th>36445</th>\n",
       "      <td>Heavy Inbound</td>\n",
       "      <td>7969</td>\n",
       "      <td>Open</td>\n",
       "      <td>Not Required</td>\n",
       "      <td>1-5Gbps</td>\n",
       "      <td>36445</td>\n",
       "      <td>Cable/DSL/ISP</td>\n",
       "      <td>1</td>\n",
       "      <td>10000.0</td>\n",
       "    </tr>\n",
       "    <tr>\n",
       "      <th>56056</th>\n",
       "      <td>Not Disclosed</td>\n",
       "      <td>16338</td>\n",
       "      <td>Open</td>\n",
       "      <td>Not Required</td>\n",
       "      <td></td>\n",
       "      <td>56056</td>\n",
       "      <td>Educational/Research</td>\n",
       "      <td>1</td>\n",
       "      <td>1000.0</td>\n",
       "    </tr>\n",
       "    <tr>\n",
       "      <th>264797</th>\n",
       "      <td>Not Disclosed</td>\n",
       "      <td>12610</td>\n",
       "      <td>Open</td>\n",
       "      <td>Not Required</td>\n",
       "      <td></td>\n",
       "      <td>264797</td>\n",
       "      <td>Cable/DSL/ISP</td>\n",
       "      <td>1</td>\n",
       "      <td>1000.0</td>\n",
       "    </tr>\n",
       "  </tbody>\n",
       "</table>\n",
       "<p>11407 rows × 9 columns</p>\n",
       "</div>"
      ],
      "text/plain": [
       "             info_ratio     id policy_general policy_locations info_traffic  \\\n",
       "asn                                                                           \n",
       "15169   Mostly Outbound    433           Open        Preferred                \n",
       "32934    Heavy Outbound    979      Selective     Not Required     100+Tbps   \n",
       "8075    Mostly Outbound    694      Selective        Preferred                \n",
       "6939           Balanced    291           Open        Preferred    20-50Tbps   \n",
       "13335   Mostly Outbound   4224           Open        Preferred                \n",
       "...                 ...    ...            ...              ...          ...   \n",
       "328043         Balanced  16342           Open     Not Required   20-100Mbps   \n",
       "27660    Mostly Inbound  16341      Selective     Not Required                \n",
       "36445     Heavy Inbound   7969           Open     Not Required      1-5Gbps   \n",
       "56056     Not Disclosed  16338           Open     Not Required                \n",
       "264797    Not Disclosed  12610           Open     Not Required                \n",
       "\n",
       "           asn             info_type  ix_count  port_capacity  \n",
       "asn                                                            \n",
       "15169    15169               Content       328     19590000.0  \n",
       "32934    32934               Content       314     26860000.0  \n",
       "8075      8075               Content       282     18730000.0  \n",
       "6939      6939                   NSP       262     10484000.0  \n",
       "13335    13335               Content       249     11310000.0  \n",
       "...        ...                   ...       ...            ...  \n",
       "328043  328043            Enterprise         1         1000.0  \n",
       "27660    27660         Cable/DSL/ISP         1        10000.0  \n",
       "36445    36445         Cable/DSL/ISP         1        10000.0  \n",
       "56056    56056  Educational/Research         1         1000.0  \n",
       "264797  264797         Cable/DSL/ISP         1         1000.0  \n",
       "\n",
       "[11407 rows x 9 columns]"
      ]
     },
     "execution_count": 215,
     "metadata": {},
     "output_type": "execute_result"
    }
   ],
   "source": [
    "net[list_columns_net].sort_values(by='ix_count', ascending=False)"
   ]
  },
  {
   "cell_type": "code",
   "execution_count": 211,
   "id": "912bf63c",
   "metadata": {},
   "outputs": [
    {
     "data": {
      "text/plain": [
       "Not Required                9962\n",
       "Preferred                   1218\n",
       "Required - International      88\n",
       "                              71\n",
       "Required - US                 36\n",
       "Required - EU                 32\n",
       "Name: policy_locations, dtype: int64"
      ]
     },
     "execution_count": 211,
     "metadata": {},
     "output_type": "execute_result"
    }
   ],
   "source": [
    "net['policy_locations'].value_counts()"
   ]
  },
  {
   "cell_type": "code",
   "execution_count": 220,
   "id": "9ebfb407",
   "metadata": {
    "collapsed": true
   },
   "outputs": [
    {
     "data": {
      "text/html": [
       "<div>\n",
       "<style scoped>\n",
       "    .dataframe tbody tr th:only-of-type {\n",
       "        vertical-align: middle;\n",
       "    }\n",
       "\n",
       "    .dataframe tbody tr th {\n",
       "        vertical-align: top;\n",
       "    }\n",
       "\n",
       "    .dataframe thead th {\n",
       "        text-align: right;\n",
       "    }\n",
       "</style>\n",
       "<table border=\"1\" class=\"dataframe\">\n",
       "  <thead>\n",
       "    <tr style=\"text-align: right;\">\n",
       "      <th></th>\n",
       "      <th>info_ratio</th>\n",
       "      <th>id</th>\n",
       "      <th>policy_general</th>\n",
       "      <th>policy_locations</th>\n",
       "      <th>info_traffic</th>\n",
       "      <th>asn</th>\n",
       "      <th>info_type</th>\n",
       "      <th>ix_count</th>\n",
       "      <th>port_capacity</th>\n",
       "    </tr>\n",
       "    <tr>\n",
       "      <th>asn</th>\n",
       "      <th></th>\n",
       "      <th></th>\n",
       "      <th></th>\n",
       "      <th></th>\n",
       "      <th></th>\n",
       "      <th></th>\n",
       "      <th></th>\n",
       "      <th></th>\n",
       "      <th></th>\n",
       "    </tr>\n",
       "  </thead>\n",
       "  <tbody>\n",
       "    <tr>\n",
       "      <th>3356</th>\n",
       "      <td>Balanced</td>\n",
       "      <td>504</td>\n",
       "      <td>Restrictive</td>\n",
       "      <td>Required - International</td>\n",
       "      <td>100+Tbps</td>\n",
       "      <td>3356</td>\n",
       "      <td>NSP</td>\n",
       "      <td>9</td>\n",
       "      <td>1740000.0</td>\n",
       "    </tr>\n",
       "    <tr>\n",
       "      <th>6461</th>\n",
       "      <td>Balanced</td>\n",
       "      <td>541</td>\n",
       "      <td>Restrictive</td>\n",
       "      <td>Required - International</td>\n",
       "      <td>10-20Tbps</td>\n",
       "      <td>6461</td>\n",
       "      <td>NSP</td>\n",
       "      <td>47</td>\n",
       "      <td>1642000.0</td>\n",
       "    </tr>\n",
       "    <tr>\n",
       "      <th>2497</th>\n",
       "      <td>Balanced</td>\n",
       "      <td>690</td>\n",
       "      <td>Restrictive</td>\n",
       "      <td>Required - International</td>\n",
       "      <td></td>\n",
       "      <td>2497</td>\n",
       "      <td>NSP</td>\n",
       "      <td>22</td>\n",
       "      <td>1420000.0</td>\n",
       "    </tr>\n",
       "    <tr>\n",
       "      <th>8220</th>\n",
       "      <td>Balanced</td>\n",
       "      <td>91</td>\n",
       "      <td>Selective</td>\n",
       "      <td>Required - International</td>\n",
       "      <td>1-5Tbps</td>\n",
       "      <td>8220</td>\n",
       "      <td>NSP</td>\n",
       "      <td>43</td>\n",
       "      <td>1080000.0</td>\n",
       "    </tr>\n",
       "    <tr>\n",
       "      <th>7713</th>\n",
       "      <td>Heavy Inbound</td>\n",
       "      <td>2803</td>\n",
       "      <td>Restrictive</td>\n",
       "      <td>Required - International</td>\n",
       "      <td>10-20Tbps</td>\n",
       "      <td>7713</td>\n",
       "      <td>NSP</td>\n",
       "      <td>42</td>\n",
       "      <td>1035000.0</td>\n",
       "    </tr>\n",
       "    <tr>\n",
       "      <th>...</th>\n",
       "      <td>...</td>\n",
       "      <td>...</td>\n",
       "      <td>...</td>\n",
       "      <td>...</td>\n",
       "      <td>...</td>\n",
       "      <td>...</td>\n",
       "      <td>...</td>\n",
       "      <td>...</td>\n",
       "      <td>...</td>\n",
       "    </tr>\n",
       "    <tr>\n",
       "      <th>36052</th>\n",
       "      <td>Balanced</td>\n",
       "      <td>3451</td>\n",
       "      <td>Open</td>\n",
       "      <td>Required - International</td>\n",
       "      <td>100-1000Mbps</td>\n",
       "      <td>36052</td>\n",
       "      <td>NSP</td>\n",
       "      <td>1</td>\n",
       "      <td>1000.0</td>\n",
       "    </tr>\n",
       "    <tr>\n",
       "      <th>17579</th>\n",
       "      <td>Balanced</td>\n",
       "      <td>2208</td>\n",
       "      <td>Open</td>\n",
       "      <td>Required - International</td>\n",
       "      <td>1-5Gbps</td>\n",
       "      <td>17579</td>\n",
       "      <td>Educational/Research</td>\n",
       "      <td>1</td>\n",
       "      <td>1000.0</td>\n",
       "    </tr>\n",
       "    <tr>\n",
       "      <th>209309</th>\n",
       "      <td>Balanced</td>\n",
       "      <td>25392</td>\n",
       "      <td>Open</td>\n",
       "      <td>Required - International</td>\n",
       "      <td>50-100Gbps</td>\n",
       "      <td>209309</td>\n",
       "      <td>Not Disclosed</td>\n",
       "      <td>1</td>\n",
       "      <td>1000.0</td>\n",
       "    </tr>\n",
       "    <tr>\n",
       "      <th>18052</th>\n",
       "      <td>Mostly Inbound</td>\n",
       "      <td>554</td>\n",
       "      <td>Selective</td>\n",
       "      <td>Required - International</td>\n",
       "      <td>0-20Mbps</td>\n",
       "      <td>18052</td>\n",
       "      <td>NSP</td>\n",
       "      <td>1</td>\n",
       "      <td>100.0</td>\n",
       "    </tr>\n",
       "    <tr>\n",
       "      <th>54049</th>\n",
       "      <td>Balanced</td>\n",
       "      <td>5366</td>\n",
       "      <td>Open</td>\n",
       "      <td>Required - International</td>\n",
       "      <td>0-20Mbps</td>\n",
       "      <td>54049</td>\n",
       "      <td>Content</td>\n",
       "      <td>1</td>\n",
       "      <td>2.0</td>\n",
       "    </tr>\n",
       "  </tbody>\n",
       "</table>\n",
       "<p>88 rows × 9 columns</p>\n",
       "</div>"
      ],
      "text/plain": [
       "            info_ratio     id policy_general          policy_locations  \\\n",
       "asn                                                                      \n",
       "3356          Balanced    504    Restrictive  Required - International   \n",
       "6461          Balanced    541    Restrictive  Required - International   \n",
       "2497          Balanced    690    Restrictive  Required - International   \n",
       "8220          Balanced     91      Selective  Required - International   \n",
       "7713     Heavy Inbound   2803    Restrictive  Required - International   \n",
       "...                ...    ...            ...                       ...   \n",
       "36052         Balanced   3451           Open  Required - International   \n",
       "17579         Balanced   2208           Open  Required - International   \n",
       "209309        Balanced  25392           Open  Required - International   \n",
       "18052   Mostly Inbound    554      Selective  Required - International   \n",
       "54049         Balanced   5366           Open  Required - International   \n",
       "\n",
       "        info_traffic     asn             info_type  ix_count  port_capacity  \n",
       "asn                                                                          \n",
       "3356        100+Tbps    3356                   NSP         9      1740000.0  \n",
       "6461       10-20Tbps    6461                   NSP        47      1642000.0  \n",
       "2497                    2497                   NSP        22      1420000.0  \n",
       "8220         1-5Tbps    8220                   NSP        43      1080000.0  \n",
       "7713       10-20Tbps    7713                   NSP        42      1035000.0  \n",
       "...              ...     ...                   ...       ...            ...  \n",
       "36052   100-1000Mbps   36052                   NSP         1         1000.0  \n",
       "17579        1-5Gbps   17579  Educational/Research         1         1000.0  \n",
       "209309    50-100Gbps  209309         Not Disclosed         1         1000.0  \n",
       "18052       0-20Mbps   18052                   NSP         1          100.0  \n",
       "54049       0-20Mbps   54049               Content         1            2.0  \n",
       "\n",
       "[88 rows x 9 columns]"
      ]
     },
     "execution_count": 220,
     "metadata": {},
     "output_type": "execute_result"
    }
   ],
   "source": [
    "net[list_columns_net] [net['policy_locations'] == 'Required - International'].sort_values(by='port_capacity', ascending=False)"
   ]
  },
  {
   "cell_type": "code",
   "execution_count": 244,
   "id": "e56fd091",
   "metadata": {},
   "outputs": [
    {
     "data": {
      "text/plain": [
       "(array([23.,  4.,  1.,  1.,  0.,  0.,  1.,  1.,  0.,  1.]),\n",
       " array([1.0000e+02, 3.4090e+04, 6.8080e+04, 1.0207e+05, 1.3606e+05,\n",
       "        1.7005e+05, 2.0404e+05, 2.3803e+05, 2.7202e+05, 3.0601e+05,\n",
       "        3.4000e+05]),\n",
       " <BarContainer object of 10 artists>)"
      ]
     },
     "execution_count": 244,
     "metadata": {},
     "output_type": "execute_result"
    },
    {
     "data": {
      "image/png": "[encoded data removed]",
      "text/plain": [
       "<Figure size 432x288 with 6 Axes>"
      ]
     },
     "metadata": {
      "needs_background": "light"
     },
     "output_type": "display_data"
    }
   ],
   "source": [
    "plt.subplot(2,3,1)\n",
    "plt.hist(net['port_capacity'] [net['policy_locations'] == 'Not Required'])\n",
    "plt.subplot(2,3,4)\n",
    "plt.hist(net['port_capacity'] [net['policy_locations'] == 'Preferred'])\n",
    "plt.subplot(2,3,2)\n",
    "plt.hist(net['port_capacity'] [net['policy_locations'] == 'Required - International'])\n",
    "plt.subplot(2,3,5)\n",
    "plt.hist(net['port_capacity'] [net['policy_locations'] == ''])\n",
    "plt.subplot(2,3,3)\n",
    "plt.hist(net['port_capacity'] [net['policy_locations'] == 'Required - US'])\n",
    "plt.subplot(2,3,6)\n",
    "plt.hist(net['port_capacity'] [net['policy_locations'] == 'Required - EU'])"
   ]
  },
  {
   "cell_type": "code",
   "execution_count": 246,
   "id": "7e648121",
   "metadata": {},
   "outputs": [
    {
     "data": {
      "text/plain": [
       "asn\n",
       "20940    [{'ix_id': 1, 'operational': True, 'asn': 2094...\n",
       "Name: netixlan_set, dtype: object"
      ]
     },
     "execution_count": 246,
     "metadata": {},
     "output_type": "execute_result"
    }
   ],
   "source": [
    "net['netixlan_set'].head(1)"
   ]
  },
  {
   "cell_type": "code",
   "execution_count": 35,
   "id": "3ec2fdb6",
   "metadata": {},
   "outputs": [
    {
     "data": {
      "text/plain": [
       "Cable/DSL/ISP           4993\n",
       "NSP                     2135\n",
       "Content                 1226\n",
       "Not Disclosed           1179\n",
       "Enterprise               625\n",
       "Educational/Research     500\n",
       "Non-Profit               320\n",
       "Route Server             258\n",
       "                         122\n",
       "Network Services          27\n",
       "Route Collector           12\n",
       "Government                10\n",
       "Name: AStype, dtype: int64"
      ]
     },
     "execution_count": 35,
     "metadata": {},
     "output_type": "execute_result"
    }
   ],
   "source": [
    "nodes['AStype'].value_counts() "
   ]
  },
  {
   "cell_type": "code",
   "execution_count": 38,
   "id": "02d2f5e2",
   "metadata": {
    "scrolled": false
   },
   "outputs": [
    {
     "data": {
      "text/plain": [
       "                3112\n",
       "1-5Gbps         2093\n",
       "5-10Gbps        1263\n",
       "100-1000Mbps    1149\n",
       "10-20Gbps       1055\n",
       "20-50Gbps        900\n",
       "50-100Gbps       555\n",
       "100-200Gbps      313\n",
       "20-100Mbps       231\n",
       "1-5Tbps          178\n",
       "0-20Mbps         149\n",
       "500-1000Gbps     130\n",
       "300-500Gbps      123\n",
       "200-300Gbps      117\n",
       "10-20Tbps         17\n",
       "5-10Tbps          13\n",
       "20-50Tbps          5\n",
       "100+Tbps           3\n",
       "50-100Tbps         1\n",
       "Name: info_traffic, dtype: int64"
      ]
     },
     "execution_count": 38,
     "metadata": {},
     "output_type": "execute_result"
    }
   ],
   "source": [
    "net['info_traffic'].value_counts()"
   ]
  },
  {
   "cell_type": "code",
   "execution_count": 150,
   "id": "3a17d988",
   "metadata": {},
   "outputs": [
    {
     "data": {
      "text/plain": [
       "asn\n",
       "32934     26860000.0\n",
       "20940     23992000.0\n",
       "16509     21640000.0\n",
       "15169     19590000.0\n",
       "8075      18730000.0\n",
       "             ...    \n",
       "16735       921000.0\n",
       "9049        921000.0\n",
       "13238       893000.0\n",
       "2635        890000.0\n",
       "263237      890000.0\n",
       "Name: port_capacity, Length: 100, dtype: float64"
      ]
     },
     "execution_count": 150,
     "metadata": {},
     "output_type": "execute_result"
    }
   ],
   "source": [
    "net['port_capacity'].sort_values(ascending=False).head(100)"
   ]
  },
  {
   "cell_type": "code",
   "execution_count": 151,
   "id": "91a86210",
   "metadata": {},
   "outputs": [
    {
     "data": {
      "text/html": [
       "<div>\n",
       "<style scoped>\n",
       "    .dataframe tbody tr th:only-of-type {\n",
       "        vertical-align: middle;\n",
       "    }\n",
       "\n",
       "    .dataframe tbody tr th {\n",
       "        vertical-align: top;\n",
       "    }\n",
       "\n",
       "    .dataframe thead th {\n",
       "        text-align: right;\n",
       "    }\n",
       "</style>\n",
       "<table border=\"1\" class=\"dataframe\">\n",
       "  <thead>\n",
       "    <tr style=\"text-align: right;\">\n",
       "      <th></th>\n",
       "      <th>net_count</th>\n",
       "      <th>port_capacity</th>\n",
       "    </tr>\n",
       "    <tr>\n",
       "      <th>asn</th>\n",
       "      <th></th>\n",
       "      <th></th>\n",
       "    </tr>\n",
       "  </thead>\n",
       "  <tbody>\n",
       "    <tr>\n",
       "      <th>-102</th>\n",
       "      <td>1309</td>\n",
       "      <td>50251588</td>\n",
       "    </tr>\n",
       "    <tr>\n",
       "      <th>-24</th>\n",
       "      <td>924</td>\n",
       "      <td>45180600</td>\n",
       "    </tr>\n",
       "    <tr>\n",
       "      <th>-21</th>\n",
       "      <td>857</td>\n",
       "      <td>39243675</td>\n",
       "    </tr>\n",
       "    <tr>\n",
       "      <th>-15</th>\n",
       "      <td>787</td>\n",
       "      <td>24737596</td>\n",
       "    </tr>\n",
       "    <tr>\n",
       "      <th>-98</th>\n",
       "      <td>341</td>\n",
       "      <td>18934200</td>\n",
       "    </tr>\n",
       "    <tr>\n",
       "      <th>...</th>\n",
       "      <td>...</td>\n",
       "      <td>...</td>\n",
       "    </tr>\n",
       "    <tr>\n",
       "      <th>-320</th>\n",
       "      <td>4</td>\n",
       "      <td>13000</td>\n",
       "    </tr>\n",
       "    <tr>\n",
       "      <th>-225</th>\n",
       "      <td>5</td>\n",
       "      <td>13000</td>\n",
       "    </tr>\n",
       "    <tr>\n",
       "      <th>-724</th>\n",
       "      <td>13</td>\n",
       "      <td>13000</td>\n",
       "    </tr>\n",
       "    <tr>\n",
       "      <th>-235</th>\n",
       "      <td>4</td>\n",
       "      <td>13000</td>\n",
       "    </tr>\n",
       "    <tr>\n",
       "      <th>-490</th>\n",
       "      <td>11</td>\n",
       "      <td>13000</td>\n",
       "    </tr>\n",
       "  </tbody>\n",
       "</table>\n",
       "<p>650 rows × 2 columns</p>\n",
       "</div>"
      ],
      "text/plain": [
       "      net_count  port_capacity\n",
       "asn                           \n",
       "-102       1309       50251588\n",
       "-24         924       45180600\n",
       "-21         857       39243675\n",
       "-15         787       24737596\n",
       "-98         341       18934200\n",
       "...         ...            ...\n",
       "-320          4          13000\n",
       "-225          5          13000\n",
       "-724         13          13000\n",
       "-235          4          13000\n",
       "-490         11          13000\n",
       "\n",
       "[650 rows x 2 columns]"
      ]
     },
     "execution_count": 151,
     "metadata": {},
     "output_type": "execute_result"
    }
   ],
   "source": [
    "ix[['net_count', 'port_capacity']].sort_values(by='port_capacity', ascending=False).head(650)"
   ]
  },
  {
   "cell_type": "code",
   "execution_count": 63,
   "id": "87da4972",
   "metadata": {},
   "outputs": [
    {
     "data": {
      "text/plain": [
       "asn\n",
       "-102      50251588.0\n",
       "-24       45180600.0\n",
       "-21       39243675.0\n",
       " 32934    26860000.0\n",
       "-15       24737596.0\n",
       "             ...    \n",
       " 46618       20000.0\n",
       " 59842       20000.0\n",
       " 19116       20000.0\n",
       " 53085       20000.0\n",
       " 46811       20000.0\n",
       "Name: port_capacity, Length: 5000, dtype: float64"
      ]
     },
     "execution_count": 63,
     "metadata": {},
     "output_type": "execute_result"
    }
   ],
   "source": [
    "nodes['port_capacity'].sort_values(ascending=False).head(500)"
   ]
  },
  {
   "cell_type": "code",
   "execution_count": 184,
   "id": "a63b9492",
   "metadata": {},
   "outputs": [
    {
     "data": {
      "text/plain": [
       "Open           9217\n",
       "Selective      1921\n",
       "Restrictive     167\n",
       "                 71\n",
       "No               31\n",
       "Name: policy_general, dtype: int64"
      ]
     },
     "execution_count": 184,
     "metadata": {},
     "output_type": "execute_result"
    }
   ],
   "source": [
    "net['policy_general'].value_counts()"
   ]
  },
  {
   "cell_type": "code",
   "execution_count": 58,
   "id": "76748c50",
   "metadata": {},
   "outputs": [
    {
     "data": {
      "text/plain": [
       "AtlasView(FilterAtlas({20144: {'weight': 500.0}, 1930: {'weight': 1000.0}}, <function FilterAdjacency.__getitem__.<locals>.new_node_ok at 0x000001E154B42430>))"
      ]
     },
     "execution_count": 58,
     "metadata": {},
     "output_type": "execute_result"
    }
   ],
   "source": [
    "DiGraph[-212]"
   ]
  },
  {
   "cell_type": "markdown",
   "id": "6d95e031",
   "metadata": {},
   "source": [
    "- ### Ajout de la colonne `port_capacity_scaled`"
   ]
  },
  {
   "cell_type": "code",
   "execution_count": 13,
   "id": "14ff42c2",
   "metadata": {},
   "outputs": [],
   "source": [
    "max_portAS = max(nodes['port_capacity']) # maximum value of port_capacity among ixp & nodes\n",
    "port_capacity = nodes['port_capacity']\n",
    "\n",
    "\n",
    "nodes['port_capacity_scaled'] = port_capacity/max_portAS"
   ]
  },
  {
   "cell_type": "code",
   "execution_count": 14,
   "id": "f290e812",
   "metadata": {},
   "outputs": [
    {
     "data": {
      "text/html": [
       "<div>\n",
       "<style scoped>\n",
       "    .dataframe tbody tr th:only-of-type {\n",
       "        vertical-align: middle;\n",
       "    }\n",
       "\n",
       "    .dataframe tbody tr th {\n",
       "        vertical-align: top;\n",
       "    }\n",
       "\n",
       "    .dataframe thead th {\n",
       "        text-align: right;\n",
       "    }\n",
       "</style>\n",
       "<table border=\"1\" class=\"dataframe\">\n",
       "  <thead>\n",
       "    <tr style=\"text-align: right;\">\n",
       "      <th></th>\n",
       "      <th>port_capacity</th>\n",
       "      <th>port_capacity_scaled</th>\n",
       "    </tr>\n",
       "    <tr>\n",
       "      <th>asn</th>\n",
       "      <th></th>\n",
       "      <th></th>\n",
       "    </tr>\n",
       "  </thead>\n",
       "  <tbody>\n",
       "    <tr>\n",
       "      <th>-102</th>\n",
       "      <td>50251588.0</td>\n",
       "      <td>1.000000</td>\n",
       "    </tr>\n",
       "    <tr>\n",
       "      <th>-24</th>\n",
       "      <td>45180600.0</td>\n",
       "      <td>0.899088</td>\n",
       "    </tr>\n",
       "    <tr>\n",
       "      <th>-21</th>\n",
       "      <td>39243675.0</td>\n",
       "      <td>0.780944</td>\n",
       "    </tr>\n",
       "    <tr>\n",
       "      <th>32934</th>\n",
       "      <td>26860000.0</td>\n",
       "      <td>0.534510</td>\n",
       "    </tr>\n",
       "    <tr>\n",
       "      <th>-15</th>\n",
       "      <td>24737596.0</td>\n",
       "      <td>0.492275</td>\n",
       "    </tr>\n",
       "    <tr>\n",
       "      <th>20940</th>\n",
       "      <td>23992000.0</td>\n",
       "      <td>0.477438</td>\n",
       "    </tr>\n",
       "    <tr>\n",
       "      <th>16509</th>\n",
       "      <td>21640000.0</td>\n",
       "      <td>0.430633</td>\n",
       "    </tr>\n",
       "    <tr>\n",
       "      <th>15169</th>\n",
       "      <td>19590000.0</td>\n",
       "      <td>0.389838</td>\n",
       "    </tr>\n",
       "    <tr>\n",
       "      <th>-98</th>\n",
       "      <td>18934200.0</td>\n",
       "      <td>0.376788</td>\n",
       "    </tr>\n",
       "    <tr>\n",
       "      <th>8075</th>\n",
       "      <td>18730000.0</td>\n",
       "      <td>0.372725</td>\n",
       "    </tr>\n",
       "  </tbody>\n",
       "</table>\n",
       "</div>"
      ],
      "text/plain": [
       "        port_capacity  port_capacity_scaled\n",
       "asn                                        \n",
       "-102       50251588.0              1.000000\n",
       "-24        45180600.0              0.899088\n",
       "-21        39243675.0              0.780944\n",
       " 32934     26860000.0              0.534510\n",
       "-15        24737596.0              0.492275\n",
       " 20940     23992000.0              0.477438\n",
       " 16509     21640000.0              0.430633\n",
       " 15169     19590000.0              0.389838\n",
       "-98        18934200.0              0.376788\n",
       " 8075      18730000.0              0.372725"
      ]
     },
     "execution_count": 14,
     "metadata": {},
     "output_type": "execute_result"
    }
   ],
   "source": [
    "nodes[['port_capacity', 'port_capacity_scaled']].sort_values(by='port_capacity_scaled', ascending=False).head(10)"
   ]
  },
  {
   "cell_type": "code",
   "execution_count": 148,
   "id": "15283a34",
   "metadata": {},
   "outputs": [
    {
     "data": {
      "text/plain": [
       "AtlasView(FilterAtlas({-48: {'weight': 10000.0}, -98: {'weight': 10000.0}, -102: {'weight': 10000.0}, -104: {'weight': 1000.0}, -105: {'weight': 1000.0}, -106: {'weight': 1000.0}, -107: {'weight': 1000.0}, -108: {'weight': 1000.0}, -109: {'weight': 1000.0}, -123: {'weight': 10000.0}, -153: {'weight': 1000.0}, -155: {'weight': 1000.0}, -182: {'weight': 1000.0}, -212: {'weight': 2000.0}, -229: {'weight': 1000.0}, -232: {'weight': 1000.0}, -265: {'weight': 1000.0}, -297: {'weight': 1000.0}, -314: {'weight': 1000.0}, -316: {'weight': 1000.0}, -317: {'weight': 1000.0}}, <function FilterAdjacency.__getitem__.<locals>.new_node_ok at 0x000001E154F0C9D0>))"
      ]
     },
     "execution_count": 148,
     "metadata": {},
     "output_type": "execute_result"
    }
   ],
   "source": [
    "DiGraph[20144]"
   ]
  },
  {
   "cell_type": "markdown",
   "id": "7e1ae78a",
   "metadata": {},
   "source": [
    " Calcul des *page_rank*"
   ]
  },
  {
   "cell_type": "code",
   "execution_count": 4,
   "id": "bb20eaff",
   "metadata": {},
   "outputs": [],
   "source": [
    "pagerank_pondere = nx.pagerank(DiGraph)\n",
    "pagerank = nx.pagerank(DiGraph, weight=None)\n",
    "pagerank_pondere_inverse = nx.pagerank(DiGraph.reverse(copy=True))\n",
    "pagerank_inverse = nx.pagerank(DiGraph.reverse(copy=True), weight=None)"
   ]
  },
  {
   "cell_type": "code",
   "execution_count": null,
   "id": "4962447e",
   "metadata": {},
   "outputs": [],
   "source": []
  }
 ],
 "metadata": {
  "kernelspec": {
   "display_name": "Python 3 (ipykernel)",
   "language": "python",
   "name": "python3"
  },
  "language_info": {
   "codemirror_mode": {
    "name": "ipython",
    "version": 3
   },
   "file_extension": ".py",
   "mimetype": "text/x-python",
   "name": "python",
   "nbconvert_exporter": "python",
   "pygments_lexer": "ipython3",
   "version": "3.9.5"
  },
  "toc": {
   "base_numbering": 1,
   "nav_menu": {},
   "number_sections": true,
   "sideBar": true,
   "skip_h1_title": false,
   "title_cell": "Table of Contents",
   "title_sidebar": "Contents",
   "toc_cell": false,
   "toc_position": {},
   "toc_section_display": true,
   "toc_window_display": false
  }
 },
 "nbformat": 4,
 "nbformat_minor": 5
}
