{
 "cells": [
  {
   "cell_type": "markdown",
   "id": "2adced18",
   "metadata": {},
   "source": [
    "## PEERINGDB\n",
    "\n",
    "doc attributs peeringDB : https://www.peeringdb.com/apidocs/#operation/list%20net"
   ]
  },
  {
   "cell_type": "markdown",
   "id": "9100b162",
   "metadata": {},
   "source": [
    "## ROUTE SERVER \n",
    "- Les serveurs de routes, aussi connus sous le nom de RS (route servers) permettent aux membres de réduire le nombre de sessions BGP à configurer et donc le temps de gestion de son réseau IP. En effet, par défaut toutes les routes des membres connectés aux RS sont redistribuées.\n",
    "\n",
    "\n",
    "- Un serveur de routes n’est pas un routeur, le flux de données est directement échangé entre les participants, seules les informations BGP sont échangées avec le RS. Par exemple, si deux membres établissent une session BGP avec les RS, seules les informations de routages seront échangées par les Route-Serveurs (Control-plane), le flux de donnée sera direct entre leur routeur (Data-plane) car ils sont dans le même LAN.\n",
    "\n",
    " "
   ]
  },
  {
   "cell_type": "markdown",
   "id": "441a8c97",
   "metadata": {},
   "source": [
    "| Attribute name        | Meaning           | Possible values  |\n",
    "| :-------------:       |:---------------:  | :--------------: |\n",
    "| **info_ratio** | classification du noeud | `\"\" ` `Not Disclosed` `Heavy Outbound` <br><br>`Mostly Outbound` `Balanced` `Mostly Inbound` `Heavy Inbound` \n",
    "| **info_scope** | origine géographique de la mesure | `Not Disclosed` `Regional` `North America` <br>`Asia Pacific` `Europe` `South America` `Africa` `Australia` `Middle East` `Global` \n",
    "| id  | id de l'ixp | Integer\n",
    "| media  | type de transfert de données | `Ethernet` `ATM` `Multiple`\n",
    "| proto_multicast | protocol multicast used | `True` `False`\n",
    "|region_continent | continent de l'ixp |`North America` `Asia Pacific` `Europe` `South America` `Africa` `Australia` `Middle Eastregion_continent`\n",
    "|port_capacity | bande passante d'un port | value in gigabyte \n",
    "|info_traffic | | `\"\"` `0-20Mbps` `20-100Mbps` `100-1000Mbps`  `1-5Gbps` `5-10Gbps` `10-20Gbps` `20-50Gbps` `50-100Gbps` `100-200Gbps` `200-300Gbps` `300-500Gbps` `500-1000Gbps` `1-5Tbps` `5-10Tbps` `10-20Tbps` `20-50Tbps` `50-100Tbps` `100+Tbps`\n",
    "|policy_general |politique de traffic| `Open` `Selective` `Restrictive` `No`| \n",
    "| ix_count( pour les AS) | nombre d'échanges sur ce réseau | `integer <int64> [ 0 .. 4294967295 ]`\n",
    "| info_prefixes4 | Recommended maximum number of IPv4 routes/prefixes to be configured on peering sessions for this ASN| Integer"
   ]
  },
  {
   "cell_type": "code",
   "execution_count": null,
   "id": "194d857b",
   "metadata": {},
   "outputs": [],
   "source": []
  }
 ],
 "metadata": {
  "kernelspec": {
   "display_name": "Python 3 (ipykernel)",
   "language": "python",
   "name": "python3"
  },
  "language_info": {
   "codemirror_mode": {
    "name": "ipython",
    "version": 3
   },
   "file_extension": ".py",
   "mimetype": "text/x-python",
   "name": "python",
   "nbconvert_exporter": "python",
   "pygments_lexer": "ipython3",
   "version": "3.9.5"
  }
 },
 "nbformat": 4,
 "nbformat_minor": 5
}
