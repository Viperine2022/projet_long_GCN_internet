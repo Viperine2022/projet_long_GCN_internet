{
 "cells": [
  {
   "cell_type": "markdown",
   "id": "dde09f4f",
   "metadata": {},
   "source": [
    "## Tuto NETWORKX\n"
   ]
  },
  {
   "cell_type": "markdown",
   "id": "1d099edb",
   "metadata": {},
   "source": [
    "- On import la librairie networkx"
   ]
  },
  {
   "cell_type": "code",
   "execution_count": 17,
   "id": "8326db8b",
   "metadata": {},
   "outputs": [],
   "source": [
    "import networkx as nx\n",
    "import matplotlib.pyplot as plt\n",
    "from numpy import arange\n",
    "import numpy as np"
   ]
  },
  {
   "cell_type": "markdown",
   "id": "4168de88",
   "metadata": {},
   "source": [
    "- Création du graphe vide "
   ]
  },
  {
   "cell_type": "code",
   "execution_count": 18,
   "id": "a7f042d3",
   "metadata": {},
   "outputs": [
    {
     "name": "stdout",
     "output_type": "stream",
     "text": [
      "Graph with 0 nodes and 0 edges\n"
     ]
    }
   ],
   "source": [
    "G = nx.Graph()\n",
    "print(G)"
   ]
  },
  {
   "cell_type": "markdown",
   "id": "dc4678d7",
   "metadata": {},
   "source": [
    "## Opérations sur les noeuds\n"
   ]
  },
  {
   "cell_type": "markdown",
   "id": "9e192a22",
   "metadata": {},
   "source": [
    "- Ajout d'un noeud au graphe : "
   ]
  },
  {
   "cell_type": "code",
   "execution_count": 19,
   "id": "1fabedf0",
   "metadata": {},
   "outputs": [
    {
     "name": "stdout",
     "output_type": "stream",
     "text": [
      "Graph with 1 nodes and 0 edges\n"
     ]
    }
   ],
   "source": [
    "G.add_node(3)\n",
    "print(G)"
   ]
  },
  {
   "cell_type": "markdown",
   "id": "5b081e48",
   "metadata": {},
   "source": [
    "- Ajout d'un noeud avec un/des attribut(s). Dans l'exemple suivant on ajoute comme attribut \"ans\" (AS number) qui prend la valeur 15"
   ]
  },
  {
   "cell_type": "code",
   "execution_count": 20,
   "id": "6987ff2e",
   "metadata": {},
   "outputs": [],
   "source": [
    "G.add_node(4,asn=15)"
   ]
  },
  {
   "cell_type": "markdown",
   "id": "37097738",
   "metadata": {},
   "source": [
    "- On peut accéder au attribut du noeud via la commande suivante : `G._node[<sommet>][<attribute_rechercher>]`\n",
    "Dans l'exemple suivant on recupère l'attribut \"ans\" du sommet 4."
   ]
  },
  {
   "cell_type": "code",
   "execution_count": 21,
   "id": "3f7d8839",
   "metadata": {},
   "outputs": [
    {
     "name": "stdout",
     "output_type": "stream",
     "text": [
      "15\n"
     ]
    }
   ],
   "source": [
    "asn_4 = G._node[4]['asn']\n",
    "print(asn_4)"
   ]
  },
  {
   "cell_type": "markdown",
   "id": "7f7080eb",
   "metadata": {},
   "source": [
    "## Opérations sur les arêtes"
   ]
  },
  {
   "cell_type": "markdown",
   "id": "a7d9546f",
   "metadata": {},
   "source": [
    "- Ajout d'une arêtes\n",
    "Nous pouvons ici ajouter une arêtes entre les deux noeuds que nous avons créé précedemment. Ici aussi nous pouvons ajouter des attributs aux arêtes de la même façon que pour les noeuds"
   ]
  },
  {
   "cell_type": "code",
   "execution_count": 22,
   "id": "3f722d6e",
   "metadata": {},
   "outputs": [],
   "source": [
    "G.add_edge(3,4, poids = \"je_suis_gros\")"
   ]
  },
  {
   "cell_type": "code",
   "execution_count": 23,
   "id": "a077e58f",
   "metadata": {},
   "outputs": [
    {
     "data": {
      "image/png": "[encoded data removed]",
      "text/plain": [
       "<Figure size 432x288 with 1 Axes>"
      ]
     },
     "metadata": {},
     "output_type": "display_data"
    }
   ],
   "source": [
    "subax1 = plt.subplot(121)\n",
    "nx.draw(G, with_labels=True)\n",
    "plt.show() "
   ]
  },
  {
   "cell_type": "markdown",
   "id": "fab17016",
   "metadata": {},
   "source": [
    "Notons que nous pouvons ajouter une arête entre deux noeuds n'ayant pas été défini précédemment. Cela créera automatiquement les noeuds en questions.\n",
    "- Exemple :"
   ]
  },
  {
   "cell_type": "code",
   "execution_count": 24,
   "id": "9bfe859b",
   "metadata": {},
   "outputs": [],
   "source": [
    "G.add_edge(9,7, poids =\"10G\")\n",
    "G.add_edge(9,3, poids =\"10G\")"
   ]
  },
  {
   "cell_type": "code",
   "execution_count": 25,
   "id": "d4ac878f",
   "metadata": {},
   "outputs": [
    {
     "data": {
      "image/png": "[encoded data removed]",
      "text/plain": [
       "<Figure size 432x288 with 1 Axes>"
      ]
     },
     "metadata": {},
     "output_type": "display_data"
    }
   ],
   "source": [
    "subax1 = plt.subplot(121)\n",
    "nx.draw(G, with_labels=True)\n",
    "plt.show() "
   ]
  },
  {
   "cell_type": "markdown",
   "id": "0d80944b",
   "metadata": {},
   "source": [
    "- Nous pouvons également récuperer les attributs des arêtes"
   ]
  },
  {
   "cell_type": "code",
   "execution_count": 26,
   "id": "1ac4e5c5",
   "metadata": {},
   "outputs": [
    {
     "data": {
      "text/plain": [
       "'10G'"
      ]
     },
     "execution_count": 26,
     "metadata": {},
     "output_type": "execute_result"
    }
   ],
   "source": [
    "G.edges[9,7][\"poids\"]"
   ]
  },
  {
   "cell_type": "markdown",
   "id": "bd89cb5a",
   "metadata": {},
   "source": [
    "Nous pouvons aussi accéder au voisin d'un noeud de la façcon suivante : `G[<sommet>]`"
   ]
  },
  {
   "cell_type": "code",
   "execution_count": 27,
   "id": "dc3d600c",
   "metadata": {},
   "outputs": [
    {
     "name": "stdout",
     "output_type": "stream",
     "text": [
      "[4, 9]\n"
     ]
    }
   ],
   "source": [
    "voisin_de_3 = G[3]\n",
    "#print(voisin_de_3)\n",
    "print(list(G.neighbors(3)))"
   ]
  },
  {
   "cell_type": "markdown",
   "id": "9674f380",
   "metadata": {},
   "source": [
    "Fonction permettant de connaitre le nombre de voisin d'un noeud "
   ]
  },
  {
   "cell_type": "code",
   "execution_count": 28,
   "id": "7acf2ce3",
   "metadata": {},
   "outputs": [
    {
     "name": "stdout",
     "output_type": "stream",
     "text": [
      "2\n"
     ]
    }
   ],
   "source": [
    "def neighbours_number(Noeud,Graphe) :\n",
    "    return len(G[Noeud])\n",
    "\n",
    "print(neighbours_number(3,G))"
   ]
  },
  {
   "cell_type": "markdown",
   "id": "35f1a25d",
   "metadata": {},
   "source": []
  },
  {
   "cell_type": "code",
   "execution_count": null,
   "id": "f1ff32e9",
   "metadata": {},
   "outputs": [],
   "source": []
  },
  {
   "cell_type": "markdown",
   "id": "5224ccbe",
   "metadata": {},
   "source": [
    "## Données pertinentes du graphe"
   ]
  },
  {
   "cell_type": "markdown",
   "id": "8cd8d783",
   "metadata": {},
   "source": [
    "- Networkx a de nombreuses fonctions permettant de calculer des informations sur le graphe tel que le page rank des noeuds, leur centralité... <br> <br>\n",
    "\n",
    "- Les deux fonctions suivantes prennent en argument un entier $n$ et un graphe $G$, et retournent respectivement les $n$ noeuds ayant le page rank le plus élevé et les $n$ noeuds ayant le degree centrality le plus élevé. \n"
   ]
  },
  {
   "cell_type": "code",
   "execution_count": 29,
   "id": "ad50115c",
   "metadata": {},
   "outputs": [],
   "source": [
    "def maxrank(n,G):\n",
    "    dict_pagerank =nx.pagerank(G)\n",
    "    list_pagerank=list(dict_pagerank.values())\n",
    "    L=np.zeros(n)\n",
    "    for i in range(n):\n",
    "        L[i]=G._node[list_pagerank.index(max(list_pagerank))]['asn'] # Ajoute l'ASN ayant le page rank le plus élevé à L\n",
    "        list_pagerank.remove(max(list_pagerank))\n",
    "    return L\n",
    "\n",
    "\n",
    "def maxcentrality(n,G):\n",
    "    dict_centrality =nx.degree_centrality(G)\n",
    "    list_centrality=list(dict_centrality.values())\n",
    "    L=np.zeros(n)\n",
    "    for i in range(n):\n",
    "        L[i]=G._node[list_centrality.index(max(list_centrality))]['asn'] # Ajoute l'ASN ayant la centralité la plus élevé à L\n",
    "        list_centrality.remove(max(list_centrality))\n",
    "    return L"
   ]
  },
  {
   "cell_type": "markdown",
   "id": "01f3c859",
   "metadata": {},
   "source": [
    "## Application à notre projet"
   ]
  },
  {
   "cell_type": "markdown",
   "id": "7a10e8c6",
   "metadata": {},
   "source": [
    "Notre but est de créer le graphe à partir du fichier .txt.\n",
    "Les noeuds auront comme attribut leur numéro d'AS et les arêtes auront comme attribut le type de lien qu'ils representent. Cf l'exemple suivant pour comprendre.\n"
   ]
  },
  {
   "cell_type": "code",
   "execution_count": 30,
   "id": "e278f051",
   "metadata": {},
   "outputs": [],
   "source": [
    "def dictiongraph(fichier_texte):\n",
    "    fichier = open(fichier_texte,\"r\")\n",
    "    dictio = []\n",
    "    memoire=-1\n",
    "    for ligne in fichier:\n",
    "        tabligne = ligne.split(\"|\")\n",
    "        try:\n",
    "            asn1 = int(tabligne[0])\n",
    "            asn2 = int(tabligne[1])\n",
    "            if asn1 != memoire:\n",
    "                dictio.append(asn1)\n",
    "                memoire = asn1\n",
    "            dictio.append(asn2)\n",
    "        except ValueError:\n",
    "            pass\n",
    "    l = arange(len(list(set(dictio))))\n",
    "    dictiofinal =dict_from_list = dict(zip(sorted(list(set(dictio))), l))\n",
    "    return dictiofinal"
   ]
  },
  {
   "cell_type": "code",
   "execution_count": 31,
   "id": "e4911193",
   "metadata": {},
   "outputs": [],
   "source": [
    "def creation_graph(fichier_texte):\n",
    "    G = nx.Graph() \n",
    "    fichier = open(fichier_texte,\"r\")\n",
    "    cpt = 0\n",
    "    memoire = -1\n",
    "    dictio = dictiongraph(fichier_texte)\n",
    "    i=0\n",
    "    #Ajout de tous les noeuds\n",
    "    for num_as in dictio :\n",
    "        G.add_node(i,asn=num_as)\n",
    "        i+=1\n",
    "    #Ajout des arêtes\n",
    "    for ligne in fichier:\n",
    "        tabligne = ligne.split(\"|\")\n",
    "        try:\n",
    "            asn1 = int(tabligne[0])\n",
    "            asn2 = int(tabligne[1])\n",
    "            info = int(tabligne[2])\n",
    "            if info == 0 :\n",
    "                G.add_edge(dictio[asn1],dictio[asn2],type= str(asn1) + '|p2p|' +str(asn2))\n",
    "            elif info == -1 :\n",
    "\n",
    "                G.add_edge(dictio[asn1],dictio[asn2],type=str(asn1) + '|p2c|' +str(asn2))\n",
    "        except ValueError:\n",
    "            pass\n",
    "    return G"
   ]
  },
  {
   "cell_type": "code",
   "execution_count": null,
   "id": "dfab76f5",
   "metadata": {},
   "outputs": [],
   "source": [
    "list_nodes = list(G.nodes)\n",
    "\n",
    "small_list = list_nodes[100:102]\n",
    "\n",
    "for node in small_list:\n",
    "    print(G[node])\n",
    "    #print(type(G[node]))\n",
    "    #print(list(G[node]))\n",
    "    #print(G[node].values)\n",
    "    \n",
    "print(type(G[0]))"
   ]
  },
  {
   "cell_type": "code",
   "execution_count": null,
   "id": "e1d8e96b",
   "metadata": {},
   "outputs": [],
   "source": []
  }
 ],
 "metadata": {
  "kernelspec": {
   "display_name": "Python 3 (ipykernel)",
   "language": "python",
   "name": "python3"
  },
  "language_info": {
   "codemirror_mode": {
    "name": "ipython",
    "version": 3
   },
   "file_extension": ".py",
   "mimetype": "text/x-python",
   "name": "python",
   "nbconvert_exporter": "python",
   "pygments_lexer": "ipython3",
   "version": "3.9.5"
  }
 },
 "nbformat": 4,
 "nbformat_minor": 5
}
