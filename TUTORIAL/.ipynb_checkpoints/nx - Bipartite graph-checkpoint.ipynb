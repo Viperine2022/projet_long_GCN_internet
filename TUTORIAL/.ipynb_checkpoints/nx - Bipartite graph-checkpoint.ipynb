{
 "cells": [
  {
   "cell_type": "markdown",
   "id": "02ea5468",
   "metadata": {},
   "source": [
    "### Tutorial manipulation of `Bipartite`\n",
    "from : https://networkx.org/documentation/stable/reference/algorithms/bipartite.html"
   ]
  },
  {
   "cell_type": "code",
   "execution_count": 1,
   "id": "6dd107eb",
   "metadata": {},
   "outputs": [],
   "source": [
    "import os\n",
    "import numpy as np\n",
    "import pandas as pd\n",
    "import networkx as nx\n",
    "import pickle\n",
    "import matplotlib.pyplot as plt\n",
    "from sklearn import preprocessing\n",
    "from networkx.algorithms import bipartite"
   ]
  },
  {
   "cell_type": "code",
   "execution_count": 19,
   "id": "fecaa3ce",
   "metadata": {},
   "outputs": [],
   "source": [
    "B = nx.Graph()\n",
    "\n",
    "# Add nodes with the node attribute \"bipartite\"\n",
    "\n",
    "B.add_nodes_from([1, 2, 3, 4], bipartite=0)\n",
    "\n",
    "B.add_nodes_from([\"a\", \"b\", \"c\"], bipartite=1)\n",
    "\n",
    "# Add edges only between nodes of opposite node sets\n",
    "\n",
    "B.add_edges_from([(1, \"a\"), (1, \"b\"), (2, \"b\"), (2, \"c\"), (3, \"c\"), (4, \"a\")])"
   ]
  },
  {
   "cell_type": "code",
   "execution_count": 10,
   "id": "6d2dce99",
   "metadata": {},
   "outputs": [
    {
     "data": {
      "image/png": "[encoded data removed]",
      "text/plain": [
       "<Figure size 432x288 with 1 Axes>"
      ]
     },
     "metadata": {},
     "output_type": "display_data"
    }
   ],
   "source": [
    "nx.draw_networkx(\n",
    "    B,\n",
    "    pos=nx.drawing.bipartite_layout(B, [1, 2, 3, 4]),\n",
    "    width=1)"
   ]
  },
  {
   "cell_type": "markdown",
   "id": "dc4f2a25",
   "metadata": {},
   "source": [
    "- #### Petit fichier nx"
   ]
  },
  {
   "cell_type": "code",
   "execution_count": 21,
   "id": "cfc6b0cf",
   "metadata": {},
   "outputs": [],
   "source": [
    "FILE_NAME = 'data/0.9500_0.7500_pDB_petit.txt'\n",
    "\n",
    "edgelist = open(FILE_NAME, \"r\")\n",
    "DiGraph = nx.parse_edgelist(edgelist, nodetype = int, data=(('weight',float),), create_using = nx.DiGraph, delimiter=\",\")\n"
   ]
  },
  {
   "cell_type": "code",
   "execution_count": 14,
   "id": "fcec9c10",
   "metadata": {},
   "outputs": [
    {
     "ename": "TypeError",
     "evalue": "'>' not supported between instances of 'builtin_function_or_method' and 'int'",
     "output_type": "error",
     "traceback": [
      "\u001b[1;31m---------------------------------------------------------------------------\u001b[0m",
      "\u001b[1;31mTypeError\u001b[0m                                 Traceback (most recent call last)",
      "Input \u001b[1;32mIn [14]\u001b[0m, in \u001b[0;36m<module>\u001b[1;34m\u001b[0m\n\u001b[0;32m      1\u001b[0m nx\u001b[38;5;241m.\u001b[39mdraw_networkx(\n\u001b[0;32m      2\u001b[0m     DiGraph,\n\u001b[1;32m----> 3\u001b[0m     pos\u001b[38;5;241m=\u001b[39mnx\u001b[38;5;241m.\u001b[39mdrawing\u001b[38;5;241m.\u001b[39mbipartite_layout(B, DiGraph\u001b[38;5;241m.\u001b[39mnodes(\u001b[38;5;28;43mid\u001b[39;49m\u001b[38;5;241;43m>\u001b[39;49m\u001b[38;5;241;43m0\u001b[39;49m)),\n\u001b[0;32m      4\u001b[0m     width\u001b[38;5;241m=\u001b[39m\u001b[38;5;241m1\u001b[39m)\n",
      "\u001b[1;31mTypeError\u001b[0m: '>' not supported between instances of 'builtin_function_or_method' and 'int'"
     ]
    }
   ],
   "source": [
    "list_ixp = os.popen(\"cat %s | grep \\\"^-.*\\\" | cut -d \\\",\\\" -f 1 | sort | uniq | sort -h | tac\" % FILE_NAME).read()\n",
    "\n",
    "nx.draw_networkx(\n",
    "    DiGraph,\n",
    "    pos=nx.drawing.bipartite_layout(B, DiGraph.nodes(id>0)),\n",
    "    width=1)"
   ]
  }
 ],
 "metadata": {
  "kernelspec": {
   "display_name": "Python 3 (ipykernel)",
   "language": "python",
   "name": "python3"
  },
  "language_info": {
   "codemirror_mode": {
    "name": "ipython",
    "version": 3
   },
   "file_extension": ".py",
   "mimetype": "text/x-python",
   "name": "python",
   "nbconvert_exporter": "python",
   "pygments_lexer": "ipython3",
   "version": "3.9.5"
  }
 },
 "nbformat": 4,
 "nbformat_minor": 5
}
