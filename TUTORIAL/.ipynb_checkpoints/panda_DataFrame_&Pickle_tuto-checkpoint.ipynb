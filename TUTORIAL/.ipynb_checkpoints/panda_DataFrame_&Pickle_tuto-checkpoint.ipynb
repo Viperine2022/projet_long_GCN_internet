{
 "cells": [
  {
   "cell_type": "markdown",
   "id": "7fe993af",
   "metadata": {},
   "source": [
    "# Tutoriel Python et pickle\n",
    "\n",
    "**cf le cours :** https://www.datacamp.com/community/tutorials/pickle-python-tutorial\n",
    "\n",
    "*Pickling is useful for applications where you need some degree of persistency in your data.*\n",
    "\n",
    "For this tutorial, you will be pickling a simple dictionary. A dictionary is a list of `key : value`elements."
   ]
  },
  {
   "cell_type": "code",
   "execution_count": 1,
   "id": "7ec78cf2",
   "metadata": {},
   "outputs": [],
   "source": [
    "import pickle\n",
    "\n",
    "# Déclaration d'un petit dictionnaire `chien:age`\n",
    "dogs_dict = { 'Ozzy': 3, 'Filou': 8, 'Luna': 5, 'Skippy': 10, 'Barco': 12, 'Balou': 9, 'Laika': 16 }"
   ]
  },
  {
   "cell_type": "markdown",
   "id": "8bf39e87",
   "metadata": {},
   "source": [
    "#### Pickling files"
   ]
  },
  {
   "cell_type": "code",
   "execution_count": 2,
   "id": "52dc558b",
   "metadata": {},
   "outputs": [],
   "source": [
    "filename = 'data/dogs'\n",
    "outfile = open(filename, 'wb')\n",
    "\n",
    "pickle.dump(dogs_dict, outfile)\n",
    "outfile.close()"
   ]
  },
  {
   "cell_type": "markdown",
   "id": "2c57c8cb",
   "metadata": {},
   "source": [
    "#### Unpickling files"
   ]
  },
  {
   "cell_type": "code",
   "execution_count": 3,
   "id": "0df761b7",
   "metadata": {},
   "outputs": [],
   "source": [
    "infile = open(filename, 'rb')\n",
    "new_dict = pickle.load(infile)\n",
    "infile.close()"
   ]
  },
  {
   "cell_type": "markdown",
   "id": "0852421b",
   "metadata": {},
   "source": [
    "**Let's print the dictionary and compare it to the previous one :**"
   ]
  },
  {
   "cell_type": "code",
   "execution_count": 4,
   "id": "ae37858f",
   "metadata": {},
   "outputs": [
    {
     "name": "stdout",
     "output_type": "stream",
     "text": [
      "{'Ozzy': 3, 'Filou': 8, 'Luna': 5, 'Skippy': 10, 'Barco': 12, 'Balou': 9, 'Laika': 16}\n",
      "\n",
      "\n",
      "True\n",
      "<class 'dict'>\n"
     ]
    }
   ],
   "source": [
    "print(new_dict)\n",
    "print('\\n')\n",
    "print(new_dict==dogs_dict)\n",
    "print(type(new_dict))"
   ]
  },
  {
   "cell_type": "markdown",
   "id": "2c702522",
   "metadata": {},
   "source": [
    "#### Compressing pickle files \n",
    "\n",
    "If you are saving a large dataset and your pickled file takes up a lot of space, you may want to compress it. This can be done using `bzip2` or `gzip`. They both compress files, but `bzip2` is a bit slower. `gzip`, however, produces files about twice as large as `bzip2`. You'll be using `bzip2` in this tutorial."
   ]
  },
  {
   "cell_type": "code",
   "execution_count": 5,
   "id": "e5156216",
   "metadata": {},
   "outputs": [],
   "source": [
    "import bz2\n",
    "import pickle \n",
    "\n",
    "sfile = bz2.BZ2File('data/smallerfile', 'w')\n",
    "pickle.dump(dogs_dict, sfile)\n",
    "\n",
    "sfile.close()"
   ]
  },
  {
   "cell_type": "markdown",
   "id": "495da3d6",
   "metadata": {},
   "source": [
    "#### Unpickling Python 2 objects in Python 3"
   ]
  },
  {
   "cell_type": "markdown",
   "id": "6808bfd1",
   "metadata": {},
   "source": [
    "You might sometimes come across objects that were pickled in Python 2 while running Python 3. This can be a hassle to unpickle.\n",
    "\n",
    "You could either unpickle it by running Python 2, or do it in Python 3 with `encoding='latin1'` in the `load()` function."
   ]
  },
  {
   "cell_type": "code",
   "execution_count": 6,
   "id": "2a25853d",
   "metadata": {},
   "outputs": [],
   "source": [
    "infile = open(filename, 'rb')\n",
    "new_dict = pickle.load(infile, encoding='latin1')"
   ]
  },
  {
   "cell_type": "markdown",
   "id": "690f6697",
   "metadata": {},
   "source": [
    "This will not work if your objects contains NumPy arrays. In that case, you could also try using `encoding='bytes'`:"
   ]
  },
  {
   "cell_type": "code",
   "execution_count": 7,
   "id": "f91715b9",
   "metadata": {},
   "outputs": [],
   "source": [
    "infile = open(filename,'rb')\n",
    "new_dict = pickle.load(infile, encoding='bytes')"
   ]
  },
  {
   "cell_type": "markdown",
   "id": "0932cf0a",
   "metadata": {},
   "source": [
    "# Tutoriel Data frames `panda` in Python \n",
    "**cf le cours :** https://www.datacamp.com/community/tutorials/pandas-tutorial-dataframe-python\n",
    "\n",
    "Pandas is a popular Python package for data science, and with good reason: it offers powerful, expressive and flexible data structures that make data manipulation and analysis easy, among many other things. The DataFrame is one of these structures.\n",
    "\n",
    "\n",
    "\n",
    "This tutorial covers Pandas DataFrames, from basic manipulations to advanced operations, by tackling 11 of the most popular questions so that you understand -and avoid- the doubts of the Pythonistas who have gone before you.\n",
    "\n",
    "\n",
    "### Let's create `panda` data !"
   ]
  },
  {
   "cell_type": "code",
   "execution_count": 8,
   "id": "8a64e289",
   "metadata": {},
   "outputs": [],
   "source": [
    "import pandas as pd\n",
    "import os\n",
    "import numpy as np"
   ]
  },
  {
   "cell_type": "code",
   "execution_count": 39,
   "id": "03837f64",
   "metadata": {},
   "outputs": [
    {
     "data": {
      "text/html": [
       "<div>\n",
       "<style scoped>\n",
       "    .dataframe tbody tr th:only-of-type {\n",
       "        vertical-align: middle;\n",
       "    }\n",
       "\n",
       "    .dataframe tbody tr th {\n",
       "        vertical-align: top;\n",
       "    }\n",
       "\n",
       "    .dataframe thead th {\n",
       "        text-align: right;\n",
       "    }\n",
       "</style>\n",
       "<table border=\"1\" class=\"dataframe\">\n",
       "  <thead>\n",
       "    <tr style=\"text-align: right;\">\n",
       "      <th></th>\n",
       "      <th>Name</th>\n",
       "      <th>Age</th>\n",
       "      <th>Sex</th>\n",
       "    </tr>\n",
       "  </thead>\n",
       "  <tbody>\n",
       "    <tr>\n",
       "      <th>0</th>\n",
       "      <td>Braund, Mr. Owen Harris</td>\n",
       "      <td>22</td>\n",
       "      <td>male</td>\n",
       "    </tr>\n",
       "    <tr>\n",
       "      <th>1</th>\n",
       "      <td>Allen, Mr. William Henry</td>\n",
       "      <td>35</td>\n",
       "      <td>male</td>\n",
       "    </tr>\n",
       "    <tr>\n",
       "      <th>2</th>\n",
       "      <td>Bonnell, Miss. Elizabeth</td>\n",
       "      <td>58</td>\n",
       "      <td>female</td>\n",
       "    </tr>\n",
       "  </tbody>\n",
       "</table>\n",
       "</div>"
      ],
      "text/plain": [
       "                       Name  Age     Sex\n",
       "0   Braund, Mr. Owen Harris   22    male\n",
       "1  Allen, Mr. William Henry   35    male\n",
       "2  Bonnell, Miss. Elizabeth   58  female"
      ]
     },
     "execution_count": 39,
     "metadata": {},
     "output_type": "execute_result"
    }
   ],
   "source": [
    "df = pd.DataFrame(\n",
    "    {\n",
    "        \"Name\": [\n",
    "            \"Braund, Mr. Owen Harris\",\n",
    "            \"Allen, Mr. William Henry\",\n",
    "            \"Bonnell, Miss. Elizabeth\",\n",
    "        ],\n",
    "        \"Age\": [22, 35, 58],\n",
    "        \"Sex\": [\"male\", \"male\", \"female\"],\n",
    "    }\n",
    ")\n",
    "\n",
    "df"
   ]
  },
  {
   "cell_type": "code",
   "execution_count": 10,
   "id": "ecf61ccb",
   "metadata": {},
   "outputs": [
    {
     "name": "stdout",
     "output_type": "stream",
     "text": [
      "bash_tuto.ipynb\n",
      "data\n",
      "networkx.ipynb\n",
      "panda_DataFrame_&Pickle_tuto.ipynb\n",
      "Pandas_plot_hist_etc.ipynb\n",
      "\n"
     ]
    }
   ],
   "source": [
    "print(os.popen(\"ls \").read())"
   ]
  },
  {
   "cell_type": "markdown",
   "id": "d0554d80",
   "metadata": {},
   "source": [
    "- ### Animals.csv <br>\n",
    "Petit fichier de tuto contenant des lignes d'animaux <br>\n",
    "Les colonnes sont : `animal`, `age`, `prenom`"
   ]
  },
  {
   "cell_type": "code",
   "execution_count": 40,
   "id": "98d94b76",
   "metadata": {},
   "outputs": [
    {
     "name": "stdout",
     "output_type": "stream",
     "text": [
      "<class 'pandas.core.frame.DataFrame'>\n",
      "RangeIndex: 5 entries, 0 to 4\n",
      "Data columns (total 3 columns):\n",
      " #   Column  Non-Null Count  Dtype \n",
      "---  ------  --------------  ----- \n",
      " 0   Animal  5 non-null      object\n",
      " 1   Age     5 non-null      int64 \n",
      " 2   Prenom  5 non-null      object\n",
      "dtypes: int64(1), object(2)\n",
      "memory usage: 248.0+ bytes\n"
     ]
    },
    {
     "data": {
      "text/html": [
       "<div>\n",
       "<style scoped>\n",
       "    .dataframe tbody tr th:only-of-type {\n",
       "        vertical-align: middle;\n",
       "    }\n",
       "\n",
       "    .dataframe tbody tr th {\n",
       "        vertical-align: top;\n",
       "    }\n",
       "\n",
       "    .dataframe thead th {\n",
       "        text-align: right;\n",
       "    }\n",
       "</style>\n",
       "<table border=\"1\" class=\"dataframe\">\n",
       "  <thead>\n",
       "    <tr style=\"text-align: right;\">\n",
       "      <th></th>\n",
       "      <th>Animal</th>\n",
       "      <th>Age</th>\n",
       "      <th>Prenom</th>\n",
       "    </tr>\n",
       "  </thead>\n",
       "  <tbody>\n",
       "    <tr>\n",
       "      <th>0</th>\n",
       "      <td>chat</td>\n",
       "      <td>9</td>\n",
       "      <td>Tigrou</td>\n",
       "    </tr>\n",
       "    <tr>\n",
       "      <th>1</th>\n",
       "      <td>chien</td>\n",
       "      <td>5</td>\n",
       "      <td>Chipie</td>\n",
       "    </tr>\n",
       "    <tr>\n",
       "      <th>2</th>\n",
       "      <td>chat</td>\n",
       "      <td>35</td>\n",
       "      <td>Caramel</td>\n",
       "    </tr>\n",
       "    <tr>\n",
       "      <th>3</th>\n",
       "      <td>hamster</td>\n",
       "      <td>9</td>\n",
       "      <td>Zoé</td>\n",
       "    </tr>\n",
       "    <tr>\n",
       "      <th>4</th>\n",
       "      <td>chat</td>\n",
       "      <td>12</td>\n",
       "      <td>Bongo</td>\n",
       "    </tr>\n",
       "  </tbody>\n",
       "</table>\n",
       "</div>"
      ],
      "text/plain": [
       "    Animal  Age   Prenom\n",
       "0     chat    9   Tigrou\n",
       "1    chien    5   Chipie\n",
       "2     chat   35  Caramel\n",
       "3  hamster    9      Zoé\n",
       "4     chat   12    Bongo"
      ]
     },
     "execution_count": 40,
     "metadata": {},
     "output_type": "execute_result"
    }
   ],
   "source": [
    "animals = pd.read_csv('data/animals.csv')\n",
    "\n",
    "animals.info()\n",
    "animals.head()"
   ]
  },
  {
   "cell_type": "code",
   "execution_count": 12,
   "id": "4b8723a4",
   "metadata": {},
   "outputs": [
    {
     "name": "stdout",
     "output_type": "stream",
     "text": [
      "** birth dates : ['(10/08/2016)', '(16/09/2019)', '(03/12/2020)', '(04/09/2017)', '(03/11/2019)']\n",
      "** birth length : 5\n",
      "** birth [0] : (10/08/2016)\n"
     ]
    }
   ],
   "source": [
    "# création du tableau (colonne) Birth_date\n",
    "\n",
    "birth_date = open('data/birth_date.txt').read().splitlines()\n",
    "\n",
    "\n",
    "print(\"** birth dates : \" + str(birth_date) + \"\\n** birth length : \" + str(len(birth_date)))\n",
    "print(\"** birth [0] : \" + birth_date[0])"
   ]
  },
  {
   "cell_type": "code",
   "execution_count": 13,
   "id": "ec70d63c",
   "metadata": {},
   "outputs": [
    {
     "name": "stdout",
     "output_type": "stream",
     "text": [
      "<class 'pandas.core.frame.DataFrame'>\n",
      "RangeIndex: 5 entries, 0 to 4\n",
      "Data columns (total 4 columns):\n",
      " #   Column      Non-Null Count  Dtype \n",
      "---  ------      --------------  ----- \n",
      " 0   Animal      5 non-null      object\n",
      " 1   Age         5 non-null      int64 \n",
      " 2   Prenom      5 non-null      object\n",
      " 3   Birth_date  5 non-null      object\n",
      "dtypes: int64(1), object(3)\n",
      "memory usage: 288.0+ bytes\n"
     ]
    }
   ],
   "source": [
    "# ajout de la colonne Birth_date au DataFrame\n",
    "animals[\"Birth_date\"] = birth_date\n",
    "animals.info()"
   ]
  },
  {
   "cell_type": "code",
   "execution_count": 14,
   "id": "b6dd85fe",
   "metadata": {},
   "outputs": [
    {
     "data": {
      "text/html": [
       "<div>\n",
       "<style scoped>\n",
       "    .dataframe tbody tr th:only-of-type {\n",
       "        vertical-align: middle;\n",
       "    }\n",
       "\n",
       "    .dataframe tbody tr th {\n",
       "        vertical-align: top;\n",
       "    }\n",
       "\n",
       "    .dataframe thead th {\n",
       "        text-align: right;\n",
       "    }\n",
       "</style>\n",
       "<table border=\"1\" class=\"dataframe\">\n",
       "  <thead>\n",
       "    <tr style=\"text-align: right;\">\n",
       "      <th></th>\n",
       "      <th>Animal</th>\n",
       "      <th>Age</th>\n",
       "      <th>Prenom</th>\n",
       "      <th>Birth_date</th>\n",
       "    </tr>\n",
       "  </thead>\n",
       "  <tbody>\n",
       "    <tr>\n",
       "      <th>0</th>\n",
       "      <td>chat</td>\n",
       "      <td>9</td>\n",
       "      <td>Tigrou</td>\n",
       "      <td>(10/08/2016)</td>\n",
       "    </tr>\n",
       "    <tr>\n",
       "      <th>1</th>\n",
       "      <td>chien</td>\n",
       "      <td>5</td>\n",
       "      <td>Chipie</td>\n",
       "      <td>(16/09/2019)</td>\n",
       "    </tr>\n",
       "    <tr>\n",
       "      <th>2</th>\n",
       "      <td>chat</td>\n",
       "      <td>35</td>\n",
       "      <td>Caramel</td>\n",
       "      <td>(03/12/2020)</td>\n",
       "    </tr>\n",
       "    <tr>\n",
       "      <th>3</th>\n",
       "      <td>hamster</td>\n",
       "      <td>9</td>\n",
       "      <td>Zoé</td>\n",
       "      <td>(04/09/2017)</td>\n",
       "    </tr>\n",
       "    <tr>\n",
       "      <th>4</th>\n",
       "      <td>chat</td>\n",
       "      <td>12</td>\n",
       "      <td>Bongo</td>\n",
       "      <td>(03/11/2019)</td>\n",
       "    </tr>\n",
       "  </tbody>\n",
       "</table>\n",
       "</div>"
      ],
      "text/plain": [
       "    Animal  Age   Prenom    Birth_date\n",
       "0     chat    9   Tigrou  (10/08/2016)\n",
       "1    chien    5   Chipie  (16/09/2019)\n",
       "2     chat   35  Caramel  (03/12/2020)\n",
       "3  hamster    9      Zoé  (04/09/2017)\n",
       "4     chat   12    Bongo  (03/11/2019)"
      ]
     },
     "execution_count": 14,
     "metadata": {},
     "output_type": "execute_result"
    }
   ],
   "source": [
    "animals.head()\n",
    "# La colonne Birth_date apparaît"
   ]
  },
  {
   "cell_type": "markdown",
   "id": "bb202e91",
   "metadata": {},
   "source": [
    "#### Utiliser les fonction `head`, `tail` et `[ ]`"
   ]
  },
  {
   "cell_type": "code",
   "execution_count": 15,
   "id": "75a384d7",
   "metadata": {},
   "outputs": [
    {
     "data": {
      "text/html": [
       "<div>\n",
       "<style scoped>\n",
       "    .dataframe tbody tr th:only-of-type {\n",
       "        vertical-align: middle;\n",
       "    }\n",
       "\n",
       "    .dataframe tbody tr th {\n",
       "        vertical-align: top;\n",
       "    }\n",
       "\n",
       "    .dataframe thead th {\n",
       "        text-align: right;\n",
       "    }\n",
       "</style>\n",
       "<table border=\"1\" class=\"dataframe\">\n",
       "  <thead>\n",
       "    <tr style=\"text-align: right;\">\n",
       "      <th></th>\n",
       "      <th>Animal</th>\n",
       "      <th>Age</th>\n",
       "      <th>Prenom</th>\n",
       "      <th>Birth_date</th>\n",
       "    </tr>\n",
       "  </thead>\n",
       "  <tbody>\n",
       "    <tr>\n",
       "      <th>0</th>\n",
       "      <td>chat</td>\n",
       "      <td>9</td>\n",
       "      <td>Tigrou</td>\n",
       "      <td>(10/08/2016)</td>\n",
       "    </tr>\n",
       "    <tr>\n",
       "      <th>1</th>\n",
       "      <td>chien</td>\n",
       "      <td>5</td>\n",
       "      <td>Chipie</td>\n",
       "      <td>(16/09/2019)</td>\n",
       "    </tr>\n",
       "  </tbody>\n",
       "</table>\n",
       "</div>"
      ],
      "text/plain": [
       "  Animal  Age  Prenom    Birth_date\n",
       "0   chat    9  Tigrou  (10/08/2016)\n",
       "1  chien    5  Chipie  (16/09/2019)"
      ]
     },
     "execution_count": 15,
     "metadata": {},
     "output_type": "execute_result"
    }
   ],
   "source": [
    "animals.head(2)"
   ]
  },
  {
   "cell_type": "code",
   "execution_count": 16,
   "id": "ab98180e",
   "metadata": {},
   "outputs": [
    {
     "data": {
      "text/html": [
       "<div>\n",
       "<style scoped>\n",
       "    .dataframe tbody tr th:only-of-type {\n",
       "        vertical-align: middle;\n",
       "    }\n",
       "\n",
       "    .dataframe tbody tr th {\n",
       "        vertical-align: top;\n",
       "    }\n",
       "\n",
       "    .dataframe thead th {\n",
       "        text-align: right;\n",
       "    }\n",
       "</style>\n",
       "<table border=\"1\" class=\"dataframe\">\n",
       "  <thead>\n",
       "    <tr style=\"text-align: right;\">\n",
       "      <th></th>\n",
       "      <th>Animal</th>\n",
       "      <th>Age</th>\n",
       "      <th>Prenom</th>\n",
       "      <th>Birth_date</th>\n",
       "    </tr>\n",
       "  </thead>\n",
       "  <tbody>\n",
       "    <tr>\n",
       "      <th>2</th>\n",
       "      <td>chat</td>\n",
       "      <td>35</td>\n",
       "      <td>Caramel</td>\n",
       "      <td>(03/12/2020)</td>\n",
       "    </tr>\n",
       "    <tr>\n",
       "      <th>3</th>\n",
       "      <td>hamster</td>\n",
       "      <td>9</td>\n",
       "      <td>Zoé</td>\n",
       "      <td>(04/09/2017)</td>\n",
       "    </tr>\n",
       "    <tr>\n",
       "      <th>4</th>\n",
       "      <td>chat</td>\n",
       "      <td>12</td>\n",
       "      <td>Bongo</td>\n",
       "      <td>(03/11/2019)</td>\n",
       "    </tr>\n",
       "  </tbody>\n",
       "</table>\n",
       "</div>"
      ],
      "text/plain": [
       "    Animal  Age   Prenom    Birth_date\n",
       "2     chat   35  Caramel  (03/12/2020)\n",
       "3  hamster    9      Zoé  (04/09/2017)\n",
       "4     chat   12    Bongo  (03/11/2019)"
      ]
     },
     "execution_count": 16,
     "metadata": {},
     "output_type": "execute_result"
    }
   ],
   "source": [
    "animals.tail(3)"
   ]
  },
  {
   "cell_type": "code",
   "execution_count": 17,
   "id": "2108afcd",
   "metadata": {},
   "outputs": [
    {
     "data": {
      "text/html": [
       "<div>\n",
       "<style scoped>\n",
       "    .dataframe tbody tr th:only-of-type {\n",
       "        vertical-align: middle;\n",
       "    }\n",
       "\n",
       "    .dataframe tbody tr th {\n",
       "        vertical-align: top;\n",
       "    }\n",
       "\n",
       "    .dataframe thead th {\n",
       "        text-align: right;\n",
       "    }\n",
       "</style>\n",
       "<table border=\"1\" class=\"dataframe\">\n",
       "  <thead>\n",
       "    <tr style=\"text-align: right;\">\n",
       "      <th></th>\n",
       "      <th>Animal</th>\n",
       "      <th>Age</th>\n",
       "      <th>Prenom</th>\n",
       "      <th>Birth_date</th>\n",
       "    </tr>\n",
       "  </thead>\n",
       "  <tbody>\n",
       "    <tr>\n",
       "      <th>2</th>\n",
       "      <td>chat</td>\n",
       "      <td>35</td>\n",
       "      <td>Caramel</td>\n",
       "      <td>(03/12/2020)</td>\n",
       "    </tr>\n",
       "    <tr>\n",
       "      <th>3</th>\n",
       "      <td>hamster</td>\n",
       "      <td>9</td>\n",
       "      <td>Zoé</td>\n",
       "      <td>(04/09/2017)</td>\n",
       "    </tr>\n",
       "  </tbody>\n",
       "</table>\n",
       "</div>"
      ],
      "text/plain": [
       "    Animal  Age   Prenom    Birth_date\n",
       "2     chat   35  Caramel  (03/12/2020)\n",
       "3  hamster    9      Zoé  (04/09/2017)"
      ]
     },
     "execution_count": 17,
     "metadata": {},
     "output_type": "execute_result"
    }
   ],
   "source": [
    "animals[2:4]"
   ]
  },
  {
   "cell_type": "code",
   "execution_count": 18,
   "id": "8737ff84",
   "metadata": {},
   "outputs": [
    {
     "data": {
      "text/html": [
       "<div>\n",
       "<style scoped>\n",
       "    .dataframe tbody tr th:only-of-type {\n",
       "        vertical-align: middle;\n",
       "    }\n",
       "\n",
       "    .dataframe tbody tr th {\n",
       "        vertical-align: top;\n",
       "    }\n",
       "\n",
       "    .dataframe thead th {\n",
       "        text-align: right;\n",
       "    }\n",
       "</style>\n",
       "<table border=\"1\" class=\"dataframe\">\n",
       "  <thead>\n",
       "    <tr style=\"text-align: right;\">\n",
       "      <th></th>\n",
       "      <th>Animal</th>\n",
       "      <th>Age</th>\n",
       "      <th>Prenom</th>\n",
       "      <th>Birth_date</th>\n",
       "    </tr>\n",
       "  </thead>\n",
       "  <tbody>\n",
       "    <tr>\n",
       "      <th>2</th>\n",
       "      <td>chat</td>\n",
       "      <td>35</td>\n",
       "      <td>Caramel</td>\n",
       "      <td>(03/12/2020)</td>\n",
       "    </tr>\n",
       "    <tr>\n",
       "      <th>3</th>\n",
       "      <td>hamster</td>\n",
       "      <td>9</td>\n",
       "      <td>Zoé</td>\n",
       "      <td>(04/09/2017)</td>\n",
       "    </tr>\n",
       "    <tr>\n",
       "      <th>4</th>\n",
       "      <td>chat</td>\n",
       "      <td>12</td>\n",
       "      <td>Bongo</td>\n",
       "      <td>(03/11/2019)</td>\n",
       "    </tr>\n",
       "  </tbody>\n",
       "</table>\n",
       "</div>"
      ],
      "text/plain": [
       "    Animal  Age   Prenom    Birth_date\n",
       "2     chat   35  Caramel  (03/12/2020)\n",
       "3  hamster    9      Zoé  (04/09/2017)\n",
       "4     chat   12    Bongo  (03/11/2019)"
      ]
     },
     "execution_count": 18,
     "metadata": {},
     "output_type": "execute_result"
    }
   ],
   "source": [
    "animals[2:]"
   ]
  },
  {
   "cell_type": "code",
   "execution_count": 19,
   "id": "fe050c22",
   "metadata": {},
   "outputs": [
    {
     "data": {
      "text/html": [
       "<div>\n",
       "<style scoped>\n",
       "    .dataframe tbody tr th:only-of-type {\n",
       "        vertical-align: middle;\n",
       "    }\n",
       "\n",
       "    .dataframe tbody tr th {\n",
       "        vertical-align: top;\n",
       "    }\n",
       "\n",
       "    .dataframe thead th {\n",
       "        text-align: right;\n",
       "    }\n",
       "</style>\n",
       "<table border=\"1\" class=\"dataframe\">\n",
       "  <thead>\n",
       "    <tr style=\"text-align: right;\">\n",
       "      <th></th>\n",
       "      <th>Animal</th>\n",
       "      <th>Age</th>\n",
       "      <th>Prenom</th>\n",
       "      <th>Birth_date</th>\n",
       "    </tr>\n",
       "  </thead>\n",
       "  <tbody>\n",
       "    <tr>\n",
       "      <th>0</th>\n",
       "      <td>chat</td>\n",
       "      <td>9</td>\n",
       "      <td>Tigrou</td>\n",
       "      <td>(10/08/2016)</td>\n",
       "    </tr>\n",
       "    <tr>\n",
       "      <th>1</th>\n",
       "      <td>chien</td>\n",
       "      <td>5</td>\n",
       "      <td>Chipie</td>\n",
       "      <td>(16/09/2019)</td>\n",
       "    </tr>\n",
       "  </tbody>\n",
       "</table>\n",
       "</div>"
      ],
      "text/plain": [
       "  Animal  Age  Prenom    Birth_date\n",
       "0   chat    9  Tigrou  (10/08/2016)\n",
       "1  chien    5  Chipie  (16/09/2019)"
      ]
     },
     "execution_count": 19,
     "metadata": {},
     "output_type": "execute_result"
    }
   ],
   "source": [
    "animals[:2]"
   ]
  },
  {
   "cell_type": "code",
   "execution_count": 20,
   "id": "423d532a",
   "metadata": {},
   "outputs": [
    {
     "data": {
      "text/plain": [
       "0    (10/08/2016)\n",
       "1    (16/09/2019)\n",
       "2    (03/12/2020)\n",
       "3    (04/09/2017)\n",
       "4    (03/11/2019)\n",
       "Name: Birth_date, dtype: object"
      ]
     },
     "execution_count": 20,
     "metadata": {},
     "output_type": "execute_result"
    }
   ],
   "source": [
    "# Extraire les dates de naissance\n",
    "animals.loc[:, \"Birth_date\"]"
   ]
  },
  {
   "cell_type": "code",
   "execution_count": 21,
   "id": "12eb8a43",
   "metadata": {},
   "outputs": [
    {
     "data": {
      "text/html": [
       "<div>\n",
       "<style scoped>\n",
       "    .dataframe tbody tr th:only-of-type {\n",
       "        vertical-align: middle;\n",
       "    }\n",
       "\n",
       "    .dataframe tbody tr th {\n",
       "        vertical-align: top;\n",
       "    }\n",
       "\n",
       "    .dataframe thead th {\n",
       "        text-align: right;\n",
       "    }\n",
       "</style>\n",
       "<table border=\"1\" class=\"dataframe\">\n",
       "  <thead>\n",
       "    <tr style=\"text-align: right;\">\n",
       "      <th></th>\n",
       "      <th>Animal</th>\n",
       "      <th>Age</th>\n",
       "      <th>Prenom</th>\n",
       "      <th>Birth_date</th>\n",
       "    </tr>\n",
       "  </thead>\n",
       "  <tbody>\n",
       "    <tr>\n",
       "      <th>0</th>\n",
       "      <td>chat</td>\n",
       "      <td>9</td>\n",
       "      <td>Tigrou</td>\n",
       "      <td>(10/08/2016)</td>\n",
       "    </tr>\n",
       "    <tr>\n",
       "      <th>2</th>\n",
       "      <td>chat</td>\n",
       "      <td>35</td>\n",
       "      <td>Caramel</td>\n",
       "      <td>(03/12/2020)</td>\n",
       "    </tr>\n",
       "    <tr>\n",
       "      <th>4</th>\n",
       "      <td>chat</td>\n",
       "      <td>12</td>\n",
       "      <td>Bongo</td>\n",
       "      <td>(03/11/2019)</td>\n",
       "    </tr>\n",
       "  </tbody>\n",
       "</table>\n",
       "</div>"
      ],
      "text/plain": [
       "  Animal  Age   Prenom    Birth_date\n",
       "0   chat    9   Tigrou  (10/08/2016)\n",
       "2   chat   35  Caramel  (03/12/2020)\n",
       "4   chat   12    Bongo  (03/11/2019)"
      ]
     },
     "execution_count": 21,
     "metadata": {},
     "output_type": "execute_result"
    }
   ],
   "source": [
    "# N'afficher que les chats\n",
    "animals[animals.Animal=='chat']"
   ]
  },
  {
   "cell_type": "code",
   "execution_count": 22,
   "id": "18280339",
   "metadata": {},
   "outputs": [
    {
     "data": {
      "text/html": [
       "<div>\n",
       "<style scoped>\n",
       "    .dataframe tbody tr th:only-of-type {\n",
       "        vertical-align: middle;\n",
       "    }\n",
       "\n",
       "    .dataframe tbody tr th {\n",
       "        vertical-align: top;\n",
       "    }\n",
       "\n",
       "    .dataframe thead th {\n",
       "        text-align: right;\n",
       "    }\n",
       "</style>\n",
       "<table border=\"1\" class=\"dataframe\">\n",
       "  <thead>\n",
       "    <tr style=\"text-align: right;\">\n",
       "      <th></th>\n",
       "      <th>Animal</th>\n",
       "      <th>Age</th>\n",
       "      <th>Prenom</th>\n",
       "      <th>Birth_date</th>\n",
       "    </tr>\n",
       "  </thead>\n",
       "  <tbody>\n",
       "    <tr>\n",
       "      <th>0</th>\n",
       "      <td>chat</td>\n",
       "      <td>9</td>\n",
       "      <td>Tigrou</td>\n",
       "      <td>(10/08/2016)</td>\n",
       "    </tr>\n",
       "    <tr>\n",
       "      <th>2</th>\n",
       "      <td>chat</td>\n",
       "      <td>35</td>\n",
       "      <td>Caramel</td>\n",
       "      <td>(03/12/2020)</td>\n",
       "    </tr>\n",
       "    <tr>\n",
       "      <th>4</th>\n",
       "      <td>chat</td>\n",
       "      <td>12</td>\n",
       "      <td>Bongo</td>\n",
       "      <td>(03/11/2019)</td>\n",
       "    </tr>\n",
       "  </tbody>\n",
       "</table>\n",
       "</div>"
      ],
      "text/plain": [
       "  Animal  Age   Prenom    Birth_date\n",
       "0   chat    9   Tigrou  (10/08/2016)\n",
       "2   chat   35  Caramel  (03/12/2020)\n",
       "4   chat   12    Bongo  (03/11/2019)"
      ]
     },
     "execution_count": 22,
     "metadata": {},
     "output_type": "execute_result"
    }
   ],
   "source": [
    "# N'afficher que les chats\n",
    "animals.loc[animals.Animal=='chat', :]"
   ]
  },
  {
   "cell_type": "code",
   "execution_count": 23,
   "id": "17c95cde",
   "metadata": {},
   "outputs": [
    {
     "data": {
      "text/plain": [
       "0     9\n",
       "2    35\n",
       "4    12\n",
       "Name: Age, dtype: int64"
      ]
     },
     "execution_count": 23,
     "metadata": {},
     "output_type": "execute_result"
    }
   ],
   "source": [
    "# N'afficher que les dates de naissance des chats\n",
    "animals.loc[animals.Animal=='chat', 'Age']"
   ]
  },
  {
   "cell_type": "code",
   "execution_count": 24,
   "id": "5909cae5",
   "metadata": {},
   "outputs": [
    {
     "data": {
      "text/plain": [
       "[9, 35, 12]"
      ]
     },
     "execution_count": 24,
     "metadata": {},
     "output_type": "execute_result"
    }
   ],
   "source": [
    "# Obtenir la liste des âges des chats\n",
    "list(animals.loc[animals.Animal=='chat', 'Age'])"
   ]
  },
  {
   "cell_type": "markdown",
   "id": "3b5e2177",
   "metadata": {},
   "source": [
    "- Extraire plusieurs colonnes d'un `dataset` Panda"
   ]
  },
  {
   "cell_type": "code",
   "execution_count": 25,
   "id": "a6e4f738",
   "metadata": {},
   "outputs": [
    {
     "data": {
      "text/html": [
       "<div>\n",
       "<style scoped>\n",
       "    .dataframe tbody tr th:only-of-type {\n",
       "        vertical-align: middle;\n",
       "    }\n",
       "\n",
       "    .dataframe tbody tr th {\n",
       "        vertical-align: top;\n",
       "    }\n",
       "\n",
       "    .dataframe thead th {\n",
       "        text-align: right;\n",
       "    }\n",
       "</style>\n",
       "<table border=\"1\" class=\"dataframe\">\n",
       "  <thead>\n",
       "    <tr style=\"text-align: right;\">\n",
       "      <th></th>\n",
       "      <th>Animal</th>\n",
       "      <th>Age</th>\n",
       "      <th>Prenom</th>\n",
       "      <th>Birth_date</th>\n",
       "    </tr>\n",
       "  </thead>\n",
       "  <tbody>\n",
       "    <tr>\n",
       "      <th>0</th>\n",
       "      <td>chat</td>\n",
       "      <td>9</td>\n",
       "      <td>Tigrou</td>\n",
       "      <td>(10/08/2016)</td>\n",
       "    </tr>\n",
       "    <tr>\n",
       "      <th>1</th>\n",
       "      <td>chien</td>\n",
       "      <td>5</td>\n",
       "      <td>Chipie</td>\n",
       "      <td>(16/09/2019)</td>\n",
       "    </tr>\n",
       "    <tr>\n",
       "      <th>2</th>\n",
       "      <td>chat</td>\n",
       "      <td>35</td>\n",
       "      <td>Caramel</td>\n",
       "      <td>(03/12/2020)</td>\n",
       "    </tr>\n",
       "    <tr>\n",
       "      <th>3</th>\n",
       "      <td>hamster</td>\n",
       "      <td>9</td>\n",
       "      <td>Zoé</td>\n",
       "      <td>(04/09/2017)</td>\n",
       "    </tr>\n",
       "    <tr>\n",
       "      <th>4</th>\n",
       "      <td>chat</td>\n",
       "      <td>12</td>\n",
       "      <td>Bongo</td>\n",
       "      <td>(03/11/2019)</td>\n",
       "    </tr>\n",
       "  </tbody>\n",
       "</table>\n",
       "</div>"
      ],
      "text/plain": [
       "    Animal  Age   Prenom    Birth_date\n",
       "0     chat    9   Tigrou  (10/08/2016)\n",
       "1    chien    5   Chipie  (16/09/2019)\n",
       "2     chat   35  Caramel  (03/12/2020)\n",
       "3  hamster    9      Zoé  (04/09/2017)\n",
       "4     chat   12    Bongo  (03/11/2019)"
      ]
     },
     "execution_count": 25,
     "metadata": {},
     "output_type": "execute_result"
    }
   ],
   "source": [
    "animals.head()"
   ]
  },
  {
   "cell_type": "code",
   "execution_count": 26,
   "id": "e9d26ae4",
   "metadata": {},
   "outputs": [],
   "source": [
    "age_prenom = animals[['Age', 'Prenom']]"
   ]
  },
  {
   "cell_type": "code",
   "execution_count": 27,
   "id": "960d4dba",
   "metadata": {},
   "outputs": [
    {
     "data": {
      "text/html": [
       "<div>\n",
       "<style scoped>\n",
       "    .dataframe tbody tr th:only-of-type {\n",
       "        vertical-align: middle;\n",
       "    }\n",
       "\n",
       "    .dataframe tbody tr th {\n",
       "        vertical-align: top;\n",
       "    }\n",
       "\n",
       "    .dataframe thead th {\n",
       "        text-align: right;\n",
       "    }\n",
       "</style>\n",
       "<table border=\"1\" class=\"dataframe\">\n",
       "  <thead>\n",
       "    <tr style=\"text-align: right;\">\n",
       "      <th></th>\n",
       "      <th>Age</th>\n",
       "      <th>Prenom</th>\n",
       "    </tr>\n",
       "  </thead>\n",
       "  <tbody>\n",
       "    <tr>\n",
       "      <th>0</th>\n",
       "      <td>9</td>\n",
       "      <td>Tigrou</td>\n",
       "    </tr>\n",
       "    <tr>\n",
       "      <th>1</th>\n",
       "      <td>5</td>\n",
       "      <td>Chipie</td>\n",
       "    </tr>\n",
       "    <tr>\n",
       "      <th>2</th>\n",
       "      <td>35</td>\n",
       "      <td>Caramel</td>\n",
       "    </tr>\n",
       "    <tr>\n",
       "      <th>3</th>\n",
       "      <td>9</td>\n",
       "      <td>Zoé</td>\n",
       "    </tr>\n",
       "    <tr>\n",
       "      <th>4</th>\n",
       "      <td>12</td>\n",
       "      <td>Bongo</td>\n",
       "    </tr>\n",
       "  </tbody>\n",
       "</table>\n",
       "</div>"
      ],
      "text/plain": [
       "   Age   Prenom\n",
       "0    9   Tigrou\n",
       "1    5   Chipie\n",
       "2   35  Caramel\n",
       "3    9      Zoé\n",
       "4   12    Bongo"
      ]
     },
     "execution_count": 27,
     "metadata": {},
     "output_type": "execute_result"
    }
   ],
   "source": [
    "age_prenom.head()"
   ]
  },
  {
   "cell_type": "code",
   "execution_count": 28,
   "id": "b84cf1f9",
   "metadata": {},
   "outputs": [],
   "source": [
    "age_birthdate = animals.iloc[: , -2:]"
   ]
  },
  {
   "cell_type": "code",
   "execution_count": 29,
   "id": "3acbf8f5",
   "metadata": {},
   "outputs": [
    {
     "data": {
      "text/html": [
       "<div>\n",
       "<style scoped>\n",
       "    .dataframe tbody tr th:only-of-type {\n",
       "        vertical-align: middle;\n",
       "    }\n",
       "\n",
       "    .dataframe tbody tr th {\n",
       "        vertical-align: top;\n",
       "    }\n",
       "\n",
       "    .dataframe thead th {\n",
       "        text-align: right;\n",
       "    }\n",
       "</style>\n",
       "<table border=\"1\" class=\"dataframe\">\n",
       "  <thead>\n",
       "    <tr style=\"text-align: right;\">\n",
       "      <th></th>\n",
       "      <th>Prenom</th>\n",
       "      <th>Birth_date</th>\n",
       "    </tr>\n",
       "  </thead>\n",
       "  <tbody>\n",
       "    <tr>\n",
       "      <th>0</th>\n",
       "      <td>Tigrou</td>\n",
       "      <td>(10/08/2016)</td>\n",
       "    </tr>\n",
       "    <tr>\n",
       "      <th>1</th>\n",
       "      <td>Chipie</td>\n",
       "      <td>(16/09/2019)</td>\n",
       "    </tr>\n",
       "    <tr>\n",
       "      <th>2</th>\n",
       "      <td>Caramel</td>\n",
       "      <td>(03/12/2020)</td>\n",
       "    </tr>\n",
       "    <tr>\n",
       "      <th>3</th>\n",
       "      <td>Zoé</td>\n",
       "      <td>(04/09/2017)</td>\n",
       "    </tr>\n",
       "    <tr>\n",
       "      <th>4</th>\n",
       "      <td>Bongo</td>\n",
       "      <td>(03/11/2019)</td>\n",
       "    </tr>\n",
       "  </tbody>\n",
       "</table>\n",
       "</div>"
      ],
      "text/plain": [
       "    Prenom    Birth_date\n",
       "0   Tigrou  (10/08/2016)\n",
       "1   Chipie  (16/09/2019)\n",
       "2  Caramel  (03/12/2020)\n",
       "3      Zoé  (04/09/2017)\n",
       "4    Bongo  (03/11/2019)"
      ]
     },
     "execution_count": 29,
     "metadata": {},
     "output_type": "execute_result"
    }
   ],
   "source": [
    "age_birthdate.head()"
   ]
  },
  {
   "cell_type": "markdown",
   "id": "57c857ab",
   "metadata": {},
   "source": [
    "- #### Transformation d'une colonne 'String enum' en 'entier'"
   ]
  },
  {
   "cell_type": "code",
   "execution_count": 41,
   "id": "53585ee7",
   "metadata": {},
   "outputs": [
    {
     "data": {
      "text/html": [
       "<div>\n",
       "<style scoped>\n",
       "    .dataframe tbody tr th:only-of-type {\n",
       "        vertical-align: middle;\n",
       "    }\n",
       "\n",
       "    .dataframe tbody tr th {\n",
       "        vertical-align: top;\n",
       "    }\n",
       "\n",
       "    .dataframe thead th {\n",
       "        text-align: right;\n",
       "    }\n",
       "</style>\n",
       "<table border=\"1\" class=\"dataframe\">\n",
       "  <thead>\n",
       "    <tr style=\"text-align: right;\">\n",
       "      <th></th>\n",
       "      <th>Animal</th>\n",
       "      <th>Age</th>\n",
       "      <th>Prenom</th>\n",
       "    </tr>\n",
       "  </thead>\n",
       "  <tbody>\n",
       "    <tr>\n",
       "      <th>0</th>\n",
       "      <td>chat</td>\n",
       "      <td>9</td>\n",
       "      <td>Tigrou</td>\n",
       "    </tr>\n",
       "    <tr>\n",
       "      <th>1</th>\n",
       "      <td>chien</td>\n",
       "      <td>5</td>\n",
       "      <td>Chipie</td>\n",
       "    </tr>\n",
       "    <tr>\n",
       "      <th>2</th>\n",
       "      <td>chat</td>\n",
       "      <td>35</td>\n",
       "      <td>Caramel</td>\n",
       "    </tr>\n",
       "    <tr>\n",
       "      <th>3</th>\n",
       "      <td>hamster</td>\n",
       "      <td>9</td>\n",
       "      <td>Zoé</td>\n",
       "    </tr>\n",
       "    <tr>\n",
       "      <th>4</th>\n",
       "      <td>chat</td>\n",
       "      <td>12</td>\n",
       "      <td>Bongo</td>\n",
       "    </tr>\n",
       "  </tbody>\n",
       "</table>\n",
       "</div>"
      ],
      "text/plain": [
       "    Animal  Age   Prenom\n",
       "0     chat    9   Tigrou\n",
       "1    chien    5   Chipie\n",
       "2     chat   35  Caramel\n",
       "3  hamster    9      Zoé\n",
       "4     chat   12    Bongo"
      ]
     },
     "execution_count": 41,
     "metadata": {},
     "output_type": "execute_result"
    }
   ],
   "source": [
    "animals.head()"
   ]
  },
  {
   "cell_type": "code",
   "execution_count": 42,
   "id": "6f7613c4",
   "metadata": {},
   "outputs": [],
   "source": [
    "animals['Animal'] = animals['Animal'].map({'chat': 0, 'chien': 1, 'hamster': 2})"
   ]
  },
  {
   "cell_type": "code",
   "execution_count": 43,
   "id": "85ce707c",
   "metadata": {},
   "outputs": [
    {
     "data": {
      "text/html": [
       "<div>\n",
       "<style scoped>\n",
       "    .dataframe tbody tr th:only-of-type {\n",
       "        vertical-align: middle;\n",
       "    }\n",
       "\n",
       "    .dataframe tbody tr th {\n",
       "        vertical-align: top;\n",
       "    }\n",
       "\n",
       "    .dataframe thead th {\n",
       "        text-align: right;\n",
       "    }\n",
       "</style>\n",
       "<table border=\"1\" class=\"dataframe\">\n",
       "  <thead>\n",
       "    <tr style=\"text-align: right;\">\n",
       "      <th></th>\n",
       "      <th>Animal</th>\n",
       "      <th>Age</th>\n",
       "      <th>Prenom</th>\n",
       "    </tr>\n",
       "  </thead>\n",
       "  <tbody>\n",
       "    <tr>\n",
       "      <th>0</th>\n",
       "      <td>0</td>\n",
       "      <td>9</td>\n",
       "      <td>Tigrou</td>\n",
       "    </tr>\n",
       "    <tr>\n",
       "      <th>1</th>\n",
       "      <td>1</td>\n",
       "      <td>5</td>\n",
       "      <td>Chipie</td>\n",
       "    </tr>\n",
       "    <tr>\n",
       "      <th>2</th>\n",
       "      <td>0</td>\n",
       "      <td>35</td>\n",
       "      <td>Caramel</td>\n",
       "    </tr>\n",
       "    <tr>\n",
       "      <th>3</th>\n",
       "      <td>2</td>\n",
       "      <td>9</td>\n",
       "      <td>Zoé</td>\n",
       "    </tr>\n",
       "    <tr>\n",
       "      <th>4</th>\n",
       "      <td>0</td>\n",
       "      <td>12</td>\n",
       "      <td>Bongo</td>\n",
       "    </tr>\n",
       "  </tbody>\n",
       "</table>\n",
       "</div>"
      ],
      "text/plain": [
       "   Animal  Age   Prenom\n",
       "0       0    9   Tigrou\n",
       "1       1    5   Chipie\n",
       "2       0   35  Caramel\n",
       "3       2    9      Zoé\n",
       "4       0   12    Bongo"
      ]
     },
     "execution_count": 43,
     "metadata": {},
     "output_type": "execute_result"
    }
   ],
   "source": [
    "animals.head()"
   ]
  },
  {
   "cell_type": "code",
   "execution_count": null,
   "id": "fec65f74",
   "metadata": {},
   "outputs": [],
   "source": []
  }
 ],
 "metadata": {
  "kernelspec": {
   "display_name": "Python 3 (ipykernel)",
   "language": "python",
   "name": "python3"
  },
  "language_info": {
   "codemirror_mode": {
    "name": "ipython",
    "version": 3
   },
   "file_extension": ".py",
   "mimetype": "text/x-python",
   "name": "python",
   "nbconvert_exporter": "python",
   "pygments_lexer": "ipython3",
   "version": "3.9.5"
  }
 },
 "nbformat": 4,
 "nbformat_minor": 5
}
