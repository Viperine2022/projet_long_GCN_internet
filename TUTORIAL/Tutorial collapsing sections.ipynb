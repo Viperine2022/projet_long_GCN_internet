{
 "cells": [
  {
   "cell_type": "markdown",
   "id": "632bfd88",
   "metadata": {
    "heading_collapsed": true
   },
   "source": [
    "# I."
   ]
  },
  {
   "cell_type": "code",
   "execution_count": 2,
   "id": "f7e1943f",
   "metadata": {
    "hidden": true
   },
   "outputs": [],
   "source": [
    "##################\n",
    "# code of part I #\n",
    "##################"
   ]
  },
  {
   "cell_type": "markdown",
   "id": "86906960",
   "metadata": {
    "heading_collapsed": true,
    "hidden": true
   },
   "source": [
    "## I.1"
   ]
  },
  {
   "cell_type": "code",
   "execution_count": 3,
   "id": "d2c27b77",
   "metadata": {
    "hidden": true
   },
   "outputs": [],
   "source": [
    "####################\n",
    "# code of part I.1 #\n",
    "####################"
   ]
  },
  {
   "cell_type": "markdown",
   "id": "7439827f",
   "metadata": {
    "hidden": true
   },
   "source": [
    "### I.1.1"
   ]
  },
  {
   "cell_type": "code",
   "execution_count": 4,
   "id": "816b1350",
   "metadata": {
    "hidden": true
   },
   "outputs": [],
   "source": [
    "######################\n",
    "# code of part I.1.1 #\n",
    "######################"
   ]
  },
  {
   "cell_type": "markdown",
   "id": "3e6990ec",
   "metadata": {
    "hidden": true
   },
   "source": [
    "### I.1.2"
   ]
  },
  {
   "cell_type": "code",
   "execution_count": 5,
   "id": "4818c4dd",
   "metadata": {
    "hidden": true
   },
   "outputs": [],
   "source": [
    "######################\n",
    "# code of part I.1.2 #\n",
    "######################"
   ]
  },
  {
   "cell_type": "markdown",
   "id": "5a014dc9",
   "metadata": {
    "hidden": true
   },
   "source": [
    "## I.2"
   ]
  },
  {
   "cell_type": "code",
   "execution_count": 8,
   "id": "26b52c3c",
   "metadata": {
    "hidden": true
   },
   "outputs": [],
   "source": [
    "####################\n",
    "# code of part I.2 #\n",
    "####################"
   ]
  },
  {
   "cell_type": "markdown",
   "id": "4f7af0b1",
   "metadata": {
    "heading_collapsed": true
   },
   "source": [
    "# II."
   ]
  },
  {
   "cell_type": "code",
   "execution_count": 6,
   "id": "f49c1756",
   "metadata": {
    "hidden": true
   },
   "outputs": [],
   "source": [
    "###################\n",
    "# code of part II #\n",
    "###################"
   ]
  },
  {
   "cell_type": "markdown",
   "id": "805f6e2e",
   "metadata": {
    "hidden": true
   },
   "source": [
    "## II.1"
   ]
  },
  {
   "cell_type": "code",
   "execution_count": 7,
   "id": "2145ea43",
   "metadata": {
    "hidden": true
   },
   "outputs": [],
   "source": [
    "#####################\n",
    "# code of part II.1 #\n",
    "#####################"
   ]
  },
  {
   "cell_type": "markdown",
   "id": "b7f2e76d",
   "metadata": {
    "hidden": true
   },
   "source": [
    "## II.2"
   ]
  },
  {
   "cell_type": "code",
   "execution_count": null,
   "id": "85fd3149",
   "metadata": {
    "hidden": true
   },
   "outputs": [],
   "source": [
    "#####################\n",
    "# code of part II.2 #\n",
    "#####################"
   ]
  }
 ],
 "metadata": {
  "kernelspec": {
   "display_name": "Python 3 (ipykernel)",
   "language": "python",
   "name": "python3"
  },
  "language_info": {
   "codemirror_mode": {
    "name": "ipython",
    "version": 3
   },
   "file_extension": ".py",
   "mimetype": "text/x-python",
   "name": "python",
   "nbconvert_exporter": "python",
   "pygments_lexer": "ipython3",
   "version": "3.9.5"
  }
 },
 "nbformat": 4,
 "nbformat_minor": 5
}
