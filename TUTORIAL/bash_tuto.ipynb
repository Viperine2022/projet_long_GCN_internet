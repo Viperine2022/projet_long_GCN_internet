{
 "cells": [
  {
   "cell_type": "markdown",
   "id": "97c8ba94",
   "metadata": {},
   "source": [
    "### Fonction `readline()`"
   ]
  },
  {
   "cell_type": "code",
   "execution_count": 7,
   "id": "c5174641",
   "metadata": {},
   "outputs": [
    {
     "name": "stdout",
     "output_type": "stream",
     "text": [
      "Testing - FirstLine\n",
      "\n",
      "Testing - SecondLine\n",
      "\n",
      "Testing - Third Line\n",
      "\n",
      "Testing - Fourth Line\n",
      "\n",
      "Testing - Fifth Line\n",
      "\n"
     ]
    }
   ],
   "source": [
    "# Test readline() of a file :\n",
    "# Cf file ../data/test_readline.txt\n",
    "\n",
    "myfile = open(\"data/demo_readline.txt\", \"r\")\n",
    "myline = myfile.readline()\n",
    "while myline:\n",
    "    print(myline)\n",
    "    myline = myfile.readline()\n",
    "myfile.close()   "
   ]
  },
  {
   "cell_type": "markdown",
   "id": "da6502cb",
   "metadata": {},
   "source": [
    "### Commandes bash simples\n",
    "- #### `ls`, `cat`"
   ]
  },
  {
   "cell_type": "code",
   "execution_count": 8,
   "id": "eecceb3b",
   "metadata": {},
   "outputs": [],
   "source": [
    "def encadre(message):\n",
    "    print(\"\\n****************************\\n\" + message + \"****************************\\n\")"
   ]
  },
  {
   "cell_type": "code",
   "execution_count": 9,
   "id": "c0470f55",
   "metadata": {},
   "outputs": [
    {
     "name": "stdout",
     "output_type": "stream",
     "text": [
      "commande ls : \n",
      "\n",
      "****************************\n",
      "IMPLANTATION\n",
      "README.md\n",
      "TUTORIAL\n",
      "****************************\n",
      "\n",
      "commande cat\n",
      "\n",
      "****************************\n",
      "Testing - FirstLine\n",
      "Testing - SecondLine\n",
      "Testing - Third Line\n",
      "Testing - Fourth Line\n",
      "Testing - Fifth Line\n",
      "****************************\n",
      "\n"
     ]
    }
   ],
   "source": [
    "# Commande basique shell (tutoriel)\n",
    "import os\n",
    "\n",
    "ls_message = os.popen(\"ls ..\").read()\n",
    "print(\"commande ls : \")\n",
    "encadre(ls_message)\n",
    "\n",
    "\n",
    "cat_README = os.popen(\"cat data/demo_readline.txt\").read()\n",
    "print(\"commande cat\")\n",
    "encadre(cat_README)"
   ]
  },
  {
   "cell_type": "markdown",
   "id": "d1718c19",
   "metadata": {},
   "source": [
    "- #### `head -n` et `tail` pour afficher les lignes $p$ à $q$ d'un fichier :\n",
    "Il faut faire un `head -n p | tail -n (q - p + 1)`"
   ]
  },
  {
   "cell_type": "code",
   "execution_count": 10,
   "id": "77a1bad2",
   "metadata": {},
   "outputs": [
    {
     "name": "stdout",
     "output_type": "stream",
     "text": [
      "Afficher les lignes 4 à 9 : \n",
      "\n",
      "****************************\n",
      "d - 4\n",
      "e - 5\n",
      "f - 6\n",
      "g - 7\n",
      "h - 8\n",
      "i - 9\n",
      "****************************\n",
      "\n",
      "Afficher le fichier jusqu'à la ligne 3 : \n",
      "\n",
      "****************************\n",
      "a - 1\n",
      "b - 2\n",
      "c - 3\n",
      "****************************\n",
      "\n",
      "Afficher le fichier à partir de la ligne 6 : \n",
      "\n",
      "****************************\n",
      "f - 6\n",
      "g - 7\n",
      "h - 8\n",
      "i - 9\n",
      "j - 10\n",
      "k - 11\n",
      "****************************\n",
      "\n"
     ]
    }
   ],
   "source": [
    "# print lines 4 to 9 of file example_cat.txt\n",
    "substract_lines = os.popen(\"cat data/example_cat.txt | head -n 9 | tail -n 6\").read()\n",
    "print(\"Afficher les lignes 4 à 9 : \")\n",
    "encadre(substract_lines)\n",
    "\n",
    "# print until line 3 of file example_cat.txt\n",
    "head_lines = os.popen(\"cat data/example_cat.txt | head -n 3\").read()\n",
    "print(\"Afficher le fichier jusqu'à la ligne 3 : \")\n",
    "encadre(head_lines)\n",
    "\n",
    "# print from line 6 of file example_cat.txt\n",
    "tail_lines = os.popen(\"cat data/example_cat.txt | tail -n 6\").read()\n",
    "print(\"Afficher le fichier à partir de la ligne 6 : \")\n",
    "encadre(tail_lines)"
   ]
  },
  {
   "cell_type": "markdown",
   "id": "c985ab2d",
   "metadata": {},
   "source": [
    "- #### Use `awk` in bash"
   ]
  },
  {
   "cell_type": "code",
   "execution_count": 11,
   "id": "f7899bd4",
   "metadata": {},
   "outputs": [
    {
     "name": "stdout",
     "output_type": "stream",
     "text": [
      "commande cat : \n",
      "\n",
      "****************************\n",
      "a - 1\n",
      "b - 2\n",
      "c - 3\n",
      "d - 4\n",
      "e - 5\n",
      "f - 6\n",
      "g - 7\n",
      "h - 8\n",
      "i - 9\n",
      "j - 10\n",
      "k - 11\n",
      "****************************\n",
      "\n",
      "commande cat complexe : \n",
      "\n",
      "****************************\n",
      "a,1\n",
      "b,2\n",
      "c,3\n",
      "d,4\n",
      "e,5\n",
      "f,6\n",
      "g,7\n",
      "h,8\n",
      "i,9\n",
      "j,10\n",
      "k,11\n",
      "****************************\n",
      "\n",
      "commande cat tiret : \n",
      "\n",
      "****************************\n",
      "a , 1\n",
      "b , 2\n",
      "c , 3\n",
      "d , 4\n",
      "e , 5\n",
      "f , 6\n",
      "g , 7\n",
      "h , 8\n",
      "i , 9\n",
      "j , 10\n",
      "k , 11\n",
      "****************************\n",
      "\n"
     ]
    }
   ],
   "source": [
    "cat_message = os.popen(\"cat data/example_cat.txt\").read()\n",
    "print(\"commande cat : \")\n",
    "encadre(cat_message)\n",
    "\n",
    "\n",
    "cat_complexe = os.popen(\"cat data/example_cat.txt | awk '{print $1 \\\",\\\" $3}' \").read()\n",
    "print(\"commande cat complexe : \")\n",
    "encadre(cat_complexe)\n",
    "\n",
    "cat_tiret = os.popen(\"cat data/example_cat.txt | awk -F '-' '{ print $1 \\\",\\\" $2 }' \").read()\n",
    "print(\"commande cat tiret : \")\n",
    "encadre(cat_tiret)"
   ]
  },
  {
   "cell_type": "markdown",
   "id": "a359b5d6",
   "metadata": {},
   "source": [
    "- #### Use `uniq`, `wc -l` and `sort -h`"
   ]
  },
  {
   "cell_type": "code",
   "execution_count": 12,
   "id": "31e3378a",
   "metadata": {},
   "outputs": [
    {
     "name": "stdout",
     "output_type": "stream",
     "text": [
      "Nombre d'AS : 108\n",
      "\n"
     ]
    }
   ],
   "source": [
    "# cat complexe avec head tail sort uniq\n",
    "\n",
    "number_AS = os.popen(\"cat data/20151201.as-rel2_small.txt | awk -F \\\"|\\\" '{ print $1 \\\"\\\\n\\\" $2 }' | sort -h | uniq | wc -l\").read()\n",
    "print(\"Nombre d'AS : \" + number_AS)"
   ]
  },
  {
   "cell_type": "markdown",
   "id": "bcb87081",
   "metadata": {},
   "source": [
    "- ### read a long string line by line\n",
    "Par exemple un output de commande bash"
   ]
  },
  {
   "cell_type": "code",
   "execution_count": 13,
   "id": "3a09ca68",
   "metadata": {},
   "outputs": [
    {
     "name": "stdout",
     "output_type": "stream",
     "text": [
      "long texte : \n",
      "1|11537|0|bgp\n",
      "1|21616|-1|bgp\n",
      "1|34732|-1|bgp\n",
      "1|41387|-1|bgp\n",
      "1|42405|-1|bgp\n",
      "\n",
      "Ligne n°0 : 1|11537|0|bgp\n",
      "Ligne n°1 : 1|21616|-1|bgp\n",
      "Ligne n°2 : 1|34732|-1|bgp\n",
      "Ligne n°3 : 1|41387|-1|bgp\n",
      "Ligne n°4 : 1|42405|-1|bgp\n"
     ]
    }
   ],
   "source": [
    "# string lu ligne par ligne avec un traitement effectué sur chaque ligne\n",
    "\n",
    "long_string = os.popen(\"cat data/20151201.as-rel2_small.txt | head -n 5\").read()\n",
    "print(\"long texte : \\n\" + long_string)\n",
    "cpt = 0\n",
    "\n",
    "for line in long_string.splitlines():\n",
    "    print(\"Ligne n°\" + str(cpt) + \" : \" + line)\n",
    "    cpt = cpt + 1"
   ]
  },
  {
   "cell_type": "code",
   "execution_count": null,
   "id": "7ad5ddb8",
   "metadata": {},
   "outputs": [],
   "source": []
  }
 ],
 "metadata": {
  "kernelspec": {
   "display_name": "Python 3 (ipykernel)",
   "language": "python",
   "name": "python3"
  },
  "language_info": {
   "codemirror_mode": {
    "name": "ipython",
    "version": 3
   },
   "file_extension": ".py",
   "mimetype": "text/x-python",
   "name": "python",
   "nbconvert_exporter": "python",
   "pygments_lexer": "ipython3",
   "version": "3.9.5"
  }
 },
 "nbformat": 4,
 "nbformat_minor": 5
}
